{
 "cells": [
  {
   "cell_type": "code",
   "execution_count": 12,
   "id": "d45bb3a8",
   "metadata": {},
   "outputs": [],
   "source": [
    "import sys\n",
    "sys.path.append(\"../\")"
   ]
  },
  {
   "cell_type": "code",
   "execution_count": 13,
   "id": "2276616b",
   "metadata": {},
   "outputs": [],
   "source": [
    "import pandas as pd\n",
    "import datetime as dt\n",
    "from technicals.indicators import RSI\n",
    "from technicals.patterns import apply_patterns\n",
    "from simulation.guru_tester import GuruTester"
   ]
  },
  {
   "cell_type": "code",
   "execution_count": 14,
   "id": "a0d4271d",
   "metadata": {},
   "outputs": [],
   "source": [
    "BUY = 1\n",
    "SELL = -1\n",
    "NONE = 0\n",
    "RSI_LIMIT = 50.0\n",
    "\n",
    "\n",
    "def apply_signal(row):\n",
    "    if row.ENGULFING == True:\n",
    "        if row.direction == BUY and row.mid_l > row.EMA_200:\n",
    "            if row.RSI_14 > RSI_LIMIT:\n",
    "                return BUY\n",
    "        if row.direction == SELL and row.mid_h < row.EMA_200:\n",
    "            if row.RSI_14 < RSI_LIMIT:\n",
    "                return SELL\n",
    "    return NONE"
   ]
  },
  {
   "cell_type": "code",
   "execution_count": null,
   "id": "4fb253dc",
   "metadata": {},
   "outputs": [],
   "source": []
  },
  {
   "cell_type": "code",
   "execution_count": null,
   "id": "2528683d",
   "metadata": {},
   "outputs": [],
   "source": []
  },
  {
   "cell_type": "code",
   "execution_count": null,
   "id": "dc3e4ce1",
   "metadata": {},
   "outputs": [],
   "source": []
  },
  {
   "cell_type": "code",
   "execution_count": 15,
   "id": "314355c3",
   "metadata": {},
   "outputs": [],
   "source": [
    "def run_pair(pair):\n",
    "    df_an = pd.read_csv(f\"../data/candles/{pair}_H1.csv\")\n",
    "    df_m5 = pd.read_csv(f\"../data/candles/{pair}_M5.csv\")\n",
    "    df_an.reset_index(drop=True, inplace=True)\n",
    "    df_m5.reset_index(drop=True, inplace=True)\n",
    "    df_an = RSI(df_an)\n",
    "    df_an = apply_patterns(df_an)\n",
    "    df_an['EMA_200'] = df_an.mid_c.ewm(span=200, min_periods=200).mean()\n",
    "    our_cols = ['time', 'mid_o', 'mid_h', 'mid_l', 'mid_c',\n",
    "                'bid_o', 'bid_h', 'bid_l', 'bid_c',\n",
    "                'ask_o', 'ask_h', 'ask_l', 'ask_c',\n",
    "                'ENGULFING', 'direction', 'EMA_200', 'RSI_14']\n",
    "    df_slim = df_an[our_cols].copy()\n",
    "    df_slim.dropna(inplace=True)\n",
    "\n",
    "    df_slim.reset_index(drop=True, inplace=True)\n",
    "    gt = GuruTester(\n",
    "        df_slim,\n",
    "        apply_signal,\n",
    "        df_m5,\n",
    "        use_spread=True\n",
    "    )\n",
    "\n",
    "    gt.run_test()\n",
    "    return gt.df_results"
   ]
  },
  {
   "cell_type": "code",
   "execution_count": 16,
   "id": "36fab442",
   "metadata": {},
   "outputs": [],
   "source": [
    "res = []\n",
    "for p in [\"AUD_JPY\", \"EUR_USD\", \"GBP_JPY\", \"USD_JPY\"]:\n",
    "    res.append(dict(pair=p, res=run_pair(p)))"
   ]
  },
  {
   "cell_type": "code",
   "execution_count": null,
   "id": "d9b1f5f0",
   "metadata": {},
   "outputs": [
    {
     "name": "stdout",
     "output_type": "stream",
     "text": [
      "AUD_JPY -1517.5\n",
      "EUR_USD -1553.5\n",
      "GBP_JPY -1618.0\n",
      "USD_JPY -1233.5\n"
     ]
    }
   ],
   "source": [
    "for r in res:\n",
    "    print(r['pair'], r['res'].result.sum())"
   ]
  },
  {
   "cell_type": "code",
   "execution_count": null,
   "id": "b3aae0b2",
   "metadata": {},
   "outputs": [],
   "source": []
  },
  {
   "cell_type": "code",
   "execution_count": null,
   "id": "990d4bde",
   "metadata": {},
   "outputs": [],
   "source": []
  },
  {
   "cell_type": "code",
   "execution_count": null,
   "id": "3f968cf3",
   "metadata": {},
   "outputs": [],
   "source": []
  }
 ],
 "metadata": {
  "kernelspec": {
   "display_name": "Python 3 (ipykernel)",
   "language": "python",
   "name": "python3"
  },
  "language_info": {
   "codemirror_mode": {
    "name": "ipython",
    "version": 3
   },
   "file_extension": ".py",
   "mimetype": "text/x-python",
   "name": "python",
   "nbconvert_exporter": "python",
   "pygments_lexer": "ipython3",
   "version": "3.11.6"
  }
 },
 "nbformat": 4,
 "nbformat_minor": 5
}
