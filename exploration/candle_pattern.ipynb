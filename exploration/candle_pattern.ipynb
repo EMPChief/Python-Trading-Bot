{
 "cells": [
  {
   "cell_type": "code",
   "execution_count": 1,
   "metadata": {},
   "outputs": [],
   "source": [
    "import plotly.graph_objects as go\n",
    "import pandas as pd\n",
    "from plotting import CandlePlot\n",
    "import sys\n",
    "sys.path.append(\"../\")"
   ]
  },
  {
   "cell_type": "code",
   "execution_count": 2,
   "metadata": {},
   "outputs": [],
   "source": [
    "from technicals.patterns import apply_patterns"
   ]
  },
  {
   "cell_type": "code",
   "execution_count": 3,
   "metadata": {},
   "outputs": [],
   "source": [
    "df = pd.read_csv(\"../data/candles/EUR_AUD_H1.csv\")"
   ]
  },
  {
   "cell_type": "code",
   "execution_count": 4,
   "metadata": {},
   "outputs": [],
   "source": [
    "df_an = df[['time', 'mid_o', 'mid_h', 'mid_l', 'mid_c']].copy()"
   ]
  },
  {
   "cell_type": "code",
   "execution_count": 5,
   "metadata": {},
   "outputs": [
    {
     "data": {
      "text/html": [
       "<div>\n",
       "<style scoped>\n",
       "    .dataframe tbody tr th:only-of-type {\n",
       "        vertical-align: middle;\n",
       "    }\n",
       "\n",
       "    .dataframe tbody tr th {\n",
       "        vertical-align: top;\n",
       "    }\n",
       "\n",
       "    .dataframe thead th {\n",
       "        text-align: right;\n",
       "    }\n",
       "</style>\n",
       "<table border=\"1\" class=\"dataframe\">\n",
       "  <thead>\n",
       "    <tr style=\"text-align: right;\">\n",
       "      <th></th>\n",
       "      <th>time</th>\n",
       "      <th>mid_o</th>\n",
       "      <th>mid_h</th>\n",
       "      <th>mid_l</th>\n",
       "      <th>mid_c</th>\n",
       "    </tr>\n",
       "  </thead>\n",
       "  <tbody>\n",
       "    <tr>\n",
       "      <th>67805</th>\n",
       "      <td>2023-11-29 19:00:00+00:00</td>\n",
       "      <td>1.65744</td>\n",
       "      <td>1.65919</td>\n",
       "      <td>1.65694</td>\n",
       "      <td>1.65842</td>\n",
       "    </tr>\n",
       "    <tr>\n",
       "      <th>67806</th>\n",
       "      <td>2023-11-29 20:00:00+00:00</td>\n",
       "      <td>1.65841</td>\n",
       "      <td>1.65974</td>\n",
       "      <td>1.65825</td>\n",
       "      <td>1.65908</td>\n",
       "    </tr>\n",
       "    <tr>\n",
       "      <th>67807</th>\n",
       "      <td>2023-11-29 21:00:00+00:00</td>\n",
       "      <td>1.65902</td>\n",
       "      <td>1.65906</td>\n",
       "      <td>1.65761</td>\n",
       "      <td>1.65766</td>\n",
       "    </tr>\n",
       "    <tr>\n",
       "      <th>67808</th>\n",
       "      <td>2023-11-29 22:00:00+00:00</td>\n",
       "      <td>1.65766</td>\n",
       "      <td>1.65864</td>\n",
       "      <td>1.65686</td>\n",
       "      <td>1.65791</td>\n",
       "    </tr>\n",
       "    <tr>\n",
       "      <th>67809</th>\n",
       "      <td>2023-11-29 23:00:00+00:00</td>\n",
       "      <td>1.65794</td>\n",
       "      <td>1.65832</td>\n",
       "      <td>1.65669</td>\n",
       "      <td>1.65829</td>\n",
       "    </tr>\n",
       "  </tbody>\n",
       "</table>\n",
       "</div>"
      ],
      "text/plain": [
       "                            time    mid_o    mid_h    mid_l    mid_c\n",
       "67805  2023-11-29 19:00:00+00:00  1.65744  1.65919  1.65694  1.65842\n",
       "67806  2023-11-29 20:00:00+00:00  1.65841  1.65974  1.65825  1.65908\n",
       "67807  2023-11-29 21:00:00+00:00  1.65902  1.65906  1.65761  1.65766\n",
       "67808  2023-11-29 22:00:00+00:00  1.65766  1.65864  1.65686  1.65791\n",
       "67809  2023-11-29 23:00:00+00:00  1.65794  1.65832  1.65669  1.65829"
      ]
     },
     "execution_count": 5,
     "metadata": {},
     "output_type": "execute_result"
    }
   ],
   "source": [
    "df_an.tail()"
   ]
  },
  {
   "cell_type": "code",
   "execution_count": null,
   "metadata": {},
   "outputs": [],
   "source": [
    "# direction = df_an.mid_c - df_an.mid_o\n",
    "\n",
    "# FILEPATH: /run/media/empchief/Extra/programming/Linux/Trading-Bot/exploration/candle_pattern.ipynb\n",
    "# body_size = abs(direction)\n",
    "# direction = [1 if x >= 0 else -1 for x in direction]\n",
    "# full_range = df_an.mid_h - df_an.mid_l\n",
    "# body_perc = (body_size / full_range) * 100\n",
    "# body_lower = df_an[['mid_c', 'mid_o']].min(axis=1)\n",
    "# body_upper = df_an[['mid_c', 'mid_o']].max(axis=1)\n",
    "# body_bottom_perc = ((body_lower - df_an.mid_l) / full_range) * 100\n",
    "# body_top_perc = 100 - (((df_an.mid_h - body_upper) / full_range) * 100)"
   ]
  },
  {
   "cell_type": "code",
   "execution_count": null,
   "metadata": {},
   "outputs": [],
   "source": [
    "# df_an['body_lower'] = body_lower\n",
    "# df_an['body_upper'] = body_upper\n",
    "# df_an['body_bottom_perc'] = body_bottom_perc\n",
    "# df_an['body_top_perc'] = body_top_perc"
   ]
  },
  {
   "cell_type": "code",
   "execution_count": 6,
   "metadata": {},
   "outputs": [],
   "source": [
    "df_an = apply_patterns(df_an)"
   ]
  },
  {
   "cell_type": "code",
   "execution_count": 7,
   "metadata": {},
   "outputs": [
    {
     "data": {
      "application/vnd.plotly.v1+json": {
       "config": {
        "plotlyServerURL": "https://plot.ly"
       },
       "data": [
        {
         "close": [
          1.65882,
          1.65707,
          1.65691,
          1.65556,
          1.65416,
          1.65512,
          1.65376,
          1.65574,
          1.65392,
          1.65496,
          1.65754,
          1.65578,
          1.65566,
          1.65556,
          1.65674,
          1.65716,
          1.65727,
          1.6533,
          1.65163,
          1.65278,
          1.65368,
          1.65228,
          1.65361,
          1.65369,
          1.65386,
          1.65328,
          1.65339,
          1.65319,
          1.6534,
          1.65414,
          1.65458,
          1.65582,
          1.65709,
          1.65729,
          1.65515,
          1.65616,
          1.65774,
          1.65886,
          1.65792,
          1.65869,
          1.65762,
          1.65758,
          1.65754,
          1.65775,
          1.65746,
          1.65842,
          1.65908,
          1.65766,
          1.65791,
          1.65829
         ],
         "decreasing": {
          "fillcolor": "#ff0000",
          "line": {
           "color": "#990000"
          }
         },
         "high": [
          1.65914,
          1.65887,
          1.65836,
          1.65714,
          1.65574,
          1.65567,
          1.6557,
          1.6561,
          1.6559,
          1.65618,
          1.6592,
          1.65767,
          1.65628,
          1.65602,
          1.65722,
          1.65764,
          1.65808,
          1.6577,
          1.654,
          1.65327,
          1.65478,
          1.65373,
          1.65381,
          1.6538,
          1.65418,
          1.6539,
          1.6575,
          1.65436,
          1.65425,
          1.65525,
          1.65548,
          1.65633,
          1.65764,
          1.65799,
          1.65726,
          1.6584,
          1.65782,
          1.66047,
          1.65929,
          1.65998,
          1.65946,
          1.65918,
          1.65973,
          1.65831,
          1.65822,
          1.65919,
          1.65974,
          1.65906,
          1.65864,
          1.65832
         ],
         "hovertext": "Candlestick",
         "increasing": {
          "fillcolor": "#00cc00",
          "line": {
           "color": "#006600"
          }
         },
         "line": {
          "width": 1
         },
         "low": [
          1.6574,
          1.65704,
          1.65636,
          1.65441,
          1.65299,
          1.65405,
          1.65364,
          1.65346,
          1.65331,
          1.65367,
          1.65483,
          1.65522,
          1.65422,
          1.65464,
          1.65486,
          1.65626,
          1.65546,
          1.65304,
          1.65084,
          1.65141,
          1.65276,
          1.65196,
          1.65213,
          1.65322,
          1.65316,
          1.65252,
          1.65282,
          1.64977,
          1.65263,
          1.65332,
          1.65394,
          1.65381,
          1.6557,
          1.65598,
          1.65515,
          1.65465,
          1.65512,
          1.6573,
          1.65725,
          1.65764,
          1.65727,
          1.656,
          1.65728,
          1.65752,
          1.6573,
          1.65694,
          1.65825,
          1.65761,
          1.65686,
          1.65669
         ],
         "name": "Candlestick",
         "opacity": 1,
         "open": [
          1.65848,
          1.65887,
          1.65706,
          1.65692,
          1.65555,
          1.65417,
          1.65512,
          1.65377,
          1.65574,
          1.65392,
          1.65497,
          1.65754,
          1.65571,
          1.65568,
          1.65554,
          1.65671,
          1.65719,
          1.6573,
          1.65332,
          1.65164,
          1.65276,
          1.65367,
          1.65229,
          1.65362,
          1.65382,
          1.6539,
          1.6533,
          1.65342,
          1.65318,
          1.65337,
          1.65414,
          1.65461,
          1.6558,
          1.65706,
          1.65714,
          1.65514,
          1.65618,
          1.65772,
          1.65887,
          1.65797,
          1.65866,
          1.65757,
          1.65757,
          1.65754,
          1.65774,
          1.65744,
          1.65841,
          1.65902,
          1.65766,
          1.65794
         ],
         "type": "candlestick",
         "x": [
          "s2023-11-27 22:00",
          "s2023-11-27 23:00",
          "s2023-11-28 00:00",
          "s2023-11-28 01:00",
          "s2023-11-28 02:00",
          "s2023-11-28 03:00",
          "s2023-11-28 04:00",
          "s2023-11-28 05:00",
          "s2023-11-28 06:00",
          "s2023-11-28 07:00",
          "s2023-11-28 08:00",
          "s2023-11-28 09:00",
          "s2023-11-28 10:00",
          "s2023-11-28 11:00",
          "s2023-11-28 12:00",
          "s2023-11-28 13:00",
          "s2023-11-28 14:00",
          "s2023-11-28 15:00",
          "s2023-11-28 16:00",
          "s2023-11-28 17:00",
          "s2023-11-28 18:00",
          "s2023-11-28 19:00",
          "s2023-11-28 20:00",
          "s2023-11-28 21:00",
          "s2023-11-28 22:00",
          "s2023-11-28 23:00",
          "s2023-11-29 00:00",
          "s2023-11-29 01:00",
          "s2023-11-29 02:00",
          "s2023-11-29 03:00",
          "s2023-11-29 04:00",
          "s2023-11-29 05:00",
          "s2023-11-29 06:00",
          "s2023-11-29 07:00",
          "s2023-11-29 08:00",
          "s2023-11-29 09:00",
          "s2023-11-29 10:00",
          "s2023-11-29 11:00",
          "s2023-11-29 12:00",
          "s2023-11-29 13:00",
          "s2023-11-29 14:00",
          "s2023-11-29 15:00",
          "s2023-11-29 16:00",
          "s2023-11-29 17:00",
          "s2023-11-29 18:00",
          "s2023-11-29 19:00",
          "s2023-11-29 20:00",
          "s2023-11-29 21:00",
          "s2023-11-29 22:00",
          "s2023-11-29 23:00"
         ]
        }
       ],
       "layout": {
        "font": {
         "color": "white",
         "size": 12
        },
        "height": 400,
        "legend": {
         "x": 0.01,
         "xanchor": "left",
         "y": 0.99,
         "yanchor": "top"
        },
        "margin": {
         "b": 10,
         "l": 10,
         "r": 10,
         "t": 10
        },
        "paper_bgcolor": "black",
        "plot_bgcolor": "black",
        "template": {
         "data": {
          "bar": [
           {
            "error_x": {
             "color": "#2a3f5f"
            },
            "error_y": {
             "color": "#2a3f5f"
            },
            "marker": {
             "line": {
              "color": "#E5ECF6",
              "width": 0.5
             },
             "pattern": {
              "fillmode": "overlay",
              "size": 10,
              "solidity": 0.2
             }
            },
            "type": "bar"
           }
          ],
          "barpolar": [
           {
            "marker": {
             "line": {
              "color": "#E5ECF6",
              "width": 0.5
             },
             "pattern": {
              "fillmode": "overlay",
              "size": 10,
              "solidity": 0.2
             }
            },
            "type": "barpolar"
           }
          ],
          "carpet": [
           {
            "aaxis": {
             "endlinecolor": "#2a3f5f",
             "gridcolor": "white",
             "linecolor": "white",
             "minorgridcolor": "white",
             "startlinecolor": "#2a3f5f"
            },
            "baxis": {
             "endlinecolor": "#2a3f5f",
             "gridcolor": "white",
             "linecolor": "white",
             "minorgridcolor": "white",
             "startlinecolor": "#2a3f5f"
            },
            "type": "carpet"
           }
          ],
          "choropleth": [
           {
            "colorbar": {
             "outlinewidth": 0,
             "ticks": ""
            },
            "type": "choropleth"
           }
          ],
          "contour": [
           {
            "colorbar": {
             "outlinewidth": 0,
             "ticks": ""
            },
            "colorscale": [
             [
              0,
              "#0d0887"
             ],
             [
              0.1111111111111111,
              "#46039f"
             ],
             [
              0.2222222222222222,
              "#7201a8"
             ],
             [
              0.3333333333333333,
              "#9c179e"
             ],
             [
              0.4444444444444444,
              "#bd3786"
             ],
             [
              0.5555555555555556,
              "#d8576b"
             ],
             [
              0.6666666666666666,
              "#ed7953"
             ],
             [
              0.7777777777777778,
              "#fb9f3a"
             ],
             [
              0.8888888888888888,
              "#fdca26"
             ],
             [
              1,
              "#f0f921"
             ]
            ],
            "type": "contour"
           }
          ],
          "contourcarpet": [
           {
            "colorbar": {
             "outlinewidth": 0,
             "ticks": ""
            },
            "type": "contourcarpet"
           }
          ],
          "heatmap": [
           {
            "colorbar": {
             "outlinewidth": 0,
             "ticks": ""
            },
            "colorscale": [
             [
              0,
              "#0d0887"
             ],
             [
              0.1111111111111111,
              "#46039f"
             ],
             [
              0.2222222222222222,
              "#7201a8"
             ],
             [
              0.3333333333333333,
              "#9c179e"
             ],
             [
              0.4444444444444444,
              "#bd3786"
             ],
             [
              0.5555555555555556,
              "#d8576b"
             ],
             [
              0.6666666666666666,
              "#ed7953"
             ],
             [
              0.7777777777777778,
              "#fb9f3a"
             ],
             [
              0.8888888888888888,
              "#fdca26"
             ],
             [
              1,
              "#f0f921"
             ]
            ],
            "type": "heatmap"
           }
          ],
          "heatmapgl": [
           {
            "colorbar": {
             "outlinewidth": 0,
             "ticks": ""
            },
            "colorscale": [
             [
              0,
              "#0d0887"
             ],
             [
              0.1111111111111111,
              "#46039f"
             ],
             [
              0.2222222222222222,
              "#7201a8"
             ],
             [
              0.3333333333333333,
              "#9c179e"
             ],
             [
              0.4444444444444444,
              "#bd3786"
             ],
             [
              0.5555555555555556,
              "#d8576b"
             ],
             [
              0.6666666666666666,
              "#ed7953"
             ],
             [
              0.7777777777777778,
              "#fb9f3a"
             ],
             [
              0.8888888888888888,
              "#fdca26"
             ],
             [
              1,
              "#f0f921"
             ]
            ],
            "type": "heatmapgl"
           }
          ],
          "histogram": [
           {
            "marker": {
             "pattern": {
              "fillmode": "overlay",
              "size": 10,
              "solidity": 0.2
             }
            },
            "type": "histogram"
           }
          ],
          "histogram2d": [
           {
            "colorbar": {
             "outlinewidth": 0,
             "ticks": ""
            },
            "colorscale": [
             [
              0,
              "#0d0887"
             ],
             [
              0.1111111111111111,
              "#46039f"
             ],
             [
              0.2222222222222222,
              "#7201a8"
             ],
             [
              0.3333333333333333,
              "#9c179e"
             ],
             [
              0.4444444444444444,
              "#bd3786"
             ],
             [
              0.5555555555555556,
              "#d8576b"
             ],
             [
              0.6666666666666666,
              "#ed7953"
             ],
             [
              0.7777777777777778,
              "#fb9f3a"
             ],
             [
              0.8888888888888888,
              "#fdca26"
             ],
             [
              1,
              "#f0f921"
             ]
            ],
            "type": "histogram2d"
           }
          ],
          "histogram2dcontour": [
           {
            "colorbar": {
             "outlinewidth": 0,
             "ticks": ""
            },
            "colorscale": [
             [
              0,
              "#0d0887"
             ],
             [
              0.1111111111111111,
              "#46039f"
             ],
             [
              0.2222222222222222,
              "#7201a8"
             ],
             [
              0.3333333333333333,
              "#9c179e"
             ],
             [
              0.4444444444444444,
              "#bd3786"
             ],
             [
              0.5555555555555556,
              "#d8576b"
             ],
             [
              0.6666666666666666,
              "#ed7953"
             ],
             [
              0.7777777777777778,
              "#fb9f3a"
             ],
             [
              0.8888888888888888,
              "#fdca26"
             ],
             [
              1,
              "#f0f921"
             ]
            ],
            "type": "histogram2dcontour"
           }
          ],
          "mesh3d": [
           {
            "colorbar": {
             "outlinewidth": 0,
             "ticks": ""
            },
            "type": "mesh3d"
           }
          ],
          "parcoords": [
           {
            "line": {
             "colorbar": {
              "outlinewidth": 0,
              "ticks": ""
             }
            },
            "type": "parcoords"
           }
          ],
          "pie": [
           {
            "automargin": true,
            "type": "pie"
           }
          ],
          "scatter": [
           {
            "fillpattern": {
             "fillmode": "overlay",
             "size": 10,
             "solidity": 0.2
            },
            "type": "scatter"
           }
          ],
          "scatter3d": [
           {
            "line": {
             "colorbar": {
              "outlinewidth": 0,
              "ticks": ""
             }
            },
            "marker": {
             "colorbar": {
              "outlinewidth": 0,
              "ticks": ""
             }
            },
            "type": "scatter3d"
           }
          ],
          "scattercarpet": [
           {
            "marker": {
             "colorbar": {
              "outlinewidth": 0,
              "ticks": ""
             }
            },
            "type": "scattercarpet"
           }
          ],
          "scattergeo": [
           {
            "marker": {
             "colorbar": {
              "outlinewidth": 0,
              "ticks": ""
             }
            },
            "type": "scattergeo"
           }
          ],
          "scattergl": [
           {
            "marker": {
             "colorbar": {
              "outlinewidth": 0,
              "ticks": ""
             }
            },
            "type": "scattergl"
           }
          ],
          "scattermapbox": [
           {
            "marker": {
             "colorbar": {
              "outlinewidth": 0,
              "ticks": ""
             }
            },
            "type": "scattermapbox"
           }
          ],
          "scatterpolar": [
           {
            "marker": {
             "colorbar": {
              "outlinewidth": 0,
              "ticks": ""
             }
            },
            "type": "scatterpolar"
           }
          ],
          "scatterpolargl": [
           {
            "marker": {
             "colorbar": {
              "outlinewidth": 0,
              "ticks": ""
             }
            },
            "type": "scatterpolargl"
           }
          ],
          "scatterternary": [
           {
            "marker": {
             "colorbar": {
              "outlinewidth": 0,
              "ticks": ""
             }
            },
            "type": "scatterternary"
           }
          ],
          "surface": [
           {
            "colorbar": {
             "outlinewidth": 0,
             "ticks": ""
            },
            "colorscale": [
             [
              0,
              "#0d0887"
             ],
             [
              0.1111111111111111,
              "#46039f"
             ],
             [
              0.2222222222222222,
              "#7201a8"
             ],
             [
              0.3333333333333333,
              "#9c179e"
             ],
             [
              0.4444444444444444,
              "#bd3786"
             ],
             [
              0.5555555555555556,
              "#d8576b"
             ],
             [
              0.6666666666666666,
              "#ed7953"
             ],
             [
              0.7777777777777778,
              "#fb9f3a"
             ],
             [
              0.8888888888888888,
              "#fdca26"
             ],
             [
              1,
              "#f0f921"
             ]
            ],
            "type": "surface"
           }
          ],
          "table": [
           {
            "cells": {
             "fill": {
              "color": "#EBF0F8"
             },
             "line": {
              "color": "white"
             }
            },
            "header": {
             "fill": {
              "color": "#C8D4E3"
             },
             "line": {
              "color": "white"
             }
            },
            "type": "table"
           }
          ]
         },
         "layout": {
          "annotationdefaults": {
           "arrowcolor": "#2a3f5f",
           "arrowhead": 0,
           "arrowwidth": 1
          },
          "autotypenumbers": "strict",
          "coloraxis": {
           "colorbar": {
            "outlinewidth": 0,
            "ticks": ""
           }
          },
          "colorscale": {
           "diverging": [
            [
             0,
             "#8e0152"
            ],
            [
             0.1,
             "#c51b7d"
            ],
            [
             0.2,
             "#de77ae"
            ],
            [
             0.3,
             "#f1b6da"
            ],
            [
             0.4,
             "#fde0ef"
            ],
            [
             0.5,
             "#f7f7f7"
            ],
            [
             0.6,
             "#e6f5d0"
            ],
            [
             0.7,
             "#b8e186"
            ],
            [
             0.8,
             "#7fbc41"
            ],
            [
             0.9,
             "#4d9221"
            ],
            [
             1,
             "#276419"
            ]
           ],
           "sequential": [
            [
             0,
             "#0d0887"
            ],
            [
             0.1111111111111111,
             "#46039f"
            ],
            [
             0.2222222222222222,
             "#7201a8"
            ],
            [
             0.3333333333333333,
             "#9c179e"
            ],
            [
             0.4444444444444444,
             "#bd3786"
            ],
            [
             0.5555555555555556,
             "#d8576b"
            ],
            [
             0.6666666666666666,
             "#ed7953"
            ],
            [
             0.7777777777777778,
             "#fb9f3a"
            ],
            [
             0.8888888888888888,
             "#fdca26"
            ],
            [
             1,
             "#f0f921"
            ]
           ],
           "sequentialminus": [
            [
             0,
             "#0d0887"
            ],
            [
             0.1111111111111111,
             "#46039f"
            ],
            [
             0.2222222222222222,
             "#7201a8"
            ],
            [
             0.3333333333333333,
             "#9c179e"
            ],
            [
             0.4444444444444444,
             "#bd3786"
            ],
            [
             0.5555555555555556,
             "#d8576b"
            ],
            [
             0.6666666666666666,
             "#ed7953"
            ],
            [
             0.7777777777777778,
             "#fb9f3a"
            ],
            [
             0.8888888888888888,
             "#fdca26"
            ],
            [
             1,
             "#f0f921"
            ]
           ]
          },
          "colorway": [
           "#636efa",
           "#EF553B",
           "#00cc96",
           "#ab63fa",
           "#FFA15A",
           "#19d3f3",
           "#FF6692",
           "#B6E880",
           "#FF97FF",
           "#FECB52"
          ],
          "font": {
           "color": "#2a3f5f"
          },
          "geo": {
           "bgcolor": "white",
           "lakecolor": "white",
           "landcolor": "#E5ECF6",
           "showlakes": true,
           "showland": true,
           "subunitcolor": "white"
          },
          "hoverlabel": {
           "align": "left"
          },
          "hovermode": "closest",
          "mapbox": {
           "style": "light"
          },
          "paper_bgcolor": "white",
          "plot_bgcolor": "#E5ECF6",
          "polar": {
           "angularaxis": {
            "gridcolor": "white",
            "linecolor": "white",
            "ticks": ""
           },
           "bgcolor": "#E5ECF6",
           "radialaxis": {
            "gridcolor": "white",
            "linecolor": "white",
            "ticks": ""
           }
          },
          "scene": {
           "xaxis": {
            "backgroundcolor": "#E5ECF6",
            "gridcolor": "white",
            "gridwidth": 2,
            "linecolor": "white",
            "showbackground": true,
            "ticks": "",
            "zerolinecolor": "white"
           },
           "yaxis": {
            "backgroundcolor": "#E5ECF6",
            "gridcolor": "white",
            "gridwidth": 2,
            "linecolor": "white",
            "showbackground": true,
            "ticks": "",
            "zerolinecolor": "white"
           },
           "zaxis": {
            "backgroundcolor": "#E5ECF6",
            "gridcolor": "white",
            "gridwidth": 2,
            "linecolor": "white",
            "showbackground": true,
            "ticks": "",
            "zerolinecolor": "white"
           }
          },
          "shapedefaults": {
           "line": {
            "color": "#2a3f5f"
           }
          },
          "ternary": {
           "aaxis": {
            "gridcolor": "white",
            "linecolor": "white",
            "ticks": ""
           },
           "baxis": {
            "gridcolor": "white",
            "linecolor": "white",
            "ticks": ""
           },
           "bgcolor": "#E5ECF6",
           "caxis": {
            "gridcolor": "white",
            "linecolor": "white",
            "ticks": ""
           }
          },
          "title": {
           "x": 0.05
          },
          "xaxis": {
           "automargin": true,
           "gridcolor": "white",
           "linecolor": "white",
           "ticks": "",
           "title": {
            "standoff": 15
           },
           "zerolinecolor": "white",
           "zerolinewidth": 2
          },
          "yaxis": {
           "automargin": true,
           "gridcolor": "white",
           "linecolor": "white",
           "ticks": "",
           "title": {
            "standoff": 15
           },
           "zerolinecolor": "white",
           "zerolinewidth": 2
          }
         }
        },
        "title": {
         "text": "Trading Chart"
        },
        "width": 1500,
        "xaxis": {
         "anchor": "y",
         "domain": [
          0,
          0.94
         ],
         "gridcolor": "lightgray",
         "nticks": 5,
         "rangeslider": {
          "visible": false
         },
         "title": {
          "text": "Time"
         }
        },
        "yaxis": {
         "anchor": "x",
         "domain": [
          0,
          1
         ],
         "gridcolor": "lightgray",
         "title": {
          "text": "Price"
         }
        },
        "yaxis2": {
         "anchor": "x",
         "gridcolor": "lightgray",
         "overlaying": "y",
         "side": "right",
         "title": {
          "text": "Price"
         }
        }
       }
      }
     },
     "metadata": {},
     "output_type": "display_data"
    }
   ],
   "source": [
    "dfp = df_an.iloc[-50:]\n",
    "cp = CandlePlot(dfp)\n",
    "cp.show_plot(line_traces=[], height=400)"
   ]
  },
  {
   "cell_type": "code",
   "execution_count": null,
   "metadata": {},
   "outputs": [],
   "source": [
    "df_an.iloc[-8]"
   ]
  },
  {
   "cell_type": "code",
   "execution_count": null,
   "metadata": {},
   "outputs": [],
   "source": [
    "# HANGING_MAN_BODY = 15.0\n",
    "# HANGING_MAN_HEIGHT = 75.0\n",
    "# SHOOTING_STAR_HEIGHT = 25.0\n",
    "# SPINNING_TOP_MIN = 40.0\n",
    "# SPINNING_TOP_MAX = 60.0\n",
    "# MARUBOZU = 98.0\n",
    "# ENGULFING_FACTOR = 1.1\n",
    "\n",
    "# MORNING_STAR_PREV2_BODY = 90.0\n",
    "# MORNING_STAR_PREV_BODY = 10.0\n",
    "\n",
    "# TWEEZER_BODY = 15.0\n",
    "# TWEEZER_HL = 0.01\n",
    "# TWEEZER_TOP_BODY = 40.0\n",
    "# TWEEZER_BOTTOM_BODY = 60.0\n",
    "\n",
    "\n",
    "# def apply_marubozu(x):\n",
    "#     return x.body_percentage > MARUBOZU\n",
    "\n",
    "\n",
    "# def apply_hanging_man(row):\n",
    "#     if row.body_bottom_percentage > HANGING_MAN_HEIGHT:\n",
    "#         if row.body_percentage < HANGING_MAN_BODY:\n",
    "#             return True\n",
    "#     return False\n",
    "\n",
    "\n",
    "# def apply_shooting_star(row):\n",
    "#     if row.body_top_percentage < SHOOTING_STAR_HEIGHT:\n",
    "#         if row.body_percentage < HANGING_MAN_BODY:\n",
    "#             return True\n",
    "#     return False\n",
    "\n",
    "\n",
    "# def apply_spinning_top(row):\n",
    "#     if row.body_top_percentage < SPINNING_TOP_MAX:\n",
    "#         if row.body_bottom_percentage > SPINNING_TOP_MIN:\n",
    "#             if row.body_percentage < HANGING_MAN_BODY:\n",
    "#                 return True\n",
    "#     return False\n",
    "\n",
    "\n",
    "# def apply_engulfing(row):\n",
    "#     if row.direction != row.direction_prev:\n",
    "#         if row.body_size > row.body_size_prev * ENGULFING_FACTOR:\n",
    "#             return True\n",
    "#     return False\n",
    "\n",
    "\n",
    "# def apply_tweezer_top(row):\n",
    "#     if abs(row.body_size_change) < TWEEZER_BODY:\n",
    "#         if row.direction == -1 and row.direction != row.direction_prev:\n",
    "#             if abs(row.low_change) < TWEEZER_HL and abs(row.high_change) < TWEEZER_HL:\n",
    "#                 if row.body_top_percentage < TWEEZER_TOP_BODY:\n",
    "#                     return True\n",
    "#     return False\n",
    "\n",
    "\n",
    "# def apply_tweezer_bottom(row):\n",
    "#     if abs(row.body_size_change) < TWEEZER_BODY:\n",
    "#         if row.direction == 1 and row.direction != row.direction_prev:\n",
    "#             if abs(row.low_change) < TWEEZER_HL and abs(row.high_change) < TWEEZER_HL:\n",
    "#                 if row.body_bottom_percentage > TWEEZER_BOTTOM_BODY:\n",
    "#                     return True\n",
    "#     return False\n",
    "\n",
    "\n",
    "# def apply_morning_star(row, direction=1):\n",
    "#     if row.body_percentage_prev_2 > MORNING_STAR_PREV2_BODY:\n",
    "#         if row.body_percentage_prev < MORNING_STAR_PREV_BODY:\n",
    "#             if row.direction == direction and row.direction_prev_2 != direction:\n",
    "#                 if direction == 1:\n",
    "#                     if row.mid_c > row.mid_point_prev_2:\n",
    "#                         return True\n",
    "#                 else:\n",
    "#                     if row.mid_c < row.mid_point_prev_2:\n",
    "#                         return True\n",
    "#     return False"
   ]
  },
  {
   "cell_type": "code",
   "execution_count": null,
   "metadata": {},
   "outputs": [],
   "source": [
    "# df_an['body_size_prev'] = df_an.body_size.shift(1)\n",
    "# df_an['direction_prev'] = df_an.direction.shift(1)\n",
    "# df_an['direction_prev_2'] = df_an.direction.shift(2)\n",
    "# df_an['body_perc_prev'] = df_an.body_percentage.shift(1)\n",
    "# df_an['body_perc_prev_2'] = df_an.body_percentage.shift(2)"
   ]
  },
  {
   "cell_type": "code",
   "execution_count": null,
   "metadata": {},
   "outputs": [],
   "source": [
    "# df_an['HANGING_MAN'] = df_an.apply(apply_hanging_man, axis=1)\n",
    "# df_an['SHOOTING_STAR'] = df_an.apply(apply_shooting_star, axis=1)\n",
    "# df_an['SPINNING_TOP'] = df_an.apply(apply_spinning_top, axis=1)\n",
    "# df_an['MARUBOZU'] = df_an.apply(apply_marubozu, axis=1)\n",
    "# df_an['ENGULFING'] = df_an.apply(apply_engulfing, axis=1)\n",
    "# df_an['TWEEZER_TOP'] = df_an.apply(apply_tweezer_top, axis=1)\n",
    "# df_an['TWEEZER_BOTTOM'] = df_an.apply(apply_tweezer_bottom, axis=1)\n",
    "# df_an['MORNING_STAR'] = df_an.apply(apply_morning_star, axis=1)\n",
    "# df_an['EVENING_STAR'] = df_an.apply(apply_morning_star, axis=1, direction=-1)"
   ]
  },
  {
   "cell_type": "code",
   "execution_count": null,
   "metadata": {},
   "outputs": [],
   "source": [
    "df_an[df_an['EVENING_STAR'] == True]"
   ]
  },
  {
   "cell_type": "code",
   "execution_count": 8,
   "metadata": {},
   "outputs": [
    {
     "data": {
      "application/vnd.plotly.v1+json": {
       "config": {
        "plotlyServerURL": "https://plot.ly"
       },
       "data": [
        {
         "close": [
          1.53702,
          1.5379,
          1.5388,
          1.53942,
          1.54015,
          1.53879,
          1.53724,
          1.5362,
          1.53359,
          1.53326,
          1.53286,
          1.5325,
          1.53308,
          1.53275,
          1.53247,
          1.53264,
          1.53308,
          1.53315,
          1.53358,
          1.53235,
          1.53242,
          1.52918,
          1.52942,
          1.53028,
          1.53234,
          1.5325,
          1.53123,
          1.53076,
          1.53054,
          1.53033,
          1.53292,
          1.53258,
          1.53294,
          1.53271,
          1.53247,
          1.53286,
          1.53231,
          1.53228,
          1.53302,
          1.53486,
          1.53366,
          1.53466,
          1.53496,
          1.53481,
          1.53574,
          1.53331,
          1.5348,
          1.5362,
          1.53546,
          1.53336,
          1.53245,
          1.53259,
          1.53298,
          1.53266,
          1.53264,
          1.5327,
          1.5312,
          1.5333,
          1.53296,
          1.53292,
          1.53334,
          1.5338,
          1.535,
          1.53772,
          1.53946,
          1.53811,
          1.53873,
          1.53974,
          1.54054,
          1.54116,
          1.54048,
          1.54004,
          1.54028,
          1.54093,
          1.53984,
          1.54054,
          1.54088,
          1.54131,
          1.541,
          1.54051,
          1.54094,
          1.53991,
          1.53894,
          1.53913,
          1.54196,
          1.54122,
          1.54208,
          1.54321,
          1.5449,
          1.54614,
          1.54258,
          1.54377,
          1.54378,
          1.54295,
          1.54556,
          1.54766,
          1.54877,
          1.55523,
          1.5535,
          1.55032
         ],
         "decreasing": {
          "fillcolor": "#ff0000",
          "line": {
           "color": "#990000"
          }
         },
         "high": [
          1.53798,
          1.53828,
          1.53924,
          1.53992,
          1.54039,
          1.54115,
          1.54052,
          1.5384,
          1.53812,
          1.5342,
          1.53458,
          1.53376,
          1.53324,
          1.53316,
          1.53316,
          1.53351,
          1.53341,
          1.53394,
          1.53422,
          1.53358,
          1.53268,
          1.53291,
          1.53058,
          1.53042,
          1.5324,
          1.53281,
          1.53273,
          1.53249,
          1.53188,
          1.5314,
          1.53292,
          1.5349,
          1.53494,
          1.53469,
          1.53376,
          1.53331,
          1.53353,
          1.5327,
          1.53311,
          1.53487,
          1.53489,
          1.53499,
          1.53516,
          1.53576,
          1.5363,
          1.5362,
          1.53536,
          1.5362,
          1.53652,
          1.5355,
          1.53396,
          1.5331,
          1.53385,
          1.53358,
          1.5334,
          1.53287,
          1.53338,
          1.5334,
          1.53378,
          1.53295,
          1.53366,
          1.5338,
          1.53515,
          1.53896,
          1.5396,
          1.54035,
          1.53885,
          1.53992,
          1.54085,
          1.5415,
          1.54138,
          1.54137,
          1.54093,
          1.54116,
          1.54116,
          1.54197,
          1.54112,
          1.54306,
          1.54164,
          1.54139,
          1.5411,
          1.54108,
          1.54036,
          1.53962,
          1.54196,
          1.54193,
          1.54264,
          1.54442,
          1.54527,
          1.54661,
          1.54619,
          1.54382,
          1.5453,
          1.54424,
          1.5474,
          1.54771,
          1.55004,
          1.55982,
          1.55526,
          1.55406
         ],
         "hovertext": "Candlestick",
         "increasing": {
          "fillcolor": "#00cc00",
          "line": {
           "color": "#006600"
          }
         },
         "line": {
          "width": 1
         },
         "low": [
          1.53442,
          1.53647,
          1.53692,
          1.5384,
          1.53861,
          1.53868,
          1.53521,
          1.53262,
          1.53314,
          1.53148,
          1.53239,
          1.5325,
          1.53204,
          1.5322,
          1.53057,
          1.53167,
          1.53242,
          1.53196,
          1.53282,
          1.53174,
          1.53146,
          1.52912,
          1.52916,
          1.52944,
          1.53022,
          1.53082,
          1.53114,
          1.53069,
          1.53014,
          1.52874,
          1.5302,
          1.53158,
          1.53219,
          1.53232,
          1.53241,
          1.53217,
          1.53196,
          1.53173,
          1.53182,
          1.5317,
          1.5329,
          1.53312,
          1.53405,
          1.53446,
          1.53434,
          1.53331,
          1.53331,
          1.53472,
          1.53518,
          1.53332,
          1.5313,
          1.5311,
          1.5324,
          1.5321,
          1.53182,
          1.5312,
          1.53112,
          1.53115,
          1.5323,
          1.53292,
          1.53248,
          1.53248,
          1.5329,
          1.53501,
          1.53766,
          1.53798,
          1.53776,
          1.5386,
          1.53894,
          1.53936,
          1.53934,
          1.53881,
          1.53974,
          1.53939,
          1.5397,
          1.5396,
          1.54,
          1.54058,
          1.54026,
          1.53998,
          1.54017,
          1.53956,
          1.53846,
          1.53774,
          1.53839,
          1.53957,
          1.54034,
          1.542,
          1.5432,
          1.54487,
          1.54258,
          1.54168,
          1.54216,
          1.5415,
          1.5429,
          1.5453,
          1.54708,
          1.5484,
          1.55169,
          1.54988
         ],
         "name": "Candlestick",
         "opacity": 1,
         "open": [
          1.53476,
          1.53705,
          1.5379,
          1.5388,
          1.53943,
          1.54016,
          1.53878,
          1.53723,
          1.5362,
          1.53356,
          1.53332,
          1.53286,
          1.5325,
          1.53308,
          1.53276,
          1.53246,
          1.53264,
          1.53307,
          1.53314,
          1.53358,
          1.53234,
          1.53243,
          1.5292,
          1.52944,
          1.53026,
          1.53235,
          1.5325,
          1.53126,
          1.53078,
          1.53052,
          1.53034,
          1.53292,
          1.53258,
          1.53297,
          1.53272,
          1.53252,
          1.53286,
          1.53228,
          1.53227,
          1.53302,
          1.53482,
          1.53368,
          1.53466,
          1.53496,
          1.53481,
          1.53574,
          1.53331,
          1.53481,
          1.53619,
          1.53547,
          1.53336,
          1.53246,
          1.53262,
          1.53298,
          1.53265,
          1.53264,
          1.5327,
          1.53122,
          1.53332,
          1.53294,
          1.5329,
          1.53333,
          1.53384,
          1.53502,
          1.53772,
          1.53948,
          1.5381,
          1.53874,
          1.53972,
          1.54052,
          1.5412,
          1.54048,
          1.54005,
          1.54028,
          1.54094,
          1.53985,
          1.54054,
          1.54084,
          1.5413,
          1.541,
          1.5405,
          1.54094,
          1.53989,
          1.53891,
          1.53912,
          1.54193,
          1.54124,
          1.54214,
          1.54322,
          1.5449,
          1.54615,
          1.54258,
          1.54378,
          1.5438,
          1.54294,
          1.5456,
          1.54764,
          1.54878,
          1.5552,
          1.55351
         ],
         "type": "candlestick",
         "x": [
          "s2013-12-20 07:00",
          "s2013-12-20 08:00",
          "s2013-12-20 09:00",
          "s2013-12-20 10:00",
          "s2013-12-20 11:00",
          "s2013-12-20 12:00",
          "s2013-12-20 13:00",
          "s2013-12-20 14:00",
          "s2013-12-20 15:00",
          "s2013-12-20 16:00",
          "s2013-12-20 17:00",
          "s2013-12-20 18:00",
          "s2013-12-20 19:00",
          "s2013-12-20 20:00",
          "s2013-12-20 21:00",
          "s2013-12-22 22:00",
          "s2013-12-22 23:00",
          "s2013-12-23 00:00",
          "s2013-12-23 01:00",
          "s2013-12-23 02:00",
          "s2013-12-23 03:00",
          "s2013-12-23 04:00",
          "s2013-12-23 05:00",
          "s2013-12-23 06:00",
          "s2013-12-23 07:00",
          "s2013-12-23 08:00",
          "s2013-12-23 09:00",
          "s2013-12-23 10:00",
          "s2013-12-23 11:00",
          "s2013-12-23 12:00",
          "s2013-12-23 13:00",
          "s2013-12-23 14:00",
          "s2013-12-23 15:00",
          "s2013-12-23 16:00",
          "s2013-12-23 17:00",
          "s2013-12-23 18:00",
          "s2013-12-23 19:00",
          "s2013-12-23 20:00",
          "s2013-12-23 21:00",
          "s2013-12-23 22:00",
          "s2013-12-23 23:00",
          "s2013-12-24 00:00",
          "s2013-12-24 01:00",
          "s2013-12-24 02:00",
          "s2013-12-24 03:00",
          "s2013-12-24 04:00",
          "s2013-12-24 05:00",
          "s2013-12-24 06:00",
          "s2013-12-24 07:00",
          "s2013-12-24 08:00",
          "s2013-12-24 09:00",
          "s2013-12-24 10:00",
          "s2013-12-24 11:00",
          "s2013-12-24 12:00",
          "s2013-12-24 13:00",
          "s2013-12-24 14:00",
          "s2013-12-24 15:00",
          "s2013-12-24 16:00",
          "s2013-12-24 17:00",
          "s2013-12-24 18:00",
          "s2013-12-25 22:00",
          "s2013-12-25 23:00",
          "s2013-12-26 00:00",
          "s2013-12-26 01:00",
          "s2013-12-26 02:00",
          "s2013-12-26 03:00",
          "s2013-12-26 04:00",
          "s2013-12-26 05:00",
          "s2013-12-26 06:00",
          "s2013-12-26 07:00",
          "s2013-12-26 08:00",
          "s2013-12-26 09:00",
          "s2013-12-26 10:00",
          "s2013-12-26 11:00",
          "s2013-12-26 12:00",
          "s2013-12-26 13:00",
          "s2013-12-26 14:00",
          "s2013-12-26 15:00",
          "s2013-12-26 16:00",
          "s2013-12-26 17:00",
          "s2013-12-26 18:00",
          "s2013-12-26 19:00",
          "s2013-12-26 20:00",
          "s2013-12-26 21:00",
          "s2013-12-26 22:00",
          "s2013-12-26 23:00",
          "s2013-12-27 00:00",
          "s2013-12-27 01:00",
          "s2013-12-27 02:00",
          "s2013-12-27 03:00",
          "s2013-12-27 04:00",
          "s2013-12-27 05:00",
          "s2013-12-27 06:00",
          "s2013-12-27 07:00",
          "s2013-12-27 08:00",
          "s2013-12-27 09:00",
          "s2013-12-27 10:00",
          "s2013-12-27 11:00",
          "s2013-12-27 12:00",
          "s2013-12-27 13:00"
         ]
        },
        {
         "close": [
          1.53123
         ],
         "decreasing": {
          "fillcolor": "#0066FF",
          "line": {
           "color": "#0066FF"
          }
         },
         "high": [
          1.53273
         ],
         "increasing": {
          "fillcolor": "#0066FF",
          "line": {
           "color": "#0066FF"
          }
         },
         "line": {
          "width": 1
         },
         "low": [
          1.53114
         ],
         "opacity": 1,
         "open": [
          1.5325
         ],
         "type": "candlestick",
         "x": [
          "s2013-12-23 09:00"
         ]
        }
       ],
       "layout": {
        "font": {
         "color": "white",
         "size": 12
        },
        "height": 800,
        "legend": {
         "x": 0.01,
         "xanchor": "left",
         "y": 0.99,
         "yanchor": "top"
        },
        "margin": {
         "b": 10,
         "l": 10,
         "r": 10,
         "t": 10
        },
        "paper_bgcolor": "black",
        "plot_bgcolor": "black",
        "template": {
         "data": {
          "bar": [
           {
            "error_x": {
             "color": "#2a3f5f"
            },
            "error_y": {
             "color": "#2a3f5f"
            },
            "marker": {
             "line": {
              "color": "#E5ECF6",
              "width": 0.5
             },
             "pattern": {
              "fillmode": "overlay",
              "size": 10,
              "solidity": 0.2
             }
            },
            "type": "bar"
           }
          ],
          "barpolar": [
           {
            "marker": {
             "line": {
              "color": "#E5ECF6",
              "width": 0.5
             },
             "pattern": {
              "fillmode": "overlay",
              "size": 10,
              "solidity": 0.2
             }
            },
            "type": "barpolar"
           }
          ],
          "carpet": [
           {
            "aaxis": {
             "endlinecolor": "#2a3f5f",
             "gridcolor": "white",
             "linecolor": "white",
             "minorgridcolor": "white",
             "startlinecolor": "#2a3f5f"
            },
            "baxis": {
             "endlinecolor": "#2a3f5f",
             "gridcolor": "white",
             "linecolor": "white",
             "minorgridcolor": "white",
             "startlinecolor": "#2a3f5f"
            },
            "type": "carpet"
           }
          ],
          "choropleth": [
           {
            "colorbar": {
             "outlinewidth": 0,
             "ticks": ""
            },
            "type": "choropleth"
           }
          ],
          "contour": [
           {
            "colorbar": {
             "outlinewidth": 0,
             "ticks": ""
            },
            "colorscale": [
             [
              0,
              "#0d0887"
             ],
             [
              0.1111111111111111,
              "#46039f"
             ],
             [
              0.2222222222222222,
              "#7201a8"
             ],
             [
              0.3333333333333333,
              "#9c179e"
             ],
             [
              0.4444444444444444,
              "#bd3786"
             ],
             [
              0.5555555555555556,
              "#d8576b"
             ],
             [
              0.6666666666666666,
              "#ed7953"
             ],
             [
              0.7777777777777778,
              "#fb9f3a"
             ],
             [
              0.8888888888888888,
              "#fdca26"
             ],
             [
              1,
              "#f0f921"
             ]
            ],
            "type": "contour"
           }
          ],
          "contourcarpet": [
           {
            "colorbar": {
             "outlinewidth": 0,
             "ticks": ""
            },
            "type": "contourcarpet"
           }
          ],
          "heatmap": [
           {
            "colorbar": {
             "outlinewidth": 0,
             "ticks": ""
            },
            "colorscale": [
             [
              0,
              "#0d0887"
             ],
             [
              0.1111111111111111,
              "#46039f"
             ],
             [
              0.2222222222222222,
              "#7201a8"
             ],
             [
              0.3333333333333333,
              "#9c179e"
             ],
             [
              0.4444444444444444,
              "#bd3786"
             ],
             [
              0.5555555555555556,
              "#d8576b"
             ],
             [
              0.6666666666666666,
              "#ed7953"
             ],
             [
              0.7777777777777778,
              "#fb9f3a"
             ],
             [
              0.8888888888888888,
              "#fdca26"
             ],
             [
              1,
              "#f0f921"
             ]
            ],
            "type": "heatmap"
           }
          ],
          "heatmapgl": [
           {
            "colorbar": {
             "outlinewidth": 0,
             "ticks": ""
            },
            "colorscale": [
             [
              0,
              "#0d0887"
             ],
             [
              0.1111111111111111,
              "#46039f"
             ],
             [
              0.2222222222222222,
              "#7201a8"
             ],
             [
              0.3333333333333333,
              "#9c179e"
             ],
             [
              0.4444444444444444,
              "#bd3786"
             ],
             [
              0.5555555555555556,
              "#d8576b"
             ],
             [
              0.6666666666666666,
              "#ed7953"
             ],
             [
              0.7777777777777778,
              "#fb9f3a"
             ],
             [
              0.8888888888888888,
              "#fdca26"
             ],
             [
              1,
              "#f0f921"
             ]
            ],
            "type": "heatmapgl"
           }
          ],
          "histogram": [
           {
            "marker": {
             "pattern": {
              "fillmode": "overlay",
              "size": 10,
              "solidity": 0.2
             }
            },
            "type": "histogram"
           }
          ],
          "histogram2d": [
           {
            "colorbar": {
             "outlinewidth": 0,
             "ticks": ""
            },
            "colorscale": [
             [
              0,
              "#0d0887"
             ],
             [
              0.1111111111111111,
              "#46039f"
             ],
             [
              0.2222222222222222,
              "#7201a8"
             ],
             [
              0.3333333333333333,
              "#9c179e"
             ],
             [
              0.4444444444444444,
              "#bd3786"
             ],
             [
              0.5555555555555556,
              "#d8576b"
             ],
             [
              0.6666666666666666,
              "#ed7953"
             ],
             [
              0.7777777777777778,
              "#fb9f3a"
             ],
             [
              0.8888888888888888,
              "#fdca26"
             ],
             [
              1,
              "#f0f921"
             ]
            ],
            "type": "histogram2d"
           }
          ],
          "histogram2dcontour": [
           {
            "colorbar": {
             "outlinewidth": 0,
             "ticks": ""
            },
            "colorscale": [
             [
              0,
              "#0d0887"
             ],
             [
              0.1111111111111111,
              "#46039f"
             ],
             [
              0.2222222222222222,
              "#7201a8"
             ],
             [
              0.3333333333333333,
              "#9c179e"
             ],
             [
              0.4444444444444444,
              "#bd3786"
             ],
             [
              0.5555555555555556,
              "#d8576b"
             ],
             [
              0.6666666666666666,
              "#ed7953"
             ],
             [
              0.7777777777777778,
              "#fb9f3a"
             ],
             [
              0.8888888888888888,
              "#fdca26"
             ],
             [
              1,
              "#f0f921"
             ]
            ],
            "type": "histogram2dcontour"
           }
          ],
          "mesh3d": [
           {
            "colorbar": {
             "outlinewidth": 0,
             "ticks": ""
            },
            "type": "mesh3d"
           }
          ],
          "parcoords": [
           {
            "line": {
             "colorbar": {
              "outlinewidth": 0,
              "ticks": ""
             }
            },
            "type": "parcoords"
           }
          ],
          "pie": [
           {
            "automargin": true,
            "type": "pie"
           }
          ],
          "scatter": [
           {
            "fillpattern": {
             "fillmode": "overlay",
             "size": 10,
             "solidity": 0.2
            },
            "type": "scatter"
           }
          ],
          "scatter3d": [
           {
            "line": {
             "colorbar": {
              "outlinewidth": 0,
              "ticks": ""
             }
            },
            "marker": {
             "colorbar": {
              "outlinewidth": 0,
              "ticks": ""
             }
            },
            "type": "scatter3d"
           }
          ],
          "scattercarpet": [
           {
            "marker": {
             "colorbar": {
              "outlinewidth": 0,
              "ticks": ""
             }
            },
            "type": "scattercarpet"
           }
          ],
          "scattergeo": [
           {
            "marker": {
             "colorbar": {
              "outlinewidth": 0,
              "ticks": ""
             }
            },
            "type": "scattergeo"
           }
          ],
          "scattergl": [
           {
            "marker": {
             "colorbar": {
              "outlinewidth": 0,
              "ticks": ""
             }
            },
            "type": "scattergl"
           }
          ],
          "scattermapbox": [
           {
            "marker": {
             "colorbar": {
              "outlinewidth": 0,
              "ticks": ""
             }
            },
            "type": "scattermapbox"
           }
          ],
          "scatterpolar": [
           {
            "marker": {
             "colorbar": {
              "outlinewidth": 0,
              "ticks": ""
             }
            },
            "type": "scatterpolar"
           }
          ],
          "scatterpolargl": [
           {
            "marker": {
             "colorbar": {
              "outlinewidth": 0,
              "ticks": ""
             }
            },
            "type": "scatterpolargl"
           }
          ],
          "scatterternary": [
           {
            "marker": {
             "colorbar": {
              "outlinewidth": 0,
              "ticks": ""
             }
            },
            "type": "scatterternary"
           }
          ],
          "surface": [
           {
            "colorbar": {
             "outlinewidth": 0,
             "ticks": ""
            },
            "colorscale": [
             [
              0,
              "#0d0887"
             ],
             [
              0.1111111111111111,
              "#46039f"
             ],
             [
              0.2222222222222222,
              "#7201a8"
             ],
             [
              0.3333333333333333,
              "#9c179e"
             ],
             [
              0.4444444444444444,
              "#bd3786"
             ],
             [
              0.5555555555555556,
              "#d8576b"
             ],
             [
              0.6666666666666666,
              "#ed7953"
             ],
             [
              0.7777777777777778,
              "#fb9f3a"
             ],
             [
              0.8888888888888888,
              "#fdca26"
             ],
             [
              1,
              "#f0f921"
             ]
            ],
            "type": "surface"
           }
          ],
          "table": [
           {
            "cells": {
             "fill": {
              "color": "#EBF0F8"
             },
             "line": {
              "color": "white"
             }
            },
            "header": {
             "fill": {
              "color": "#C8D4E3"
             },
             "line": {
              "color": "white"
             }
            },
            "type": "table"
           }
          ]
         },
         "layout": {
          "annotationdefaults": {
           "arrowcolor": "#2a3f5f",
           "arrowhead": 0,
           "arrowwidth": 1
          },
          "autotypenumbers": "strict",
          "coloraxis": {
           "colorbar": {
            "outlinewidth": 0,
            "ticks": ""
           }
          },
          "colorscale": {
           "diverging": [
            [
             0,
             "#8e0152"
            ],
            [
             0.1,
             "#c51b7d"
            ],
            [
             0.2,
             "#de77ae"
            ],
            [
             0.3,
             "#f1b6da"
            ],
            [
             0.4,
             "#fde0ef"
            ],
            [
             0.5,
             "#f7f7f7"
            ],
            [
             0.6,
             "#e6f5d0"
            ],
            [
             0.7,
             "#b8e186"
            ],
            [
             0.8,
             "#7fbc41"
            ],
            [
             0.9,
             "#4d9221"
            ],
            [
             1,
             "#276419"
            ]
           ],
           "sequential": [
            [
             0,
             "#0d0887"
            ],
            [
             0.1111111111111111,
             "#46039f"
            ],
            [
             0.2222222222222222,
             "#7201a8"
            ],
            [
             0.3333333333333333,
             "#9c179e"
            ],
            [
             0.4444444444444444,
             "#bd3786"
            ],
            [
             0.5555555555555556,
             "#d8576b"
            ],
            [
             0.6666666666666666,
             "#ed7953"
            ],
            [
             0.7777777777777778,
             "#fb9f3a"
            ],
            [
             0.8888888888888888,
             "#fdca26"
            ],
            [
             1,
             "#f0f921"
            ]
           ],
           "sequentialminus": [
            [
             0,
             "#0d0887"
            ],
            [
             0.1111111111111111,
             "#46039f"
            ],
            [
             0.2222222222222222,
             "#7201a8"
            ],
            [
             0.3333333333333333,
             "#9c179e"
            ],
            [
             0.4444444444444444,
             "#bd3786"
            ],
            [
             0.5555555555555556,
             "#d8576b"
            ],
            [
             0.6666666666666666,
             "#ed7953"
            ],
            [
             0.7777777777777778,
             "#fb9f3a"
            ],
            [
             0.8888888888888888,
             "#fdca26"
            ],
            [
             1,
             "#f0f921"
            ]
           ]
          },
          "colorway": [
           "#636efa",
           "#EF553B",
           "#00cc96",
           "#ab63fa",
           "#FFA15A",
           "#19d3f3",
           "#FF6692",
           "#B6E880",
           "#FF97FF",
           "#FECB52"
          ],
          "font": {
           "color": "#2a3f5f"
          },
          "geo": {
           "bgcolor": "white",
           "lakecolor": "white",
           "landcolor": "#E5ECF6",
           "showlakes": true,
           "showland": true,
           "subunitcolor": "white"
          },
          "hoverlabel": {
           "align": "left"
          },
          "hovermode": "closest",
          "mapbox": {
           "style": "light"
          },
          "paper_bgcolor": "white",
          "plot_bgcolor": "#E5ECF6",
          "polar": {
           "angularaxis": {
            "gridcolor": "white",
            "linecolor": "white",
            "ticks": ""
           },
           "bgcolor": "#E5ECF6",
           "radialaxis": {
            "gridcolor": "white",
            "linecolor": "white",
            "ticks": ""
           }
          },
          "scene": {
           "xaxis": {
            "backgroundcolor": "#E5ECF6",
            "gridcolor": "white",
            "gridwidth": 2,
            "linecolor": "white",
            "showbackground": true,
            "ticks": "",
            "zerolinecolor": "white"
           },
           "yaxis": {
            "backgroundcolor": "#E5ECF6",
            "gridcolor": "white",
            "gridwidth": 2,
            "linecolor": "white",
            "showbackground": true,
            "ticks": "",
            "zerolinecolor": "white"
           },
           "zaxis": {
            "backgroundcolor": "#E5ECF6",
            "gridcolor": "white",
            "gridwidth": 2,
            "linecolor": "white",
            "showbackground": true,
            "ticks": "",
            "zerolinecolor": "white"
           }
          },
          "shapedefaults": {
           "line": {
            "color": "#2a3f5f"
           }
          },
          "ternary": {
           "aaxis": {
            "gridcolor": "white",
            "linecolor": "white",
            "ticks": ""
           },
           "baxis": {
            "gridcolor": "white",
            "linecolor": "white",
            "ticks": ""
           },
           "bgcolor": "#E5ECF6",
           "caxis": {
            "gridcolor": "white",
            "linecolor": "white",
            "ticks": ""
           }
          },
          "title": {
           "x": 0.05
          },
          "xaxis": {
           "automargin": true,
           "gridcolor": "white",
           "linecolor": "white",
           "ticks": "",
           "title": {
            "standoff": 15
           },
           "zerolinecolor": "white",
           "zerolinewidth": 2
          },
          "yaxis": {
           "automargin": true,
           "gridcolor": "white",
           "linecolor": "white",
           "ticks": "",
           "title": {
            "standoff": 15
           },
           "zerolinecolor": "white",
           "zerolinewidth": 2
          }
         }
        },
        "title": {
         "text": "Trading Chart"
        },
        "width": 1500,
        "xaxis": {
         "anchor": "y",
         "domain": [
          0,
          0.94
         ],
         "gridcolor": "lightgray",
         "nticks": 5,
         "rangeslider": {
          "visible": false
         },
         "title": {
          "text": "Time"
         }
        },
        "yaxis": {
         "anchor": "x",
         "domain": [
          0,
          1
         ],
         "gridcolor": "lightgray",
         "title": {
          "text": "Price"
         }
        },
        "yaxis2": {
         "anchor": "x",
         "gridcolor": "lightgray",
         "overlaying": "y",
         "side": "right",
         "title": {
          "text": "Price"
         }
        }
       }
      }
     },
     "metadata": {},
     "output_type": "display_data"
    }
   ],
   "source": [
    "MARKER = '#0066FF'\n",
    "dfp = df_an.iloc[6000:6100]\n",
    "cp = CandlePlot(dfp, candles=True)\n",
    "df_temp = cp.df_plot[cp.df_plot.EVENING_STAR == True]\n",
    "cp.fig.add_trace(go.Candlestick(\n",
    "    x=df_temp.sTime,\n",
    "    open=df_temp.mid_o,\n",
    "    high=df_temp.mid_h,\n",
    "    low=df_temp.mid_l,\n",
    "    close=df_temp.mid_c,\n",
    "    line=dict(width=1), opacity=1,\n",
    "    increasing_fillcolor=MARKER,\n",
    "    decreasing_fillcolor=MARKER,\n",
    "    increasing_line_color=MARKER,\n",
    "    decreasing_line_color=MARKER\n",
    "))\n",
    "\n",
    "cp.show_plot()"
   ]
  },
  {
   "cell_type": "code",
   "execution_count": null,
   "metadata": {},
   "outputs": [],
   "source": []
  },
  {
   "cell_type": "code",
   "execution_count": null,
   "metadata": {},
   "outputs": [],
   "source": []
  },
  {
   "cell_type": "code",
   "execution_count": null,
   "metadata": {},
   "outputs": [],
   "source": []
  },
  {
   "cell_type": "code",
   "execution_count": null,
   "metadata": {},
   "outputs": [],
   "source": []
  },
  {
   "cell_type": "code",
   "execution_count": null,
   "metadata": {},
   "outputs": [],
   "source": []
  }
 ],
 "metadata": {
  "kernelspec": {
   "display_name": "venv",
   "language": "python",
   "name": "python3"
  },
  "language_info": {
   "codemirror_mode": {
    "name": "ipython",
    "version": 3
   },
   "file_extension": ".py",
   "mimetype": "text/x-python",
   "name": "python",
   "nbconvert_exporter": "python",
   "pygments_lexer": "ipython3",
   "version": "3.11.6"
  }
 },
 "nbformat": 4,
 "nbformat_minor": 2
}
