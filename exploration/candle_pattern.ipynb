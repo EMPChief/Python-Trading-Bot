{
 "cells": [
  {
   "cell_type": "code",
   "execution_count": 1,
   "metadata": {},
   "outputs": [],
   "source": [
    "import plotly.graph_objects as go\n",
    "import pandas as pd\n",
    "from plotting import CandlePlot\n",
    "import sys\n",
    "sys.path.append(\"../\")"
   ]
  },
  {
   "cell_type": "code",
   "execution_count": 2,
   "metadata": {},
   "outputs": [],
   "source": [
    "from technicals.patterns import apply_patterns"
   ]
  },
  {
   "cell_type": "code",
   "execution_count": 3,
   "metadata": {},
   "outputs": [],
   "source": [
    "df = pd.read_csv(\"../data/candles/EUR_AUD_H1.csv\")"
   ]
  },
  {
   "cell_type": "code",
   "execution_count": 4,
   "metadata": {},
   "outputs": [],
   "source": [
    "df_an = df[['time', 'mid_o', 'mid_h', 'mid_l', 'mid_c']].copy()"
   ]
  },
  {
   "cell_type": "code",
   "execution_count": 5,
   "metadata": {},
   "outputs": [
    {
     "data": {
      "text/html": [
       "<div>\n",
       "<style scoped>\n",
       "    .dataframe tbody tr th:only-of-type {\n",
       "        vertical-align: middle;\n",
       "    }\n",
       "\n",
       "    .dataframe tbody tr th {\n",
       "        vertical-align: top;\n",
       "    }\n",
       "\n",
       "    .dataframe thead th {\n",
       "        text-align: right;\n",
       "    }\n",
       "</style>\n",
       "<table border=\"1\" class=\"dataframe\">\n",
       "  <thead>\n",
       "    <tr style=\"text-align: right;\">\n",
       "      <th></th>\n",
       "      <th>time</th>\n",
       "      <th>mid_o</th>\n",
       "      <th>mid_h</th>\n",
       "      <th>mid_l</th>\n",
       "      <th>mid_c</th>\n",
       "    </tr>\n",
       "  </thead>\n",
       "  <tbody>\n",
       "    <tr>\n",
       "      <th>67805</th>\n",
       "      <td>2023-11-29 19:00:00+00:00</td>\n",
       "      <td>1.65744</td>\n",
       "      <td>1.65919</td>\n",
       "      <td>1.65694</td>\n",
       "      <td>1.65842</td>\n",
       "    </tr>\n",
       "    <tr>\n",
       "      <th>67806</th>\n",
       "      <td>2023-11-29 20:00:00+00:00</td>\n",
       "      <td>1.65841</td>\n",
       "      <td>1.65974</td>\n",
       "      <td>1.65825</td>\n",
       "      <td>1.65908</td>\n",
       "    </tr>\n",
       "    <tr>\n",
       "      <th>67807</th>\n",
       "      <td>2023-11-29 21:00:00+00:00</td>\n",
       "      <td>1.65902</td>\n",
       "      <td>1.65906</td>\n",
       "      <td>1.65761</td>\n",
       "      <td>1.65766</td>\n",
       "    </tr>\n",
       "    <tr>\n",
       "      <th>67808</th>\n",
       "      <td>2023-11-29 22:00:00+00:00</td>\n",
       "      <td>1.65766</td>\n",
       "      <td>1.65864</td>\n",
       "      <td>1.65686</td>\n",
       "      <td>1.65791</td>\n",
       "    </tr>\n",
       "    <tr>\n",
       "      <th>67809</th>\n",
       "      <td>2023-11-29 23:00:00+00:00</td>\n",
       "      <td>1.65794</td>\n",
       "      <td>1.65832</td>\n",
       "      <td>1.65669</td>\n",
       "      <td>1.65829</td>\n",
       "    </tr>\n",
       "  </tbody>\n",
       "</table>\n",
       "</div>"
      ],
      "text/plain": [
       "                            time    mid_o    mid_h    mid_l    mid_c\n",
       "67805  2023-11-29 19:00:00+00:00  1.65744  1.65919  1.65694  1.65842\n",
       "67806  2023-11-29 20:00:00+00:00  1.65841  1.65974  1.65825  1.65908\n",
       "67807  2023-11-29 21:00:00+00:00  1.65902  1.65906  1.65761  1.65766\n",
       "67808  2023-11-29 22:00:00+00:00  1.65766  1.65864  1.65686  1.65791\n",
       "67809  2023-11-29 23:00:00+00:00  1.65794  1.65832  1.65669  1.65829"
      ]
     },
     "execution_count": 5,
     "metadata": {},
     "output_type": "execute_result"
    }
   ],
   "source": [
    "df_an.tail()"
   ]
  },
  {
   "cell_type": "code",
   "execution_count": 6,
   "metadata": {},
   "outputs": [],
   "source": [
    "df_an = apply_patterns(df_an)"
   ]
  },
  {
   "cell_type": "code",
   "execution_count": 7,
   "metadata": {},
   "outputs": [
    {
     "data": {
      "application/vnd.plotly.v1+json": {
       "config": {
        "plotlyServerURL": "https://plot.ly"
       },
       "data": [
        {
         "close": [
          1.65882,
          1.65707,
          1.65691,
          1.65556,
          1.65416,
          1.65512,
          1.65376,
          1.65574,
          1.65392,
          1.65496,
          1.65754,
          1.65578,
          1.65566,
          1.65556,
          1.65674,
          1.65716,
          1.65727,
          1.6533,
          1.65163,
          1.65278,
          1.65368,
          1.65228,
          1.65361,
          1.65369,
          1.65386,
          1.65328,
          1.65339,
          1.65319,
          1.6534,
          1.65414,
          1.65458,
          1.65582,
          1.65709,
          1.65729,
          1.65515,
          1.65616,
          1.65774,
          1.65886,
          1.65792,
          1.65869,
          1.65762,
          1.65758,
          1.65754,
          1.65775,
          1.65746,
          1.65842,
          1.65908,
          1.65766,
          1.65791,
          1.65829
         ],
         "decreasing": {
          "fillcolor": "#ff0000",
          "line": {
           "color": "#990000"
          }
         },
         "high": [
          1.65914,
          1.65887,
          1.65836,
          1.65714,
          1.65574,
          1.65567,
          1.6557,
          1.6561,
          1.6559,
          1.65618,
          1.6592,
          1.65767,
          1.65628,
          1.65602,
          1.65722,
          1.65764,
          1.65808,
          1.6577,
          1.654,
          1.65327,
          1.65478,
          1.65373,
          1.65381,
          1.6538,
          1.65418,
          1.6539,
          1.6575,
          1.65436,
          1.65425,
          1.65525,
          1.65548,
          1.65633,
          1.65764,
          1.65799,
          1.65726,
          1.6584,
          1.65782,
          1.66047,
          1.65929,
          1.65998,
          1.65946,
          1.65918,
          1.65973,
          1.65831,
          1.65822,
          1.65919,
          1.65974,
          1.65906,
          1.65864,
          1.65832
         ],
         "hovertext": "Candlestick",
         "increasing": {
          "fillcolor": "#00cc00",
          "line": {
           "color": "#006600"
          }
         },
         "line": {
          "width": 1
         },
         "low": [
          1.6574,
          1.65704,
          1.65636,
          1.65441,
          1.65299,
          1.65405,
          1.65364,
          1.65346,
          1.65331,
          1.65367,
          1.65483,
          1.65522,
          1.65422,
          1.65464,
          1.65486,
          1.65626,
          1.65546,
          1.65304,
          1.65084,
          1.65141,
          1.65276,
          1.65196,
          1.65213,
          1.65322,
          1.65316,
          1.65252,
          1.65282,
          1.64977,
          1.65263,
          1.65332,
          1.65394,
          1.65381,
          1.6557,
          1.65598,
          1.65515,
          1.65465,
          1.65512,
          1.6573,
          1.65725,
          1.65764,
          1.65727,
          1.656,
          1.65728,
          1.65752,
          1.6573,
          1.65694,
          1.65825,
          1.65761,
          1.65686,
          1.65669
         ],
         "name": "Candlestick",
         "opacity": 1,
         "open": [
          1.65848,
          1.65887,
          1.65706,
          1.65692,
          1.65555,
          1.65417,
          1.65512,
          1.65377,
          1.65574,
          1.65392,
          1.65497,
          1.65754,
          1.65571,
          1.65568,
          1.65554,
          1.65671,
          1.65719,
          1.6573,
          1.65332,
          1.65164,
          1.65276,
          1.65367,
          1.65229,
          1.65362,
          1.65382,
          1.6539,
          1.6533,
          1.65342,
          1.65318,
          1.65337,
          1.65414,
          1.65461,
          1.6558,
          1.65706,
          1.65714,
          1.65514,
          1.65618,
          1.65772,
          1.65887,
          1.65797,
          1.65866,
          1.65757,
          1.65757,
          1.65754,
          1.65774,
          1.65744,
          1.65841,
          1.65902,
          1.65766,
          1.65794
         ],
         "type": "candlestick",
         "x": [
          "s2023-11-27 22:00",
          "s2023-11-27 23:00",
          "s2023-11-28 00:00",
          "s2023-11-28 01:00",
          "s2023-11-28 02:00",
          "s2023-11-28 03:00",
          "s2023-11-28 04:00",
          "s2023-11-28 05:00",
          "s2023-11-28 06:00",
          "s2023-11-28 07:00",
          "s2023-11-28 08:00",
          "s2023-11-28 09:00",
          "s2023-11-28 10:00",
          "s2023-11-28 11:00",
          "s2023-11-28 12:00",
          "s2023-11-28 13:00",
          "s2023-11-28 14:00",
          "s2023-11-28 15:00",
          "s2023-11-28 16:00",
          "s2023-11-28 17:00",
          "s2023-11-28 18:00",
          "s2023-11-28 19:00",
          "s2023-11-28 20:00",
          "s2023-11-28 21:00",
          "s2023-11-28 22:00",
          "s2023-11-28 23:00",
          "s2023-11-29 00:00",
          "s2023-11-29 01:00",
          "s2023-11-29 02:00",
          "s2023-11-29 03:00",
          "s2023-11-29 04:00",
          "s2023-11-29 05:00",
          "s2023-11-29 06:00",
          "s2023-11-29 07:00",
          "s2023-11-29 08:00",
          "s2023-11-29 09:00",
          "s2023-11-29 10:00",
          "s2023-11-29 11:00",
          "s2023-11-29 12:00",
          "s2023-11-29 13:00",
          "s2023-11-29 14:00",
          "s2023-11-29 15:00",
          "s2023-11-29 16:00",
          "s2023-11-29 17:00",
          "s2023-11-29 18:00",
          "s2023-11-29 19:00",
          "s2023-11-29 20:00",
          "s2023-11-29 21:00",
          "s2023-11-29 22:00",
          "s2023-11-29 23:00"
         ]
        }
       ],
       "layout": {
        "font": {
         "color": "white",
         "size": 12
        },
        "height": 400,
        "legend": {
         "x": 0.01,
         "xanchor": "left",
         "y": 0.99,
         "yanchor": "top"
        },
        "margin": {
         "b": 10,
         "l": 10,
         "r": 10,
         "t": 10
        },
        "paper_bgcolor": "black",
        "plot_bgcolor": "black",
        "template": {
         "data": {
          "bar": [
           {
            "error_x": {
             "color": "#2a3f5f"
            },
            "error_y": {
             "color": "#2a3f5f"
            },
            "marker": {
             "line": {
              "color": "#E5ECF6",
              "width": 0.5
             },
             "pattern": {
              "fillmode": "overlay",
              "size": 10,
              "solidity": 0.2
             }
            },
            "type": "bar"
           }
          ],
          "barpolar": [
           {
            "marker": {
             "line": {
              "color": "#E5ECF6",
              "width": 0.5
             },
             "pattern": {
              "fillmode": "overlay",
              "size": 10,
              "solidity": 0.2
             }
            },
            "type": "barpolar"
           }
          ],
          "carpet": [
           {
            "aaxis": {
             "endlinecolor": "#2a3f5f",
             "gridcolor": "white",
             "linecolor": "white",
             "minorgridcolor": "white",
             "startlinecolor": "#2a3f5f"
            },
            "baxis": {
             "endlinecolor": "#2a3f5f",
             "gridcolor": "white",
             "linecolor": "white",
             "minorgridcolor": "white",
             "startlinecolor": "#2a3f5f"
            },
            "type": "carpet"
           }
          ],
          "choropleth": [
           {
            "colorbar": {
             "outlinewidth": 0,
             "ticks": ""
            },
            "type": "choropleth"
           }
          ],
          "contour": [
           {
            "colorbar": {
             "outlinewidth": 0,
             "ticks": ""
            },
            "colorscale": [
             [
              0,
              "#0d0887"
             ],
             [
              0.1111111111111111,
              "#46039f"
             ],
             [
              0.2222222222222222,
              "#7201a8"
             ],
             [
              0.3333333333333333,
              "#9c179e"
             ],
             [
              0.4444444444444444,
              "#bd3786"
             ],
             [
              0.5555555555555556,
              "#d8576b"
             ],
             [
              0.6666666666666666,
              "#ed7953"
             ],
             [
              0.7777777777777778,
              "#fb9f3a"
             ],
             [
              0.8888888888888888,
              "#fdca26"
             ],
             [
              1,
              "#f0f921"
             ]
            ],
            "type": "contour"
           }
          ],
          "contourcarpet": [
           {
            "colorbar": {
             "outlinewidth": 0,
             "ticks": ""
            },
            "type": "contourcarpet"
           }
          ],
          "heatmap": [
           {
            "colorbar": {
             "outlinewidth": 0,
             "ticks": ""
            },
            "colorscale": [
             [
              0,
              "#0d0887"
             ],
             [
              0.1111111111111111,
              "#46039f"
             ],
             [
              0.2222222222222222,
              "#7201a8"
             ],
             [
              0.3333333333333333,
              "#9c179e"
             ],
             [
              0.4444444444444444,
              "#bd3786"
             ],
             [
              0.5555555555555556,
              "#d8576b"
             ],
             [
              0.6666666666666666,
              "#ed7953"
             ],
             [
              0.7777777777777778,
              "#fb9f3a"
             ],
             [
              0.8888888888888888,
              "#fdca26"
             ],
             [
              1,
              "#f0f921"
             ]
            ],
            "type": "heatmap"
           }
          ],
          "heatmapgl": [
           {
            "colorbar": {
             "outlinewidth": 0,
             "ticks": ""
            },
            "colorscale": [
             [
              0,
              "#0d0887"
             ],
             [
              0.1111111111111111,
              "#46039f"
             ],
             [
              0.2222222222222222,
              "#7201a8"
             ],
             [
              0.3333333333333333,
              "#9c179e"
             ],
             [
              0.4444444444444444,
              "#bd3786"
             ],
             [
              0.5555555555555556,
              "#d8576b"
             ],
             [
              0.6666666666666666,
              "#ed7953"
             ],
             [
              0.7777777777777778,
              "#fb9f3a"
             ],
             [
              0.8888888888888888,
              "#fdca26"
             ],
             [
              1,
              "#f0f921"
             ]
            ],
            "type": "heatmapgl"
           }
          ],
          "histogram": [
           {
            "marker": {
             "pattern": {
              "fillmode": "overlay",
              "size": 10,
              "solidity": 0.2
             }
            },
            "type": "histogram"
           }
          ],
          "histogram2d": [
           {
            "colorbar": {
             "outlinewidth": 0,
             "ticks": ""
            },
            "colorscale": [
             [
              0,
              "#0d0887"
             ],
             [
              0.1111111111111111,
              "#46039f"
             ],
             [
              0.2222222222222222,
              "#7201a8"
             ],
             [
              0.3333333333333333,
              "#9c179e"
             ],
             [
              0.4444444444444444,
              "#bd3786"
             ],
             [
              0.5555555555555556,
              "#d8576b"
             ],
             [
              0.6666666666666666,
              "#ed7953"
             ],
             [
              0.7777777777777778,
              "#fb9f3a"
             ],
             [
              0.8888888888888888,
              "#fdca26"
             ],
             [
              1,
              "#f0f921"
             ]
            ],
            "type": "histogram2d"
           }
          ],
          "histogram2dcontour": [
           {
            "colorbar": {
             "outlinewidth": 0,
             "ticks": ""
            },
            "colorscale": [
             [
              0,
              "#0d0887"
             ],
             [
              0.1111111111111111,
              "#46039f"
             ],
             [
              0.2222222222222222,
              "#7201a8"
             ],
             [
              0.3333333333333333,
              "#9c179e"
             ],
             [
              0.4444444444444444,
              "#bd3786"
             ],
             [
              0.5555555555555556,
              "#d8576b"
             ],
             [
              0.6666666666666666,
              "#ed7953"
             ],
             [
              0.7777777777777778,
              "#fb9f3a"
             ],
             [
              0.8888888888888888,
              "#fdca26"
             ],
             [
              1,
              "#f0f921"
             ]
            ],
            "type": "histogram2dcontour"
           }
          ],
          "mesh3d": [
           {
            "colorbar": {
             "outlinewidth": 0,
             "ticks": ""
            },
            "type": "mesh3d"
           }
          ],
          "parcoords": [
           {
            "line": {
             "colorbar": {
              "outlinewidth": 0,
              "ticks": ""
             }
            },
            "type": "parcoords"
           }
          ],
          "pie": [
           {
            "automargin": true,
            "type": "pie"
           }
          ],
          "scatter": [
           {
            "fillpattern": {
             "fillmode": "overlay",
             "size": 10,
             "solidity": 0.2
            },
            "type": "scatter"
           }
          ],
          "scatter3d": [
           {
            "line": {
             "colorbar": {
              "outlinewidth": 0,
              "ticks": ""
             }
            },
            "marker": {
             "colorbar": {
              "outlinewidth": 0,
              "ticks": ""
             }
            },
            "type": "scatter3d"
           }
          ],
          "scattercarpet": [
           {
            "marker": {
             "colorbar": {
              "outlinewidth": 0,
              "ticks": ""
             }
            },
            "type": "scattercarpet"
           }
          ],
          "scattergeo": [
           {
            "marker": {
             "colorbar": {
              "outlinewidth": 0,
              "ticks": ""
             }
            },
            "type": "scattergeo"
           }
          ],
          "scattergl": [
           {
            "marker": {
             "colorbar": {
              "outlinewidth": 0,
              "ticks": ""
             }
            },
            "type": "scattergl"
           }
          ],
          "scattermapbox": [
           {
            "marker": {
             "colorbar": {
              "outlinewidth": 0,
              "ticks": ""
             }
            },
            "type": "scattermapbox"
           }
          ],
          "scatterpolar": [
           {
            "marker": {
             "colorbar": {
              "outlinewidth": 0,
              "ticks": ""
             }
            },
            "type": "scatterpolar"
           }
          ],
          "scatterpolargl": [
           {
            "marker": {
             "colorbar": {
              "outlinewidth": 0,
              "ticks": ""
             }
            },
            "type": "scatterpolargl"
           }
          ],
          "scatterternary": [
           {
            "marker": {
             "colorbar": {
              "outlinewidth": 0,
              "ticks": ""
             }
            },
            "type": "scatterternary"
           }
          ],
          "surface": [
           {
            "colorbar": {
             "outlinewidth": 0,
             "ticks": ""
            },
            "colorscale": [
             [
              0,
              "#0d0887"
             ],
             [
              0.1111111111111111,
              "#46039f"
             ],
             [
              0.2222222222222222,
              "#7201a8"
             ],
             [
              0.3333333333333333,
              "#9c179e"
             ],
             [
              0.4444444444444444,
              "#bd3786"
             ],
             [
              0.5555555555555556,
              "#d8576b"
             ],
             [
              0.6666666666666666,
              "#ed7953"
             ],
             [
              0.7777777777777778,
              "#fb9f3a"
             ],
             [
              0.8888888888888888,
              "#fdca26"
             ],
             [
              1,
              "#f0f921"
             ]
            ],
            "type": "surface"
           }
          ],
          "table": [
           {
            "cells": {
             "fill": {
              "color": "#EBF0F8"
             },
             "line": {
              "color": "white"
             }
            },
            "header": {
             "fill": {
              "color": "#C8D4E3"
             },
             "line": {
              "color": "white"
             }
            },
            "type": "table"
           }
          ]
         },
         "layout": {
          "annotationdefaults": {
           "arrowcolor": "#2a3f5f",
           "arrowhead": 0,
           "arrowwidth": 1
          },
          "autotypenumbers": "strict",
          "coloraxis": {
           "colorbar": {
            "outlinewidth": 0,
            "ticks": ""
           }
          },
          "colorscale": {
           "diverging": [
            [
             0,
             "#8e0152"
            ],
            [
             0.1,
             "#c51b7d"
            ],
            [
             0.2,
             "#de77ae"
            ],
            [
             0.3,
             "#f1b6da"
            ],
            [
             0.4,
             "#fde0ef"
            ],
            [
             0.5,
             "#f7f7f7"
            ],
            [
             0.6,
             "#e6f5d0"
            ],
            [
             0.7,
             "#b8e186"
            ],
            [
             0.8,
             "#7fbc41"
            ],
            [
             0.9,
             "#4d9221"
            ],
            [
             1,
             "#276419"
            ]
           ],
           "sequential": [
            [
             0,
             "#0d0887"
            ],
            [
             0.1111111111111111,
             "#46039f"
            ],
            [
             0.2222222222222222,
             "#7201a8"
            ],
            [
             0.3333333333333333,
             "#9c179e"
            ],
            [
             0.4444444444444444,
             "#bd3786"
            ],
            [
             0.5555555555555556,
             "#d8576b"
            ],
            [
             0.6666666666666666,
             "#ed7953"
            ],
            [
             0.7777777777777778,
             "#fb9f3a"
            ],
            [
             0.8888888888888888,
             "#fdca26"
            ],
            [
             1,
             "#f0f921"
            ]
           ],
           "sequentialminus": [
            [
             0,
             "#0d0887"
            ],
            [
             0.1111111111111111,
             "#46039f"
            ],
            [
             0.2222222222222222,
             "#7201a8"
            ],
            [
             0.3333333333333333,
             "#9c179e"
            ],
            [
             0.4444444444444444,
             "#bd3786"
            ],
            [
             0.5555555555555556,
             "#d8576b"
            ],
            [
             0.6666666666666666,
             "#ed7953"
            ],
            [
             0.7777777777777778,
             "#fb9f3a"
            ],
            [
             0.8888888888888888,
             "#fdca26"
            ],
            [
             1,
             "#f0f921"
            ]
           ]
          },
          "colorway": [
           "#636efa",
           "#EF553B",
           "#00cc96",
           "#ab63fa",
           "#FFA15A",
           "#19d3f3",
           "#FF6692",
           "#B6E880",
           "#FF97FF",
           "#FECB52"
          ],
          "font": {
           "color": "#2a3f5f"
          },
          "geo": {
           "bgcolor": "white",
           "lakecolor": "white",
           "landcolor": "#E5ECF6",
           "showlakes": true,
           "showland": true,
           "subunitcolor": "white"
          },
          "hoverlabel": {
           "align": "left"
          },
          "hovermode": "closest",
          "mapbox": {
           "style": "light"
          },
          "paper_bgcolor": "white",
          "plot_bgcolor": "#E5ECF6",
          "polar": {
           "angularaxis": {
            "gridcolor": "white",
            "linecolor": "white",
            "ticks": ""
           },
           "bgcolor": "#E5ECF6",
           "radialaxis": {
            "gridcolor": "white",
            "linecolor": "white",
            "ticks": ""
           }
          },
          "scene": {
           "xaxis": {
            "backgroundcolor": "#E5ECF6",
            "gridcolor": "white",
            "gridwidth": 2,
            "linecolor": "white",
            "showbackground": true,
            "ticks": "",
            "zerolinecolor": "white"
           },
           "yaxis": {
            "backgroundcolor": "#E5ECF6",
            "gridcolor": "white",
            "gridwidth": 2,
            "linecolor": "white",
            "showbackground": true,
            "ticks": "",
            "zerolinecolor": "white"
           },
           "zaxis": {
            "backgroundcolor": "#E5ECF6",
            "gridcolor": "white",
            "gridwidth": 2,
            "linecolor": "white",
            "showbackground": true,
            "ticks": "",
            "zerolinecolor": "white"
           }
          },
          "shapedefaults": {
           "line": {
            "color": "#2a3f5f"
           }
          },
          "ternary": {
           "aaxis": {
            "gridcolor": "white",
            "linecolor": "white",
            "ticks": ""
           },
           "baxis": {
            "gridcolor": "white",
            "linecolor": "white",
            "ticks": ""
           },
           "bgcolor": "#E5ECF6",
           "caxis": {
            "gridcolor": "white",
            "linecolor": "white",
            "ticks": ""
           }
          },
          "title": {
           "x": 0.05
          },
          "xaxis": {
           "automargin": true,
           "gridcolor": "white",
           "linecolor": "white",
           "ticks": "",
           "title": {
            "standoff": 15
           },
           "zerolinecolor": "white",
           "zerolinewidth": 2
          },
          "yaxis": {
           "automargin": true,
           "gridcolor": "white",
           "linecolor": "white",
           "ticks": "",
           "title": {
            "standoff": 15
           },
           "zerolinecolor": "white",
           "zerolinewidth": 2
          }
         }
        },
        "title": {
         "text": "Trading Chart"
        },
        "width": 1500,
        "xaxis": {
         "anchor": "y",
         "domain": [
          0,
          0.94
         ],
         "gridcolor": "lightgray",
         "nticks": 5,
         "rangeslider": {
          "visible": false
         },
         "title": {
          "text": "Time"
         }
        },
        "yaxis": {
         "anchor": "x",
         "domain": [
          0,
          1
         ],
         "gridcolor": "lightgray",
         "title": {
          "text": "Price"
         }
        },
        "yaxis2": {
         "anchor": "x",
         "gridcolor": "lightgray",
         "overlaying": "y",
         "side": "right",
         "title": {
          "text": "Price"
         }
        }
       }
      }
     },
     "metadata": {},
     "output_type": "display_data"
    }
   ],
   "source": [
    "dfp = df_an.iloc[-50:]\n",
    "cp = CandlePlot(dfp)\n",
    "cp.show_plot(line_traces=[], height=400)"
   ]
  },
  {
   "cell_type": "code",
   "execution_count": 8,
   "metadata": {},
   "outputs": [
    {
     "data": {
      "text/plain": [
       "time                      2023-11-29 16:00:00+00:00\n",
       "mid_o                                       1.65757\n",
       "mid_h                                       1.65973\n",
       "mid_l                                       1.65728\n",
       "mid_c                                       1.65754\n",
       "body_lower                                  1.65754\n",
       "body_upper                                  1.65757\n",
       "body_bottom_percentage                    10.612245\n",
       "body_top_percentage                       11.836735\n",
       "body_percentage                             1.22449\n",
       "direction                                        -1\n",
       "body_size                                   0.00003\n",
       "low_change                                 0.077295\n",
       "high_change                                0.033149\n",
       "body_size_change                              200.0\n",
       "mid_point                                  1.658505\n",
       "mid_point_prev_2                           1.658365\n",
       "body_size_prev                              0.00001\n",
       "direction_prev                                  1.0\n",
       "direction_prev_2                               -1.0\n",
       "body_percentage_prev                       0.314465\n",
       "body_percentage_prev_2                    47.488584\n",
       "HANGING_MAN                                   False\n",
       "SHOOTING_STAR                                  True\n",
       "SPINNING_TOP                                  False\n",
       "MARUBOZU                                      False\n",
       "ENGULFING                                      True\n",
       "TWEEZER_TOP                                   False\n",
       "TWEEZER_BOTTOM                                False\n",
       "MORNING_STAR                                  False\n",
       "EVENING_STAR                                  False\n",
       "DOJI                                           True\n",
       "HAMMER                                        False\n",
       "INVERTED_HAMMER                               False\n",
       "DARK_CLOUD_COVER                              False\n",
       "PIERCING_PATTERN                              False\n",
       "BULLISH_ENGULFING                             False\n",
       "BULLISH_HARAMI                                False\n",
       "BEARISH_ENGULFING                             False\n",
       "BEARISH_HARAMI                                 True\n",
       "THREE_WHITE_SOLDIERS                          False\n",
       "THREE_BLACK_CROWS                             False\n",
       "BULLISH_ABANDONED_BABY                        False\n",
       "BEARISH_ABANDONED_BABY                        False\n",
       "BULLISH_TRI_STAR                              False\n",
       "Name: 67802, dtype: object"
      ]
     },
     "execution_count": 8,
     "metadata": {},
     "output_type": "execute_result"
    }
   ],
   "source": [
    "df_an.iloc[-8]"
   ]
  },
  {
   "cell_type": "code",
   "execution_count": 9,
   "metadata": {},
   "outputs": [
    {
     "data": {
      "text/html": [
       "<div>\n",
       "<style scoped>\n",
       "    .dataframe tbody tr th:only-of-type {\n",
       "        vertical-align: middle;\n",
       "    }\n",
       "\n",
       "    .dataframe tbody tr th {\n",
       "        vertical-align: top;\n",
       "    }\n",
       "\n",
       "    .dataframe thead th {\n",
       "        text-align: right;\n",
       "    }\n",
       "</style>\n",
       "<table border=\"1\" class=\"dataframe\">\n",
       "  <thead>\n",
       "    <tr style=\"text-align: right;\">\n",
       "      <th></th>\n",
       "      <th>time</th>\n",
       "      <th>mid_o</th>\n",
       "      <th>mid_h</th>\n",
       "      <th>mid_l</th>\n",
       "      <th>mid_c</th>\n",
       "      <th>body_lower</th>\n",
       "      <th>body_upper</th>\n",
       "      <th>body_bottom_percentage</th>\n",
       "      <th>body_top_percentage</th>\n",
       "      <th>body_percentage</th>\n",
       "      <th>...</th>\n",
       "      <th>PIERCING_PATTERN</th>\n",
       "      <th>BULLISH_ENGULFING</th>\n",
       "      <th>BULLISH_HARAMI</th>\n",
       "      <th>BEARISH_ENGULFING</th>\n",
       "      <th>BEARISH_HARAMI</th>\n",
       "      <th>THREE_WHITE_SOLDIERS</th>\n",
       "      <th>THREE_BLACK_CROWS</th>\n",
       "      <th>BULLISH_ABANDONED_BABY</th>\n",
       "      <th>BEARISH_ABANDONED_BABY</th>\n",
       "      <th>BULLISH_TRI_STAR</th>\n",
       "    </tr>\n",
       "  </thead>\n",
       "  <tbody>\n",
       "    <tr>\n",
       "      <th>6026</th>\n",
       "      <td>2013-12-23 09:00:00+00:00</td>\n",
       "      <td>1.53250</td>\n",
       "      <td>1.53273</td>\n",
       "      <td>1.53114</td>\n",
       "      <td>1.53123</td>\n",
       "      <td>1.53123</td>\n",
       "      <td>1.53250</td>\n",
       "      <td>5.660377</td>\n",
       "      <td>85.534591</td>\n",
       "      <td>79.874214</td>\n",
       "      <td>...</td>\n",
       "      <td>False</td>\n",
       "      <td>False</td>\n",
       "      <td>False</td>\n",
       "      <td>False</td>\n",
       "      <td>True</td>\n",
       "      <td>False</td>\n",
       "      <td>False</td>\n",
       "      <td>False</td>\n",
       "      <td>False</td>\n",
       "      <td>False</td>\n",
       "    </tr>\n",
       "    <tr>\n",
       "      <th>22460</th>\n",
       "      <td>2016-08-16 21:00:00+00:00</td>\n",
       "      <td>1.46540</td>\n",
       "      <td>1.46572</td>\n",
       "      <td>1.46421</td>\n",
       "      <td>1.46460</td>\n",
       "      <td>1.46460</td>\n",
       "      <td>1.46540</td>\n",
       "      <td>25.827815</td>\n",
       "      <td>78.807947</td>\n",
       "      <td>52.980132</td>\n",
       "      <td>...</td>\n",
       "      <td>False</td>\n",
       "      <td>False</td>\n",
       "      <td>False</td>\n",
       "      <td>False</td>\n",
       "      <td>False</td>\n",
       "      <td>False</td>\n",
       "      <td>False</td>\n",
       "      <td>False</td>\n",
       "      <td>False</td>\n",
       "      <td>False</td>\n",
       "    </tr>\n",
       "    <tr>\n",
       "      <th>24694</th>\n",
       "      <td>2016-12-27 01:00:00+00:00</td>\n",
       "      <td>1.45608</td>\n",
       "      <td>1.45608</td>\n",
       "      <td>1.45390</td>\n",
       "      <td>1.45398</td>\n",
       "      <td>1.45398</td>\n",
       "      <td>1.45608</td>\n",
       "      <td>3.669725</td>\n",
       "      <td>100.000000</td>\n",
       "      <td>96.330275</td>\n",
       "      <td>...</td>\n",
       "      <td>False</td>\n",
       "      <td>False</td>\n",
       "      <td>False</td>\n",
       "      <td>False</td>\n",
       "      <td>False</td>\n",
       "      <td>False</td>\n",
       "      <td>False</td>\n",
       "      <td>False</td>\n",
       "      <td>False</td>\n",
       "      <td>False</td>\n",
       "    </tr>\n",
       "    <tr>\n",
       "      <th>28856</th>\n",
       "      <td>2017-08-28 11:00:00+00:00</td>\n",
       "      <td>1.50338</td>\n",
       "      <td>1.50346</td>\n",
       "      <td>1.50074</td>\n",
       "      <td>1.50106</td>\n",
       "      <td>1.50106</td>\n",
       "      <td>1.50338</td>\n",
       "      <td>11.764706</td>\n",
       "      <td>97.058824</td>\n",
       "      <td>85.294118</td>\n",
       "      <td>...</td>\n",
       "      <td>False</td>\n",
       "      <td>False</td>\n",
       "      <td>False</td>\n",
       "      <td>False</td>\n",
       "      <td>False</td>\n",
       "      <td>False</td>\n",
       "      <td>False</td>\n",
       "      <td>False</td>\n",
       "      <td>False</td>\n",
       "      <td>False</td>\n",
       "    </tr>\n",
       "    <tr>\n",
       "      <th>30434</th>\n",
       "      <td>2017-11-28 04:00:00+00:00</td>\n",
       "      <td>1.56553</td>\n",
       "      <td>1.56580</td>\n",
       "      <td>1.56352</td>\n",
       "      <td>1.56408</td>\n",
       "      <td>1.56408</td>\n",
       "      <td>1.56553</td>\n",
       "      <td>24.561404</td>\n",
       "      <td>88.157895</td>\n",
       "      <td>63.596491</td>\n",
       "      <td>...</td>\n",
       "      <td>False</td>\n",
       "      <td>False</td>\n",
       "      <td>False</td>\n",
       "      <td>False</td>\n",
       "      <td>False</td>\n",
       "      <td>False</td>\n",
       "      <td>False</td>\n",
       "      <td>False</td>\n",
       "      <td>False</td>\n",
       "      <td>False</td>\n",
       "    </tr>\n",
       "    <tr>\n",
       "      <th>33325</th>\n",
       "      <td>2018-05-17 14:00:00+00:00</td>\n",
       "      <td>1.57148</td>\n",
       "      <td>1.57162</td>\n",
       "      <td>1.56854</td>\n",
       "      <td>1.56854</td>\n",
       "      <td>1.56854</td>\n",
       "      <td>1.57148</td>\n",
       "      <td>0.000000</td>\n",
       "      <td>95.454545</td>\n",
       "      <td>95.454545</td>\n",
       "      <td>...</td>\n",
       "      <td>False</td>\n",
       "      <td>False</td>\n",
       "      <td>False</td>\n",
       "      <td>False</td>\n",
       "      <td>False</td>\n",
       "      <td>False</td>\n",
       "      <td>False</td>\n",
       "      <td>False</td>\n",
       "      <td>False</td>\n",
       "      <td>False</td>\n",
       "    </tr>\n",
       "    <tr>\n",
       "      <th>33586</th>\n",
       "      <td>2018-06-01 11:00:00+00:00</td>\n",
       "      <td>1.55184</td>\n",
       "      <td>1.55214</td>\n",
       "      <td>1.54945</td>\n",
       "      <td>1.54963</td>\n",
       "      <td>1.54963</td>\n",
       "      <td>1.55184</td>\n",
       "      <td>6.691450</td>\n",
       "      <td>88.847584</td>\n",
       "      <td>82.156134</td>\n",
       "      <td>...</td>\n",
       "      <td>False</td>\n",
       "      <td>False</td>\n",
       "      <td>False</td>\n",
       "      <td>False</td>\n",
       "      <td>True</td>\n",
       "      <td>False</td>\n",
       "      <td>False</td>\n",
       "      <td>False</td>\n",
       "      <td>False</td>\n",
       "      <td>False</td>\n",
       "    </tr>\n",
       "    <tr>\n",
       "      <th>33763</th>\n",
       "      <td>2018-06-12 20:00:00+00:00</td>\n",
       "      <td>1.55185</td>\n",
       "      <td>1.55201</td>\n",
       "      <td>1.55060</td>\n",
       "      <td>1.55070</td>\n",
       "      <td>1.55070</td>\n",
       "      <td>1.55185</td>\n",
       "      <td>7.092199</td>\n",
       "      <td>88.652482</td>\n",
       "      <td>81.560284</td>\n",
       "      <td>...</td>\n",
       "      <td>False</td>\n",
       "      <td>False</td>\n",
       "      <td>False</td>\n",
       "      <td>False</td>\n",
       "      <td>True</td>\n",
       "      <td>False</td>\n",
       "      <td>False</td>\n",
       "      <td>False</td>\n",
       "      <td>False</td>\n",
       "      <td>False</td>\n",
       "    </tr>\n",
       "    <tr>\n",
       "      <th>35082</th>\n",
       "      <td>2018-08-28 19:00:00+00:00</td>\n",
       "      <td>1.59459</td>\n",
       "      <td>1.59464</td>\n",
       "      <td>1.59356</td>\n",
       "      <td>1.59371</td>\n",
       "      <td>1.59371</td>\n",
       "      <td>1.59459</td>\n",
       "      <td>13.888889</td>\n",
       "      <td>95.370370</td>\n",
       "      <td>81.481481</td>\n",
       "      <td>...</td>\n",
       "      <td>False</td>\n",
       "      <td>False</td>\n",
       "      <td>False</td>\n",
       "      <td>False</td>\n",
       "      <td>False</td>\n",
       "      <td>False</td>\n",
       "      <td>False</td>\n",
       "      <td>False</td>\n",
       "      <td>False</td>\n",
       "      <td>False</td>\n",
       "    </tr>\n",
       "    <tr>\n",
       "      <th>36948</th>\n",
       "      <td>2018-12-14 14:00:00+00:00</td>\n",
       "      <td>1.57598</td>\n",
       "      <td>1.57659</td>\n",
       "      <td>1.57521</td>\n",
       "      <td>1.57568</td>\n",
       "      <td>1.57568</td>\n",
       "      <td>1.57598</td>\n",
       "      <td>34.057971</td>\n",
       "      <td>55.797101</td>\n",
       "      <td>21.739130</td>\n",
       "      <td>...</td>\n",
       "      <td>False</td>\n",
       "      <td>False</td>\n",
       "      <td>False</td>\n",
       "      <td>False</td>\n",
       "      <td>False</td>\n",
       "      <td>False</td>\n",
       "      <td>False</td>\n",
       "      <td>False</td>\n",
       "      <td>False</td>\n",
       "      <td>False</td>\n",
       "    </tr>\n",
       "    <tr>\n",
       "      <th>40444</th>\n",
       "      <td>2019-07-10 05:00:00+00:00</td>\n",
       "      <td>1.61949</td>\n",
       "      <td>1.61970</td>\n",
       "      <td>1.61845</td>\n",
       "      <td>1.61899</td>\n",
       "      <td>1.61899</td>\n",
       "      <td>1.61949</td>\n",
       "      <td>43.200000</td>\n",
       "      <td>83.200000</td>\n",
       "      <td>40.000000</td>\n",
       "      <td>...</td>\n",
       "      <td>False</td>\n",
       "      <td>False</td>\n",
       "      <td>False</td>\n",
       "      <td>False</td>\n",
       "      <td>True</td>\n",
       "      <td>False</td>\n",
       "      <td>False</td>\n",
       "      <td>False</td>\n",
       "      <td>False</td>\n",
       "      <td>False</td>\n",
       "    </tr>\n",
       "    <tr>\n",
       "      <th>42574</th>\n",
       "      <td>2019-11-12 00:00:00+00:00</td>\n",
       "      <td>1.61126</td>\n",
       "      <td>1.61178</td>\n",
       "      <td>1.60990</td>\n",
       "      <td>1.60998</td>\n",
       "      <td>1.60998</td>\n",
       "      <td>1.61126</td>\n",
       "      <td>4.255319</td>\n",
       "      <td>72.340426</td>\n",
       "      <td>68.085106</td>\n",
       "      <td>...</td>\n",
       "      <td>False</td>\n",
       "      <td>False</td>\n",
       "      <td>False</td>\n",
       "      <td>False</td>\n",
       "      <td>False</td>\n",
       "      <td>False</td>\n",
       "      <td>False</td>\n",
       "      <td>False</td>\n",
       "      <td>False</td>\n",
       "      <td>False</td>\n",
       "    </tr>\n",
       "    <tr>\n",
       "      <th>42967</th>\n",
       "      <td>2019-12-04 09:00:00+00:00</td>\n",
       "      <td>1.62536</td>\n",
       "      <td>1.62566</td>\n",
       "      <td>1.62042</td>\n",
       "      <td>1.62154</td>\n",
       "      <td>1.62154</td>\n",
       "      <td>1.62536</td>\n",
       "      <td>21.374046</td>\n",
       "      <td>94.274809</td>\n",
       "      <td>72.900763</td>\n",
       "      <td>...</td>\n",
       "      <td>False</td>\n",
       "      <td>False</td>\n",
       "      <td>False</td>\n",
       "      <td>True</td>\n",
       "      <td>False</td>\n",
       "      <td>False</td>\n",
       "      <td>False</td>\n",
       "      <td>False</td>\n",
       "      <td>False</td>\n",
       "      <td>False</td>\n",
       "    </tr>\n",
       "    <tr>\n",
       "      <th>43525</th>\n",
       "      <td>2020-01-08 16:00:00+00:00</td>\n",
       "      <td>1.62210</td>\n",
       "      <td>1.62273</td>\n",
       "      <td>1.61697</td>\n",
       "      <td>1.61821</td>\n",
       "      <td>1.61821</td>\n",
       "      <td>1.62210</td>\n",
       "      <td>21.527778</td>\n",
       "      <td>89.062500</td>\n",
       "      <td>67.534722</td>\n",
       "      <td>...</td>\n",
       "      <td>False</td>\n",
       "      <td>False</td>\n",
       "      <td>False</td>\n",
       "      <td>False</td>\n",
       "      <td>False</td>\n",
       "      <td>False</td>\n",
       "      <td>False</td>\n",
       "      <td>False</td>\n",
       "      <td>False</td>\n",
       "      <td>False</td>\n",
       "    </tr>\n",
       "    <tr>\n",
       "      <th>44597</th>\n",
       "      <td>2020-03-11 07:00:00+00:00</td>\n",
       "      <td>1.74678</td>\n",
       "      <td>1.74764</td>\n",
       "      <td>1.73682</td>\n",
       "      <td>1.73767</td>\n",
       "      <td>1.73767</td>\n",
       "      <td>1.74678</td>\n",
       "      <td>7.855823</td>\n",
       "      <td>92.051756</td>\n",
       "      <td>84.195933</td>\n",
       "      <td>...</td>\n",
       "      <td>False</td>\n",
       "      <td>False</td>\n",
       "      <td>False</td>\n",
       "      <td>True</td>\n",
       "      <td>False</td>\n",
       "      <td>False</td>\n",
       "      <td>False</td>\n",
       "      <td>False</td>\n",
       "      <td>False</td>\n",
       "      <td>False</td>\n",
       "    </tr>\n",
       "    <tr>\n",
       "      <th>48586</th>\n",
       "      <td>2020-10-29 13:00:00+00:00</td>\n",
       "      <td>1.66626</td>\n",
       "      <td>1.66864</td>\n",
       "      <td>1.66283</td>\n",
       "      <td>1.66316</td>\n",
       "      <td>1.66316</td>\n",
       "      <td>1.66626</td>\n",
       "      <td>5.679862</td>\n",
       "      <td>59.036145</td>\n",
       "      <td>53.356282</td>\n",
       "      <td>...</td>\n",
       "      <td>False</td>\n",
       "      <td>False</td>\n",
       "      <td>False</td>\n",
       "      <td>False</td>\n",
       "      <td>True</td>\n",
       "      <td>False</td>\n",
       "      <td>False</td>\n",
       "      <td>False</td>\n",
       "      <td>False</td>\n",
       "      <td>False</td>\n",
       "    </tr>\n",
       "    <tr>\n",
       "      <th>48923</th>\n",
       "      <td>2020-11-18 15:00:00+00:00</td>\n",
       "      <td>1.62405</td>\n",
       "      <td>1.62422</td>\n",
       "      <td>1.62096</td>\n",
       "      <td>1.62128</td>\n",
       "      <td>1.62128</td>\n",
       "      <td>1.62405</td>\n",
       "      <td>9.815951</td>\n",
       "      <td>94.785276</td>\n",
       "      <td>84.969325</td>\n",
       "      <td>...</td>\n",
       "      <td>False</td>\n",
       "      <td>False</td>\n",
       "      <td>False</td>\n",
       "      <td>False</td>\n",
       "      <td>False</td>\n",
       "      <td>False</td>\n",
       "      <td>False</td>\n",
       "      <td>False</td>\n",
       "      <td>False</td>\n",
       "      <td>False</td>\n",
       "    </tr>\n",
       "    <tr>\n",
       "      <th>49642</th>\n",
       "      <td>2020-12-31 14:00:00+00:00</td>\n",
       "      <td>1.58901</td>\n",
       "      <td>1.58906</td>\n",
       "      <td>1.58552</td>\n",
       "      <td>1.58709</td>\n",
       "      <td>1.58709</td>\n",
       "      <td>1.58901</td>\n",
       "      <td>44.350282</td>\n",
       "      <td>98.587571</td>\n",
       "      <td>54.237288</td>\n",
       "      <td>...</td>\n",
       "      <td>False</td>\n",
       "      <td>False</td>\n",
       "      <td>False</td>\n",
       "      <td>False</td>\n",
       "      <td>False</td>\n",
       "      <td>False</td>\n",
       "      <td>False</td>\n",
       "      <td>False</td>\n",
       "      <td>False</td>\n",
       "      <td>False</td>\n",
       "    </tr>\n",
       "    <tr>\n",
       "      <th>60536</th>\n",
       "      <td>2022-09-29 19:00:00+00:00</td>\n",
       "      <td>1.51221</td>\n",
       "      <td>1.51221</td>\n",
       "      <td>1.50881</td>\n",
       "      <td>1.50896</td>\n",
       "      <td>1.50896</td>\n",
       "      <td>1.51221</td>\n",
       "      <td>4.411765</td>\n",
       "      <td>100.000000</td>\n",
       "      <td>95.588235</td>\n",
       "      <td>...</td>\n",
       "      <td>False</td>\n",
       "      <td>False</td>\n",
       "      <td>False</td>\n",
       "      <td>False</td>\n",
       "      <td>False</td>\n",
       "      <td>False</td>\n",
       "      <td>False</td>\n",
       "      <td>False</td>\n",
       "      <td>False</td>\n",
       "      <td>False</td>\n",
       "    </tr>\n",
       "    <tr>\n",
       "      <th>61922</th>\n",
       "      <td>2022-12-20 14:00:00+00:00</td>\n",
       "      <td>1.59602</td>\n",
       "      <td>1.59688</td>\n",
       "      <td>1.59280</td>\n",
       "      <td>1.59462</td>\n",
       "      <td>1.59462</td>\n",
       "      <td>1.59602</td>\n",
       "      <td>44.607843</td>\n",
       "      <td>78.921569</td>\n",
       "      <td>34.313725</td>\n",
       "      <td>...</td>\n",
       "      <td>False</td>\n",
       "      <td>False</td>\n",
       "      <td>False</td>\n",
       "      <td>False</td>\n",
       "      <td>False</td>\n",
       "      <td>False</td>\n",
       "      <td>False</td>\n",
       "      <td>False</td>\n",
       "      <td>False</td>\n",
       "      <td>False</td>\n",
       "    </tr>\n",
       "  </tbody>\n",
       "</table>\n",
       "<p>20 rows × 45 columns</p>\n",
       "</div>"
      ],
      "text/plain": [
       "                            time    mid_o    mid_h    mid_l    mid_c  \\\n",
       "6026   2013-12-23 09:00:00+00:00  1.53250  1.53273  1.53114  1.53123   \n",
       "22460  2016-08-16 21:00:00+00:00  1.46540  1.46572  1.46421  1.46460   \n",
       "24694  2016-12-27 01:00:00+00:00  1.45608  1.45608  1.45390  1.45398   \n",
       "28856  2017-08-28 11:00:00+00:00  1.50338  1.50346  1.50074  1.50106   \n",
       "30434  2017-11-28 04:00:00+00:00  1.56553  1.56580  1.56352  1.56408   \n",
       "33325  2018-05-17 14:00:00+00:00  1.57148  1.57162  1.56854  1.56854   \n",
       "33586  2018-06-01 11:00:00+00:00  1.55184  1.55214  1.54945  1.54963   \n",
       "33763  2018-06-12 20:00:00+00:00  1.55185  1.55201  1.55060  1.55070   \n",
       "35082  2018-08-28 19:00:00+00:00  1.59459  1.59464  1.59356  1.59371   \n",
       "36948  2018-12-14 14:00:00+00:00  1.57598  1.57659  1.57521  1.57568   \n",
       "40444  2019-07-10 05:00:00+00:00  1.61949  1.61970  1.61845  1.61899   \n",
       "42574  2019-11-12 00:00:00+00:00  1.61126  1.61178  1.60990  1.60998   \n",
       "42967  2019-12-04 09:00:00+00:00  1.62536  1.62566  1.62042  1.62154   \n",
       "43525  2020-01-08 16:00:00+00:00  1.62210  1.62273  1.61697  1.61821   \n",
       "44597  2020-03-11 07:00:00+00:00  1.74678  1.74764  1.73682  1.73767   \n",
       "48586  2020-10-29 13:00:00+00:00  1.66626  1.66864  1.66283  1.66316   \n",
       "48923  2020-11-18 15:00:00+00:00  1.62405  1.62422  1.62096  1.62128   \n",
       "49642  2020-12-31 14:00:00+00:00  1.58901  1.58906  1.58552  1.58709   \n",
       "60536  2022-09-29 19:00:00+00:00  1.51221  1.51221  1.50881  1.50896   \n",
       "61922  2022-12-20 14:00:00+00:00  1.59602  1.59688  1.59280  1.59462   \n",
       "\n",
       "       body_lower  body_upper  body_bottom_percentage  body_top_percentage  \\\n",
       "6026      1.53123     1.53250                5.660377            85.534591   \n",
       "22460     1.46460     1.46540               25.827815            78.807947   \n",
       "24694     1.45398     1.45608                3.669725           100.000000   \n",
       "28856     1.50106     1.50338               11.764706            97.058824   \n",
       "30434     1.56408     1.56553               24.561404            88.157895   \n",
       "33325     1.56854     1.57148                0.000000            95.454545   \n",
       "33586     1.54963     1.55184                6.691450            88.847584   \n",
       "33763     1.55070     1.55185                7.092199            88.652482   \n",
       "35082     1.59371     1.59459               13.888889            95.370370   \n",
       "36948     1.57568     1.57598               34.057971            55.797101   \n",
       "40444     1.61899     1.61949               43.200000            83.200000   \n",
       "42574     1.60998     1.61126                4.255319            72.340426   \n",
       "42967     1.62154     1.62536               21.374046            94.274809   \n",
       "43525     1.61821     1.62210               21.527778            89.062500   \n",
       "44597     1.73767     1.74678                7.855823            92.051756   \n",
       "48586     1.66316     1.66626                5.679862            59.036145   \n",
       "48923     1.62128     1.62405                9.815951            94.785276   \n",
       "49642     1.58709     1.58901               44.350282            98.587571   \n",
       "60536     1.50896     1.51221                4.411765           100.000000   \n",
       "61922     1.59462     1.59602               44.607843            78.921569   \n",
       "\n",
       "       body_percentage  ...  PIERCING_PATTERN  BULLISH_ENGULFING  \\\n",
       "6026         79.874214  ...             False              False   \n",
       "22460        52.980132  ...             False              False   \n",
       "24694        96.330275  ...             False              False   \n",
       "28856        85.294118  ...             False              False   \n",
       "30434        63.596491  ...             False              False   \n",
       "33325        95.454545  ...             False              False   \n",
       "33586        82.156134  ...             False              False   \n",
       "33763        81.560284  ...             False              False   \n",
       "35082        81.481481  ...             False              False   \n",
       "36948        21.739130  ...             False              False   \n",
       "40444        40.000000  ...             False              False   \n",
       "42574        68.085106  ...             False              False   \n",
       "42967        72.900763  ...             False              False   \n",
       "43525        67.534722  ...             False              False   \n",
       "44597        84.195933  ...             False              False   \n",
       "48586        53.356282  ...             False              False   \n",
       "48923        84.969325  ...             False              False   \n",
       "49642        54.237288  ...             False              False   \n",
       "60536        95.588235  ...             False              False   \n",
       "61922        34.313725  ...             False              False   \n",
       "\n",
       "       BULLISH_HARAMI  BEARISH_ENGULFING  BEARISH_HARAMI  \\\n",
       "6026            False              False            True   \n",
       "22460           False              False           False   \n",
       "24694           False              False           False   \n",
       "28856           False              False           False   \n",
       "30434           False              False           False   \n",
       "33325           False              False           False   \n",
       "33586           False              False            True   \n",
       "33763           False              False            True   \n",
       "35082           False              False           False   \n",
       "36948           False              False           False   \n",
       "40444           False              False            True   \n",
       "42574           False              False           False   \n",
       "42967           False               True           False   \n",
       "43525           False              False           False   \n",
       "44597           False               True           False   \n",
       "48586           False              False            True   \n",
       "48923           False              False           False   \n",
       "49642           False              False           False   \n",
       "60536           False              False           False   \n",
       "61922           False              False           False   \n",
       "\n",
       "       THREE_WHITE_SOLDIERS  THREE_BLACK_CROWS  BULLISH_ABANDONED_BABY  \\\n",
       "6026                  False              False                   False   \n",
       "22460                 False              False                   False   \n",
       "24694                 False              False                   False   \n",
       "28856                 False              False                   False   \n",
       "30434                 False              False                   False   \n",
       "33325                 False              False                   False   \n",
       "33586                 False              False                   False   \n",
       "33763                 False              False                   False   \n",
       "35082                 False              False                   False   \n",
       "36948                 False              False                   False   \n",
       "40444                 False              False                   False   \n",
       "42574                 False              False                   False   \n",
       "42967                 False              False                   False   \n",
       "43525                 False              False                   False   \n",
       "44597                 False              False                   False   \n",
       "48586                 False              False                   False   \n",
       "48923                 False              False                   False   \n",
       "49642                 False              False                   False   \n",
       "60536                 False              False                   False   \n",
       "61922                 False              False                   False   \n",
       "\n",
       "       BEARISH_ABANDONED_BABY  BULLISH_TRI_STAR  \n",
       "6026                    False             False  \n",
       "22460                   False             False  \n",
       "24694                   False             False  \n",
       "28856                   False             False  \n",
       "30434                   False             False  \n",
       "33325                   False             False  \n",
       "33586                   False             False  \n",
       "33763                   False             False  \n",
       "35082                   False             False  \n",
       "36948                   False             False  \n",
       "40444                   False             False  \n",
       "42574                   False             False  \n",
       "42967                   False             False  \n",
       "43525                   False             False  \n",
       "44597                   False             False  \n",
       "48586                   False             False  \n",
       "48923                   False             False  \n",
       "49642                   False             False  \n",
       "60536                   False             False  \n",
       "61922                   False             False  \n",
       "\n",
       "[20 rows x 45 columns]"
      ]
     },
     "execution_count": 9,
     "metadata": {},
     "output_type": "execute_result"
    }
   ],
   "source": [
    "df_an[df_an['EVENING_STAR'] == True]"
   ]
  },
  {
   "cell_type": "code",
   "execution_count": 10,
   "metadata": {},
   "outputs": [
    {
     "data": {
      "application/vnd.plotly.v1+json": {
       "config": {
        "plotlyServerURL": "https://plot.ly"
       },
       "data": [
        {
         "close": [
          1.53702,
          1.5379,
          1.5388,
          1.53942,
          1.54015,
          1.53879,
          1.53724,
          1.5362,
          1.53359,
          1.53326,
          1.53286,
          1.5325,
          1.53308,
          1.53275,
          1.53247,
          1.53264,
          1.53308,
          1.53315,
          1.53358,
          1.53235,
          1.53242,
          1.52918,
          1.52942,
          1.53028,
          1.53234,
          1.5325,
          1.53123,
          1.53076,
          1.53054,
          1.53033,
          1.53292,
          1.53258,
          1.53294,
          1.53271,
          1.53247,
          1.53286,
          1.53231,
          1.53228,
          1.53302,
          1.53486,
          1.53366,
          1.53466,
          1.53496,
          1.53481,
          1.53574,
          1.53331,
          1.5348,
          1.5362,
          1.53546,
          1.53336,
          1.53245,
          1.53259,
          1.53298,
          1.53266,
          1.53264,
          1.5327,
          1.5312,
          1.5333,
          1.53296,
          1.53292,
          1.53334,
          1.5338,
          1.535,
          1.53772,
          1.53946,
          1.53811,
          1.53873,
          1.53974,
          1.54054,
          1.54116,
          1.54048,
          1.54004,
          1.54028,
          1.54093,
          1.53984,
          1.54054,
          1.54088,
          1.54131,
          1.541,
          1.54051,
          1.54094,
          1.53991,
          1.53894,
          1.53913,
          1.54196,
          1.54122,
          1.54208,
          1.54321,
          1.5449,
          1.54614,
          1.54258,
          1.54377,
          1.54378,
          1.54295,
          1.54556,
          1.54766,
          1.54877,
          1.55523,
          1.5535,
          1.55032
         ],
         "decreasing": {
          "fillcolor": "#ff0000",
          "line": {
           "color": "#990000"
          }
         },
         "high": [
          1.53798,
          1.53828,
          1.53924,
          1.53992,
          1.54039,
          1.54115,
          1.54052,
          1.5384,
          1.53812,
          1.5342,
          1.53458,
          1.53376,
          1.53324,
          1.53316,
          1.53316,
          1.53351,
          1.53341,
          1.53394,
          1.53422,
          1.53358,
          1.53268,
          1.53291,
          1.53058,
          1.53042,
          1.5324,
          1.53281,
          1.53273,
          1.53249,
          1.53188,
          1.5314,
          1.53292,
          1.5349,
          1.53494,
          1.53469,
          1.53376,
          1.53331,
          1.53353,
          1.5327,
          1.53311,
          1.53487,
          1.53489,
          1.53499,
          1.53516,
          1.53576,
          1.5363,
          1.5362,
          1.53536,
          1.5362,
          1.53652,
          1.5355,
          1.53396,
          1.5331,
          1.53385,
          1.53358,
          1.5334,
          1.53287,
          1.53338,
          1.5334,
          1.53378,
          1.53295,
          1.53366,
          1.5338,
          1.53515,
          1.53896,
          1.5396,
          1.54035,
          1.53885,
          1.53992,
          1.54085,
          1.5415,
          1.54138,
          1.54137,
          1.54093,
          1.54116,
          1.54116,
          1.54197,
          1.54112,
          1.54306,
          1.54164,
          1.54139,
          1.5411,
          1.54108,
          1.54036,
          1.53962,
          1.54196,
          1.54193,
          1.54264,
          1.54442,
          1.54527,
          1.54661,
          1.54619,
          1.54382,
          1.5453,
          1.54424,
          1.5474,
          1.54771,
          1.55004,
          1.55982,
          1.55526,
          1.55406
         ],
         "hovertext": "Candlestick",
         "increasing": {
          "fillcolor": "#00cc00",
          "line": {
           "color": "#006600"
          }
         },
         "line": {
          "width": 1
         },
         "low": [
          1.53442,
          1.53647,
          1.53692,
          1.5384,
          1.53861,
          1.53868,
          1.53521,
          1.53262,
          1.53314,
          1.53148,
          1.53239,
          1.5325,
          1.53204,
          1.5322,
          1.53057,
          1.53167,
          1.53242,
          1.53196,
          1.53282,
          1.53174,
          1.53146,
          1.52912,
          1.52916,
          1.52944,
          1.53022,
          1.53082,
          1.53114,
          1.53069,
          1.53014,
          1.52874,
          1.5302,
          1.53158,
          1.53219,
          1.53232,
          1.53241,
          1.53217,
          1.53196,
          1.53173,
          1.53182,
          1.5317,
          1.5329,
          1.53312,
          1.53405,
          1.53446,
          1.53434,
          1.53331,
          1.53331,
          1.53472,
          1.53518,
          1.53332,
          1.5313,
          1.5311,
          1.5324,
          1.5321,
          1.53182,
          1.5312,
          1.53112,
          1.53115,
          1.5323,
          1.53292,
          1.53248,
          1.53248,
          1.5329,
          1.53501,
          1.53766,
          1.53798,
          1.53776,
          1.5386,
          1.53894,
          1.53936,
          1.53934,
          1.53881,
          1.53974,
          1.53939,
          1.5397,
          1.5396,
          1.54,
          1.54058,
          1.54026,
          1.53998,
          1.54017,
          1.53956,
          1.53846,
          1.53774,
          1.53839,
          1.53957,
          1.54034,
          1.542,
          1.5432,
          1.54487,
          1.54258,
          1.54168,
          1.54216,
          1.5415,
          1.5429,
          1.5453,
          1.54708,
          1.5484,
          1.55169,
          1.54988
         ],
         "name": "Candlestick",
         "opacity": 1,
         "open": [
          1.53476,
          1.53705,
          1.5379,
          1.5388,
          1.53943,
          1.54016,
          1.53878,
          1.53723,
          1.5362,
          1.53356,
          1.53332,
          1.53286,
          1.5325,
          1.53308,
          1.53276,
          1.53246,
          1.53264,
          1.53307,
          1.53314,
          1.53358,
          1.53234,
          1.53243,
          1.5292,
          1.52944,
          1.53026,
          1.53235,
          1.5325,
          1.53126,
          1.53078,
          1.53052,
          1.53034,
          1.53292,
          1.53258,
          1.53297,
          1.53272,
          1.53252,
          1.53286,
          1.53228,
          1.53227,
          1.53302,
          1.53482,
          1.53368,
          1.53466,
          1.53496,
          1.53481,
          1.53574,
          1.53331,
          1.53481,
          1.53619,
          1.53547,
          1.53336,
          1.53246,
          1.53262,
          1.53298,
          1.53265,
          1.53264,
          1.5327,
          1.53122,
          1.53332,
          1.53294,
          1.5329,
          1.53333,
          1.53384,
          1.53502,
          1.53772,
          1.53948,
          1.5381,
          1.53874,
          1.53972,
          1.54052,
          1.5412,
          1.54048,
          1.54005,
          1.54028,
          1.54094,
          1.53985,
          1.54054,
          1.54084,
          1.5413,
          1.541,
          1.5405,
          1.54094,
          1.53989,
          1.53891,
          1.53912,
          1.54193,
          1.54124,
          1.54214,
          1.54322,
          1.5449,
          1.54615,
          1.54258,
          1.54378,
          1.5438,
          1.54294,
          1.5456,
          1.54764,
          1.54878,
          1.5552,
          1.55351
         ],
         "type": "candlestick",
         "x": [
          "s2013-12-20 07:00",
          "s2013-12-20 08:00",
          "s2013-12-20 09:00",
          "s2013-12-20 10:00",
          "s2013-12-20 11:00",
          "s2013-12-20 12:00",
          "s2013-12-20 13:00",
          "s2013-12-20 14:00",
          "s2013-12-20 15:00",
          "s2013-12-20 16:00",
          "s2013-12-20 17:00",
          "s2013-12-20 18:00",
          "s2013-12-20 19:00",
          "s2013-12-20 20:00",
          "s2013-12-20 21:00",
          "s2013-12-22 22:00",
          "s2013-12-22 23:00",
          "s2013-12-23 00:00",
          "s2013-12-23 01:00",
          "s2013-12-23 02:00",
          "s2013-12-23 03:00",
          "s2013-12-23 04:00",
          "s2013-12-23 05:00",
          "s2013-12-23 06:00",
          "s2013-12-23 07:00",
          "s2013-12-23 08:00",
          "s2013-12-23 09:00",
          "s2013-12-23 10:00",
          "s2013-12-23 11:00",
          "s2013-12-23 12:00",
          "s2013-12-23 13:00",
          "s2013-12-23 14:00",
          "s2013-12-23 15:00",
          "s2013-12-23 16:00",
          "s2013-12-23 17:00",
          "s2013-12-23 18:00",
          "s2013-12-23 19:00",
          "s2013-12-23 20:00",
          "s2013-12-23 21:00",
          "s2013-12-23 22:00",
          "s2013-12-23 23:00",
          "s2013-12-24 00:00",
          "s2013-12-24 01:00",
          "s2013-12-24 02:00",
          "s2013-12-24 03:00",
          "s2013-12-24 04:00",
          "s2013-12-24 05:00",
          "s2013-12-24 06:00",
          "s2013-12-24 07:00",
          "s2013-12-24 08:00",
          "s2013-12-24 09:00",
          "s2013-12-24 10:00",
          "s2013-12-24 11:00",
          "s2013-12-24 12:00",
          "s2013-12-24 13:00",
          "s2013-12-24 14:00",
          "s2013-12-24 15:00",
          "s2013-12-24 16:00",
          "s2013-12-24 17:00",
          "s2013-12-24 18:00",
          "s2013-12-25 22:00",
          "s2013-12-25 23:00",
          "s2013-12-26 00:00",
          "s2013-12-26 01:00",
          "s2013-12-26 02:00",
          "s2013-12-26 03:00",
          "s2013-12-26 04:00",
          "s2013-12-26 05:00",
          "s2013-12-26 06:00",
          "s2013-12-26 07:00",
          "s2013-12-26 08:00",
          "s2013-12-26 09:00",
          "s2013-12-26 10:00",
          "s2013-12-26 11:00",
          "s2013-12-26 12:00",
          "s2013-12-26 13:00",
          "s2013-12-26 14:00",
          "s2013-12-26 15:00",
          "s2013-12-26 16:00",
          "s2013-12-26 17:00",
          "s2013-12-26 18:00",
          "s2013-12-26 19:00",
          "s2013-12-26 20:00",
          "s2013-12-26 21:00",
          "s2013-12-26 22:00",
          "s2013-12-26 23:00",
          "s2013-12-27 00:00",
          "s2013-12-27 01:00",
          "s2013-12-27 02:00",
          "s2013-12-27 03:00",
          "s2013-12-27 04:00",
          "s2013-12-27 05:00",
          "s2013-12-27 06:00",
          "s2013-12-27 07:00",
          "s2013-12-27 08:00",
          "s2013-12-27 09:00",
          "s2013-12-27 10:00",
          "s2013-12-27 11:00",
          "s2013-12-27 12:00",
          "s2013-12-27 13:00"
         ]
        },
        {
         "close": [
          1.53123
         ],
         "decreasing": {
          "fillcolor": "#0066FF",
          "line": {
           "color": "#0066FF"
          }
         },
         "high": [
          1.53273
         ],
         "increasing": {
          "fillcolor": "#0066FF",
          "line": {
           "color": "#0066FF"
          }
         },
         "line": {
          "width": 1
         },
         "low": [
          1.53114
         ],
         "opacity": 1,
         "open": [
          1.5325
         ],
         "type": "candlestick",
         "x": [
          "s2013-12-23 09:00"
         ]
        }
       ],
       "layout": {
        "font": {
         "color": "white",
         "size": 12
        },
        "height": 800,
        "legend": {
         "x": 0.01,
         "xanchor": "left",
         "y": 0.99,
         "yanchor": "top"
        },
        "margin": {
         "b": 10,
         "l": 10,
         "r": 10,
         "t": 10
        },
        "paper_bgcolor": "black",
        "plot_bgcolor": "black",
        "template": {
         "data": {
          "bar": [
           {
            "error_x": {
             "color": "#2a3f5f"
            },
            "error_y": {
             "color": "#2a3f5f"
            },
            "marker": {
             "line": {
              "color": "#E5ECF6",
              "width": 0.5
             },
             "pattern": {
              "fillmode": "overlay",
              "size": 10,
              "solidity": 0.2
             }
            },
            "type": "bar"
           }
          ],
          "barpolar": [
           {
            "marker": {
             "line": {
              "color": "#E5ECF6",
              "width": 0.5
             },
             "pattern": {
              "fillmode": "overlay",
              "size": 10,
              "solidity": 0.2
             }
            },
            "type": "barpolar"
           }
          ],
          "carpet": [
           {
            "aaxis": {
             "endlinecolor": "#2a3f5f",
             "gridcolor": "white",
             "linecolor": "white",
             "minorgridcolor": "white",
             "startlinecolor": "#2a3f5f"
            },
            "baxis": {
             "endlinecolor": "#2a3f5f",
             "gridcolor": "white",
             "linecolor": "white",
             "minorgridcolor": "white",
             "startlinecolor": "#2a3f5f"
            },
            "type": "carpet"
           }
          ],
          "choropleth": [
           {
            "colorbar": {
             "outlinewidth": 0,
             "ticks": ""
            },
            "type": "choropleth"
           }
          ],
          "contour": [
           {
            "colorbar": {
             "outlinewidth": 0,
             "ticks": ""
            },
            "colorscale": [
             [
              0,
              "#0d0887"
             ],
             [
              0.1111111111111111,
              "#46039f"
             ],
             [
              0.2222222222222222,
              "#7201a8"
             ],
             [
              0.3333333333333333,
              "#9c179e"
             ],
             [
              0.4444444444444444,
              "#bd3786"
             ],
             [
              0.5555555555555556,
              "#d8576b"
             ],
             [
              0.6666666666666666,
              "#ed7953"
             ],
             [
              0.7777777777777778,
              "#fb9f3a"
             ],
             [
              0.8888888888888888,
              "#fdca26"
             ],
             [
              1,
              "#f0f921"
             ]
            ],
            "type": "contour"
           }
          ],
          "contourcarpet": [
           {
            "colorbar": {
             "outlinewidth": 0,
             "ticks": ""
            },
            "type": "contourcarpet"
           }
          ],
          "heatmap": [
           {
            "colorbar": {
             "outlinewidth": 0,
             "ticks": ""
            },
            "colorscale": [
             [
              0,
              "#0d0887"
             ],
             [
              0.1111111111111111,
              "#46039f"
             ],
             [
              0.2222222222222222,
              "#7201a8"
             ],
             [
              0.3333333333333333,
              "#9c179e"
             ],
             [
              0.4444444444444444,
              "#bd3786"
             ],
             [
              0.5555555555555556,
              "#d8576b"
             ],
             [
              0.6666666666666666,
              "#ed7953"
             ],
             [
              0.7777777777777778,
              "#fb9f3a"
             ],
             [
              0.8888888888888888,
              "#fdca26"
             ],
             [
              1,
              "#f0f921"
             ]
            ],
            "type": "heatmap"
           }
          ],
          "heatmapgl": [
           {
            "colorbar": {
             "outlinewidth": 0,
             "ticks": ""
            },
            "colorscale": [
             [
              0,
              "#0d0887"
             ],
             [
              0.1111111111111111,
              "#46039f"
             ],
             [
              0.2222222222222222,
              "#7201a8"
             ],
             [
              0.3333333333333333,
              "#9c179e"
             ],
             [
              0.4444444444444444,
              "#bd3786"
             ],
             [
              0.5555555555555556,
              "#d8576b"
             ],
             [
              0.6666666666666666,
              "#ed7953"
             ],
             [
              0.7777777777777778,
              "#fb9f3a"
             ],
             [
              0.8888888888888888,
              "#fdca26"
             ],
             [
              1,
              "#f0f921"
             ]
            ],
            "type": "heatmapgl"
           }
          ],
          "histogram": [
           {
            "marker": {
             "pattern": {
              "fillmode": "overlay",
              "size": 10,
              "solidity": 0.2
             }
            },
            "type": "histogram"
           }
          ],
          "histogram2d": [
           {
            "colorbar": {
             "outlinewidth": 0,
             "ticks": ""
            },
            "colorscale": [
             [
              0,
              "#0d0887"
             ],
             [
              0.1111111111111111,
              "#46039f"
             ],
             [
              0.2222222222222222,
              "#7201a8"
             ],
             [
              0.3333333333333333,
              "#9c179e"
             ],
             [
              0.4444444444444444,
              "#bd3786"
             ],
             [
              0.5555555555555556,
              "#d8576b"
             ],
             [
              0.6666666666666666,
              "#ed7953"
             ],
             [
              0.7777777777777778,
              "#fb9f3a"
             ],
             [
              0.8888888888888888,
              "#fdca26"
             ],
             [
              1,
              "#f0f921"
             ]
            ],
            "type": "histogram2d"
           }
          ],
          "histogram2dcontour": [
           {
            "colorbar": {
             "outlinewidth": 0,
             "ticks": ""
            },
            "colorscale": [
             [
              0,
              "#0d0887"
             ],
             [
              0.1111111111111111,
              "#46039f"
             ],
             [
              0.2222222222222222,
              "#7201a8"
             ],
             [
              0.3333333333333333,
              "#9c179e"
             ],
             [
              0.4444444444444444,
              "#bd3786"
             ],
             [
              0.5555555555555556,
              "#d8576b"
             ],
             [
              0.6666666666666666,
              "#ed7953"
             ],
             [
              0.7777777777777778,
              "#fb9f3a"
             ],
             [
              0.8888888888888888,
              "#fdca26"
             ],
             [
              1,
              "#f0f921"
             ]
            ],
            "type": "histogram2dcontour"
           }
          ],
          "mesh3d": [
           {
            "colorbar": {
             "outlinewidth": 0,
             "ticks": ""
            },
            "type": "mesh3d"
           }
          ],
          "parcoords": [
           {
            "line": {
             "colorbar": {
              "outlinewidth": 0,
              "ticks": ""
             }
            },
            "type": "parcoords"
           }
          ],
          "pie": [
           {
            "automargin": true,
            "type": "pie"
           }
          ],
          "scatter": [
           {
            "fillpattern": {
             "fillmode": "overlay",
             "size": 10,
             "solidity": 0.2
            },
            "type": "scatter"
           }
          ],
          "scatter3d": [
           {
            "line": {
             "colorbar": {
              "outlinewidth": 0,
              "ticks": ""
             }
            },
            "marker": {
             "colorbar": {
              "outlinewidth": 0,
              "ticks": ""
             }
            },
            "type": "scatter3d"
           }
          ],
          "scattercarpet": [
           {
            "marker": {
             "colorbar": {
              "outlinewidth": 0,
              "ticks": ""
             }
            },
            "type": "scattercarpet"
           }
          ],
          "scattergeo": [
           {
            "marker": {
             "colorbar": {
              "outlinewidth": 0,
              "ticks": ""
             }
            },
            "type": "scattergeo"
           }
          ],
          "scattergl": [
           {
            "marker": {
             "colorbar": {
              "outlinewidth": 0,
              "ticks": ""
             }
            },
            "type": "scattergl"
           }
          ],
          "scattermapbox": [
           {
            "marker": {
             "colorbar": {
              "outlinewidth": 0,
              "ticks": ""
             }
            },
            "type": "scattermapbox"
           }
          ],
          "scatterpolar": [
           {
            "marker": {
             "colorbar": {
              "outlinewidth": 0,
              "ticks": ""
             }
            },
            "type": "scatterpolar"
           }
          ],
          "scatterpolargl": [
           {
            "marker": {
             "colorbar": {
              "outlinewidth": 0,
              "ticks": ""
             }
            },
            "type": "scatterpolargl"
           }
          ],
          "scatterternary": [
           {
            "marker": {
             "colorbar": {
              "outlinewidth": 0,
              "ticks": ""
             }
            },
            "type": "scatterternary"
           }
          ],
          "surface": [
           {
            "colorbar": {
             "outlinewidth": 0,
             "ticks": ""
            },
            "colorscale": [
             [
              0,
              "#0d0887"
             ],
             [
              0.1111111111111111,
              "#46039f"
             ],
             [
              0.2222222222222222,
              "#7201a8"
             ],
             [
              0.3333333333333333,
              "#9c179e"
             ],
             [
              0.4444444444444444,
              "#bd3786"
             ],
             [
              0.5555555555555556,
              "#d8576b"
             ],
             [
              0.6666666666666666,
              "#ed7953"
             ],
             [
              0.7777777777777778,
              "#fb9f3a"
             ],
             [
              0.8888888888888888,
              "#fdca26"
             ],
             [
              1,
              "#f0f921"
             ]
            ],
            "type": "surface"
           }
          ],
          "table": [
           {
            "cells": {
             "fill": {
              "color": "#EBF0F8"
             },
             "line": {
              "color": "white"
             }
            },
            "header": {
             "fill": {
              "color": "#C8D4E3"
             },
             "line": {
              "color": "white"
             }
            },
            "type": "table"
           }
          ]
         },
         "layout": {
          "annotationdefaults": {
           "arrowcolor": "#2a3f5f",
           "arrowhead": 0,
           "arrowwidth": 1
          },
          "autotypenumbers": "strict",
          "coloraxis": {
           "colorbar": {
            "outlinewidth": 0,
            "ticks": ""
           }
          },
          "colorscale": {
           "diverging": [
            [
             0,
             "#8e0152"
            ],
            [
             0.1,
             "#c51b7d"
            ],
            [
             0.2,
             "#de77ae"
            ],
            [
             0.3,
             "#f1b6da"
            ],
            [
             0.4,
             "#fde0ef"
            ],
            [
             0.5,
             "#f7f7f7"
            ],
            [
             0.6,
             "#e6f5d0"
            ],
            [
             0.7,
             "#b8e186"
            ],
            [
             0.8,
             "#7fbc41"
            ],
            [
             0.9,
             "#4d9221"
            ],
            [
             1,
             "#276419"
            ]
           ],
           "sequential": [
            [
             0,
             "#0d0887"
            ],
            [
             0.1111111111111111,
             "#46039f"
            ],
            [
             0.2222222222222222,
             "#7201a8"
            ],
            [
             0.3333333333333333,
             "#9c179e"
            ],
            [
             0.4444444444444444,
             "#bd3786"
            ],
            [
             0.5555555555555556,
             "#d8576b"
            ],
            [
             0.6666666666666666,
             "#ed7953"
            ],
            [
             0.7777777777777778,
             "#fb9f3a"
            ],
            [
             0.8888888888888888,
             "#fdca26"
            ],
            [
             1,
             "#f0f921"
            ]
           ],
           "sequentialminus": [
            [
             0,
             "#0d0887"
            ],
            [
             0.1111111111111111,
             "#46039f"
            ],
            [
             0.2222222222222222,
             "#7201a8"
            ],
            [
             0.3333333333333333,
             "#9c179e"
            ],
            [
             0.4444444444444444,
             "#bd3786"
            ],
            [
             0.5555555555555556,
             "#d8576b"
            ],
            [
             0.6666666666666666,
             "#ed7953"
            ],
            [
             0.7777777777777778,
             "#fb9f3a"
            ],
            [
             0.8888888888888888,
             "#fdca26"
            ],
            [
             1,
             "#f0f921"
            ]
           ]
          },
          "colorway": [
           "#636efa",
           "#EF553B",
           "#00cc96",
           "#ab63fa",
           "#FFA15A",
           "#19d3f3",
           "#FF6692",
           "#B6E880",
           "#FF97FF",
           "#FECB52"
          ],
          "font": {
           "color": "#2a3f5f"
          },
          "geo": {
           "bgcolor": "white",
           "lakecolor": "white",
           "landcolor": "#E5ECF6",
           "showlakes": true,
           "showland": true,
           "subunitcolor": "white"
          },
          "hoverlabel": {
           "align": "left"
          },
          "hovermode": "closest",
          "mapbox": {
           "style": "light"
          },
          "paper_bgcolor": "white",
          "plot_bgcolor": "#E5ECF6",
          "polar": {
           "angularaxis": {
            "gridcolor": "white",
            "linecolor": "white",
            "ticks": ""
           },
           "bgcolor": "#E5ECF6",
           "radialaxis": {
            "gridcolor": "white",
            "linecolor": "white",
            "ticks": ""
           }
          },
          "scene": {
           "xaxis": {
            "backgroundcolor": "#E5ECF6",
            "gridcolor": "white",
            "gridwidth": 2,
            "linecolor": "white",
            "showbackground": true,
            "ticks": "",
            "zerolinecolor": "white"
           },
           "yaxis": {
            "backgroundcolor": "#E5ECF6",
            "gridcolor": "white",
            "gridwidth": 2,
            "linecolor": "white",
            "showbackground": true,
            "ticks": "",
            "zerolinecolor": "white"
           },
           "zaxis": {
            "backgroundcolor": "#E5ECF6",
            "gridcolor": "white",
            "gridwidth": 2,
            "linecolor": "white",
            "showbackground": true,
            "ticks": "",
            "zerolinecolor": "white"
           }
          },
          "shapedefaults": {
           "line": {
            "color": "#2a3f5f"
           }
          },
          "ternary": {
           "aaxis": {
            "gridcolor": "white",
            "linecolor": "white",
            "ticks": ""
           },
           "baxis": {
            "gridcolor": "white",
            "linecolor": "white",
            "ticks": ""
           },
           "bgcolor": "#E5ECF6",
           "caxis": {
            "gridcolor": "white",
            "linecolor": "white",
            "ticks": ""
           }
          },
          "title": {
           "x": 0.05
          },
          "xaxis": {
           "automargin": true,
           "gridcolor": "white",
           "linecolor": "white",
           "ticks": "",
           "title": {
            "standoff": 15
           },
           "zerolinecolor": "white",
           "zerolinewidth": 2
          },
          "yaxis": {
           "automargin": true,
           "gridcolor": "white",
           "linecolor": "white",
           "ticks": "",
           "title": {
            "standoff": 15
           },
           "zerolinecolor": "white",
           "zerolinewidth": 2
          }
         }
        },
        "title": {
         "text": "Trading Chart"
        },
        "width": 1500,
        "xaxis": {
         "anchor": "y",
         "domain": [
          0,
          0.94
         ],
         "gridcolor": "lightgray",
         "nticks": 5,
         "rangeslider": {
          "visible": false
         },
         "title": {
          "text": "Time"
         }
        },
        "yaxis": {
         "anchor": "x",
         "domain": [
          0,
          1
         ],
         "gridcolor": "lightgray",
         "title": {
          "text": "Price"
         }
        },
        "yaxis2": {
         "anchor": "x",
         "gridcolor": "lightgray",
         "overlaying": "y",
         "side": "right",
         "title": {
          "text": "Price"
         }
        }
       }
      }
     },
     "metadata": {},
     "output_type": "display_data"
    }
   ],
   "source": [
    "MARKER = '#0066FF'\n",
    "dfp = df_an.iloc[6000:6100]\n",
    "cp = CandlePlot(dfp, candles=True)\n",
    "df_temp = cp.df_plot[cp.df_plot.EVENING_STAR == True]\n",
    "cp.fig.add_trace(go.Candlestick(\n",
    "    x=df_temp.sTime,\n",
    "    open=df_temp.mid_o,\n",
    "    high=df_temp.mid_h,\n",
    "    low=df_temp.mid_l,\n",
    "    close=df_temp.mid_c,\n",
    "    line=dict(width=1), opacity=1,\n",
    "    increasing_fillcolor=MARKER,\n",
    "    decreasing_fillcolor=MARKER,\n",
    "    increasing_line_color=MARKER,\n",
    "    decreasing_line_color=MARKER\n",
    "))\n",
    "\n",
    "cp.show_plot()"
   ]
  },
  {
   "cell_type": "code",
   "execution_count": null,
   "metadata": {},
   "outputs": [],
   "source": []
  },
  {
   "cell_type": "code",
   "execution_count": null,
   "metadata": {},
   "outputs": [],
   "source": []
  },
  {
   "cell_type": "code",
   "execution_count": null,
   "metadata": {},
   "outputs": [],
   "source": []
  },
  {
   "cell_type": "code",
   "execution_count": null,
   "metadata": {},
   "outputs": [],
   "source": []
  },
  {
   "cell_type": "code",
   "execution_count": null,
   "metadata": {},
   "outputs": [],
   "source": []
  }
 ],
 "metadata": {
  "kernelspec": {
   "display_name": "venv",
   "language": "python",
   "name": "python3"
  },
  "language_info": {
   "codemirror_mode": {
    "name": "ipython",
    "version": 3
   },
   "file_extension": ".py",
   "mimetype": "text/x-python",
   "name": "python",
   "nbconvert_exporter": "python",
   "pygments_lexer": "ipython3",
   "version": "3.11.6"
  }
 },
 "nbformat": 4,
 "nbformat_minor": 2
}
