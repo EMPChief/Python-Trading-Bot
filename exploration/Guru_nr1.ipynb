{
 "cells": [
  {
   "cell_type": "code",
   "execution_count": 1,
   "id": "d45bb3a8",
   "metadata": {},
   "outputs": [],
   "source": [
    "import sys\n",
    "sys.path.append(\"../\")"
   ]
  },
  {
   "cell_type": "code",
   "execution_count": 2,
   "id": "2276616b",
   "metadata": {},
   "outputs": [],
   "source": [
    "import pandas as pd\n",
    "import datetime as dt\n",
    "import plotly.graph_objects as go\n",
    "from technicals.indicators import RSI\n",
    "from technicals.patterns import apply_patterns\n",
    "from plotting import CandlePlot"
   ]
  },
  {
   "cell_type": "code",
   "execution_count": 3,
   "id": "5979a5ce",
   "metadata": {},
   "outputs": [],
   "source": [
    "df_raw = pd.read_csv(\"../data/candles/EUR_JPY_H1.csv\")"
   ]
  },
  {
   "cell_type": "code",
   "execution_count": 4,
   "id": "e55a7c2d",
   "metadata": {},
   "outputs": [
    {
     "data": {
      "text/plain": [
       "(67804, 15)"
      ]
     },
     "execution_count": 4,
     "metadata": {},
     "output_type": "execute_result"
    }
   ],
   "source": [
    "df_raw.shape"
   ]
  },
  {
   "cell_type": "code",
   "execution_count": 5,
   "id": "9f383be9",
   "metadata": {},
   "outputs": [],
   "source": [
    "df_an = df_raw.copy()  # df_raw.iloc[-6000:].copy()\n",
    "df_an.reset_index(drop=True, inplace=True)"
   ]
  },
  {
   "cell_type": "code",
   "execution_count": 6,
   "id": "0cf825ed",
   "metadata": {},
   "outputs": [
    {
     "data": {
      "text/plain": [
       "(67804, 15)"
      ]
     },
     "execution_count": 6,
     "metadata": {},
     "output_type": "execute_result"
    }
   ],
   "source": [
    "df_an.shape"
   ]
  },
  {
   "cell_type": "code",
   "execution_count": 7,
   "id": "61d8e122",
   "metadata": {},
   "outputs": [],
   "source": [
    "df_an = RSI(df_an)"
   ]
  },
  {
   "cell_type": "code",
   "execution_count": 8,
   "id": "95780bfb",
   "metadata": {},
   "outputs": [
    {
     "data": {
      "text/html": [
       "<div>\n",
       "<style scoped>\n",
       "    .dataframe tbody tr th:only-of-type {\n",
       "        vertical-align: middle;\n",
       "    }\n",
       "\n",
       "    .dataframe tbody tr th {\n",
       "        vertical-align: top;\n",
       "    }\n",
       "\n",
       "    .dataframe thead th {\n",
       "        text-align: right;\n",
       "    }\n",
       "</style>\n",
       "<table border=\"1\" class=\"dataframe\">\n",
       "  <thead>\n",
       "    <tr style=\"text-align: right;\">\n",
       "      <th></th>\n",
       "      <th>Unnamed: 0</th>\n",
       "      <th>time</th>\n",
       "      <th>volume</th>\n",
       "      <th>mid_o</th>\n",
       "      <th>mid_h</th>\n",
       "      <th>mid_l</th>\n",
       "      <th>mid_c</th>\n",
       "      <th>bid_o</th>\n",
       "      <th>bid_h</th>\n",
       "      <th>bid_l</th>\n",
       "      <th>bid_c</th>\n",
       "      <th>ask_o</th>\n",
       "      <th>ask_h</th>\n",
       "      <th>ask_l</th>\n",
       "      <th>ask_c</th>\n",
       "      <th>RSI_14</th>\n",
       "    </tr>\n",
       "  </thead>\n",
       "  <tbody>\n",
       "    <tr>\n",
       "      <th>67799</th>\n",
       "      <td>67799</td>\n",
       "      <td>2023-11-29 19:00:00+00:00</td>\n",
       "      <td>6019</td>\n",
       "      <td>161.667</td>\n",
       "      <td>161.766</td>\n",
       "      <td>161.654</td>\n",
       "      <td>161.716</td>\n",
       "      <td>161.655</td>\n",
       "      <td>161.756</td>\n",
       "      <td>161.644</td>\n",
       "      <td>161.708</td>\n",
       "      <td>161.679</td>\n",
       "      <td>161.775</td>\n",
       "      <td>161.662</td>\n",
       "      <td>161.724</td>\n",
       "      <td>41.698113</td>\n",
       "    </tr>\n",
       "    <tr>\n",
       "      <th>67800</th>\n",
       "      <td>67800</td>\n",
       "      <td>2023-11-29 20:00:00+00:00</td>\n",
       "      <td>4639</td>\n",
       "      <td>161.716</td>\n",
       "      <td>161.744</td>\n",
       "      <td>161.618</td>\n",
       "      <td>161.628</td>\n",
       "      <td>161.707</td>\n",
       "      <td>161.734</td>\n",
       "      <td>161.608</td>\n",
       "      <td>161.618</td>\n",
       "      <td>161.724</td>\n",
       "      <td>161.754</td>\n",
       "      <td>161.626</td>\n",
       "      <td>161.638</td>\n",
       "      <td>37.742504</td>\n",
       "    </tr>\n",
       "    <tr>\n",
       "      <th>67801</th>\n",
       "      <td>67801</td>\n",
       "      <td>2023-11-29 21:00:00+00:00</td>\n",
       "      <td>2365</td>\n",
       "      <td>161.628</td>\n",
       "      <td>161.652</td>\n",
       "      <td>161.490</td>\n",
       "      <td>161.506</td>\n",
       "      <td>161.618</td>\n",
       "      <td>161.642</td>\n",
       "      <td>161.476</td>\n",
       "      <td>161.495</td>\n",
       "      <td>161.639</td>\n",
       "      <td>161.663</td>\n",
       "      <td>161.500</td>\n",
       "      <td>161.517</td>\n",
       "      <td>35.401158</td>\n",
       "    </tr>\n",
       "    <tr>\n",
       "      <th>67802</th>\n",
       "      <td>67802</td>\n",
       "      <td>2023-11-29 22:00:00+00:00</td>\n",
       "      <td>1904</td>\n",
       "      <td>161.512</td>\n",
       "      <td>161.545</td>\n",
       "      <td>161.293</td>\n",
       "      <td>161.379</td>\n",
       "      <td>161.502</td>\n",
       "      <td>161.502</td>\n",
       "      <td>161.218</td>\n",
       "      <td>161.362</td>\n",
       "      <td>161.522</td>\n",
       "      <td>161.620</td>\n",
       "      <td>161.329</td>\n",
       "      <td>161.396</td>\n",
       "      <td>32.108027</td>\n",
       "    </tr>\n",
       "    <tr>\n",
       "      <th>67803</th>\n",
       "      <td>67803</td>\n",
       "      <td>2023-11-29 23:00:00+00:00</td>\n",
       "      <td>3326</td>\n",
       "      <td>161.376</td>\n",
       "      <td>161.424</td>\n",
       "      <td>161.128</td>\n",
       "      <td>161.375</td>\n",
       "      <td>161.361</td>\n",
       "      <td>161.413</td>\n",
       "      <td>161.113</td>\n",
       "      <td>161.364</td>\n",
       "      <td>161.392</td>\n",
       "      <td>161.435</td>\n",
       "      <td>161.141</td>\n",
       "      <td>161.386</td>\n",
       "      <td>26.987952</td>\n",
       "    </tr>\n",
       "  </tbody>\n",
       "</table>\n",
       "</div>"
      ],
      "text/plain": [
       "       Unnamed: 0                       time  volume    mid_o    mid_h  \\\n",
       "67799       67799  2023-11-29 19:00:00+00:00    6019  161.667  161.766   \n",
       "67800       67800  2023-11-29 20:00:00+00:00    4639  161.716  161.744   \n",
       "67801       67801  2023-11-29 21:00:00+00:00    2365  161.628  161.652   \n",
       "67802       67802  2023-11-29 22:00:00+00:00    1904  161.512  161.545   \n",
       "67803       67803  2023-11-29 23:00:00+00:00    3326  161.376  161.424   \n",
       "\n",
       "         mid_l    mid_c    bid_o    bid_h    bid_l    bid_c    ask_o    ask_h  \\\n",
       "67799  161.654  161.716  161.655  161.756  161.644  161.708  161.679  161.775   \n",
       "67800  161.618  161.628  161.707  161.734  161.608  161.618  161.724  161.754   \n",
       "67801  161.490  161.506  161.618  161.642  161.476  161.495  161.639  161.663   \n",
       "67802  161.293  161.379  161.502  161.502  161.218  161.362  161.522  161.620   \n",
       "67803  161.128  161.375  161.361  161.413  161.113  161.364  161.392  161.435   \n",
       "\n",
       "         ask_l    ask_c     RSI_14  \n",
       "67799  161.662  161.724  41.698113  \n",
       "67800  161.626  161.638  37.742504  \n",
       "67801  161.500  161.517  35.401158  \n",
       "67802  161.329  161.396  32.108027  \n",
       "67803  161.141  161.386  26.987952  "
      ]
     },
     "execution_count": 8,
     "metadata": {},
     "output_type": "execute_result"
    }
   ],
   "source": [
    "df_an.tail()"
   ]
  },
  {
   "cell_type": "code",
   "execution_count": 9,
   "id": "23769d23",
   "metadata": {},
   "outputs": [],
   "source": [
    "df_an = apply_patterns(df_an)"
   ]
  },
  {
   "cell_type": "code",
   "execution_count": 10,
   "id": "8ac55bc7",
   "metadata": {},
   "outputs": [],
   "source": [
    "df_an['EMA_200'] = df_an.mid_c.ewm(span=200, min_periods=200).mean()"
   ]
  },
  {
   "cell_type": "code",
   "execution_count": 11,
   "id": "f2498b85",
   "metadata": {},
   "outputs": [
    {
     "data": {
      "text/plain": [
       "Index(['Unnamed: 0', 'time', 'volume', 'mid_o', 'mid_h', 'mid_l', 'mid_c',\n",
       "       'bid_o', 'bid_h', 'bid_l', 'bid_c', 'ask_o', 'ask_h', 'ask_l', 'ask_c',\n",
       "       'RSI_14', 'body_lower', 'body_upper', 'body_bottom_percentage',\n",
       "       'body_top_percentage', 'body_percentage', 'direction', 'body_size',\n",
       "       'low_change', 'high_change', 'body_size_change', 'mid_point',\n",
       "       'mid_point_prev_2', 'body_size_prev', 'direction_prev',\n",
       "       'direction_prev_2', 'body_percentage_prev', 'body_percentage_prev_2',\n",
       "       'HANGING_MAN', 'SHOOTING_STAR', 'SPINNING_TOP', 'MARUBOZU', 'ENGULFING',\n",
       "       'TWEEZER_TOP', 'TWEEZER_BOTTOM', 'MORNING_STAR', 'EVENING_STAR', 'DOJI',\n",
       "       'HAMMER', 'INVERTED_HAMMER', 'DARK_CLOUD_COVER', 'PIERCING_PATTERN',\n",
       "       'BULLISH_ENGULFING', 'BULLISH_HARAMI', 'BEARISH_ENGULFING',\n",
       "       'BEARISH_HARAMI', 'THREE_WHITE_SOLDIERS', 'THREE_BLACK_CROWS',\n",
       "       'BULLISH_ABANDONED_BABY', 'BEARISH_ABANDONED_BABY', 'BULLISH_TRI_STAR',\n",
       "       'EMA_200'],\n",
       "      dtype='object')"
      ]
     },
     "execution_count": 11,
     "metadata": {},
     "output_type": "execute_result"
    }
   ],
   "source": [
    "df_an.columns"
   ]
  },
  {
   "cell_type": "code",
   "execution_count": 12,
   "id": "881c992e",
   "metadata": {},
   "outputs": [],
   "source": [
    "our_cols = ['time', 'mid_o', 'mid_h', 'mid_l', 'mid_c',\n",
    "            'bid_o', 'bid_h', 'bid_l', 'bid_c',\n",
    "            'ask_o', 'ask_h', 'ask_l', 'ask_c',\n",
    "            'ENGULFING', 'direction', 'EMA_200', 'RSI_14']"
   ]
  },
  {
   "cell_type": "code",
   "execution_count": 13,
   "id": "c65c943c",
   "metadata": {},
   "outputs": [],
   "source": [
    "df_slim = df_an[our_cols].copy()\n",
    "df_slim.dropna(inplace=True)\n",
    "df_slim.reset_index(drop=True, inplace=True)"
   ]
  },
  {
   "cell_type": "code",
   "execution_count": 14,
   "id": "b33bb31e",
   "metadata": {},
   "outputs": [
    {
     "data": {
      "text/html": [
       "<div>\n",
       "<style scoped>\n",
       "    .dataframe tbody tr th:only-of-type {\n",
       "        vertical-align: middle;\n",
       "    }\n",
       "\n",
       "    .dataframe tbody tr th {\n",
       "        vertical-align: top;\n",
       "    }\n",
       "\n",
       "    .dataframe thead th {\n",
       "        text-align: right;\n",
       "    }\n",
       "</style>\n",
       "<table border=\"1\" class=\"dataframe\">\n",
       "  <thead>\n",
       "    <tr style=\"text-align: right;\">\n",
       "      <th></th>\n",
       "      <th>time</th>\n",
       "      <th>mid_o</th>\n",
       "      <th>mid_h</th>\n",
       "      <th>mid_l</th>\n",
       "      <th>mid_c</th>\n",
       "      <th>bid_o</th>\n",
       "      <th>bid_h</th>\n",
       "      <th>bid_l</th>\n",
       "      <th>bid_c</th>\n",
       "      <th>ask_o</th>\n",
       "      <th>ask_h</th>\n",
       "      <th>ask_l</th>\n",
       "      <th>ask_c</th>\n",
       "      <th>ENGULFING</th>\n",
       "      <th>direction</th>\n",
       "      <th>EMA_200</th>\n",
       "      <th>RSI_14</th>\n",
       "    </tr>\n",
       "  </thead>\n",
       "  <tbody>\n",
       "    <tr>\n",
       "      <th>0</th>\n",
       "      <td>2013-01-17 04:00:00+00:00</td>\n",
       "      <td>117.234</td>\n",
       "      <td>117.339</td>\n",
       "      <td>117.012</td>\n",
       "      <td>117.332</td>\n",
       "      <td>117.225</td>\n",
       "      <td>117.331</td>\n",
       "      <td>117.002</td>\n",
       "      <td>117.320</td>\n",
       "      <td>117.242</td>\n",
       "      <td>117.350</td>\n",
       "      <td>117.020</td>\n",
       "      <td>117.343</td>\n",
       "      <td>False</td>\n",
       "      <td>1</td>\n",
       "      <td>117.499932</td>\n",
       "      <td>50.479233</td>\n",
       "    </tr>\n",
       "    <tr>\n",
       "      <th>1</th>\n",
       "      <td>2013-01-17 05:00:00+00:00</td>\n",
       "      <td>117.332</td>\n",
       "      <td>117.856</td>\n",
       "      <td>117.196</td>\n",
       "      <td>117.838</td>\n",
       "      <td>117.321</td>\n",
       "      <td>117.846</td>\n",
       "      <td>117.187</td>\n",
       "      <td>117.828</td>\n",
       "      <td>117.343</td>\n",
       "      <td>117.865</td>\n",
       "      <td>117.203</td>\n",
       "      <td>117.848</td>\n",
       "      <td>False</td>\n",
       "      <td>1</td>\n",
       "      <td>117.503816</td>\n",
       "      <td>52.801462</td>\n",
       "    </tr>\n",
       "    <tr>\n",
       "      <th>2</th>\n",
       "      <td>2013-01-17 06:00:00+00:00</td>\n",
       "      <td>117.838</td>\n",
       "      <td>117.994</td>\n",
       "      <td>117.704</td>\n",
       "      <td>117.876</td>\n",
       "      <td>117.827</td>\n",
       "      <td>117.984</td>\n",
       "      <td>117.693</td>\n",
       "      <td>117.866</td>\n",
       "      <td>117.849</td>\n",
       "      <td>118.003</td>\n",
       "      <td>117.715</td>\n",
       "      <td>117.887</td>\n",
       "      <td>False</td>\n",
       "      <td>1</td>\n",
       "      <td>117.508086</td>\n",
       "      <td>49.113592</td>\n",
       "    </tr>\n",
       "    <tr>\n",
       "      <th>3</th>\n",
       "      <td>2013-01-17 07:00:00+00:00</td>\n",
       "      <td>117.878</td>\n",
       "      <td>118.065</td>\n",
       "      <td>117.620</td>\n",
       "      <td>117.777</td>\n",
       "      <td>117.869</td>\n",
       "      <td>118.055</td>\n",
       "      <td>117.610</td>\n",
       "      <td>117.767</td>\n",
       "      <td>117.887</td>\n",
       "      <td>118.075</td>\n",
       "      <td>117.629</td>\n",
       "      <td>117.787</td>\n",
       "      <td>True</td>\n",
       "      <td>-1</td>\n",
       "      <td>117.511166</td>\n",
       "      <td>53.562478</td>\n",
       "    </tr>\n",
       "    <tr>\n",
       "      <th>4</th>\n",
       "      <td>2013-01-17 08:00:00+00:00</td>\n",
       "      <td>117.774</td>\n",
       "      <td>118.610</td>\n",
       "      <td>117.761</td>\n",
       "      <td>118.545</td>\n",
       "      <td>117.764</td>\n",
       "      <td>118.602</td>\n",
       "      <td>117.751</td>\n",
       "      <td>118.536</td>\n",
       "      <td>117.784</td>\n",
       "      <td>118.619</td>\n",
       "      <td>117.771</td>\n",
       "      <td>118.554</td>\n",
       "      <td>True</td>\n",
       "      <td>1</td>\n",
       "      <td>117.522991</td>\n",
       "      <td>60.945498</td>\n",
       "    </tr>\n",
       "  </tbody>\n",
       "</table>\n",
       "</div>"
      ],
      "text/plain": [
       "                        time    mid_o    mid_h    mid_l    mid_c    bid_o  \\\n",
       "0  2013-01-17 04:00:00+00:00  117.234  117.339  117.012  117.332  117.225   \n",
       "1  2013-01-17 05:00:00+00:00  117.332  117.856  117.196  117.838  117.321   \n",
       "2  2013-01-17 06:00:00+00:00  117.838  117.994  117.704  117.876  117.827   \n",
       "3  2013-01-17 07:00:00+00:00  117.878  118.065  117.620  117.777  117.869   \n",
       "4  2013-01-17 08:00:00+00:00  117.774  118.610  117.761  118.545  117.764   \n",
       "\n",
       "     bid_h    bid_l    bid_c    ask_o    ask_h    ask_l    ask_c  ENGULFING  \\\n",
       "0  117.331  117.002  117.320  117.242  117.350  117.020  117.343      False   \n",
       "1  117.846  117.187  117.828  117.343  117.865  117.203  117.848      False   \n",
       "2  117.984  117.693  117.866  117.849  118.003  117.715  117.887      False   \n",
       "3  118.055  117.610  117.767  117.887  118.075  117.629  117.787       True   \n",
       "4  118.602  117.751  118.536  117.784  118.619  117.771  118.554       True   \n",
       "\n",
       "   direction     EMA_200     RSI_14  \n",
       "0          1  117.499932  50.479233  \n",
       "1          1  117.503816  52.801462  \n",
       "2          1  117.508086  49.113592  \n",
       "3         -1  117.511166  53.562478  \n",
       "4          1  117.522991  60.945498  "
      ]
     },
     "execution_count": 14,
     "metadata": {},
     "output_type": "execute_result"
    }
   ],
   "source": [
    "df_slim.head()"
   ]
  },
  {
   "cell_type": "code",
   "execution_count": 15,
   "id": "a0d4271d",
   "metadata": {},
   "outputs": [],
   "source": [
    "BUY = 1\n",
    "SELL = -1\n",
    "NONE = 0\n",
    "RSI_LIMIT = 50.0\n",
    "\n",
    "\n",
    "def apply_signal(row):\n",
    "    if row.ENGULFING == True:\n",
    "        if row.direction == BUY and row.mid_l > row.EMA_200:\n",
    "            if row.RSI_14 > RSI_LIMIT:\n",
    "                return BUY\n",
    "        if row.direction == SELL and row.mid_h < row.EMA_200:\n",
    "            if row.RSI_14 < RSI_LIMIT:\n",
    "                return SELL\n",
    "    return NONE"
   ]
  },
  {
   "cell_type": "code",
   "execution_count": 16,
   "id": "774e924d",
   "metadata": {},
   "outputs": [],
   "source": [
    "df_slim[\"SIGNAL\"] = df_slim.apply(apply_signal, axis=1)"
   ]
  },
  {
   "cell_type": "code",
   "execution_count": 17,
   "id": "cbf03c6f",
   "metadata": {},
   "outputs": [
    {
     "data": {
      "text/plain": [
       "SIGNAL\n",
       " 0    62267\n",
       " 1     2894\n",
       "-1     2444\n",
       "Name: count, dtype: int64"
      ]
     },
     "execution_count": 17,
     "metadata": {},
     "output_type": "execute_result"
    }
   ],
   "source": [
    "df_slim[\"SIGNAL\"].value_counts()"
   ]
  },
  {
   "cell_type": "code",
   "execution_count": 18,
   "id": "41839f66",
   "metadata": {},
   "outputs": [],
   "source": [
    "LOSS_FACTOR = -1.0\n",
    "PROFIT_FACTOR = 1.5\n",
    "\n",
    "\n",
    "def apply_take_profit(row):\n",
    "    if row.SIGNAL != NONE:\n",
    "        if row.SIGNAL == BUY:\n",
    "            return (row.ask_c - row.ask_o) * PROFIT_FACTOR + row.ask_c\n",
    "        else:\n",
    "            return (row.bid_c - row.bid_o) * PROFIT_FACTOR + row.bid_c\n",
    "    else:\n",
    "        return 0.0\n",
    "\n",
    "\n",
    "def apply_stop_loss(row):\n",
    "    if row.SIGNAL != NONE:\n",
    "        if row.SIGNAL == BUY:\n",
    "            return row.ask_o\n",
    "        else:\n",
    "            return row.bid_o\n",
    "    else:\n",
    "        return 0.0"
   ]
  },
  {
   "cell_type": "code",
   "execution_count": 19,
   "id": "914d768a",
   "metadata": {},
   "outputs": [],
   "source": [
    "df_slim[\"TP\"] = df_slim.apply(apply_take_profit, axis=1)\n",
    "df_slim[\"SL\"] = df_slim.apply(apply_stop_loss, axis=1)"
   ]
  },
  {
   "cell_type": "code",
   "execution_count": 20,
   "id": "fa1aef5e",
   "metadata": {},
   "outputs": [
    {
     "data": {
      "text/html": [
       "<div>\n",
       "<style scoped>\n",
       "    .dataframe tbody tr th:only-of-type {\n",
       "        vertical-align: middle;\n",
       "    }\n",
       "\n",
       "    .dataframe tbody tr th {\n",
       "        vertical-align: top;\n",
       "    }\n",
       "\n",
       "    .dataframe thead th {\n",
       "        text-align: right;\n",
       "    }\n",
       "</style>\n",
       "<table border=\"1\" class=\"dataframe\">\n",
       "  <thead>\n",
       "    <tr style=\"text-align: right;\">\n",
       "      <th></th>\n",
       "      <th>time</th>\n",
       "      <th>mid_o</th>\n",
       "      <th>mid_h</th>\n",
       "      <th>mid_l</th>\n",
       "      <th>mid_c</th>\n",
       "      <th>bid_o</th>\n",
       "      <th>bid_h</th>\n",
       "      <th>bid_l</th>\n",
       "      <th>bid_c</th>\n",
       "      <th>ask_o</th>\n",
       "      <th>ask_h</th>\n",
       "      <th>ask_l</th>\n",
       "      <th>ask_c</th>\n",
       "      <th>ENGULFING</th>\n",
       "      <th>direction</th>\n",
       "      <th>EMA_200</th>\n",
       "      <th>RSI_14</th>\n",
       "      <th>SIGNAL</th>\n",
       "      <th>TP</th>\n",
       "      <th>SL</th>\n",
       "    </tr>\n",
       "  </thead>\n",
       "  <tbody>\n",
       "    <tr>\n",
       "      <th>86</th>\n",
       "      <td>2013-01-22 15:00:00+00:00</td>\n",
       "      <td>118.298</td>\n",
       "      <td>118.298</td>\n",
       "      <td>117.608</td>\n",
       "      <td>117.640</td>\n",
       "      <td>118.278</td>\n",
       "      <td>118.282</td>\n",
       "      <td>117.595</td>\n",
       "      <td>117.630</td>\n",
       "      <td>118.319</td>\n",
       "      <td>118.321</td>\n",
       "      <td>117.616</td>\n",
       "      <td>117.650</td>\n",
       "      <td>True</td>\n",
       "      <td>-1</td>\n",
       "      <td>118.654612</td>\n",
       "      <td>33.890747</td>\n",
       "      <td>-1</td>\n",
       "      <td>116.6580</td>\n",
       "      <td>118.278</td>\n",
       "    </tr>\n",
       "    <tr>\n",
       "      <th>94</th>\n",
       "      <td>2013-01-22 23:00:00+00:00</td>\n",
       "      <td>118.245</td>\n",
       "      <td>118.298</td>\n",
       "      <td>117.718</td>\n",
       "      <td>117.848</td>\n",
       "      <td>118.230</td>\n",
       "      <td>118.287</td>\n",
       "      <td>117.704</td>\n",
       "      <td>117.837</td>\n",
       "      <td>118.260</td>\n",
       "      <td>118.308</td>\n",
       "      <td>117.728</td>\n",
       "      <td>117.860</td>\n",
       "      <td>True</td>\n",
       "      <td>-1</td>\n",
       "      <td>118.607491</td>\n",
       "      <td>48.481397</td>\n",
       "      <td>-1</td>\n",
       "      <td>117.2475</td>\n",
       "      <td>118.230</td>\n",
       "    </tr>\n",
       "    <tr>\n",
       "      <th>98</th>\n",
       "      <td>2013-01-23 03:00:00+00:00</td>\n",
       "      <td>118.100</td>\n",
       "      <td>118.115</td>\n",
       "      <td>117.903</td>\n",
       "      <td>117.904</td>\n",
       "      <td>118.092</td>\n",
       "      <td>118.109</td>\n",
       "      <td>117.896</td>\n",
       "      <td>117.897</td>\n",
       "      <td>118.107</td>\n",
       "      <td>118.122</td>\n",
       "      <td>117.910</td>\n",
       "      <td>117.912</td>\n",
       "      <td>True</td>\n",
       "      <td>-1</td>\n",
       "      <td>118.584370</td>\n",
       "      <td>41.711957</td>\n",
       "      <td>-1</td>\n",
       "      <td>117.6045</td>\n",
       "      <td>118.092</td>\n",
       "    </tr>\n",
       "    <tr>\n",
       "      <th>110</th>\n",
       "      <td>2013-01-23 15:00:00+00:00</td>\n",
       "      <td>118.127</td>\n",
       "      <td>118.294</td>\n",
       "      <td>117.531</td>\n",
       "      <td>117.608</td>\n",
       "      <td>118.117</td>\n",
       "      <td>118.283</td>\n",
       "      <td>117.520</td>\n",
       "      <td>117.597</td>\n",
       "      <td>118.137</td>\n",
       "      <td>118.304</td>\n",
       "      <td>117.542</td>\n",
       "      <td>117.620</td>\n",
       "      <td>True</td>\n",
       "      <td>-1</td>\n",
       "      <td>118.482394</td>\n",
       "      <td>40.605590</td>\n",
       "      <td>-1</td>\n",
       "      <td>116.8170</td>\n",
       "      <td>118.117</td>\n",
       "    </tr>\n",
       "    <tr>\n",
       "      <th>408</th>\n",
       "      <td>2013-02-08 20:00:00+00:00</td>\n",
       "      <td>124.052</td>\n",
       "      <td>124.054</td>\n",
       "      <td>123.871</td>\n",
       "      <td>123.979</td>\n",
       "      <td>124.040</td>\n",
       "      <td>124.044</td>\n",
       "      <td>123.859</td>\n",
       "      <td>123.967</td>\n",
       "      <td>124.063</td>\n",
       "      <td>124.067</td>\n",
       "      <td>123.883</td>\n",
       "      <td>123.991</td>\n",
       "      <td>True</td>\n",
       "      <td>-1</td>\n",
       "      <td>124.760825</td>\n",
       "      <td>32.969773</td>\n",
       "      <td>-1</td>\n",
       "      <td>123.8575</td>\n",
       "      <td>124.040</td>\n",
       "    </tr>\n",
       "  </tbody>\n",
       "</table>\n",
       "</div>"
      ],
      "text/plain": [
       "                          time    mid_o    mid_h    mid_l    mid_c    bid_o  \\\n",
       "86   2013-01-22 15:00:00+00:00  118.298  118.298  117.608  117.640  118.278   \n",
       "94   2013-01-22 23:00:00+00:00  118.245  118.298  117.718  117.848  118.230   \n",
       "98   2013-01-23 03:00:00+00:00  118.100  118.115  117.903  117.904  118.092   \n",
       "110  2013-01-23 15:00:00+00:00  118.127  118.294  117.531  117.608  118.117   \n",
       "408  2013-02-08 20:00:00+00:00  124.052  124.054  123.871  123.979  124.040   \n",
       "\n",
       "       bid_h    bid_l    bid_c    ask_o    ask_h    ask_l    ask_c  ENGULFING  \\\n",
       "86   118.282  117.595  117.630  118.319  118.321  117.616  117.650       True   \n",
       "94   118.287  117.704  117.837  118.260  118.308  117.728  117.860       True   \n",
       "98   118.109  117.896  117.897  118.107  118.122  117.910  117.912       True   \n",
       "110  118.283  117.520  117.597  118.137  118.304  117.542  117.620       True   \n",
       "408  124.044  123.859  123.967  124.063  124.067  123.883  123.991       True   \n",
       "\n",
       "     direction     EMA_200     RSI_14  SIGNAL        TP       SL  \n",
       "86          -1  118.654612  33.890747      -1  116.6580  118.278  \n",
       "94          -1  118.607491  48.481397      -1  117.2475  118.230  \n",
       "98          -1  118.584370  41.711957      -1  117.6045  118.092  \n",
       "110         -1  118.482394  40.605590      -1  116.8170  118.117  \n",
       "408         -1  124.760825  32.969773      -1  123.8575  124.040  "
      ]
     },
     "execution_count": 20,
     "metadata": {},
     "output_type": "execute_result"
    }
   ],
   "source": [
    "df_slim[df_slim.SIGNAL == SELL].head()"
   ]
  },
  {
   "cell_type": "code",
   "execution_count": 21,
   "id": "c8be66ff",
   "metadata": {},
   "outputs": [
    {
     "data": {
      "application/vnd.plotly.v1+json": {
       "config": {
        "plotlyServerURL": "https://plot.ly"
       },
       "data": [
        {
         "close": [
          119.294,
          119.452,
          119.374,
          119.014,
          119.772,
          118.918,
          118.862,
          119.28,
          119.026,
          118.566,
          117.928,
          118.456,
          118.45,
          118.184,
          118.27,
          118.304,
          117.64,
          117.894,
          117.977,
          118.104,
          118.177,
          118.155,
          118.185,
          118.247,
          117.848,
          118.098,
          118.092,
          118.1,
          117.904,
          117.812
         ],
         "decreasing": {
          "fillcolor": "#ff0000",
          "line": {
           "color": "#990000"
          }
         },
         "high": [
          119.617,
          119.465,
          119.452,
          119.394,
          120.095,
          120.166,
          119.16,
          119.404,
          119.388,
          119.177,
          118.566,
          118.57,
          118.709,
          118.476,
          118.34,
          118.516,
          118.298,
          117.92,
          118.012,
          118.19,
          118.232,
          118.202,
          118.206,
          118.314,
          118.298,
          118.128,
          118.336,
          118.146,
          118.115,
          117.98
         ],
         "hovertext": "Candlestick",
         "increasing": {
          "fillcolor": "#00cc00",
          "line": {
           "color": "#006600"
          }
         },
         "line": {
          "width": 1
         },
         "low": [
          119.246,
          119.044,
          119.27,
          118.82,
          118.93,
          118.654,
          118.774,
          118.856,
          118.732,
          118.418,
          117.328,
          117.93,
          118.332,
          118.114,
          118.054,
          118.262,
          117.608,
          117.589,
          117.828,
          117.962,
          118.063,
          118.073,
          118.124,
          118.178,
          117.718,
          117.814,
          117.998,
          117.98,
          117.903,
          117.685
         ],
         "name": "Candlestick",
         "opacity": 1,
         "open": [
          119.617,
          119.293,
          119.452,
          119.375,
          119.014,
          119.772,
          118.918,
          118.859,
          119.284,
          119.026,
          118.566,
          117.934,
          118.455,
          118.452,
          118.186,
          118.266,
          118.298,
          117.642,
          117.898,
          117.978,
          118.101,
          118.176,
          118.156,
          118.186,
          118.245,
          117.846,
          118.098,
          118.09,
          118.1,
          117.904
         ],
         "type": "candlestick",
         "x": [
          "s2013-01-21 23:00",
          "s2013-01-22 00:00",
          "s2013-01-22 01:00",
          "s2013-01-22 02:00",
          "s2013-01-22 03:00",
          "s2013-01-22 04:00",
          "s2013-01-22 05:00",
          "s2013-01-22 06:00",
          "s2013-01-22 07:00",
          "s2013-01-22 08:00",
          "s2013-01-22 09:00",
          "s2013-01-22 10:00",
          "s2013-01-22 11:00",
          "s2013-01-22 12:00",
          "s2013-01-22 13:00",
          "s2013-01-22 14:00",
          "s2013-01-22 15:00",
          "s2013-01-22 16:00",
          "s2013-01-22 17:00",
          "s2013-01-22 18:00",
          "s2013-01-22 19:00",
          "s2013-01-22 20:00",
          "s2013-01-22 21:00",
          "s2013-01-22 22:00",
          "s2013-01-22 23:00",
          "s2013-01-23 00:00",
          "s2013-01-23 01:00",
          "s2013-01-23 02:00",
          "s2013-01-23 03:00",
          "s2013-01-23 04:00"
         ]
        },
        {
         "marker": {
          "color": "#0000FF",
          "size": 12
         },
         "mode": "markers",
         "type": "scatter",
         "x": [
          "s2013-01-22 03:00",
          "s2013-01-22 15:00",
          "s2013-01-22 23:00",
          "s2013-01-23 03:00"
         ],
         "y": [
          119.772,
          117.64,
          117.848,
          117.904
         ]
        },
        {
         "marker": {
          "color": "#00FF00",
          "size": 12
         },
         "mode": "markers",
         "type": "scatter",
         "x": [
          "s2013-01-22 03:00",
          "s2013-01-22 15:00",
          "s2013-01-22 23:00",
          "s2013-01-23 03:00"
         ],
         "y": [
          120.917,
          116.65799999999999,
          117.2475,
          117.60450000000002
         ]
        },
        {
         "marker": {
          "color": "#FF0000",
          "size": 12
         },
         "mode": "markers",
         "type": "scatter",
         "x": [
          "s2013-01-22 03:00",
          "s2013-01-22 15:00",
          "s2013-01-22 23:00",
          "s2013-01-23 03:00"
         ],
         "y": [
          119.032,
          118.278,
          118.23,
          118.092
         ]
        },
        {
         "hovertext": "EMA_200",
         "line": {
          "shape": "spline",
          "width": 2
         },
         "name": "EMA_200",
         "type": "scatter",
         "x": [
          "s2013-01-21 23:00",
          "s2013-01-22 00:00",
          "s2013-01-22 01:00",
          "s2013-01-22 02:00",
          "s2013-01-22 03:00",
          "s2013-01-22 04:00",
          "s2013-01-22 05:00",
          "s2013-01-22 06:00",
          "s2013-01-22 07:00",
          "s2013-01-22 08:00",
          "s2013-01-22 09:00",
          "s2013-01-22 10:00",
          "s2013-01-22 11:00",
          "s2013-01-22 12:00",
          "s2013-01-22 13:00",
          "s2013-01-22 14:00",
          "s2013-01-22 15:00",
          "s2013-01-22 16:00",
          "s2013-01-22 17:00",
          "s2013-01-22 18:00",
          "s2013-01-22 19:00",
          "s2013-01-22 20:00",
          "s2013-01-22 21:00",
          "s2013-01-22 22:00",
          "s2013-01-22 23:00",
          "s2013-01-23 00:00",
          "s2013-01-23 01:00",
          "s2013-01-23 02:00",
          "s2013-01-23 03:00",
          "s2013-01-23 04:00"
         ],
         "xaxis": "x",
         "y": [
          118.64699550753178,
          118.65557643724985,
          118.66322903176966,
          118.66696279821542,
          118.67871715908687,
          118.68126068107112,
          118.68318059415374,
          118.68951608083707,
          118.69308562350403,
          118.69173834007726,
          118.68364692567314,
          118.6812366764989,
          118.67878997981076,
          118.67355794649463,
          118.66929328473286,
          118.665435372678,
          118.6546122219868,
          118.6465890466198,
          118.63953023376597,
          118.63388800878,
          118.6290771572962,
          118.62408820121846,
          118.61947009917989,
          118.61555487264263,
          118.6074912308714,
          118.6021416793128,
          118.59678824012357,
          118.59157776557868,
          118.58437010748317,
          118.5762779068964
         ],
         "yaxis": "y"
        },
        {
         "hovertext": "RSI_14",
         "line": {
          "shape": "spline",
          "width": 2
         },
         "name": "RSI_14",
         "type": "scatter",
         "x": [
          "s2013-01-21 23:00",
          "s2013-01-22 00:00",
          "s2013-01-22 01:00",
          "s2013-01-22 02:00",
          "s2013-01-22 03:00",
          "s2013-01-22 04:00",
          "s2013-01-22 05:00",
          "s2013-01-22 06:00",
          "s2013-01-22 07:00",
          "s2013-01-22 08:00",
          "s2013-01-22 09:00",
          "s2013-01-22 10:00",
          "s2013-01-22 11:00",
          "s2013-01-22 12:00",
          "s2013-01-22 13:00",
          "s2013-01-22 14:00",
          "s2013-01-22 15:00",
          "s2013-01-22 16:00",
          "s2013-01-22 17:00",
          "s2013-01-22 18:00",
          "s2013-01-22 19:00",
          "s2013-01-22 20:00",
          "s2013-01-22 21:00",
          "s2013-01-22 22:00",
          "s2013-01-22 23:00",
          "s2013-01-23 00:00",
          "s2013-01-23 01:00",
          "s2013-01-23 02:00",
          "s2013-01-23 03:00",
          "s2013-01-23 04:00"
         ],
         "xaxis": "x",
         "y": [
          52.35678027556198,
          59.53991880920172,
          56.330749354005206,
          45.61679790026236,
          60.123171670516044,
          43.463954531857595,
          38.88190954773871,
          46.25698324022347,
          43.430369787568814,
          38.89149835603574,
          33.8927548096603,
          41.17647058823539,
          41.887226697353285,
          36.09926328034136,
          39.59349593495943,
          38.031693077564796,
          33.89074693422539,
          39.38589840788496,
          30.493371006303136,
          39.494062983995875,
          41.19763556926263,
          33.905579399141786,
          37.14460409660675,
          44.44831186912637,
          48.48139711465456,
          42.40237691001697,
          42.40237691001697,
          47.998093422306894,
          41.71195652173919,
          39.14386584289489
         ],
         "yaxis": "y2"
        }
       ],
       "layout": {
        "font": {
         "color": "white",
         "size": 12
        },
        "height": 250,
        "legend": {
         "x": 0.01,
         "xanchor": "left",
         "y": 0.99,
         "yanchor": "top"
        },
        "margin": {
         "b": 10,
         "l": 10,
         "r": 10,
         "t": 10
        },
        "paper_bgcolor": "black",
        "plot_bgcolor": "black",
        "template": {
         "data": {
          "bar": [
           {
            "error_x": {
             "color": "#2a3f5f"
            },
            "error_y": {
             "color": "#2a3f5f"
            },
            "marker": {
             "line": {
              "color": "#E5ECF6",
              "width": 0.5
             },
             "pattern": {
              "fillmode": "overlay",
              "size": 10,
              "solidity": 0.2
             }
            },
            "type": "bar"
           }
          ],
          "barpolar": [
           {
            "marker": {
             "line": {
              "color": "#E5ECF6",
              "width": 0.5
             },
             "pattern": {
              "fillmode": "overlay",
              "size": 10,
              "solidity": 0.2
             }
            },
            "type": "barpolar"
           }
          ],
          "carpet": [
           {
            "aaxis": {
             "endlinecolor": "#2a3f5f",
             "gridcolor": "white",
             "linecolor": "white",
             "minorgridcolor": "white",
             "startlinecolor": "#2a3f5f"
            },
            "baxis": {
             "endlinecolor": "#2a3f5f",
             "gridcolor": "white",
             "linecolor": "white",
             "minorgridcolor": "white",
             "startlinecolor": "#2a3f5f"
            },
            "type": "carpet"
           }
          ],
          "choropleth": [
           {
            "colorbar": {
             "outlinewidth": 0,
             "ticks": ""
            },
            "type": "choropleth"
           }
          ],
          "contour": [
           {
            "colorbar": {
             "outlinewidth": 0,
             "ticks": ""
            },
            "colorscale": [
             [
              0,
              "#0d0887"
             ],
             [
              0.1111111111111111,
              "#46039f"
             ],
             [
              0.2222222222222222,
              "#7201a8"
             ],
             [
              0.3333333333333333,
              "#9c179e"
             ],
             [
              0.4444444444444444,
              "#bd3786"
             ],
             [
              0.5555555555555556,
              "#d8576b"
             ],
             [
              0.6666666666666666,
              "#ed7953"
             ],
             [
              0.7777777777777778,
              "#fb9f3a"
             ],
             [
              0.8888888888888888,
              "#fdca26"
             ],
             [
              1,
              "#f0f921"
             ]
            ],
            "type": "contour"
           }
          ],
          "contourcarpet": [
           {
            "colorbar": {
             "outlinewidth": 0,
             "ticks": ""
            },
            "type": "contourcarpet"
           }
          ],
          "heatmap": [
           {
            "colorbar": {
             "outlinewidth": 0,
             "ticks": ""
            },
            "colorscale": [
             [
              0,
              "#0d0887"
             ],
             [
              0.1111111111111111,
              "#46039f"
             ],
             [
              0.2222222222222222,
              "#7201a8"
             ],
             [
              0.3333333333333333,
              "#9c179e"
             ],
             [
              0.4444444444444444,
              "#bd3786"
             ],
             [
              0.5555555555555556,
              "#d8576b"
             ],
             [
              0.6666666666666666,
              "#ed7953"
             ],
             [
              0.7777777777777778,
              "#fb9f3a"
             ],
             [
              0.8888888888888888,
              "#fdca26"
             ],
             [
              1,
              "#f0f921"
             ]
            ],
            "type": "heatmap"
           }
          ],
          "heatmapgl": [
           {
            "colorbar": {
             "outlinewidth": 0,
             "ticks": ""
            },
            "colorscale": [
             [
              0,
              "#0d0887"
             ],
             [
              0.1111111111111111,
              "#46039f"
             ],
             [
              0.2222222222222222,
              "#7201a8"
             ],
             [
              0.3333333333333333,
              "#9c179e"
             ],
             [
              0.4444444444444444,
              "#bd3786"
             ],
             [
              0.5555555555555556,
              "#d8576b"
             ],
             [
              0.6666666666666666,
              "#ed7953"
             ],
             [
              0.7777777777777778,
              "#fb9f3a"
             ],
             [
              0.8888888888888888,
              "#fdca26"
             ],
             [
              1,
              "#f0f921"
             ]
            ],
            "type": "heatmapgl"
           }
          ],
          "histogram": [
           {
            "marker": {
             "pattern": {
              "fillmode": "overlay",
              "size": 10,
              "solidity": 0.2
             }
            },
            "type": "histogram"
           }
          ],
          "histogram2d": [
           {
            "colorbar": {
             "outlinewidth": 0,
             "ticks": ""
            },
            "colorscale": [
             [
              0,
              "#0d0887"
             ],
             [
              0.1111111111111111,
              "#46039f"
             ],
             [
              0.2222222222222222,
              "#7201a8"
             ],
             [
              0.3333333333333333,
              "#9c179e"
             ],
             [
              0.4444444444444444,
              "#bd3786"
             ],
             [
              0.5555555555555556,
              "#d8576b"
             ],
             [
              0.6666666666666666,
              "#ed7953"
             ],
             [
              0.7777777777777778,
              "#fb9f3a"
             ],
             [
              0.8888888888888888,
              "#fdca26"
             ],
             [
              1,
              "#f0f921"
             ]
            ],
            "type": "histogram2d"
           }
          ],
          "histogram2dcontour": [
           {
            "colorbar": {
             "outlinewidth": 0,
             "ticks": ""
            },
            "colorscale": [
             [
              0,
              "#0d0887"
             ],
             [
              0.1111111111111111,
              "#46039f"
             ],
             [
              0.2222222222222222,
              "#7201a8"
             ],
             [
              0.3333333333333333,
              "#9c179e"
             ],
             [
              0.4444444444444444,
              "#bd3786"
             ],
             [
              0.5555555555555556,
              "#d8576b"
             ],
             [
              0.6666666666666666,
              "#ed7953"
             ],
             [
              0.7777777777777778,
              "#fb9f3a"
             ],
             [
              0.8888888888888888,
              "#fdca26"
             ],
             [
              1,
              "#f0f921"
             ]
            ],
            "type": "histogram2dcontour"
           }
          ],
          "mesh3d": [
           {
            "colorbar": {
             "outlinewidth": 0,
             "ticks": ""
            },
            "type": "mesh3d"
           }
          ],
          "parcoords": [
           {
            "line": {
             "colorbar": {
              "outlinewidth": 0,
              "ticks": ""
             }
            },
            "type": "parcoords"
           }
          ],
          "pie": [
           {
            "automargin": true,
            "type": "pie"
           }
          ],
          "scatter": [
           {
            "fillpattern": {
             "fillmode": "overlay",
             "size": 10,
             "solidity": 0.2
            },
            "type": "scatter"
           }
          ],
          "scatter3d": [
           {
            "line": {
             "colorbar": {
              "outlinewidth": 0,
              "ticks": ""
             }
            },
            "marker": {
             "colorbar": {
              "outlinewidth": 0,
              "ticks": ""
             }
            },
            "type": "scatter3d"
           }
          ],
          "scattercarpet": [
           {
            "marker": {
             "colorbar": {
              "outlinewidth": 0,
              "ticks": ""
             }
            },
            "type": "scattercarpet"
           }
          ],
          "scattergeo": [
           {
            "marker": {
             "colorbar": {
              "outlinewidth": 0,
              "ticks": ""
             }
            },
            "type": "scattergeo"
           }
          ],
          "scattergl": [
           {
            "marker": {
             "colorbar": {
              "outlinewidth": 0,
              "ticks": ""
             }
            },
            "type": "scattergl"
           }
          ],
          "scattermapbox": [
           {
            "marker": {
             "colorbar": {
              "outlinewidth": 0,
              "ticks": ""
             }
            },
            "type": "scattermapbox"
           }
          ],
          "scatterpolar": [
           {
            "marker": {
             "colorbar": {
              "outlinewidth": 0,
              "ticks": ""
             }
            },
            "type": "scatterpolar"
           }
          ],
          "scatterpolargl": [
           {
            "marker": {
             "colorbar": {
              "outlinewidth": 0,
              "ticks": ""
             }
            },
            "type": "scatterpolargl"
           }
          ],
          "scatterternary": [
           {
            "marker": {
             "colorbar": {
              "outlinewidth": 0,
              "ticks": ""
             }
            },
            "type": "scatterternary"
           }
          ],
          "surface": [
           {
            "colorbar": {
             "outlinewidth": 0,
             "ticks": ""
            },
            "colorscale": [
             [
              0,
              "#0d0887"
             ],
             [
              0.1111111111111111,
              "#46039f"
             ],
             [
              0.2222222222222222,
              "#7201a8"
             ],
             [
              0.3333333333333333,
              "#9c179e"
             ],
             [
              0.4444444444444444,
              "#bd3786"
             ],
             [
              0.5555555555555556,
              "#d8576b"
             ],
             [
              0.6666666666666666,
              "#ed7953"
             ],
             [
              0.7777777777777778,
              "#fb9f3a"
             ],
             [
              0.8888888888888888,
              "#fdca26"
             ],
             [
              1,
              "#f0f921"
             ]
            ],
            "type": "surface"
           }
          ],
          "table": [
           {
            "cells": {
             "fill": {
              "color": "#EBF0F8"
             },
             "line": {
              "color": "white"
             }
            },
            "header": {
             "fill": {
              "color": "#C8D4E3"
             },
             "line": {
              "color": "white"
             }
            },
            "type": "table"
           }
          ]
         },
         "layout": {
          "annotationdefaults": {
           "arrowcolor": "#2a3f5f",
           "arrowhead": 0,
           "arrowwidth": 1
          },
          "autotypenumbers": "strict",
          "coloraxis": {
           "colorbar": {
            "outlinewidth": 0,
            "ticks": ""
           }
          },
          "colorscale": {
           "diverging": [
            [
             0,
             "#8e0152"
            ],
            [
             0.1,
             "#c51b7d"
            ],
            [
             0.2,
             "#de77ae"
            ],
            [
             0.3,
             "#f1b6da"
            ],
            [
             0.4,
             "#fde0ef"
            ],
            [
             0.5,
             "#f7f7f7"
            ],
            [
             0.6,
             "#e6f5d0"
            ],
            [
             0.7,
             "#b8e186"
            ],
            [
             0.8,
             "#7fbc41"
            ],
            [
             0.9,
             "#4d9221"
            ],
            [
             1,
             "#276419"
            ]
           ],
           "sequential": [
            [
             0,
             "#0d0887"
            ],
            [
             0.1111111111111111,
             "#46039f"
            ],
            [
             0.2222222222222222,
             "#7201a8"
            ],
            [
             0.3333333333333333,
             "#9c179e"
            ],
            [
             0.4444444444444444,
             "#bd3786"
            ],
            [
             0.5555555555555556,
             "#d8576b"
            ],
            [
             0.6666666666666666,
             "#ed7953"
            ],
            [
             0.7777777777777778,
             "#fb9f3a"
            ],
            [
             0.8888888888888888,
             "#fdca26"
            ],
            [
             1,
             "#f0f921"
            ]
           ],
           "sequentialminus": [
            [
             0,
             "#0d0887"
            ],
            [
             0.1111111111111111,
             "#46039f"
            ],
            [
             0.2222222222222222,
             "#7201a8"
            ],
            [
             0.3333333333333333,
             "#9c179e"
            ],
            [
             0.4444444444444444,
             "#bd3786"
            ],
            [
             0.5555555555555556,
             "#d8576b"
            ],
            [
             0.6666666666666666,
             "#ed7953"
            ],
            [
             0.7777777777777778,
             "#fb9f3a"
            ],
            [
             0.8888888888888888,
             "#fdca26"
            ],
            [
             1,
             "#f0f921"
            ]
           ]
          },
          "colorway": [
           "#636efa",
           "#EF553B",
           "#00cc96",
           "#ab63fa",
           "#FFA15A",
           "#19d3f3",
           "#FF6692",
           "#B6E880",
           "#FF97FF",
           "#FECB52"
          ],
          "font": {
           "color": "#2a3f5f"
          },
          "geo": {
           "bgcolor": "white",
           "lakecolor": "white",
           "landcolor": "#E5ECF6",
           "showlakes": true,
           "showland": true,
           "subunitcolor": "white"
          },
          "hoverlabel": {
           "align": "left"
          },
          "hovermode": "closest",
          "mapbox": {
           "style": "light"
          },
          "paper_bgcolor": "white",
          "plot_bgcolor": "#E5ECF6",
          "polar": {
           "angularaxis": {
            "gridcolor": "white",
            "linecolor": "white",
            "ticks": ""
           },
           "bgcolor": "#E5ECF6",
           "radialaxis": {
            "gridcolor": "white",
            "linecolor": "white",
            "ticks": ""
           }
          },
          "scene": {
           "xaxis": {
            "backgroundcolor": "#E5ECF6",
            "gridcolor": "white",
            "gridwidth": 2,
            "linecolor": "white",
            "showbackground": true,
            "ticks": "",
            "zerolinecolor": "white"
           },
           "yaxis": {
            "backgroundcolor": "#E5ECF6",
            "gridcolor": "white",
            "gridwidth": 2,
            "linecolor": "white",
            "showbackground": true,
            "ticks": "",
            "zerolinecolor": "white"
           },
           "zaxis": {
            "backgroundcolor": "#E5ECF6",
            "gridcolor": "white",
            "gridwidth": 2,
            "linecolor": "white",
            "showbackground": true,
            "ticks": "",
            "zerolinecolor": "white"
           }
          },
          "shapedefaults": {
           "line": {
            "color": "#2a3f5f"
           }
          },
          "ternary": {
           "aaxis": {
            "gridcolor": "white",
            "linecolor": "white",
            "ticks": ""
           },
           "baxis": {
            "gridcolor": "white",
            "linecolor": "white",
            "ticks": ""
           },
           "bgcolor": "#E5ECF6",
           "caxis": {
            "gridcolor": "white",
            "linecolor": "white",
            "ticks": ""
           }
          },
          "title": {
           "x": 0.05
          },
          "xaxis": {
           "automargin": true,
           "gridcolor": "white",
           "linecolor": "white",
           "ticks": "",
           "title": {
            "standoff": 15
           },
           "zerolinecolor": "white",
           "zerolinewidth": 2
          },
          "yaxis": {
           "automargin": true,
           "gridcolor": "white",
           "linecolor": "white",
           "ticks": "",
           "title": {
            "standoff": 15
           },
           "zerolinecolor": "white",
           "zerolinewidth": 2
          }
         }
        },
        "title": {
         "text": "Trading Chart"
        },
        "width": 1500,
        "xaxis": {
         "anchor": "y",
         "domain": [
          0,
          0.94
         ],
         "gridcolor": "lightgray",
         "nticks": 5,
         "rangeslider": {
          "visible": false
         },
         "title": {
          "text": "Time"
         }
        },
        "yaxis": {
         "anchor": "x",
         "domain": [
          0,
          1
         ],
         "gridcolor": "lightgray",
         "title": {
          "text": "Price"
         }
        },
        "yaxis2": {
         "anchor": "x",
         "gridcolor": "lightgray",
         "overlaying": "y",
         "side": "right",
         "title": {
          "text": "Price"
         }
        }
       }
      }
     },
     "metadata": {},
     "output_type": "display_data"
    }
   ],
   "source": [
    "df_plot = df_slim.iloc[70:100]\n",
    "cp = CandlePlot(df_plot, candles=True)\n",
    "\n",
    "trades = cp.df_plot[cp.df_plot.SIGNAL != NONE]\n",
    "\n",
    "markers = ['mid_c', 'TP', 'SL']\n",
    "marker_colors = ['#0000FF', '#00FF00', '#FF0000']\n",
    "\n",
    "for i in range(3):\n",
    "    cp.fig.add_trace(go.Scatter(\n",
    "        x=trades.sTime,\n",
    "        y=trades[markers[i]],\n",
    "        mode='markers',\n",
    "        marker=dict(color=marker_colors[i], size=12)\n",
    "    ))\n",
    "\n",
    "cp.show_plot(line_traces=[\"EMA_200\"], sec_traces=['RSI_14'], height=250)"
   ]
  },
  {
   "cell_type": "code",
   "execution_count": 22,
   "id": "48459b4f",
   "metadata": {},
   "outputs": [],
   "source": [
    "class Trade:\n",
    "    def __init__(self, row):\n",
    "        self.running = True\n",
    "        self.start_index = row.name\n",
    "\n",
    "        if row.SIGNAL == BUY:\n",
    "            self.start_price = row.ask_c\n",
    "            self.trigger_price = row.ask_c\n",
    "        else:\n",
    "            self.start_price = row.bid_c\n",
    "            self.trigger_price = row.bid_c\n",
    "\n",
    "        self.SIGNAL = row.SIGNAL\n",
    "        self.TP = row.TP\n",
    "        self.SL = row.SL\n",
    "        self.result = 0.0\n",
    "        self.end_time = row.time\n",
    "        self.start_time = row.time\n",
    "        self.duration = 0\n",
    "\n",
    "    def close_trade(self, row, result, trigger_price):\n",
    "        self.running = False\n",
    "        self.result = result\n",
    "        self.end_time = row.time\n",
    "        self.trigger_price = trigger_price\n",
    "\n",
    "    def update(self, row):\n",
    "        self.duration += 1\n",
    "        if self.SIGNAL == BUY:\n",
    "            if row.bid_h >= self.TP:\n",
    "                self.close_trade(row, PROFIT_FACTOR, row.bid_h)\n",
    "            elif row.bid_l <= self.SL:\n",
    "                self.close_trade(row, LOSS_FACTOR, row.bid_l)\n",
    "        if self.SIGNAL == SELL:\n",
    "            if row.ask_l <= self.TP:\n",
    "                self.close_trade(row, PROFIT_FACTOR, row.ask_l)\n",
    "            elif row.ask_h >= self.SL:\n",
    "                self.close_trade(row, LOSS_FACTOR, row.ask_h)"
   ]
  },
  {
   "cell_type": "code",
   "execution_count": 23,
   "id": "f5fa22a7",
   "metadata": {},
   "outputs": [],
   "source": [
    "open_trades = []\n",
    "closed_trades = []\n",
    "\n",
    "for index, row in df_slim.iterrows():\n",
    "    for ot in open_trades:\n",
    "        ot.update(row)\n",
    "        if ot.running == False:\n",
    "            closed_trades.append(ot)\n",
    "    open_trades = [x for x in open_trades if x.running == True]\n",
    "\n",
    "    if row.SIGNAL != NONE:\n",
    "        open_trades.append(Trade(row))"
   ]
  },
  {
   "cell_type": "code",
   "execution_count": 24,
   "id": "4020ad76",
   "metadata": {},
   "outputs": [],
   "source": [
    "df_results = pd.DataFrame.from_dict([vars(x) for x in closed_trades])"
   ]
  },
  {
   "cell_type": "code",
   "execution_count": 25,
   "id": "bd745bed",
   "metadata": {},
   "outputs": [
    {
     "data": {
      "text/plain": [
       "-603.0"
      ]
     },
     "execution_count": 25,
     "metadata": {},
     "output_type": "execute_result"
    }
   ],
   "source": [
    "df_results.result.sum()"
   ]
  },
  {
   "cell_type": "code",
   "execution_count": 26,
   "id": "7f6a9b79",
   "metadata": {},
   "outputs": [],
   "source": [
    "df_results.sort_values(by=\"start_index\", inplace=True)"
   ]
  },
  {
   "cell_type": "code",
   "execution_count": 27,
   "id": "0443a648",
   "metadata": {},
   "outputs": [],
   "source": [
    "df_m5 = pd.read_csv(\"../data/candles/EUR_JPY_M5.csv\")"
   ]
  },
  {
   "cell_type": "code",
   "execution_count": 28,
   "id": "de1da2fe",
   "metadata": {},
   "outputs": [
    {
     "data": {
      "text/plain": [
       "(812289, 15)"
      ]
     },
     "execution_count": 28,
     "metadata": {},
     "output_type": "execute_result"
    }
   ],
   "source": [
    "df_m5.shape"
   ]
  },
  {
   "cell_type": "code",
   "execution_count": 29,
   "id": "301f614e",
   "metadata": {},
   "outputs": [],
   "source": [
    "df_m5_slim = df_m5[['time', 'bid_h', 'bid_l', 'ask_h', 'ask_l']].copy()"
   ]
  },
  {
   "cell_type": "code",
   "execution_count": 30,
   "id": "94d93243",
   "metadata": {},
   "outputs": [
    {
     "data": {
      "text/html": [
       "<div>\n",
       "<style scoped>\n",
       "    .dataframe tbody tr th:only-of-type {\n",
       "        vertical-align: middle;\n",
       "    }\n",
       "\n",
       "    .dataframe tbody tr th {\n",
       "        vertical-align: top;\n",
       "    }\n",
       "\n",
       "    .dataframe thead th {\n",
       "        text-align: right;\n",
       "    }\n",
       "</style>\n",
       "<table border=\"1\" class=\"dataframe\">\n",
       "  <thead>\n",
       "    <tr style=\"text-align: right;\">\n",
       "      <th></th>\n",
       "      <th>time</th>\n",
       "      <th>bid_h</th>\n",
       "      <th>bid_l</th>\n",
       "      <th>ask_h</th>\n",
       "      <th>ask_l</th>\n",
       "    </tr>\n",
       "  </thead>\n",
       "  <tbody>\n",
       "    <tr>\n",
       "      <th>0</th>\n",
       "      <td>2013-01-07 00:00:00+00:00</td>\n",
       "      <td>115.272</td>\n",
       "      <td>115.068</td>\n",
       "      <td>115.292</td>\n",
       "      <td>115.090</td>\n",
       "    </tr>\n",
       "    <tr>\n",
       "      <th>1</th>\n",
       "      <td>2013-01-07 00:05:00+00:00</td>\n",
       "      <td>115.203</td>\n",
       "      <td>115.074</td>\n",
       "      <td>115.226</td>\n",
       "      <td>115.099</td>\n",
       "    </tr>\n",
       "    <tr>\n",
       "      <th>2</th>\n",
       "      <td>2013-01-07 00:10:00+00:00</td>\n",
       "      <td>115.138</td>\n",
       "      <td>115.021</td>\n",
       "      <td>115.157</td>\n",
       "      <td>115.040</td>\n",
       "    </tr>\n",
       "    <tr>\n",
       "      <th>3</th>\n",
       "      <td>2013-01-07 00:15:00+00:00</td>\n",
       "      <td>115.141</td>\n",
       "      <td>115.072</td>\n",
       "      <td>115.161</td>\n",
       "      <td>115.099</td>\n",
       "    </tr>\n",
       "    <tr>\n",
       "      <th>4</th>\n",
       "      <td>2013-01-07 00:20:00+00:00</td>\n",
       "      <td>115.117</td>\n",
       "      <td>114.862</td>\n",
       "      <td>115.133</td>\n",
       "      <td>114.885</td>\n",
       "    </tr>\n",
       "  </tbody>\n",
       "</table>\n",
       "</div>"
      ],
      "text/plain": [
       "                        time    bid_h    bid_l    ask_h    ask_l\n",
       "0  2013-01-07 00:00:00+00:00  115.272  115.068  115.292  115.090\n",
       "1  2013-01-07 00:05:00+00:00  115.203  115.074  115.226  115.099\n",
       "2  2013-01-07 00:10:00+00:00  115.138  115.021  115.157  115.040\n",
       "3  2013-01-07 00:15:00+00:00  115.141  115.072  115.161  115.099\n",
       "4  2013-01-07 00:20:00+00:00  115.117  114.862  115.133  114.885"
      ]
     },
     "execution_count": 30,
     "metadata": {},
     "output_type": "execute_result"
    }
   ],
   "source": [
    "df_m5_slim.head()"
   ]
  },
  {
   "cell_type": "code",
   "execution_count": 31,
   "id": "a534aa58",
   "metadata": {},
   "outputs": [],
   "source": [
    "df_signals = df_slim[df_slim.SIGNAL != NONE].copy()"
   ]
  },
  {
   "cell_type": "code",
   "execution_count": 32,
   "id": "a634cf5b",
   "metadata": {},
   "outputs": [],
   "source": [
    "df_signals['time'] = pd.to_datetime(df_signals['time'])\n",
    "df_signals['m5_start'] = df_signals['time'] + pd.Timedelta(hours=1)"
   ]
  },
  {
   "cell_type": "code",
   "execution_count": 33,
   "id": "a87b9c39",
   "metadata": {},
   "outputs": [],
   "source": [
    "df_signals['start_index_h1'] = df_signals.index"
   ]
  },
  {
   "cell_type": "code",
   "execution_count": 34,
   "id": "55b9d019",
   "metadata": {},
   "outputs": [
    {
     "data": {
      "text/html": [
       "<div>\n",
       "<style scoped>\n",
       "    .dataframe tbody tr th:only-of-type {\n",
       "        vertical-align: middle;\n",
       "    }\n",
       "\n",
       "    .dataframe tbody tr th {\n",
       "        vertical-align: top;\n",
       "    }\n",
       "\n",
       "    .dataframe thead th {\n",
       "        text-align: right;\n",
       "    }\n",
       "</style>\n",
       "<table border=\"1\" class=\"dataframe\">\n",
       "  <thead>\n",
       "    <tr style=\"text-align: right;\">\n",
       "      <th></th>\n",
       "      <th>time</th>\n",
       "      <th>mid_o</th>\n",
       "      <th>mid_h</th>\n",
       "      <th>mid_l</th>\n",
       "      <th>mid_c</th>\n",
       "      <th>bid_o</th>\n",
       "      <th>bid_h</th>\n",
       "      <th>bid_l</th>\n",
       "      <th>bid_c</th>\n",
       "      <th>ask_o</th>\n",
       "      <th>...</th>\n",
       "      <th>ask_c</th>\n",
       "      <th>ENGULFING</th>\n",
       "      <th>direction</th>\n",
       "      <th>EMA_200</th>\n",
       "      <th>RSI_14</th>\n",
       "      <th>SIGNAL</th>\n",
       "      <th>TP</th>\n",
       "      <th>SL</th>\n",
       "      <th>m5_start</th>\n",
       "      <th>start_index_h1</th>\n",
       "    </tr>\n",
       "  </thead>\n",
       "  <tbody>\n",
       "    <tr>\n",
       "      <th>4</th>\n",
       "      <td>2013-01-17 08:00:00+00:00</td>\n",
       "      <td>117.774</td>\n",
       "      <td>118.610</td>\n",
       "      <td>117.761</td>\n",
       "      <td>118.545</td>\n",
       "      <td>117.764</td>\n",
       "      <td>118.602</td>\n",
       "      <td>117.751</td>\n",
       "      <td>118.536</td>\n",
       "      <td>117.784</td>\n",
       "      <td>...</td>\n",
       "      <td>118.554</td>\n",
       "      <td>True</td>\n",
       "      <td>1</td>\n",
       "      <td>117.522991</td>\n",
       "      <td>60.945498</td>\n",
       "      <td>1</td>\n",
       "      <td>119.7090</td>\n",
       "      <td>117.784</td>\n",
       "      <td>2013-01-17 09:00:00+00:00</td>\n",
       "      <td>4</td>\n",
       "    </tr>\n",
       "    <tr>\n",
       "      <th>11</th>\n",
       "      <td>2013-01-17 15:00:00+00:00</td>\n",
       "      <td>119.302</td>\n",
       "      <td>119.458</td>\n",
       "      <td>119.146</td>\n",
       "      <td>119.428</td>\n",
       "      <td>119.279</td>\n",
       "      <td>119.449</td>\n",
       "      <td>119.126</td>\n",
       "      <td>119.416</td>\n",
       "      <td>119.326</td>\n",
       "      <td>...</td>\n",
       "      <td>119.439</td>\n",
       "      <td>True</td>\n",
       "      <td>1</td>\n",
       "      <td>117.661294</td>\n",
       "      <td>70.260116</td>\n",
       "      <td>1</td>\n",
       "      <td>119.6085</td>\n",
       "      <td>119.326</td>\n",
       "      <td>2013-01-17 16:00:00+00:00</td>\n",
       "      <td>11</td>\n",
       "    </tr>\n",
       "    <tr>\n",
       "      <th>13</th>\n",
       "      <td>2013-01-17 17:00:00+00:00</td>\n",
       "      <td>119.420</td>\n",
       "      <td>120.034</td>\n",
       "      <td>119.418</td>\n",
       "      <td>119.882</td>\n",
       "      <td>119.409</td>\n",
       "      <td>120.024</td>\n",
       "      <td>119.407</td>\n",
       "      <td>119.870</td>\n",
       "      <td>119.432</td>\n",
       "      <td>...</td>\n",
       "      <td>119.893</td>\n",
       "      <td>True</td>\n",
       "      <td>1</td>\n",
       "      <td>117.706077</td>\n",
       "      <td>92.300319</td>\n",
       "      <td>1</td>\n",
       "      <td>120.5845</td>\n",
       "      <td>119.432</td>\n",
       "      <td>2013-01-17 18:00:00+00:00</td>\n",
       "      <td>13</td>\n",
       "    </tr>\n",
       "    <tr>\n",
       "      <th>23</th>\n",
       "      <td>2013-01-18 03:00:00+00:00</td>\n",
       "      <td>120.084</td>\n",
       "      <td>120.460</td>\n",
       "      <td>120.078</td>\n",
       "      <td>120.434</td>\n",
       "      <td>120.077</td>\n",
       "      <td>120.455</td>\n",
       "      <td>120.071</td>\n",
       "      <td>120.424</td>\n",
       "      <td>120.091</td>\n",
       "      <td>...</td>\n",
       "      <td>120.443</td>\n",
       "      <td>True</td>\n",
       "      <td>1</td>\n",
       "      <td>117.975841</td>\n",
       "      <td>73.264033</td>\n",
       "      <td>1</td>\n",
       "      <td>120.9710</td>\n",
       "      <td>120.091</td>\n",
       "      <td>2013-01-18 04:00:00+00:00</td>\n",
       "      <td>23</td>\n",
       "    </tr>\n",
       "    <tr>\n",
       "      <th>45</th>\n",
       "      <td>2013-01-20 22:00:00+00:00</td>\n",
       "      <td>119.925</td>\n",
       "      <td>120.240</td>\n",
       "      <td>119.910</td>\n",
       "      <td>119.994</td>\n",
       "      <td>119.909</td>\n",
       "      <td>120.226</td>\n",
       "      <td>119.891</td>\n",
       "      <td>119.978</td>\n",
       "      <td>119.941</td>\n",
       "      <td>...</td>\n",
       "      <td>120.011</td>\n",
       "      <td>True</td>\n",
       "      <td>1</td>\n",
       "      <td>118.415687</td>\n",
       "      <td>52.622378</td>\n",
       "      <td>1</td>\n",
       "      <td>120.1160</td>\n",
       "      <td>119.941</td>\n",
       "      <td>2013-01-20 23:00:00+00:00</td>\n",
       "      <td>45</td>\n",
       "    </tr>\n",
       "  </tbody>\n",
       "</table>\n",
       "<p>5 rows × 22 columns</p>\n",
       "</div>"
      ],
      "text/plain": [
       "                        time    mid_o    mid_h    mid_l    mid_c    bid_o  \\\n",
       "4  2013-01-17 08:00:00+00:00  117.774  118.610  117.761  118.545  117.764   \n",
       "11 2013-01-17 15:00:00+00:00  119.302  119.458  119.146  119.428  119.279   \n",
       "13 2013-01-17 17:00:00+00:00  119.420  120.034  119.418  119.882  119.409   \n",
       "23 2013-01-18 03:00:00+00:00  120.084  120.460  120.078  120.434  120.077   \n",
       "45 2013-01-20 22:00:00+00:00  119.925  120.240  119.910  119.994  119.909   \n",
       "\n",
       "      bid_h    bid_l    bid_c    ask_o  ...    ask_c  ENGULFING  direction  \\\n",
       "4   118.602  117.751  118.536  117.784  ...  118.554       True          1   \n",
       "11  119.449  119.126  119.416  119.326  ...  119.439       True          1   \n",
       "13  120.024  119.407  119.870  119.432  ...  119.893       True          1   \n",
       "23  120.455  120.071  120.424  120.091  ...  120.443       True          1   \n",
       "45  120.226  119.891  119.978  119.941  ...  120.011       True          1   \n",
       "\n",
       "       EMA_200     RSI_14  SIGNAL        TP       SL  \\\n",
       "4   117.522991  60.945498       1  119.7090  117.784   \n",
       "11  117.661294  70.260116       1  119.6085  119.326   \n",
       "13  117.706077  92.300319       1  120.5845  119.432   \n",
       "23  117.975841  73.264033       1  120.9710  120.091   \n",
       "45  118.415687  52.622378       1  120.1160  119.941   \n",
       "\n",
       "                    m5_start  start_index_h1  \n",
       "4  2013-01-17 09:00:00+00:00               4  \n",
       "11 2013-01-17 16:00:00+00:00              11  \n",
       "13 2013-01-17 18:00:00+00:00              13  \n",
       "23 2013-01-18 04:00:00+00:00              23  \n",
       "45 2013-01-20 23:00:00+00:00              45  \n",
       "\n",
       "[5 rows x 22 columns]"
      ]
     },
     "execution_count": 34,
     "metadata": {},
     "output_type": "execute_result"
    }
   ],
   "source": [
    "df_signals.head()"
   ]
  },
  {
   "cell_type": "code",
   "execution_count": 35,
   "id": "78d349b1",
   "metadata": {},
   "outputs": [
    {
     "data": {
      "text/plain": [
       "Index(['time', 'mid_o', 'mid_h', 'mid_l', 'mid_c', 'bid_o', 'bid_h', 'bid_l',\n",
       "       'bid_c', 'ask_o', 'ask_h', 'ask_l', 'ask_c', 'ENGULFING', 'direction',\n",
       "       'EMA_200', 'RSI_14', 'SIGNAL', 'TP', 'SL', 'm5_start',\n",
       "       'start_index_h1'],\n",
       "      dtype='object')"
      ]
     },
     "execution_count": 35,
     "metadata": {},
     "output_type": "execute_result"
    }
   ],
   "source": [
    "df_signals.columns"
   ]
  },
  {
   "cell_type": "code",
   "execution_count": 36,
   "id": "d16475b2",
   "metadata": {},
   "outputs": [],
   "source": [
    "df_signals.drop(['time', 'mid_o', 'mid_h', 'mid_l', 'mid_c', 'bid_o', 'bid_h', 'bid_l',\n",
    "                 'ask_o', 'ask_h', 'ask_l', 'ENGULFING', 'direction',\n",
    "                 'EMA_200', 'RSI_14'], axis=1, inplace=True)"
   ]
  },
  {
   "cell_type": "code",
   "execution_count": 37,
   "id": "5924a24c",
   "metadata": {},
   "outputs": [
    {
     "data": {
      "text/html": [
       "<div>\n",
       "<style scoped>\n",
       "    .dataframe tbody tr th:only-of-type {\n",
       "        vertical-align: middle;\n",
       "    }\n",
       "\n",
       "    .dataframe tbody tr th {\n",
       "        vertical-align: top;\n",
       "    }\n",
       "\n",
       "    .dataframe thead th {\n",
       "        text-align: right;\n",
       "    }\n",
       "</style>\n",
       "<table border=\"1\" class=\"dataframe\">\n",
       "  <thead>\n",
       "    <tr style=\"text-align: right;\">\n",
       "      <th></th>\n",
       "      <th>bid_c</th>\n",
       "      <th>ask_c</th>\n",
       "      <th>SIGNAL</th>\n",
       "      <th>TP</th>\n",
       "      <th>SL</th>\n",
       "      <th>m5_start</th>\n",
       "      <th>start_index_h1</th>\n",
       "    </tr>\n",
       "  </thead>\n",
       "  <tbody>\n",
       "    <tr>\n",
       "      <th>4</th>\n",
       "      <td>118.536</td>\n",
       "      <td>118.554</td>\n",
       "      <td>1</td>\n",
       "      <td>119.7090</td>\n",
       "      <td>117.784</td>\n",
       "      <td>2013-01-17 09:00:00+00:00</td>\n",
       "      <td>4</td>\n",
       "    </tr>\n",
       "    <tr>\n",
       "      <th>11</th>\n",
       "      <td>119.416</td>\n",
       "      <td>119.439</td>\n",
       "      <td>1</td>\n",
       "      <td>119.6085</td>\n",
       "      <td>119.326</td>\n",
       "      <td>2013-01-17 16:00:00+00:00</td>\n",
       "      <td>11</td>\n",
       "    </tr>\n",
       "    <tr>\n",
       "      <th>13</th>\n",
       "      <td>119.870</td>\n",
       "      <td>119.893</td>\n",
       "      <td>1</td>\n",
       "      <td>120.5845</td>\n",
       "      <td>119.432</td>\n",
       "      <td>2013-01-17 18:00:00+00:00</td>\n",
       "      <td>13</td>\n",
       "    </tr>\n",
       "    <tr>\n",
       "      <th>23</th>\n",
       "      <td>120.424</td>\n",
       "      <td>120.443</td>\n",
       "      <td>1</td>\n",
       "      <td>120.9710</td>\n",
       "      <td>120.091</td>\n",
       "      <td>2013-01-18 04:00:00+00:00</td>\n",
       "      <td>23</td>\n",
       "    </tr>\n",
       "    <tr>\n",
       "      <th>45</th>\n",
       "      <td>119.978</td>\n",
       "      <td>120.011</td>\n",
       "      <td>1</td>\n",
       "      <td>120.1160</td>\n",
       "      <td>119.941</td>\n",
       "      <td>2013-01-20 23:00:00+00:00</td>\n",
       "      <td>45</td>\n",
       "    </tr>\n",
       "  </tbody>\n",
       "</table>\n",
       "</div>"
      ],
      "text/plain": [
       "      bid_c    ask_c  SIGNAL        TP       SL                  m5_start  \\\n",
       "4   118.536  118.554       1  119.7090  117.784 2013-01-17 09:00:00+00:00   \n",
       "11  119.416  119.439       1  119.6085  119.326 2013-01-17 16:00:00+00:00   \n",
       "13  119.870  119.893       1  120.5845  119.432 2013-01-17 18:00:00+00:00   \n",
       "23  120.424  120.443       1  120.9710  120.091 2013-01-18 04:00:00+00:00   \n",
       "45  119.978  120.011       1  120.1160  119.941 2013-01-20 23:00:00+00:00   \n",
       "\n",
       "    start_index_h1  \n",
       "4                4  \n",
       "11              11  \n",
       "13              13  \n",
       "23              23  \n",
       "45              45  "
      ]
     },
     "execution_count": 37,
     "metadata": {},
     "output_type": "execute_result"
    }
   ],
   "source": [
    "df_signals.head()"
   ]
  },
  {
   "cell_type": "code",
   "execution_count": 38,
   "id": "8d3db758",
   "metadata": {},
   "outputs": [],
   "source": [
    "df_signals.rename(columns={\n",
    "    'bid_c': 'start_price_BUY',\n",
    "    'ask_c': 'start_price_SELL',\n",
    "    'm5_start': 'time'\n",
    "}, inplace=True)"
   ]
  },
  {
   "cell_type": "code",
   "execution_count": 39,
   "id": "aec9d5ae",
   "metadata": {},
   "outputs": [
    {
     "data": {
      "text/html": [
       "<div>\n",
       "<style scoped>\n",
       "    .dataframe tbody tr th:only-of-type {\n",
       "        vertical-align: middle;\n",
       "    }\n",
       "\n",
       "    .dataframe tbody tr th {\n",
       "        vertical-align: top;\n",
       "    }\n",
       "\n",
       "    .dataframe thead th {\n",
       "        text-align: right;\n",
       "    }\n",
       "</style>\n",
       "<table border=\"1\" class=\"dataframe\">\n",
       "  <thead>\n",
       "    <tr style=\"text-align: right;\">\n",
       "      <th></th>\n",
       "      <th>start_price_BUY</th>\n",
       "      <th>start_price_SELL</th>\n",
       "      <th>SIGNAL</th>\n",
       "      <th>TP</th>\n",
       "      <th>SL</th>\n",
       "      <th>time</th>\n",
       "      <th>start_index_h1</th>\n",
       "    </tr>\n",
       "  </thead>\n",
       "  <tbody>\n",
       "    <tr>\n",
       "      <th>4</th>\n",
       "      <td>118.536</td>\n",
       "      <td>118.554</td>\n",
       "      <td>1</td>\n",
       "      <td>119.7090</td>\n",
       "      <td>117.784</td>\n",
       "      <td>2013-01-17 09:00:00+00:00</td>\n",
       "      <td>4</td>\n",
       "    </tr>\n",
       "    <tr>\n",
       "      <th>11</th>\n",
       "      <td>119.416</td>\n",
       "      <td>119.439</td>\n",
       "      <td>1</td>\n",
       "      <td>119.6085</td>\n",
       "      <td>119.326</td>\n",
       "      <td>2013-01-17 16:00:00+00:00</td>\n",
       "      <td>11</td>\n",
       "    </tr>\n",
       "  </tbody>\n",
       "</table>\n",
       "</div>"
      ],
      "text/plain": [
       "    start_price_BUY  start_price_SELL  SIGNAL        TP       SL  \\\n",
       "4           118.536           118.554       1  119.7090  117.784   \n",
       "11          119.416           119.439       1  119.6085  119.326   \n",
       "\n",
       "                        time  start_index_h1  \n",
       "4  2013-01-17 09:00:00+00:00               4  \n",
       "11 2013-01-17 16:00:00+00:00              11  "
      ]
     },
     "execution_count": 39,
     "metadata": {},
     "output_type": "execute_result"
    }
   ],
   "source": [
    "df_signals.head(2)"
   ]
  },
  {
   "cell_type": "code",
   "execution_count": 40,
   "id": "ae7ca4af",
   "metadata": {},
   "outputs": [
    {
     "data": {
      "text/html": [
       "<div>\n",
       "<style scoped>\n",
       "    .dataframe tbody tr th:only-of-type {\n",
       "        vertical-align: middle;\n",
       "    }\n",
       "\n",
       "    .dataframe tbody tr th {\n",
       "        vertical-align: top;\n",
       "    }\n",
       "\n",
       "    .dataframe thead th {\n",
       "        text-align: right;\n",
       "    }\n",
       "</style>\n",
       "<table border=\"1\" class=\"dataframe\">\n",
       "  <thead>\n",
       "    <tr style=\"text-align: right;\">\n",
       "      <th></th>\n",
       "      <th>time</th>\n",
       "      <th>bid_h</th>\n",
       "      <th>bid_l</th>\n",
       "      <th>ask_h</th>\n",
       "      <th>ask_l</th>\n",
       "    </tr>\n",
       "  </thead>\n",
       "  <tbody>\n",
       "    <tr>\n",
       "      <th>0</th>\n",
       "      <td>2013-01-07 00:00:00+00:00</td>\n",
       "      <td>115.272</td>\n",
       "      <td>115.068</td>\n",
       "      <td>115.292</td>\n",
       "      <td>115.090</td>\n",
       "    </tr>\n",
       "    <tr>\n",
       "      <th>1</th>\n",
       "      <td>2013-01-07 00:05:00+00:00</td>\n",
       "      <td>115.203</td>\n",
       "      <td>115.074</td>\n",
       "      <td>115.226</td>\n",
       "      <td>115.099</td>\n",
       "    </tr>\n",
       "  </tbody>\n",
       "</table>\n",
       "</div>"
      ],
      "text/plain": [
       "                        time    bid_h    bid_l    ask_h    ask_l\n",
       "0  2013-01-07 00:00:00+00:00  115.272  115.068  115.292  115.090\n",
       "1  2013-01-07 00:05:00+00:00  115.203  115.074  115.226  115.099"
      ]
     },
     "execution_count": 40,
     "metadata": {},
     "output_type": "execute_result"
    }
   ],
   "source": [
    "df_m5_slim.head(2)"
   ]
  },
  {
   "cell_type": "code",
   "execution_count": 41,
   "id": "48ffdab0",
   "metadata": {},
   "outputs": [],
   "source": [
    "df_m5_slim['time'] = pd.to_datetime(df_m5_slim['time'])\n",
    "df_signals['time'] = pd.to_datetime(df_signals['time'])\n",
    "merged = pd.merge(left=df_m5_slim, right=df_signals, on='time', how='left')"
   ]
  },
  {
   "cell_type": "code",
   "execution_count": 42,
   "id": "e82a939b",
   "metadata": {},
   "outputs": [],
   "source": [
    "merged.fillna(0, inplace=True)"
   ]
  },
  {
   "cell_type": "code",
   "execution_count": 43,
   "id": "4b9fac68",
   "metadata": {},
   "outputs": [],
   "source": [
    "merged.SIGNAL = merged.SIGNAL.astype(int)\n",
    "merged.start_index_h1 = merged.start_index_h1.astype(int)"
   ]
  },
  {
   "cell_type": "code",
   "execution_count": 44,
   "id": "d6b724e3",
   "metadata": {},
   "outputs": [
    {
     "data": {
      "text/html": [
       "<div>\n",
       "<style scoped>\n",
       "    .dataframe tbody tr th:only-of-type {\n",
       "        vertical-align: middle;\n",
       "    }\n",
       "\n",
       "    .dataframe tbody tr th {\n",
       "        vertical-align: top;\n",
       "    }\n",
       "\n",
       "    .dataframe thead th {\n",
       "        text-align: right;\n",
       "    }\n",
       "</style>\n",
       "<table border=\"1\" class=\"dataframe\">\n",
       "  <thead>\n",
       "    <tr style=\"text-align: right;\">\n",
       "      <th></th>\n",
       "      <th>time</th>\n",
       "      <th>bid_h</th>\n",
       "      <th>bid_l</th>\n",
       "      <th>ask_h</th>\n",
       "      <th>ask_l</th>\n",
       "      <th>start_price_BUY</th>\n",
       "      <th>start_price_SELL</th>\n",
       "      <th>SIGNAL</th>\n",
       "      <th>TP</th>\n",
       "      <th>SL</th>\n",
       "      <th>start_index_h1</th>\n",
       "    </tr>\n",
       "  </thead>\n",
       "  <tbody>\n",
       "    <tr>\n",
       "      <th>0</th>\n",
       "      <td>2013-01-07 00:00:00+00:00</td>\n",
       "      <td>115.272</td>\n",
       "      <td>115.068</td>\n",
       "      <td>115.292</td>\n",
       "      <td>115.090</td>\n",
       "      <td>0.0</td>\n",
       "      <td>0.0</td>\n",
       "      <td>0</td>\n",
       "      <td>0.0</td>\n",
       "      <td>0.0</td>\n",
       "      <td>0</td>\n",
       "    </tr>\n",
       "    <tr>\n",
       "      <th>1</th>\n",
       "      <td>2013-01-07 00:05:00+00:00</td>\n",
       "      <td>115.203</td>\n",
       "      <td>115.074</td>\n",
       "      <td>115.226</td>\n",
       "      <td>115.099</td>\n",
       "      <td>0.0</td>\n",
       "      <td>0.0</td>\n",
       "      <td>0</td>\n",
       "      <td>0.0</td>\n",
       "      <td>0.0</td>\n",
       "      <td>0</td>\n",
       "    </tr>\n",
       "    <tr>\n",
       "      <th>2</th>\n",
       "      <td>2013-01-07 00:10:00+00:00</td>\n",
       "      <td>115.138</td>\n",
       "      <td>115.021</td>\n",
       "      <td>115.157</td>\n",
       "      <td>115.040</td>\n",
       "      <td>0.0</td>\n",
       "      <td>0.0</td>\n",
       "      <td>0</td>\n",
       "      <td>0.0</td>\n",
       "      <td>0.0</td>\n",
       "      <td>0</td>\n",
       "    </tr>\n",
       "    <tr>\n",
       "      <th>3</th>\n",
       "      <td>2013-01-07 00:15:00+00:00</td>\n",
       "      <td>115.141</td>\n",
       "      <td>115.072</td>\n",
       "      <td>115.161</td>\n",
       "      <td>115.099</td>\n",
       "      <td>0.0</td>\n",
       "      <td>0.0</td>\n",
       "      <td>0</td>\n",
       "      <td>0.0</td>\n",
       "      <td>0.0</td>\n",
       "      <td>0</td>\n",
       "    </tr>\n",
       "    <tr>\n",
       "      <th>4</th>\n",
       "      <td>2013-01-07 00:20:00+00:00</td>\n",
       "      <td>115.117</td>\n",
       "      <td>114.862</td>\n",
       "      <td>115.133</td>\n",
       "      <td>114.885</td>\n",
       "      <td>0.0</td>\n",
       "      <td>0.0</td>\n",
       "      <td>0</td>\n",
       "      <td>0.0</td>\n",
       "      <td>0.0</td>\n",
       "      <td>0</td>\n",
       "    </tr>\n",
       "  </tbody>\n",
       "</table>\n",
       "</div>"
      ],
      "text/plain": [
       "                       time    bid_h    bid_l    ask_h    ask_l  \\\n",
       "0 2013-01-07 00:00:00+00:00  115.272  115.068  115.292  115.090   \n",
       "1 2013-01-07 00:05:00+00:00  115.203  115.074  115.226  115.099   \n",
       "2 2013-01-07 00:10:00+00:00  115.138  115.021  115.157  115.040   \n",
       "3 2013-01-07 00:15:00+00:00  115.141  115.072  115.161  115.099   \n",
       "4 2013-01-07 00:20:00+00:00  115.117  114.862  115.133  114.885   \n",
       "\n",
       "   start_price_BUY  start_price_SELL  SIGNAL   TP   SL  start_index_h1  \n",
       "0              0.0               0.0       0  0.0  0.0               0  \n",
       "1              0.0               0.0       0  0.0  0.0               0  \n",
       "2              0.0               0.0       0  0.0  0.0               0  \n",
       "3              0.0               0.0       0  0.0  0.0               0  \n",
       "4              0.0               0.0       0  0.0  0.0               0  "
      ]
     },
     "execution_count": 44,
     "metadata": {},
     "output_type": "execute_result"
    }
   ],
   "source": [
    "merged.head()"
   ]
  },
  {
   "cell_type": "code",
   "execution_count": 45,
   "id": "21750564",
   "metadata": {},
   "outputs": [],
   "source": [
    "class TradeM5:\n",
    "    def __init__(self, row):\n",
    "        self.running = True\n",
    "        self.start_index_m5 = row.name\n",
    "        self.start_index_h1 = row.start_index_h1\n",
    "\n",
    "        if row.SIGNAL == BUY:\n",
    "            self.start_price = row.start_price_BUY\n",
    "            self.trigger_price = row.start_price_BUY\n",
    "        else:\n",
    "            self.start_price = row.start_price_SELL\n",
    "            self.trigger_price = row.start_price_SELL\n",
    "\n",
    "        self.SIGNAL = row.SIGNAL\n",
    "        self.TP = row.TP\n",
    "        self.SL = row.SL\n",
    "        self.result = 0.0\n",
    "        self.end_time = row.time\n",
    "        self.start_time = row.time\n",
    "        self.duration = 1\n",
    "\n",
    "    def close_trade(self, row, result, trigger_price):\n",
    "        self.running = False\n",
    "        self.result = result\n",
    "        self.end_time = row.time\n",
    "        self.trigger_price = trigger_price\n",
    "\n",
    "    def update(self, row):\n",
    "        self.duration += 1\n",
    "        if self.SIGNAL == BUY:\n",
    "            if row.bid_h >= self.TP:\n",
    "                self.close_trade(row, PROFIT_FACTOR, row.bid_h)\n",
    "            elif row.bid_l <= self.SL:\n",
    "                self.close_trade(row, LOSS_FACTOR, row.bid_l)\n",
    "        if self.SIGNAL == SELL:\n",
    "            if row.ask_l <= self.TP:\n",
    "                self.close_trade(row, PROFIT_FACTOR, row.ask_l)\n",
    "            elif row.ask_h >= self.SL:\n",
    "                self.close_trade(row, LOSS_FACTOR, row.ask_h)"
   ]
  },
  {
   "cell_type": "code",
   "execution_count": 46,
   "id": "9899d481",
   "metadata": {},
   "outputs": [],
   "source": [
    "open_trades_m5 = []\n",
    "closed_trades_m5 = []\n",
    "\n",
    "for index, row in merged.iterrows():\n",
    "\n",
    "    if row.SIGNAL != NONE:\n",
    "        open_trades_m5.append(TradeM5(row))\n",
    "\n",
    "    for ot in open_trades_m5:\n",
    "        ot.update(row)\n",
    "        if ot.running == False:\n",
    "            closed_trades_m5.append(ot)\n",
    "    open_trades_m5 = [x for x in open_trades_m5 if x.running == True]"
   ]
  },
  {
   "cell_type": "code",
   "execution_count": 47,
   "id": "0bb7407d",
   "metadata": {},
   "outputs": [],
   "source": [
    "df_res_m5 = pd.DataFrame.from_dict([vars(x) for x in closed_trades_m5])"
   ]
  },
  {
   "cell_type": "code",
   "execution_count": 48,
   "id": "356f448c",
   "metadata": {},
   "outputs": [
    {
     "data": {
      "text/html": [
       "<div>\n",
       "<style scoped>\n",
       "    .dataframe tbody tr th:only-of-type {\n",
       "        vertical-align: middle;\n",
       "    }\n",
       "\n",
       "    .dataframe tbody tr th {\n",
       "        vertical-align: top;\n",
       "    }\n",
       "\n",
       "    .dataframe thead th {\n",
       "        text-align: right;\n",
       "    }\n",
       "</style>\n",
       "<table border=\"1\" class=\"dataframe\">\n",
       "  <thead>\n",
       "    <tr style=\"text-align: right;\">\n",
       "      <th></th>\n",
       "      <th>running</th>\n",
       "      <th>start_index_m5</th>\n",
       "      <th>start_index_h1</th>\n",
       "      <th>start_price</th>\n",
       "      <th>trigger_price</th>\n",
       "      <th>SIGNAL</th>\n",
       "      <th>TP</th>\n",
       "      <th>SL</th>\n",
       "      <th>result</th>\n",
       "      <th>end_time</th>\n",
       "      <th>start_time</th>\n",
       "      <th>duration</th>\n",
       "    </tr>\n",
       "  </thead>\n",
       "  <tbody>\n",
       "    <tr>\n",
       "      <th>0</th>\n",
       "      <td>False</td>\n",
       "      <td>2437</td>\n",
       "      <td>4</td>\n",
       "      <td>118.536</td>\n",
       "      <td>119.747</td>\n",
       "      <td>1</td>\n",
       "      <td>119.7090</td>\n",
       "      <td>117.784</td>\n",
       "      <td>1.5</td>\n",
       "      <td>2013-01-17 13:30:00+00:00</td>\n",
       "      <td>2013-01-17 09:00:00+00:00</td>\n",
       "      <td>56</td>\n",
       "    </tr>\n",
       "    <tr>\n",
       "      <th>1</th>\n",
       "      <td>False</td>\n",
       "      <td>2521</td>\n",
       "      <td>11</td>\n",
       "      <td>119.416</td>\n",
       "      <td>119.899</td>\n",
       "      <td>1</td>\n",
       "      <td>119.6085</td>\n",
       "      <td>119.326</td>\n",
       "      <td>1.5</td>\n",
       "      <td>2013-01-17 17:25:00+00:00</td>\n",
       "      <td>2013-01-17 16:00:00+00:00</td>\n",
       "      <td>19</td>\n",
       "    </tr>\n",
       "    <tr>\n",
       "      <th>2</th>\n",
       "      <td>False</td>\n",
       "      <td>2545</td>\n",
       "      <td>13</td>\n",
       "      <td>119.870</td>\n",
       "      <td>120.593</td>\n",
       "      <td>1</td>\n",
       "      <td>120.5845</td>\n",
       "      <td>119.432</td>\n",
       "      <td>1.5</td>\n",
       "      <td>2013-01-17 19:55:00+00:00</td>\n",
       "      <td>2013-01-17 18:00:00+00:00</td>\n",
       "      <td>25</td>\n",
       "    </tr>\n",
       "    <tr>\n",
       "      <th>3</th>\n",
       "      <td>False</td>\n",
       "      <td>2665</td>\n",
       "      <td>23</td>\n",
       "      <td>120.424</td>\n",
       "      <td>119.949</td>\n",
       "      <td>1</td>\n",
       "      <td>120.9710</td>\n",
       "      <td>120.091</td>\n",
       "      <td>-1.0</td>\n",
       "      <td>2013-01-18 09:10:00+00:00</td>\n",
       "      <td>2013-01-18 04:00:00+00:00</td>\n",
       "      <td>64</td>\n",
       "    </tr>\n",
       "    <tr>\n",
       "      <th>4</th>\n",
       "      <td>False</td>\n",
       "      <td>2920</td>\n",
       "      <td>45</td>\n",
       "      <td>119.978</td>\n",
       "      <td>120.126</td>\n",
       "      <td>1</td>\n",
       "      <td>120.1160</td>\n",
       "      <td>119.941</td>\n",
       "      <td>1.5</td>\n",
       "      <td>2013-01-20 23:10:00+00:00</td>\n",
       "      <td>2013-01-20 23:00:00+00:00</td>\n",
       "      <td>4</td>\n",
       "    </tr>\n",
       "  </tbody>\n",
       "</table>\n",
       "</div>"
      ],
      "text/plain": [
       "   running  start_index_m5  start_index_h1  start_price  trigger_price  \\\n",
       "0    False            2437               4      118.536        119.747   \n",
       "1    False            2521              11      119.416        119.899   \n",
       "2    False            2545              13      119.870        120.593   \n",
       "3    False            2665              23      120.424        119.949   \n",
       "4    False            2920              45      119.978        120.126   \n",
       "\n",
       "   SIGNAL        TP       SL  result                  end_time  \\\n",
       "0       1  119.7090  117.784     1.5 2013-01-17 13:30:00+00:00   \n",
       "1       1  119.6085  119.326     1.5 2013-01-17 17:25:00+00:00   \n",
       "2       1  120.5845  119.432     1.5 2013-01-17 19:55:00+00:00   \n",
       "3       1  120.9710  120.091    -1.0 2013-01-18 09:10:00+00:00   \n",
       "4       1  120.1160  119.941     1.5 2013-01-20 23:10:00+00:00   \n",
       "\n",
       "                 start_time  duration  \n",
       "0 2013-01-17 09:00:00+00:00        56  \n",
       "1 2013-01-17 16:00:00+00:00        19  \n",
       "2 2013-01-17 18:00:00+00:00        25  \n",
       "3 2013-01-18 04:00:00+00:00        64  \n",
       "4 2013-01-20 23:00:00+00:00         4  "
      ]
     },
     "execution_count": 48,
     "metadata": {},
     "output_type": "execute_result"
    }
   ],
   "source": [
    "df_res_m5.head()"
   ]
  },
  {
   "cell_type": "code",
   "execution_count": 49,
   "id": "8f4fb66c",
   "metadata": {},
   "outputs": [
    {
     "data": {
      "text/plain": [
       "-1416.5"
      ]
     },
     "execution_count": 49,
     "metadata": {},
     "output_type": "execute_result"
    }
   ],
   "source": [
    "df_res_m5.result.sum()"
   ]
  },
  {
   "cell_type": "code",
   "execution_count": null,
   "id": "314355c3",
   "metadata": {},
   "outputs": [],
   "source": []
  },
  {
   "cell_type": "code",
   "execution_count": null,
   "id": "36fab442",
   "metadata": {},
   "outputs": [],
   "source": []
  },
  {
   "cell_type": "code",
   "execution_count": null,
   "id": "d9b1f5f0",
   "metadata": {},
   "outputs": [],
   "source": []
  },
  {
   "cell_type": "code",
   "execution_count": null,
   "id": "b3aae0b2",
   "metadata": {},
   "outputs": [],
   "source": []
  },
  {
   "cell_type": "code",
   "execution_count": null,
   "id": "990d4bde",
   "metadata": {},
   "outputs": [],
   "source": []
  },
  {
   "cell_type": "code",
   "execution_count": null,
   "id": "3f968cf3",
   "metadata": {},
   "outputs": [],
   "source": []
  }
 ],
 "metadata": {
  "kernelspec": {
   "display_name": "Python 3 (ipykernel)",
   "language": "python",
   "name": "python3"
  },
  "language_info": {
   "codemirror_mode": {
    "name": "ipython",
    "version": 3
   },
   "file_extension": ".py",
   "mimetype": "text/x-python",
   "name": "python",
   "nbconvert_exporter": "python",
   "pygments_lexer": "ipython3",
   "version": "3.11.6"
  }
 },
 "nbformat": 4,
 "nbformat_minor": 5
}
