{
 "cells": [
  {
   "cell_type": "code",
   "execution_count": 23,
   "metadata": {},
   "outputs": [],
   "source": [
    "import sys\n",
    "sys.path.append(\"../\")"
   ]
  },
  {
   "cell_type": "code",
   "execution_count": 24,
   "metadata": {},
   "outputs": [],
   "source": [
    "import pandas as pd\n",
    "import plotly.graph_objects as go\n",
    "from technicals.indicators import *\n",
    "from technicals.patterns import apply_patterns\n",
    "from plotting import CandlePlot"
   ]
  },
  {
   "cell_type": "code",
   "execution_count": 25,
   "metadata": {},
   "outputs": [],
   "source": [
    "df_raw = pd.read_csv(\"../data/candles/AUD_CAD_H1.csv\")"
   ]
  },
  {
   "cell_type": "code",
   "execution_count": 26,
   "metadata": {},
   "outputs": [
    {
     "data": {
      "text/plain": [
       "(67812, 15)"
      ]
     },
     "execution_count": 26,
     "metadata": {},
     "output_type": "execute_result"
    }
   ],
   "source": [
    "df_raw.shape"
   ]
  },
  {
   "cell_type": "code",
   "execution_count": 27,
   "metadata": {},
   "outputs": [],
   "source": [
    "df_an = df_raw.copy()\n",
    "df_an.reset_index(drop=True, inplace=True)"
   ]
  },
  {
   "cell_type": "code",
   "execution_count": 28,
   "metadata": {},
   "outputs": [
    {
     "data": {
      "text/plain": [
       "(67812, 15)"
      ]
     },
     "execution_count": 28,
     "metadata": {},
     "output_type": "execute_result"
    }
   ],
   "source": [
    "df_an.shape"
   ]
  },
  {
   "cell_type": "code",
   "execution_count": 29,
   "metadata": {},
   "outputs": [],
   "source": [
    "df_an = RSI(df_an)"
   ]
  },
  {
   "cell_type": "code",
   "execution_count": 30,
   "metadata": {},
   "outputs": [],
   "source": [
    "df_an = apply_patterns(df_an)"
   ]
  },
  {
   "cell_type": "code",
   "execution_count": 31,
   "metadata": {},
   "outputs": [],
   "source": [
    "df_an['EMA_200'] = df_an.mid_c.ewm(span=200, min_periods=200).mean()"
   ]
  },
  {
   "cell_type": "code",
   "execution_count": 32,
   "metadata": {},
   "outputs": [
    {
     "data": {
      "text/plain": [
       "Index(['Unnamed: 0', 'time', 'volume', 'mid_o', 'mid_h', 'mid_l', 'mid_c',\n",
       "       'bid_o', 'bid_h', 'bid_l', 'bid_c', 'ask_o', 'ask_h', 'ask_l', 'ask_c',\n",
       "       'RSI_14', 'body_lower', 'body_upper', 'body_bottom_percentage',\n",
       "       'body_top_percentage', 'body_percentage', 'direction', 'body_size',\n",
       "       'low_change', 'high_change', 'body_size_change', 'mid_point',\n",
       "       'mid_point_prev_2', 'body_size_prev', 'direction_prev',\n",
       "       'direction_prev_2', 'body_percentage_prev', 'body_percentage_prev_2',\n",
       "       'HANGING_MAN', 'SHOOTING_STAR', 'SPINNING_TOP', 'MARUBOZU', 'ENGULFING',\n",
       "       'TWEEZER_TOP', 'TWEEZER_BOTTOM', 'MORNING_STAR', 'EVENING_STAR', 'DOJI',\n",
       "       'HAMMER', 'INVERTED_HAMMER', 'DARK_CLOUD_COVER', 'PIERCING_PATTERN',\n",
       "       'BULLISH_ENGULFING', 'BULLISH_HARAMI', 'BEARISH_ENGULFING',\n",
       "       'BEARISH_HARAMI', 'THREE_WHITE_SOLDIERS', 'THREE_BLACK_CROWS',\n",
       "       'BULLISH_ABANDONED_BABY', 'BEARISH_ABANDONED_BABY', 'BULLISH_TRI_STAR',\n",
       "       'EMA_200'],\n",
       "      dtype='object')"
      ]
     },
     "execution_count": 32,
     "metadata": {},
     "output_type": "execute_result"
    }
   ],
   "source": [
    "df_an.columns"
   ]
  },
  {
   "cell_type": "code",
   "execution_count": 33,
   "metadata": {},
   "outputs": [],
   "source": [
    "our_cols = ['time', 'mid_o', 'mid_h', 'mid_l',\n",
    "            'mid_c', 'ask_c', 'bid_c', 'ENGULFING', 'direction', 'EMA_200', 'RSI_14']"
   ]
  },
  {
   "cell_type": "code",
   "execution_count": 34,
   "metadata": {},
   "outputs": [],
   "source": [
    "df_slim = df_an[our_cols].copy()\n",
    "df_slim.dropna(inplace=True)\n",
    "df_slim = df_slim.reset_index(drop=True)"
   ]
  },
  {
   "cell_type": "code",
   "execution_count": 35,
   "metadata": {},
   "outputs": [
    {
     "data": {
      "text/html": [
       "<div>\n",
       "<style scoped>\n",
       "    .dataframe tbody tr th:only-of-type {\n",
       "        vertical-align: middle;\n",
       "    }\n",
       "\n",
       "    .dataframe tbody tr th {\n",
       "        vertical-align: top;\n",
       "    }\n",
       "\n",
       "    .dataframe thead th {\n",
       "        text-align: right;\n",
       "    }\n",
       "</style>\n",
       "<table border=\"1\" class=\"dataframe\">\n",
       "  <thead>\n",
       "    <tr style=\"text-align: right;\">\n",
       "      <th></th>\n",
       "      <th>time</th>\n",
       "      <th>mid_o</th>\n",
       "      <th>mid_h</th>\n",
       "      <th>mid_l</th>\n",
       "      <th>mid_c</th>\n",
       "      <th>ask_c</th>\n",
       "      <th>bid_c</th>\n",
       "      <th>ENGULFING</th>\n",
       "      <th>direction</th>\n",
       "      <th>EMA_200</th>\n",
       "    </tr>\n",
       "  </thead>\n",
       "  <tbody>\n",
       "    <tr>\n",
       "      <th>0</th>\n",
       "      <td>2013-01-17 04:00:00+00:00</td>\n",
       "      <td>1.03766</td>\n",
       "      <td>1.03776</td>\n",
       "      <td>1.03646</td>\n",
       "      <td>1.03726</td>\n",
       "      <td>1.03737</td>\n",
       "      <td>1.03715</td>\n",
       "      <td>False</td>\n",
       "      <td>-1</td>\n",
       "      <td>1.039146</td>\n",
       "    </tr>\n",
       "    <tr>\n",
       "      <th>1</th>\n",
       "      <td>2013-01-17 05:00:00+00:00</td>\n",
       "      <td>1.03724</td>\n",
       "      <td>1.03740</td>\n",
       "      <td>1.03616</td>\n",
       "      <td>1.03684</td>\n",
       "      <td>1.03697</td>\n",
       "      <td>1.03670</td>\n",
       "      <td>False</td>\n",
       "      <td>-1</td>\n",
       "      <td>1.039119</td>\n",
       "    </tr>\n",
       "    <tr>\n",
       "      <th>2</th>\n",
       "      <td>2013-01-17 06:00:00+00:00</td>\n",
       "      <td>1.03680</td>\n",
       "      <td>1.03774</td>\n",
       "      <td>1.03675</td>\n",
       "      <td>1.03748</td>\n",
       "      <td>1.03763</td>\n",
       "      <td>1.03734</td>\n",
       "      <td>True</td>\n",
       "      <td>1</td>\n",
       "      <td>1.039100</td>\n",
       "    </tr>\n",
       "    <tr>\n",
       "      <th>3</th>\n",
       "      <td>2013-01-17 07:00:00+00:00</td>\n",
       "      <td>1.03750</td>\n",
       "      <td>1.03752</td>\n",
       "      <td>1.03648</td>\n",
       "      <td>1.03701</td>\n",
       "      <td>1.03713</td>\n",
       "      <td>1.03689</td>\n",
       "      <td>False</td>\n",
       "      <td>-1</td>\n",
       "      <td>1.039076</td>\n",
       "    </tr>\n",
       "    <tr>\n",
       "      <th>4</th>\n",
       "      <td>2013-01-17 08:00:00+00:00</td>\n",
       "      <td>1.03700</td>\n",
       "      <td>1.03870</td>\n",
       "      <td>1.03694</td>\n",
       "      <td>1.03842</td>\n",
       "      <td>1.03855</td>\n",
       "      <td>1.03828</td>\n",
       "      <td>True</td>\n",
       "      <td>1</td>\n",
       "      <td>1.039069</td>\n",
       "    </tr>\n",
       "  </tbody>\n",
       "</table>\n",
       "</div>"
      ],
      "text/plain": [
       "                        time    mid_o    mid_h    mid_l    mid_c    ask_c  \\\n",
       "0  2013-01-17 04:00:00+00:00  1.03766  1.03776  1.03646  1.03726  1.03737   \n",
       "1  2013-01-17 05:00:00+00:00  1.03724  1.03740  1.03616  1.03684  1.03697   \n",
       "2  2013-01-17 06:00:00+00:00  1.03680  1.03774  1.03675  1.03748  1.03763   \n",
       "3  2013-01-17 07:00:00+00:00  1.03750  1.03752  1.03648  1.03701  1.03713   \n",
       "4  2013-01-17 08:00:00+00:00  1.03700  1.03870  1.03694  1.03842  1.03855   \n",
       "\n",
       "     bid_c  ENGULFING  direction   EMA_200  \n",
       "0  1.03715      False         -1  1.039146  \n",
       "1  1.03670      False         -1  1.039119  \n",
       "2  1.03734       True          1  1.039100  \n",
       "3  1.03689      False         -1  1.039076  \n",
       "4  1.03828       True          1  1.039069  "
      ]
     },
     "execution_count": 35,
     "metadata": {},
     "output_type": "execute_result"
    }
   ],
   "source": [
    "df_slim.head()"
   ]
  },
  {
   "cell_type": "code",
   "execution_count": null,
   "metadata": {},
   "outputs": [],
   "source": []
  },
  {
   "cell_type": "code",
   "execution_count": null,
   "metadata": {},
   "outputs": [],
   "source": []
  },
  {
   "cell_type": "code",
   "execution_count": null,
   "metadata": {},
   "outputs": [],
   "source": []
  },
  {
   "cell_type": "code",
   "execution_count": null,
   "metadata": {},
   "outputs": [],
   "source": []
  },
  {
   "cell_type": "code",
   "execution_count": null,
   "metadata": {},
   "outputs": [],
   "source": []
  },
  {
   "cell_type": "code",
   "execution_count": null,
   "metadata": {},
   "outputs": [],
   "source": []
  },
  {
   "cell_type": "code",
   "execution_count": null,
   "metadata": {},
   "outputs": [],
   "source": []
  },
  {
   "cell_type": "code",
   "execution_count": null,
   "metadata": {},
   "outputs": [],
   "source": []
  }
 ],
 "metadata": {
  "kernelspec": {
   "display_name": "venv",
   "language": "python",
   "name": "python3"
  },
  "language_info": {
   "codemirror_mode": {
    "name": "ipython",
    "version": 3
   },
   "file_extension": ".py",
   "mimetype": "text/x-python",
   "name": "python",
   "nbconvert_exporter": "python",
   "pygments_lexer": "ipython3",
   "version": "3.11.6"
  }
 },
 "nbformat": 4,
 "nbformat_minor": 2
}
