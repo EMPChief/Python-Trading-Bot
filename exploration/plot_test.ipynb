{
 "cells": [
  {
   "cell_type": "code",
   "execution_count": 7,
   "metadata": {},
   "outputs": [],
   "source": [
    "import pandas as pd\n",
    "import plotly.graph_objects as go\n",
    "import datetime as dt\n",
    "from plotting import CandlePlot"
   ]
  },
  {
   "cell_type": "code",
   "execution_count": 8,
   "metadata": {},
   "outputs": [],
   "source": [
    "pair = \"EUR_USD\"\n",
    "granularity = \"H4\"\n",
    "df = pd.read_csv(f\"../data/candles/{pair}_{granularity}.csv\")"
   ]
  },
  {
   "cell_type": "code",
   "execution_count": 9,
   "metadata": {},
   "outputs": [],
   "source": [
    "df_plot = df.iloc[:100]"
   ]
  },
  {
   "cell_type": "code",
   "execution_count": 10,
   "metadata": {},
   "outputs": [
    {
     "data": {
      "text/plain": [
       "(100, 15)"
      ]
     },
     "execution_count": 10,
     "metadata": {},
     "output_type": "execute_result"
    }
   ],
   "source": [
    "df_plot.shape"
   ]
  },
  {
   "cell_type": "code",
   "execution_count": 11,
   "metadata": {},
   "outputs": [],
   "source": [
    "cp = CandlePlot(df_plot)"
   ]
  },
  {
   "cell_type": "code",
   "execution_count": 12,
   "metadata": {},
   "outputs": [
    {
     "data": {
      "application/vnd.plotly.v1+json": {
       "config": {
        "plotlyServerURL": "https://plot.ly"
       },
       "data": [
        {
         "close": [
          1.30532,
          1.30362,
          1.30372,
          1.30604,
          1.31081,
          1.31164,
          1.31118,
          1.31238,
          1.3117,
          1.3082,
          1.30702,
          1.30811,
          1.30782,
          1.30856,
          1.30686,
          1.3059,
          1.30688,
          1.30642,
          1.30397,
          1.30452,
          1.31026,
          1.31853,
          1.32604,
          1.32719,
          1.32518,
          1.32625,
          1.32726,
          1.33406,
          1.336,
          1.33427,
          1.33427,
          1.33618,
          1.33734,
          1.33867,
          1.33742,
          1.33548,
          1.33617,
          1.3382,
          1.33881,
          1.33569,
          1.33826,
          1.3337,
          1.33351,
          1.33052,
          1.32948,
          1.32932,
          1.32774,
          1.32688,
          1.32836,
          1.32892,
          1.33104,
          1.32812,
          1.33472,
          1.33444,
          1.3364,
          1.3376,
          1.33718,
          1.33822,
          1.33526,
          1.33138,
          1.33207,
          1.33202,
          1.33202,
          1.33112,
          1.33261,
          1.33161,
          1.33213,
          1.33134,
          1.3317,
          1.33133,
          1.33086,
          1.33438,
          1.33044,
          1.33138,
          1.33052,
          1.33224,
          1.33174,
          1.33094,
          1.33313,
          1.33351,
          1.33073,
          1.33182,
          1.33079,
          1.3312,
          1.33192,
          1.3353,
          1.3373,
          1.33772,
          1.33584,
          1.33682,
          1.34368,
          1.34554,
          1.34518,
          1.34634,
          1.34658,
          1.34538,
          1.34563,
          1.34561,
          1.34658,
          1.3458
         ],
         "decreasing": {
          "fillcolor": "#ff0000",
          "line": {
           "color": "#990000"
          }
         },
         "high": [
          1.30794,
          1.30663,
          1.30549,
          1.30656,
          1.31132,
          1.31196,
          1.31282,
          1.314,
          1.31325,
          1.31322,
          1.3097,
          1.30866,
          1.30908,
          1.30872,
          1.30961,
          1.30776,
          1.30802,
          1.30698,
          1.3067,
          1.30532,
          1.31036,
          1.31892,
          1.32624,
          1.32732,
          1.32796,
          1.32657,
          1.32836,
          1.33526,
          1.3366,
          1.33612,
          1.33427,
          1.33656,
          1.33786,
          1.3404,
          1.33929,
          1.33906,
          1.33736,
          1.33946,
          1.33938,
          1.33924,
          1.33864,
          1.33881,
          1.33577,
          1.33413,
          1.33176,
          1.32976,
          1.32962,
          1.3325,
          1.33114,
          1.33014,
          1.3315,
          1.33106,
          1.33574,
          1.3378,
          1.33668,
          1.33874,
          1.33832,
          1.33916,
          1.33984,
          1.3371,
          1.33354,
          1.33322,
          1.33202,
          1.33148,
          1.33286,
          1.33306,
          1.33322,
          1.33238,
          1.33202,
          1.332,
          1.33186,
          1.33582,
          1.33719,
          1.33672,
          1.33234,
          1.33272,
          1.33298,
          1.33214,
          1.33435,
          1.33543,
          1.33447,
          1.33241,
          1.33198,
          1.33247,
          1.33471,
          1.33584,
          1.33929,
          1.33824,
          1.33801,
          1.33724,
          1.34424,
          1.34692,
          1.34792,
          1.34716,
          1.34688,
          1.3471,
          1.3468,
          1.346,
          1.34734,
          1.34773
         ],
         "hovertext": "Candlestick",
         "increasing": {
          "fillcolor": "#00cc00",
          "line": {
           "color": "#006600"
          }
         },
         "line": {
          "width": 1
         },
         "low": [
          1.30427,
          1.30288,
          1.30166,
          1.30222,
          1.30527,
          1.31044,
          1.31044,
          1.31037,
          1.31031,
          1.30692,
          1.30562,
          1.30672,
          1.30668,
          1.30692,
          1.30665,
          1.30437,
          1.30368,
          1.30455,
          1.30389,
          1.30391,
          1.3045,
          1.30932,
          1.31736,
          1.32463,
          1.32516,
          1.32506,
          1.3249,
          1.32485,
          1.33212,
          1.33314,
          1.33427,
          1.33535,
          1.33508,
          1.33732,
          1.33482,
          1.33308,
          1.33406,
          1.33578,
          1.33723,
          1.33484,
          1.33342,
          1.33101,
          1.33244,
          1.32636,
          1.32789,
          1.32806,
          1.32622,
          1.32566,
          1.32574,
          1.32762,
          1.32814,
          1.32702,
          1.32796,
          1.33436,
          1.33336,
          1.33595,
          1.33631,
          1.33615,
          1.33368,
          1.3296,
          1.32804,
          1.33129,
          1.33202,
          1.33042,
          1.33023,
          1.33079,
          1.3303,
          1.33,
          1.33052,
          1.33092,
          1.33005,
          1.33075,
          1.3267,
          1.33037,
          1.32781,
          1.33044,
          1.33108,
          1.33046,
          1.32856,
          1.33242,
          1.32644,
          1.33072,
          1.32972,
          1.33062,
          1.32863,
          1.33134,
          1.33368,
          1.33639,
          1.33579,
          1.33499,
          1.3359,
          1.34112,
          1.34514,
          1.34492,
          1.34486,
          1.34506,
          1.34505,
          1.34246,
          1.3429,
          1.34322
         ],
         "name": "Candlestick",
         "opacity": 1,
         "open": [
          1.3076,
          1.30533,
          1.3036,
          1.30372,
          1.30604,
          1.31082,
          1.31163,
          1.31118,
          1.31239,
          1.31172,
          1.30819,
          1.307,
          1.3081,
          1.30782,
          1.30854,
          1.30685,
          1.30588,
          1.3069,
          1.30644,
          1.30399,
          1.30452,
          1.31024,
          1.31855,
          1.32606,
          1.32714,
          1.32518,
          1.32627,
          1.32724,
          1.33408,
          1.33598,
          1.33427,
          1.33566,
          1.33616,
          1.33735,
          1.33868,
          1.3374,
          1.33548,
          1.33619,
          1.3382,
          1.33884,
          1.33568,
          1.33824,
          1.33372,
          1.3335,
          1.3305,
          1.32948,
          1.32932,
          1.32775,
          1.32688,
          1.32834,
          1.32892,
          1.33104,
          1.32815,
          1.33474,
          1.33442,
          1.3364,
          1.3376,
          1.33718,
          1.33821,
          1.33526,
          1.33137,
          1.33208,
          1.33202,
          1.33083,
          1.33108,
          1.33262,
          1.33162,
          1.33214,
          1.33134,
          1.3317,
          1.3313,
          1.33088,
          1.33437,
          1.33045,
          1.33134,
          1.33054,
          1.33222,
          1.33172,
          1.33093,
          1.3331,
          1.33349,
          1.33073,
          1.3318,
          1.33077,
          1.33122,
          1.33189,
          1.33528,
          1.33728,
          1.33774,
          1.33581,
          1.33681,
          1.34366,
          1.34554,
          1.3452,
          1.34515,
          1.3466,
          1.34542,
          1.34563,
          1.34561,
          1.34658
         ],
         "type": "candlestick",
         "x": [
          "s2013-01-06 22:00",
          "s2013-01-07 02:00",
          "s2013-01-07 06:00",
          "s2013-01-07 10:00",
          "s2013-01-07 14:00",
          "s2013-01-07 18:00",
          "s2013-01-07 22:00",
          "s2013-01-08 02:00",
          "s2013-01-08 06:00",
          "s2013-01-08 10:00",
          "s2013-01-08 14:00",
          "s2013-01-08 18:00",
          "s2013-01-08 22:00",
          "s2013-01-09 02:00",
          "s2013-01-09 06:00",
          "s2013-01-09 10:00",
          "s2013-01-09 14:00",
          "s2013-01-09 18:00",
          "s2013-01-09 22:00",
          "s2013-01-10 02:00",
          "s2013-01-10 06:00",
          "s2013-01-10 10:00",
          "s2013-01-10 14:00",
          "s2013-01-10 18:00",
          "s2013-01-10 22:00",
          "s2013-01-11 02:00",
          "s2013-01-11 06:00",
          "s2013-01-11 10:00",
          "s2013-01-11 14:00",
          "s2013-01-11 18:00",
          "s2013-01-12 18:00",
          "s2013-01-13 18:00",
          "s2013-01-13 22:00",
          "s2013-01-14 02:00",
          "s2013-01-14 06:00",
          "s2013-01-14 10:00",
          "s2013-01-14 14:00",
          "s2013-01-14 18:00",
          "s2013-01-14 22:00",
          "s2013-01-15 02:00",
          "s2013-01-15 06:00",
          "s2013-01-15 10:00",
          "s2013-01-15 14:00",
          "s2013-01-15 18:00",
          "s2013-01-15 22:00",
          "s2013-01-16 02:00",
          "s2013-01-16 06:00",
          "s2013-01-16 10:00",
          "s2013-01-16 14:00",
          "s2013-01-16 18:00",
          "s2013-01-16 22:00",
          "s2013-01-17 02:00",
          "s2013-01-17 06:00",
          "s2013-01-17 10:00",
          "s2013-01-17 14:00",
          "s2013-01-17 18:00",
          "s2013-01-17 22:00",
          "s2013-01-18 02:00",
          "s2013-01-18 06:00",
          "s2013-01-18 10:00",
          "s2013-01-18 14:00",
          "s2013-01-18 18:00",
          "s2013-01-18 22:00",
          "s2013-01-20 18:00",
          "s2013-01-20 22:00",
          "s2013-01-21 02:00",
          "s2013-01-21 06:00",
          "s2013-01-21 10:00",
          "s2013-01-21 14:00",
          "s2013-01-21 18:00",
          "s2013-01-21 22:00",
          "s2013-01-22 02:00",
          "s2013-01-22 06:00",
          "s2013-01-22 10:00",
          "s2013-01-22 14:00",
          "s2013-01-22 18:00",
          "s2013-01-22 22:00",
          "s2013-01-23 02:00",
          "s2013-01-23 06:00",
          "s2013-01-23 10:00",
          "s2013-01-23 14:00",
          "s2013-01-23 18:00",
          "s2013-01-23 22:00",
          "s2013-01-24 02:00",
          "s2013-01-24 06:00",
          "s2013-01-24 10:00",
          "s2013-01-24 14:00",
          "s2013-01-24 18:00",
          "s2013-01-24 22:00",
          "s2013-01-25 02:00",
          "s2013-01-25 06:00",
          "s2013-01-25 10:00",
          "s2013-01-25 14:00",
          "s2013-01-25 18:00",
          "s2013-01-27 18:00",
          "s2013-01-27 22:00",
          "s2013-01-28 02:00",
          "s2013-01-28 06:00",
          "s2013-01-28 10:00",
          "s2013-01-28 14:00"
         ]
        }
       ],
       "layout": {
        "font": {
         "color": "white",
         "size": 12
        },
        "height": 800,
        "legend": {
         "x": 0.01,
         "xanchor": "left",
         "y": 0.99,
         "yanchor": "top"
        },
        "margin": {
         "b": 10,
         "l": 10,
         "r": 10,
         "t": 10
        },
        "paper_bgcolor": "black",
        "plot_bgcolor": "black",
        "template": {
         "data": {
          "bar": [
           {
            "error_x": {
             "color": "#2a3f5f"
            },
            "error_y": {
             "color": "#2a3f5f"
            },
            "marker": {
             "line": {
              "color": "#E5ECF6",
              "width": 0.5
             },
             "pattern": {
              "fillmode": "overlay",
              "size": 10,
              "solidity": 0.2
             }
            },
            "type": "bar"
           }
          ],
          "barpolar": [
           {
            "marker": {
             "line": {
              "color": "#E5ECF6",
              "width": 0.5
             },
             "pattern": {
              "fillmode": "overlay",
              "size": 10,
              "solidity": 0.2
             }
            },
            "type": "barpolar"
           }
          ],
          "carpet": [
           {
            "aaxis": {
             "endlinecolor": "#2a3f5f",
             "gridcolor": "white",
             "linecolor": "white",
             "minorgridcolor": "white",
             "startlinecolor": "#2a3f5f"
            },
            "baxis": {
             "endlinecolor": "#2a3f5f",
             "gridcolor": "white",
             "linecolor": "white",
             "minorgridcolor": "white",
             "startlinecolor": "#2a3f5f"
            },
            "type": "carpet"
           }
          ],
          "choropleth": [
           {
            "colorbar": {
             "outlinewidth": 0,
             "ticks": ""
            },
            "type": "choropleth"
           }
          ],
          "contour": [
           {
            "colorbar": {
             "outlinewidth": 0,
             "ticks": ""
            },
            "colorscale": [
             [
              0,
              "#0d0887"
             ],
             [
              0.1111111111111111,
              "#46039f"
             ],
             [
              0.2222222222222222,
              "#7201a8"
             ],
             [
              0.3333333333333333,
              "#9c179e"
             ],
             [
              0.4444444444444444,
              "#bd3786"
             ],
             [
              0.5555555555555556,
              "#d8576b"
             ],
             [
              0.6666666666666666,
              "#ed7953"
             ],
             [
              0.7777777777777778,
              "#fb9f3a"
             ],
             [
              0.8888888888888888,
              "#fdca26"
             ],
             [
              1,
              "#f0f921"
             ]
            ],
            "type": "contour"
           }
          ],
          "contourcarpet": [
           {
            "colorbar": {
             "outlinewidth": 0,
             "ticks": ""
            },
            "type": "contourcarpet"
           }
          ],
          "heatmap": [
           {
            "colorbar": {
             "outlinewidth": 0,
             "ticks": ""
            },
            "colorscale": [
             [
              0,
              "#0d0887"
             ],
             [
              0.1111111111111111,
              "#46039f"
             ],
             [
              0.2222222222222222,
              "#7201a8"
             ],
             [
              0.3333333333333333,
              "#9c179e"
             ],
             [
              0.4444444444444444,
              "#bd3786"
             ],
             [
              0.5555555555555556,
              "#d8576b"
             ],
             [
              0.6666666666666666,
              "#ed7953"
             ],
             [
              0.7777777777777778,
              "#fb9f3a"
             ],
             [
              0.8888888888888888,
              "#fdca26"
             ],
             [
              1,
              "#f0f921"
             ]
            ],
            "type": "heatmap"
           }
          ],
          "heatmapgl": [
           {
            "colorbar": {
             "outlinewidth": 0,
             "ticks": ""
            },
            "colorscale": [
             [
              0,
              "#0d0887"
             ],
             [
              0.1111111111111111,
              "#46039f"
             ],
             [
              0.2222222222222222,
              "#7201a8"
             ],
             [
              0.3333333333333333,
              "#9c179e"
             ],
             [
              0.4444444444444444,
              "#bd3786"
             ],
             [
              0.5555555555555556,
              "#d8576b"
             ],
             [
              0.6666666666666666,
              "#ed7953"
             ],
             [
              0.7777777777777778,
              "#fb9f3a"
             ],
             [
              0.8888888888888888,
              "#fdca26"
             ],
             [
              1,
              "#f0f921"
             ]
            ],
            "type": "heatmapgl"
           }
          ],
          "histogram": [
           {
            "marker": {
             "pattern": {
              "fillmode": "overlay",
              "size": 10,
              "solidity": 0.2
             }
            },
            "type": "histogram"
           }
          ],
          "histogram2d": [
           {
            "colorbar": {
             "outlinewidth": 0,
             "ticks": ""
            },
            "colorscale": [
             [
              0,
              "#0d0887"
             ],
             [
              0.1111111111111111,
              "#46039f"
             ],
             [
              0.2222222222222222,
              "#7201a8"
             ],
             [
              0.3333333333333333,
              "#9c179e"
             ],
             [
              0.4444444444444444,
              "#bd3786"
             ],
             [
              0.5555555555555556,
              "#d8576b"
             ],
             [
              0.6666666666666666,
              "#ed7953"
             ],
             [
              0.7777777777777778,
              "#fb9f3a"
             ],
             [
              0.8888888888888888,
              "#fdca26"
             ],
             [
              1,
              "#f0f921"
             ]
            ],
            "type": "histogram2d"
           }
          ],
          "histogram2dcontour": [
           {
            "colorbar": {
             "outlinewidth": 0,
             "ticks": ""
            },
            "colorscale": [
             [
              0,
              "#0d0887"
             ],
             [
              0.1111111111111111,
              "#46039f"
             ],
             [
              0.2222222222222222,
              "#7201a8"
             ],
             [
              0.3333333333333333,
              "#9c179e"
             ],
             [
              0.4444444444444444,
              "#bd3786"
             ],
             [
              0.5555555555555556,
              "#d8576b"
             ],
             [
              0.6666666666666666,
              "#ed7953"
             ],
             [
              0.7777777777777778,
              "#fb9f3a"
             ],
             [
              0.8888888888888888,
              "#fdca26"
             ],
             [
              1,
              "#f0f921"
             ]
            ],
            "type": "histogram2dcontour"
           }
          ],
          "mesh3d": [
           {
            "colorbar": {
             "outlinewidth": 0,
             "ticks": ""
            },
            "type": "mesh3d"
           }
          ],
          "parcoords": [
           {
            "line": {
             "colorbar": {
              "outlinewidth": 0,
              "ticks": ""
             }
            },
            "type": "parcoords"
           }
          ],
          "pie": [
           {
            "automargin": true,
            "type": "pie"
           }
          ],
          "scatter": [
           {
            "fillpattern": {
             "fillmode": "overlay",
             "size": 10,
             "solidity": 0.2
            },
            "type": "scatter"
           }
          ],
          "scatter3d": [
           {
            "line": {
             "colorbar": {
              "outlinewidth": 0,
              "ticks": ""
             }
            },
            "marker": {
             "colorbar": {
              "outlinewidth": 0,
              "ticks": ""
             }
            },
            "type": "scatter3d"
           }
          ],
          "scattercarpet": [
           {
            "marker": {
             "colorbar": {
              "outlinewidth": 0,
              "ticks": ""
             }
            },
            "type": "scattercarpet"
           }
          ],
          "scattergeo": [
           {
            "marker": {
             "colorbar": {
              "outlinewidth": 0,
              "ticks": ""
             }
            },
            "type": "scattergeo"
           }
          ],
          "scattergl": [
           {
            "marker": {
             "colorbar": {
              "outlinewidth": 0,
              "ticks": ""
             }
            },
            "type": "scattergl"
           }
          ],
          "scattermapbox": [
           {
            "marker": {
             "colorbar": {
              "outlinewidth": 0,
              "ticks": ""
             }
            },
            "type": "scattermapbox"
           }
          ],
          "scatterpolar": [
           {
            "marker": {
             "colorbar": {
              "outlinewidth": 0,
              "ticks": ""
             }
            },
            "type": "scatterpolar"
           }
          ],
          "scatterpolargl": [
           {
            "marker": {
             "colorbar": {
              "outlinewidth": 0,
              "ticks": ""
             }
            },
            "type": "scatterpolargl"
           }
          ],
          "scatterternary": [
           {
            "marker": {
             "colorbar": {
              "outlinewidth": 0,
              "ticks": ""
             }
            },
            "type": "scatterternary"
           }
          ],
          "surface": [
           {
            "colorbar": {
             "outlinewidth": 0,
             "ticks": ""
            },
            "colorscale": [
             [
              0,
              "#0d0887"
             ],
             [
              0.1111111111111111,
              "#46039f"
             ],
             [
              0.2222222222222222,
              "#7201a8"
             ],
             [
              0.3333333333333333,
              "#9c179e"
             ],
             [
              0.4444444444444444,
              "#bd3786"
             ],
             [
              0.5555555555555556,
              "#d8576b"
             ],
             [
              0.6666666666666666,
              "#ed7953"
             ],
             [
              0.7777777777777778,
              "#fb9f3a"
             ],
             [
              0.8888888888888888,
              "#fdca26"
             ],
             [
              1,
              "#f0f921"
             ]
            ],
            "type": "surface"
           }
          ],
          "table": [
           {
            "cells": {
             "fill": {
              "color": "#EBF0F8"
             },
             "line": {
              "color": "white"
             }
            },
            "header": {
             "fill": {
              "color": "#C8D4E3"
             },
             "line": {
              "color": "white"
             }
            },
            "type": "table"
           }
          ]
         },
         "layout": {
          "annotationdefaults": {
           "arrowcolor": "#2a3f5f",
           "arrowhead": 0,
           "arrowwidth": 1
          },
          "autotypenumbers": "strict",
          "coloraxis": {
           "colorbar": {
            "outlinewidth": 0,
            "ticks": ""
           }
          },
          "colorscale": {
           "diverging": [
            [
             0,
             "#8e0152"
            ],
            [
             0.1,
             "#c51b7d"
            ],
            [
             0.2,
             "#de77ae"
            ],
            [
             0.3,
             "#f1b6da"
            ],
            [
             0.4,
             "#fde0ef"
            ],
            [
             0.5,
             "#f7f7f7"
            ],
            [
             0.6,
             "#e6f5d0"
            ],
            [
             0.7,
             "#b8e186"
            ],
            [
             0.8,
             "#7fbc41"
            ],
            [
             0.9,
             "#4d9221"
            ],
            [
             1,
             "#276419"
            ]
           ],
           "sequential": [
            [
             0,
             "#0d0887"
            ],
            [
             0.1111111111111111,
             "#46039f"
            ],
            [
             0.2222222222222222,
             "#7201a8"
            ],
            [
             0.3333333333333333,
             "#9c179e"
            ],
            [
             0.4444444444444444,
             "#bd3786"
            ],
            [
             0.5555555555555556,
             "#d8576b"
            ],
            [
             0.6666666666666666,
             "#ed7953"
            ],
            [
             0.7777777777777778,
             "#fb9f3a"
            ],
            [
             0.8888888888888888,
             "#fdca26"
            ],
            [
             1,
             "#f0f921"
            ]
           ],
           "sequentialminus": [
            [
             0,
             "#0d0887"
            ],
            [
             0.1111111111111111,
             "#46039f"
            ],
            [
             0.2222222222222222,
             "#7201a8"
            ],
            [
             0.3333333333333333,
             "#9c179e"
            ],
            [
             0.4444444444444444,
             "#bd3786"
            ],
            [
             0.5555555555555556,
             "#d8576b"
            ],
            [
             0.6666666666666666,
             "#ed7953"
            ],
            [
             0.7777777777777778,
             "#fb9f3a"
            ],
            [
             0.8888888888888888,
             "#fdca26"
            ],
            [
             1,
             "#f0f921"
            ]
           ]
          },
          "colorway": [
           "#636efa",
           "#EF553B",
           "#00cc96",
           "#ab63fa",
           "#FFA15A",
           "#19d3f3",
           "#FF6692",
           "#B6E880",
           "#FF97FF",
           "#FECB52"
          ],
          "font": {
           "color": "#2a3f5f"
          },
          "geo": {
           "bgcolor": "white",
           "lakecolor": "white",
           "landcolor": "#E5ECF6",
           "showlakes": true,
           "showland": true,
           "subunitcolor": "white"
          },
          "hoverlabel": {
           "align": "left"
          },
          "hovermode": "closest",
          "mapbox": {
           "style": "light"
          },
          "paper_bgcolor": "white",
          "plot_bgcolor": "#E5ECF6",
          "polar": {
           "angularaxis": {
            "gridcolor": "white",
            "linecolor": "white",
            "ticks": ""
           },
           "bgcolor": "#E5ECF6",
           "radialaxis": {
            "gridcolor": "white",
            "linecolor": "white",
            "ticks": ""
           }
          },
          "scene": {
           "xaxis": {
            "backgroundcolor": "#E5ECF6",
            "gridcolor": "white",
            "gridwidth": 2,
            "linecolor": "white",
            "showbackground": true,
            "ticks": "",
            "zerolinecolor": "white"
           },
           "yaxis": {
            "backgroundcolor": "#E5ECF6",
            "gridcolor": "white",
            "gridwidth": 2,
            "linecolor": "white",
            "showbackground": true,
            "ticks": "",
            "zerolinecolor": "white"
           },
           "zaxis": {
            "backgroundcolor": "#E5ECF6",
            "gridcolor": "white",
            "gridwidth": 2,
            "linecolor": "white",
            "showbackground": true,
            "ticks": "",
            "zerolinecolor": "white"
           }
          },
          "shapedefaults": {
           "line": {
            "color": "#2a3f5f"
           }
          },
          "ternary": {
           "aaxis": {
            "gridcolor": "white",
            "linecolor": "white",
            "ticks": ""
           },
           "baxis": {
            "gridcolor": "white",
            "linecolor": "white",
            "ticks": ""
           },
           "bgcolor": "#E5ECF6",
           "caxis": {
            "gridcolor": "white",
            "linecolor": "white",
            "ticks": ""
           }
          },
          "title": {
           "x": 0.05
          },
          "xaxis": {
           "automargin": true,
           "gridcolor": "white",
           "linecolor": "white",
           "ticks": "",
           "title": {
            "standoff": 15
           },
           "zerolinecolor": "white",
           "zerolinewidth": 2
          },
          "yaxis": {
           "automargin": true,
           "gridcolor": "white",
           "linecolor": "white",
           "ticks": "",
           "title": {
            "standoff": 15
           },
           "zerolinecolor": "white",
           "zerolinewidth": 2
          }
         }
        },
        "title": {
         "text": "Bjørn Chart"
        },
        "width": 1500,
        "xaxis": {
         "anchor": "y",
         "domain": [
          0,
          0.94
         ],
         "gridcolor": "lightgray",
         "nticks": 5,
         "rangeslider": {
          "visible": false
         },
         "title": {
          "text": "Time"
         }
        },
        "yaxis": {
         "anchor": "x",
         "domain": [
          0,
          1
         ],
         "gridcolor": "lightgray",
         "title": {
          "text": "Price"
         }
        },
        "yaxis2": {
         "anchor": "x",
         "gridcolor": "lightgray",
         "overlaying": "y",
         "side": "right",
         "title": {
          "text": "Price"
         }
        }
       }
      }
     },
     "metadata": {},
     "output_type": "display_data"
    }
   ],
   "source": [
    "cp.show_plot()"
   ]
  },
  {
   "cell_type": "code",
   "execution_count": null,
   "metadata": {},
   "outputs": [],
   "source": []
  },
  {
   "cell_type": "code",
   "execution_count": null,
   "metadata": {},
   "outputs": [],
   "source": []
  },
  {
   "cell_type": "code",
   "execution_count": null,
   "metadata": {},
   "outputs": [],
   "source": []
  },
  {
   "cell_type": "code",
   "execution_count": null,
   "metadata": {},
   "outputs": [],
   "source": []
  },
  {
   "cell_type": "code",
   "execution_count": null,
   "metadata": {},
   "outputs": [],
   "source": []
  },
  {
   "cell_type": "code",
   "execution_count": null,
   "metadata": {},
   "outputs": [],
   "source": []
  },
  {
   "cell_type": "code",
   "execution_count": null,
   "metadata": {},
   "outputs": [],
   "source": []
  },
  {
   "cell_type": "code",
   "execution_count": null,
   "metadata": {},
   "outputs": [],
   "source": []
  },
  {
   "cell_type": "code",
   "execution_count": null,
   "metadata": {},
   "outputs": [],
   "source": []
  },
  {
   "cell_type": "code",
   "execution_count": null,
   "metadata": {},
   "outputs": [],
   "source": []
  },
  {
   "cell_type": "code",
   "execution_count": null,
   "metadata": {},
   "outputs": [],
   "source": []
  }
 ],
 "metadata": {
  "kernelspec": {
   "display_name": ".venv",
   "language": "python",
   "name": "python3"
  },
  "language_info": {
   "codemirror_mode": {
    "name": "ipython",
    "version": 3
   },
   "file_extension": ".py",
   "mimetype": "text/x-python",
   "name": "python",
   "nbconvert_exporter": "python",
   "pygments_lexer": "ipython3",
   "version": "3.11.6"
  }
 },
 "nbformat": 4,
 "nbformat_minor": 2
}
