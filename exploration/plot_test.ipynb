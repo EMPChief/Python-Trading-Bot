{
 "cells": [
  {
   "cell_type": "code",
   "execution_count": 12,
   "metadata": {},
   "outputs": [],
   "source": [
    "import pandas as pd\n",
    "import plotly.graph_objects as go\n",
    "import datetime as dt\n",
    "from plotting import CandlePlot"
   ]
  },
  {
   "cell_type": "code",
   "execution_count": 13,
   "metadata": {},
   "outputs": [],
   "source": [
    "pair = \"EUR_USD\"\n",
    "granularity = \"H4\"\n",
    "df = pd.read_csv(f\"../data/{pair}_{granularity}.csv\")"
   ]
  },
  {
   "cell_type": "code",
   "execution_count": 14,
   "metadata": {},
   "outputs": [],
   "source": [
    "df_plot = df.iloc[:100]"
   ]
  },
  {
   "cell_type": "code",
   "execution_count": 15,
   "metadata": {},
   "outputs": [
    {
     "data": {
      "text/plain": [
       "(100, 14)"
      ]
     },
     "execution_count": 15,
     "metadata": {},
     "output_type": "execute_result"
    }
   ],
   "source": [
    "df_plot.shape"
   ]
  },
  {
   "cell_type": "code",
   "execution_count": 16,
   "metadata": {},
   "outputs": [],
   "source": [
    "cp = CandlePlot(df_plot)"
   ]
  },
  {
   "cell_type": "code",
   "execution_count": 17,
   "metadata": {},
   "outputs": [
    {
     "data": {
      "application/vnd.plotly.v1+json": {
       "config": {
        "plotlyServerURL": "https://plot.ly"
       },
       "data": [
        {
         "close": [
          1.21204,
          1.21345,
          1.213,
          1.20664,
          1.20726,
          1.2082,
          1.20783,
          1.20624,
          1.20816,
          1.20797,
          1.2079,
          1.20753,
          1.20858,
          1.21252,
          1.21296,
          1.2137,
          1.21457,
          1.2134,
          1.21299,
          1.21481,
          1.214,
          1.2156,
          1.215,
          1.21564,
          1.21646,
          1.22186,
          1.22212,
          1.2217,
          1.22225,
          1.22264,
          1.22314,
          1.22165,
          1.22078,
          1.2211,
          1.21758,
          1.21851,
          1.21822,
          1.21882,
          1.22,
          1.22183,
          1.22286,
          1.2234,
          1.2233,
          1.22239,
          1.22059,
          1.21644,
          1.21817,
          1.21804,
          1.21796,
          1.21968,
          1.22104,
          1.22153,
          1.22166,
          1.22218,
          1.22294,
          1.2259,
          1.22536,
          1.22399,
          1.22522,
          1.22452,
          1.22596,
          1.22409,
          1.222,
          1.21999,
          1.21929,
          1.21883,
          1.21936,
          1.21826,
          1.21862,
          1.21878,
          1.21941,
          1.21842,
          1.21876,
          1.21975,
          1.2135,
          1.22007,
          1.21921,
          1.21918,
          1.21981,
          1.22006,
          1.21987,
          1.22284,
          1.22258,
          1.22296,
          1.22225,
          1.22298,
          1.22247,
          1.22328,
          1.22138,
          1.22204,
          1.22172,
          1.21814,
          1.21858,
          1.22121,
          1.22104,
          1.22125,
          1.22015,
          1.21878,
          1.21586,
          1.21204
         ],
         "decreasing": {
          "fillcolor": "#ff0000",
          "line": {
           "color": "#990000"
          }
         },
         "high": [
          1.21382,
          1.21439,
          1.21468,
          1.21524,
          1.20826,
          1.20845,
          1.20888,
          1.21062,
          1.20942,
          1.21002,
          1.20872,
          1.20845,
          1.2088,
          1.21295,
          1.21375,
          1.21478,
          1.2147,
          1.21512,
          1.21388,
          1.215,
          1.2169,
          1.21577,
          1.21615,
          1.2159,
          1.21693,
          1.22198,
          1.2234,
          1.22238,
          1.22302,
          1.22329,
          1.22354,
          1.22454,
          1.22207,
          1.22388,
          1.22149,
          1.21851,
          1.21853,
          1.22048,
          1.22082,
          1.22264,
          1.22293,
          1.22379,
          1.22395,
          1.22399,
          1.2238,
          1.22103,
          1.2188,
          1.21872,
          1.21854,
          1.22044,
          1.22194,
          1.223,
          1.22182,
          1.2222,
          1.22316,
          1.22623,
          1.22664,
          1.22571,
          1.22571,
          1.22574,
          1.22612,
          1.2263,
          1.22471,
          1.224,
          1.22022,
          1.21972,
          1.21956,
          1.22152,
          1.22109,
          1.22117,
          1.22048,
          1.21962,
          1.21903,
          1.22006,
          1.2198,
          1.22043,
          1.2205,
          1.2201,
          1.22045,
          1.22038,
          1.2202,
          1.22314,
          1.22294,
          1.22346,
          1.22365,
          1.22415,
          1.22386,
          1.22545,
          1.22342,
          1.22262,
          1.22266,
          1.22199,
          1.2192,
          1.22184,
          1.22155,
          1.22142,
          1.22135,
          1.2204,
          1.22086,
          1.21624
         ],
         "increasing": {
          "fillcolor": "#00cc00",
          "line": {
           "color": "#006600"
          }
         },
         "line": {
          "width": 1
         },
         "low": [
          1.21156,
          1.212,
          1.2072,
          1.20656,
          1.20656,
          1.20704,
          1.20718,
          1.20514,
          1.20601,
          1.20644,
          1.20621,
          1.2071,
          1.20729,
          1.20843,
          1.2103,
          1.21242,
          1.2134,
          1.21322,
          1.2129,
          1.21262,
          1.21346,
          1.2138,
          1.21496,
          1.21508,
          1.21556,
          1.21638,
          1.22064,
          1.21975,
          1.22148,
          1.2221,
          1.22174,
          1.22045,
          1.21888,
          1.22036,
          1.21597,
          1.2169,
          1.21696,
          1.21772,
          1.2181,
          1.21975,
          1.22122,
          1.2224,
          1.22276,
          1.22098,
          1.21784,
          1.21608,
          1.21627,
          1.21724,
          1.21752,
          1.21749,
          1.2193,
          1.22036,
          1.22057,
          1.22116,
          1.22212,
          1.22204,
          1.22462,
          1.22263,
          1.22378,
          1.22447,
          1.2242,
          1.22326,
          1.2217,
          1.21956,
          1.21819,
          1.21798,
          1.21752,
          1.218,
          1.21822,
          1.21797,
          1.21873,
          1.21826,
          1.21816,
          1.21716,
          1.21328,
          1.21326,
          1.21894,
          1.21846,
          1.21887,
          1.21834,
          1.21851,
          1.21941,
          1.2225,
          1.22238,
          1.22224,
          1.22134,
          1.2217,
          1.2216,
          1.22116,
          1.22123,
          1.22169,
          1.21796,
          1.2164,
          1.21844,
          1.22057,
          1.22082,
          1.2201,
          1.21788,
          1.21565,
          1.21182
         ],
         "opacity": 1,
         "open": [
          1.21381,
          1.21203,
          1.21346,
          1.21302,
          1.20662,
          1.20734,
          1.20819,
          1.20784,
          1.20625,
          1.20814,
          1.20798,
          1.20806,
          1.20752,
          1.20858,
          1.21253,
          1.21295,
          1.21369,
          1.21474,
          1.21339,
          1.21298,
          1.2148,
          1.21398,
          1.21561,
          1.21528,
          1.21566,
          1.21648,
          1.22185,
          1.22215,
          1.22168,
          1.22239,
          1.22265,
          1.22312,
          1.22167,
          1.22079,
          1.22108,
          1.2169,
          1.21848,
          1.2182,
          1.21883,
          1.22002,
          1.22184,
          1.22282,
          1.22341,
          1.22331,
          1.2224,
          1.22061,
          1.21644,
          1.21768,
          1.21806,
          1.21798,
          1.21969,
          1.22102,
          1.22152,
          1.22174,
          1.2222,
          1.22296,
          1.22591,
          1.22538,
          1.22398,
          1.22542,
          1.22453,
          1.22598,
          1.2241,
          1.22201,
          1.21998,
          1.2192,
          1.21884,
          1.21936,
          1.21827,
          1.21864,
          1.21878,
          1.2195,
          1.21843,
          1.21878,
          1.21974,
          1.21351,
          1.22008,
          1.2201,
          1.21916,
          1.2198,
          1.22004,
          1.21988,
          1.22286,
          1.22258,
          1.22298,
          1.22227,
          1.223,
          1.22246,
          1.2233,
          1.22134,
          1.22202,
          1.2217,
          1.21816,
          1.2186,
          1.22122,
          1.22104,
          1.22126,
          1.22013,
          1.21876,
          1.21586
         ],
         "type": "candlestick",
         "x": [
          "s2021-05-12 01:00",
          "s2021-05-12 05:00",
          "s2021-05-12 09:00",
          "s2021-05-12 13:00",
          "s2021-05-12 17:00",
          "s2021-05-12 21:00",
          "s2021-05-13 01:00",
          "s2021-05-13 05:00",
          "s2021-05-13 09:00",
          "s2021-05-13 13:00",
          "s2021-05-13 17:00",
          "s2021-05-13 21:00",
          "s2021-05-14 01:00",
          "s2021-05-14 05:00",
          "s2021-05-14 09:00",
          "s2021-05-14 13:00",
          "s2021-05-14 17:00",
          "s2021-05-16 21:00",
          "s2021-05-17 01:00",
          "s2021-05-17 05:00",
          "s2021-05-17 09:00",
          "s2021-05-17 13:00",
          "s2021-05-17 17:00",
          "s2021-05-17 21:00",
          "s2021-05-18 01:00",
          "s2021-05-18 05:00",
          "s2021-05-18 09:00",
          "s2021-05-18 13:00",
          "s2021-05-18 17:00",
          "s2021-05-18 21:00",
          "s2021-05-19 01:00",
          "s2021-05-19 05:00",
          "s2021-05-19 09:00",
          "s2021-05-19 13:00",
          "s2021-05-19 17:00",
          "s2021-05-19 21:00",
          "s2021-05-20 01:00",
          "s2021-05-20 05:00",
          "s2021-05-20 09:00",
          "s2021-05-20 13:00",
          "s2021-05-20 17:00",
          "s2021-05-20 21:00",
          "s2021-05-21 01:00",
          "s2021-05-21 05:00",
          "s2021-05-21 09:00",
          "s2021-05-21 13:00",
          "s2021-05-21 17:00",
          "s2021-05-23 21:00",
          "s2021-05-24 01:00",
          "s2021-05-24 05:00",
          "s2021-05-24 09:00",
          "s2021-05-24 13:00",
          "s2021-05-24 17:00",
          "s2021-05-24 21:00",
          "s2021-05-25 01:00",
          "s2021-05-25 05:00",
          "s2021-05-25 09:00",
          "s2021-05-25 13:00",
          "s2021-05-25 17:00",
          "s2021-05-25 21:00",
          "s2021-05-26 01:00",
          "s2021-05-26 05:00",
          "s2021-05-26 09:00",
          "s2021-05-26 13:00",
          "s2021-05-26 17:00",
          "s2021-05-26 21:00",
          "s2021-05-27 01:00",
          "s2021-05-27 05:00",
          "s2021-05-27 09:00",
          "s2021-05-27 13:00",
          "s2021-05-27 17:00",
          "s2021-05-27 21:00",
          "s2021-05-28 01:00",
          "s2021-05-28 05:00",
          "s2021-05-28 09:00",
          "s2021-05-28 13:00",
          "s2021-05-28 17:00",
          "s2021-05-30 21:00",
          "s2021-05-31 01:00",
          "s2021-05-31 05:00",
          "s2021-05-31 09:00",
          "s2021-05-31 13:00",
          "s2021-05-31 17:00",
          "s2021-05-31 21:00",
          "s2021-06-01 01:00",
          "s2021-06-01 05:00",
          "s2021-06-01 09:00",
          "s2021-06-01 13:00",
          "s2021-06-01 17:00",
          "s2021-06-01 21:00",
          "s2021-06-02 01:00",
          "s2021-06-02 05:00",
          "s2021-06-02 09:00",
          "s2021-06-02 13:00",
          "s2021-06-02 17:00",
          "s2021-06-02 21:00",
          "s2021-06-03 01:00",
          "s2021-06-03 05:00",
          "s2021-06-03 09:00",
          "s2021-06-03 13:00"
         ]
        }
       ],
       "layout": {
        "font": {
         "color": "white",
         "size": 12
        },
        "height": 800,
        "margin": {
         "b": 10,
         "l": 10,
         "r": 10,
         "t": 10
        },
        "paper_bgcolor": "black",
        "plot_bgcolor": "black",
        "template": {
         "data": {
          "bar": [
           {
            "error_x": {
             "color": "#2a3f5f"
            },
            "error_y": {
             "color": "#2a3f5f"
            },
            "marker": {
             "line": {
              "color": "#E5ECF6",
              "width": 0.5
             },
             "pattern": {
              "fillmode": "overlay",
              "size": 10,
              "solidity": 0.2
             }
            },
            "type": "bar"
           }
          ],
          "barpolar": [
           {
            "marker": {
             "line": {
              "color": "#E5ECF6",
              "width": 0.5
             },
             "pattern": {
              "fillmode": "overlay",
              "size": 10,
              "solidity": 0.2
             }
            },
            "type": "barpolar"
           }
          ],
          "carpet": [
           {
            "aaxis": {
             "endlinecolor": "#2a3f5f",
             "gridcolor": "white",
             "linecolor": "white",
             "minorgridcolor": "white",
             "startlinecolor": "#2a3f5f"
            },
            "baxis": {
             "endlinecolor": "#2a3f5f",
             "gridcolor": "white",
             "linecolor": "white",
             "minorgridcolor": "white",
             "startlinecolor": "#2a3f5f"
            },
            "type": "carpet"
           }
          ],
          "choropleth": [
           {
            "colorbar": {
             "outlinewidth": 0,
             "ticks": ""
            },
            "type": "choropleth"
           }
          ],
          "contour": [
           {
            "colorbar": {
             "outlinewidth": 0,
             "ticks": ""
            },
            "colorscale": [
             [
              0,
              "#0d0887"
             ],
             [
              0.1111111111111111,
              "#46039f"
             ],
             [
              0.2222222222222222,
              "#7201a8"
             ],
             [
              0.3333333333333333,
              "#9c179e"
             ],
             [
              0.4444444444444444,
              "#bd3786"
             ],
             [
              0.5555555555555556,
              "#d8576b"
             ],
             [
              0.6666666666666666,
              "#ed7953"
             ],
             [
              0.7777777777777778,
              "#fb9f3a"
             ],
             [
              0.8888888888888888,
              "#fdca26"
             ],
             [
              1,
              "#f0f921"
             ]
            ],
            "type": "contour"
           }
          ],
          "contourcarpet": [
           {
            "colorbar": {
             "outlinewidth": 0,
             "ticks": ""
            },
            "type": "contourcarpet"
           }
          ],
          "heatmap": [
           {
            "colorbar": {
             "outlinewidth": 0,
             "ticks": ""
            },
            "colorscale": [
             [
              0,
              "#0d0887"
             ],
             [
              0.1111111111111111,
              "#46039f"
             ],
             [
              0.2222222222222222,
              "#7201a8"
             ],
             [
              0.3333333333333333,
              "#9c179e"
             ],
             [
              0.4444444444444444,
              "#bd3786"
             ],
             [
              0.5555555555555556,
              "#d8576b"
             ],
             [
              0.6666666666666666,
              "#ed7953"
             ],
             [
              0.7777777777777778,
              "#fb9f3a"
             ],
             [
              0.8888888888888888,
              "#fdca26"
             ],
             [
              1,
              "#f0f921"
             ]
            ],
            "type": "heatmap"
           }
          ],
          "heatmapgl": [
           {
            "colorbar": {
             "outlinewidth": 0,
             "ticks": ""
            },
            "colorscale": [
             [
              0,
              "#0d0887"
             ],
             [
              0.1111111111111111,
              "#46039f"
             ],
             [
              0.2222222222222222,
              "#7201a8"
             ],
             [
              0.3333333333333333,
              "#9c179e"
             ],
             [
              0.4444444444444444,
              "#bd3786"
             ],
             [
              0.5555555555555556,
              "#d8576b"
             ],
             [
              0.6666666666666666,
              "#ed7953"
             ],
             [
              0.7777777777777778,
              "#fb9f3a"
             ],
             [
              0.8888888888888888,
              "#fdca26"
             ],
             [
              1,
              "#f0f921"
             ]
            ],
            "type": "heatmapgl"
           }
          ],
          "histogram": [
           {
            "marker": {
             "pattern": {
              "fillmode": "overlay",
              "size": 10,
              "solidity": 0.2
             }
            },
            "type": "histogram"
           }
          ],
          "histogram2d": [
           {
            "colorbar": {
             "outlinewidth": 0,
             "ticks": ""
            },
            "colorscale": [
             [
              0,
              "#0d0887"
             ],
             [
              0.1111111111111111,
              "#46039f"
             ],
             [
              0.2222222222222222,
              "#7201a8"
             ],
             [
              0.3333333333333333,
              "#9c179e"
             ],
             [
              0.4444444444444444,
              "#bd3786"
             ],
             [
              0.5555555555555556,
              "#d8576b"
             ],
             [
              0.6666666666666666,
              "#ed7953"
             ],
             [
              0.7777777777777778,
              "#fb9f3a"
             ],
             [
              0.8888888888888888,
              "#fdca26"
             ],
             [
              1,
              "#f0f921"
             ]
            ],
            "type": "histogram2d"
           }
          ],
          "histogram2dcontour": [
           {
            "colorbar": {
             "outlinewidth": 0,
             "ticks": ""
            },
            "colorscale": [
             [
              0,
              "#0d0887"
             ],
             [
              0.1111111111111111,
              "#46039f"
             ],
             [
              0.2222222222222222,
              "#7201a8"
             ],
             [
              0.3333333333333333,
              "#9c179e"
             ],
             [
              0.4444444444444444,
              "#bd3786"
             ],
             [
              0.5555555555555556,
              "#d8576b"
             ],
             [
              0.6666666666666666,
              "#ed7953"
             ],
             [
              0.7777777777777778,
              "#fb9f3a"
             ],
             [
              0.8888888888888888,
              "#fdca26"
             ],
             [
              1,
              "#f0f921"
             ]
            ],
            "type": "histogram2dcontour"
           }
          ],
          "mesh3d": [
           {
            "colorbar": {
             "outlinewidth": 0,
             "ticks": ""
            },
            "type": "mesh3d"
           }
          ],
          "parcoords": [
           {
            "line": {
             "colorbar": {
              "outlinewidth": 0,
              "ticks": ""
             }
            },
            "type": "parcoords"
           }
          ],
          "pie": [
           {
            "automargin": true,
            "type": "pie"
           }
          ],
          "scatter": [
           {
            "fillpattern": {
             "fillmode": "overlay",
             "size": 10,
             "solidity": 0.2
            },
            "type": "scatter"
           }
          ],
          "scatter3d": [
           {
            "line": {
             "colorbar": {
              "outlinewidth": 0,
              "ticks": ""
             }
            },
            "marker": {
             "colorbar": {
              "outlinewidth": 0,
              "ticks": ""
             }
            },
            "type": "scatter3d"
           }
          ],
          "scattercarpet": [
           {
            "marker": {
             "colorbar": {
              "outlinewidth": 0,
              "ticks": ""
             }
            },
            "type": "scattercarpet"
           }
          ],
          "scattergeo": [
           {
            "marker": {
             "colorbar": {
              "outlinewidth": 0,
              "ticks": ""
             }
            },
            "type": "scattergeo"
           }
          ],
          "scattergl": [
           {
            "marker": {
             "colorbar": {
              "outlinewidth": 0,
              "ticks": ""
             }
            },
            "type": "scattergl"
           }
          ],
          "scattermapbox": [
           {
            "marker": {
             "colorbar": {
              "outlinewidth": 0,
              "ticks": ""
             }
            },
            "type": "scattermapbox"
           }
          ],
          "scatterpolar": [
           {
            "marker": {
             "colorbar": {
              "outlinewidth": 0,
              "ticks": ""
             }
            },
            "type": "scatterpolar"
           }
          ],
          "scatterpolargl": [
           {
            "marker": {
             "colorbar": {
              "outlinewidth": 0,
              "ticks": ""
             }
            },
            "type": "scatterpolargl"
           }
          ],
          "scatterternary": [
           {
            "marker": {
             "colorbar": {
              "outlinewidth": 0,
              "ticks": ""
             }
            },
            "type": "scatterternary"
           }
          ],
          "surface": [
           {
            "colorbar": {
             "outlinewidth": 0,
             "ticks": ""
            },
            "colorscale": [
             [
              0,
              "#0d0887"
             ],
             [
              0.1111111111111111,
              "#46039f"
             ],
             [
              0.2222222222222222,
              "#7201a8"
             ],
             [
              0.3333333333333333,
              "#9c179e"
             ],
             [
              0.4444444444444444,
              "#bd3786"
             ],
             [
              0.5555555555555556,
              "#d8576b"
             ],
             [
              0.6666666666666666,
              "#ed7953"
             ],
             [
              0.7777777777777778,
              "#fb9f3a"
             ],
             [
              0.8888888888888888,
              "#fdca26"
             ],
             [
              1,
              "#f0f921"
             ]
            ],
            "type": "surface"
           }
          ],
          "table": [
           {
            "cells": {
             "fill": {
              "color": "#EBF0F8"
             },
             "line": {
              "color": "white"
             }
            },
            "header": {
             "fill": {
              "color": "#C8D4E3"
             },
             "line": {
              "color": "white"
             }
            },
            "type": "table"
           }
          ]
         },
         "layout": {
          "annotationdefaults": {
           "arrowcolor": "#2a3f5f",
           "arrowhead": 0,
           "arrowwidth": 1
          },
          "autotypenumbers": "strict",
          "coloraxis": {
           "colorbar": {
            "outlinewidth": 0,
            "ticks": ""
           }
          },
          "colorscale": {
           "diverging": [
            [
             0,
             "#8e0152"
            ],
            [
             0.1,
             "#c51b7d"
            ],
            [
             0.2,
             "#de77ae"
            ],
            [
             0.3,
             "#f1b6da"
            ],
            [
             0.4,
             "#fde0ef"
            ],
            [
             0.5,
             "#f7f7f7"
            ],
            [
             0.6,
             "#e6f5d0"
            ],
            [
             0.7,
             "#b8e186"
            ],
            [
             0.8,
             "#7fbc41"
            ],
            [
             0.9,
             "#4d9221"
            ],
            [
             1,
             "#276419"
            ]
           ],
           "sequential": [
            [
             0,
             "#0d0887"
            ],
            [
             0.1111111111111111,
             "#46039f"
            ],
            [
             0.2222222222222222,
             "#7201a8"
            ],
            [
             0.3333333333333333,
             "#9c179e"
            ],
            [
             0.4444444444444444,
             "#bd3786"
            ],
            [
             0.5555555555555556,
             "#d8576b"
            ],
            [
             0.6666666666666666,
             "#ed7953"
            ],
            [
             0.7777777777777778,
             "#fb9f3a"
            ],
            [
             0.8888888888888888,
             "#fdca26"
            ],
            [
             1,
             "#f0f921"
            ]
           ],
           "sequentialminus": [
            [
             0,
             "#0d0887"
            ],
            [
             0.1111111111111111,
             "#46039f"
            ],
            [
             0.2222222222222222,
             "#7201a8"
            ],
            [
             0.3333333333333333,
             "#9c179e"
            ],
            [
             0.4444444444444444,
             "#bd3786"
            ],
            [
             0.5555555555555556,
             "#d8576b"
            ],
            [
             0.6666666666666666,
             "#ed7953"
            ],
            [
             0.7777777777777778,
             "#fb9f3a"
            ],
            [
             0.8888888888888888,
             "#fdca26"
            ],
            [
             1,
             "#f0f921"
            ]
           ]
          },
          "colorway": [
           "#636efa",
           "#EF553B",
           "#00cc96",
           "#ab63fa",
           "#FFA15A",
           "#19d3f3",
           "#FF6692",
           "#B6E880",
           "#FF97FF",
           "#FECB52"
          ],
          "font": {
           "color": "#2a3f5f"
          },
          "geo": {
           "bgcolor": "white",
           "lakecolor": "white",
           "landcolor": "#E5ECF6",
           "showlakes": true,
           "showland": true,
           "subunitcolor": "white"
          },
          "hoverlabel": {
           "align": "left"
          },
          "hovermode": "closest",
          "mapbox": {
           "style": "light"
          },
          "paper_bgcolor": "white",
          "plot_bgcolor": "#E5ECF6",
          "polar": {
           "angularaxis": {
            "gridcolor": "white",
            "linecolor": "white",
            "ticks": ""
           },
           "bgcolor": "#E5ECF6",
           "radialaxis": {
            "gridcolor": "white",
            "linecolor": "white",
            "ticks": ""
           }
          },
          "scene": {
           "xaxis": {
            "backgroundcolor": "#E5ECF6",
            "gridcolor": "white",
            "gridwidth": 2,
            "linecolor": "white",
            "showbackground": true,
            "ticks": "",
            "zerolinecolor": "white"
           },
           "yaxis": {
            "backgroundcolor": "#E5ECF6",
            "gridcolor": "white",
            "gridwidth": 2,
            "linecolor": "white",
            "showbackground": true,
            "ticks": "",
            "zerolinecolor": "white"
           },
           "zaxis": {
            "backgroundcolor": "#E5ECF6",
            "gridcolor": "white",
            "gridwidth": 2,
            "linecolor": "white",
            "showbackground": true,
            "ticks": "",
            "zerolinecolor": "white"
           }
          },
          "shapedefaults": {
           "line": {
            "color": "#2a3f5f"
           }
          },
          "ternary": {
           "aaxis": {
            "gridcolor": "white",
            "linecolor": "white",
            "ticks": ""
           },
           "baxis": {
            "gridcolor": "white",
            "linecolor": "white",
            "ticks": ""
           },
           "bgcolor": "#E5ECF6",
           "caxis": {
            "gridcolor": "white",
            "linecolor": "white",
            "ticks": ""
           }
          },
          "title": {
           "x": 0.05
          },
          "xaxis": {
           "automargin": true,
           "gridcolor": "white",
           "linecolor": "white",
           "ticks": "",
           "title": {
            "standoff": 15
           },
           "zerolinecolor": "white",
           "zerolinewidth": 2
          },
          "yaxis": {
           "automargin": true,
           "gridcolor": "white",
           "linecolor": "white",
           "ticks": "",
           "title": {
            "standoff": 15
           },
           "zerolinecolor": "white",
           "zerolinewidth": 2
          }
         }
        },
        "title": {
         "text": "Bjørn Chart"
        },
        "width": 1500,
        "xaxis": {
         "gridcolor": "gray",
         "nticks": 5,
         "rangeslider": {
          "visible": false
         },
         "title": {
          "text": "Time"
         }
        },
        "yaxis": {
         "gridcolor": "gray",
         "title": {
          "text": "Mid Prices"
         }
        }
       }
      }
     },
     "metadata": {},
     "output_type": "display_data"
    }
   ],
   "source": [
    "cp.show_plot()"
   ]
  },
  {
   "cell_type": "code",
   "execution_count": null,
   "metadata": {},
   "outputs": [],
   "source": []
  },
  {
   "cell_type": "code",
   "execution_count": null,
   "metadata": {},
   "outputs": [],
   "source": []
  },
  {
   "cell_type": "code",
   "execution_count": null,
   "metadata": {},
   "outputs": [],
   "source": []
  },
  {
   "cell_type": "code",
   "execution_count": null,
   "metadata": {},
   "outputs": [],
   "source": []
  },
  {
   "cell_type": "code",
   "execution_count": null,
   "metadata": {},
   "outputs": [],
   "source": []
  },
  {
   "cell_type": "code",
   "execution_count": null,
   "metadata": {},
   "outputs": [],
   "source": []
  },
  {
   "cell_type": "code",
   "execution_count": null,
   "metadata": {},
   "outputs": [],
   "source": []
  },
  {
   "cell_type": "code",
   "execution_count": null,
   "metadata": {},
   "outputs": [],
   "source": []
  },
  {
   "cell_type": "code",
   "execution_count": null,
   "metadata": {},
   "outputs": [],
   "source": []
  },
  {
   "cell_type": "code",
   "execution_count": null,
   "metadata": {},
   "outputs": [],
   "source": []
  },
  {
   "cell_type": "code",
   "execution_count": null,
   "metadata": {},
   "outputs": [],
   "source": []
  }
 ],
 "metadata": {
  "kernelspec": {
   "display_name": ".venv",
   "language": "python",
   "name": "python3"
  },
  "language_info": {
   "codemirror_mode": {
    "name": "ipython",
    "version": 3
   },
   "file_extension": ".py",
   "mimetype": "text/x-python",
   "name": "python",
   "nbconvert_exporter": "python",
   "pygments_lexer": "ipython3",
   "version": "3.12.0"
  }
 },
 "nbformat": 4,
 "nbformat_minor": 2
}
