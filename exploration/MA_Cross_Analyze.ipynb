{
 "cells": [
  {
   "cell_type": "code",
   "execution_count": 269,
   "metadata": {},
   "outputs": [],
   "source": [
    "import pandas as pd\n",
    "from plotting import CandlePlot\n",
    "pd.set_option('display.max_columns', None)"
   ]
  },
  {
   "cell_type": "code",
   "execution_count": 270,
   "metadata": {},
   "outputs": [],
   "source": [
    "df_ma_res = pd.read_pickle(\"../data/ma_res_2023-12-04.pkl\")\n",
    "df_ma_trades = pd.read_pickle(\"../data/ma_trades_2023-12-04.pkl\")"
   ]
  },
  {
   "cell_type": "code",
   "execution_count": 271,
   "metadata": {},
   "outputs": [
    {
     "data": {
      "text/html": [
       "<div>\n",
       "<style scoped>\n",
       "    .dataframe tbody tr th:only-of-type {\n",
       "        vertical-align: middle;\n",
       "    }\n",
       "\n",
       "    .dataframe tbody tr th {\n",
       "        vertical-align: top;\n",
       "    }\n",
       "\n",
       "    .dataframe thead th {\n",
       "        text-align: right;\n",
       "    }\n",
       "</style>\n",
       "<table border=\"1\" class=\"dataframe\">\n",
       "  <thead>\n",
       "    <tr style=\"text-align: right;\">\n",
       "      <th></th>\n",
       "      <th>time</th>\n",
       "      <th>volume</th>\n",
       "      <th>mid_o</th>\n",
       "      <th>mid_h</th>\n",
       "      <th>mid_l</th>\n",
       "      <th>mid_c</th>\n",
       "      <th>bid_o</th>\n",
       "      <th>bid_h</th>\n",
       "      <th>bid_l</th>\n",
       "      <th>bid_c</th>\n",
       "      <th>ask_o</th>\n",
       "      <th>ask_h</th>\n",
       "      <th>ask_l</th>\n",
       "      <th>ask_c</th>\n",
       "      <th>MA__40</th>\n",
       "      <th>MA__200</th>\n",
       "      <th>MA__10</th>\n",
       "      <th>MA__80</th>\n",
       "      <th>MA__50</th>\n",
       "      <th>MA__20</th>\n",
       "      <th>MA__150</th>\n",
       "      <th>MA__120</th>\n",
       "      <th>MA__30</th>\n",
       "      <th>DELTA</th>\n",
       "      <th>DELTA_PREV</th>\n",
       "      <th>TRADE</th>\n",
       "      <th>DIFF</th>\n",
       "      <th>GAIN</th>\n",
       "      <th>granularity</th>\n",
       "      <th>pair</th>\n",
       "      <th>GAIN_C</th>\n",
       "      <th>ma_l</th>\n",
       "      <th>ma_s</th>\n",
       "      <th>cross</th>\n",
       "    </tr>\n",
       "  </thead>\n",
       "  <tbody>\n",
       "    <tr>\n",
       "      <th>0</th>\n",
       "      <td>2023-10-09 11:00:00+00:00</td>\n",
       "      <td>960</td>\n",
       "      <td>1.05284</td>\n",
       "      <td>1.05347</td>\n",
       "      <td>1.05281</td>\n",
       "      <td>1.05340</td>\n",
       "      <td>1.05277</td>\n",
       "      <td>1.05340</td>\n",
       "      <td>1.05273</td>\n",
       "      <td>1.05332</td>\n",
       "      <td>1.05291</td>\n",
       "      <td>1.05354</td>\n",
       "      <td>1.05289</td>\n",
       "      <td>1.05348</td>\n",
       "      <td>1.054488</td>\n",
       "      <td>1.054700</td>\n",
       "      <td>1.053383</td>\n",
       "      <td>1.056074</td>\n",
       "      <td>1.054893</td>\n",
       "      <td>1.053323</td>\n",
       "      <td>1.055239</td>\n",
       "      <td>1.055435</td>\n",
       "      <td>1.053973</td>\n",
       "      <td>0.000060</td>\n",
       "      <td>-0.000030</td>\n",
       "      <td>1</td>\n",
       "      <td>-0.00016</td>\n",
       "      <td>-1.6</td>\n",
       "      <td>M15</td>\n",
       "      <td>EUR_USD</td>\n",
       "      <td>-1.6</td>\n",
       "      <td>MA__20</td>\n",
       "      <td>MA__10</td>\n",
       "      <td>MA__10_MA__20</td>\n",
       "    </tr>\n",
       "    <tr>\n",
       "      <th>1</th>\n",
       "      <td>2023-10-09 11:30:00+00:00</td>\n",
       "      <td>671</td>\n",
       "      <td>1.05358</td>\n",
       "      <td>1.05404</td>\n",
       "      <td>1.05314</td>\n",
       "      <td>1.05324</td>\n",
       "      <td>1.05349</td>\n",
       "      <td>1.05397</td>\n",
       "      <td>1.05306</td>\n",
       "      <td>1.05317</td>\n",
       "      <td>1.05366</td>\n",
       "      <td>1.05412</td>\n",
       "      <td>1.05322</td>\n",
       "      <td>1.05332</td>\n",
       "      <td>1.054347</td>\n",
       "      <td>1.054722</td>\n",
       "      <td>1.053210</td>\n",
       "      <td>1.055931</td>\n",
       "      <td>1.054786</td>\n",
       "      <td>1.053229</td>\n",
       "      <td>1.055219</td>\n",
       "      <td>1.055428</td>\n",
       "      <td>1.053850</td>\n",
       "      <td>-0.000019</td>\n",
       "      <td>0.000044</td>\n",
       "      <td>-1</td>\n",
       "      <td>0.00190</td>\n",
       "      <td>-19.0</td>\n",
       "      <td>M15</td>\n",
       "      <td>EUR_USD</td>\n",
       "      <td>-20.6</td>\n",
       "      <td>MA__20</td>\n",
       "      <td>MA__10</td>\n",
       "      <td>MA__10_MA__20</td>\n",
       "    </tr>\n",
       "    <tr>\n",
       "      <th>2</th>\n",
       "      <td>2023-10-09 13:30:00+00:00</td>\n",
       "      <td>2158</td>\n",
       "      <td>1.05465</td>\n",
       "      <td>1.05536</td>\n",
       "      <td>1.05440</td>\n",
       "      <td>1.05514</td>\n",
       "      <td>1.05458</td>\n",
       "      <td>1.05529</td>\n",
       "      <td>1.05433</td>\n",
       "      <td>1.05506</td>\n",
       "      <td>1.05472</td>\n",
       "      <td>1.05543</td>\n",
       "      <td>1.05448</td>\n",
       "      <td>1.05521</td>\n",
       "      <td>1.053859</td>\n",
       "      <td>1.054801</td>\n",
       "      <td>1.053514</td>\n",
       "      <td>1.055439</td>\n",
       "      <td>1.054293</td>\n",
       "      <td>1.053448</td>\n",
       "      <td>1.055154</td>\n",
       "      <td>1.055406</td>\n",
       "      <td>1.053387</td>\n",
       "      <td>0.000066</td>\n",
       "      <td>-0.000031</td>\n",
       "      <td>1</td>\n",
       "      <td>-0.00142</td>\n",
       "      <td>-14.2</td>\n",
       "      <td>M15</td>\n",
       "      <td>EUR_USD</td>\n",
       "      <td>-34.8</td>\n",
       "      <td>MA__20</td>\n",
       "      <td>MA__10</td>\n",
       "      <td>MA__10_MA__20</td>\n",
       "    </tr>\n",
       "    <tr>\n",
       "      <th>3</th>\n",
       "      <td>2023-10-09 17:00:00+00:00</td>\n",
       "      <td>732</td>\n",
       "      <td>1.05358</td>\n",
       "      <td>1.05388</td>\n",
       "      <td>1.05352</td>\n",
       "      <td>1.05372</td>\n",
       "      <td>1.05350</td>\n",
       "      <td>1.05380</td>\n",
       "      <td>1.05345</td>\n",
       "      <td>1.05365</td>\n",
       "      <td>1.05365</td>\n",
       "      <td>1.05396</td>\n",
       "      <td>1.05360</td>\n",
       "      <td>1.05380</td>\n",
       "      <td>1.053676</td>\n",
       "      <td>1.054959</td>\n",
       "      <td>1.054133</td>\n",
       "      <td>1.054659</td>\n",
       "      <td>1.053889</td>\n",
       "      <td>1.054184</td>\n",
       "      <td>1.055157</td>\n",
       "      <td>1.055299</td>\n",
       "      <td>1.053794</td>\n",
       "      <td>-0.000051</td>\n",
       "      <td>0.000082</td>\n",
       "      <td>-1</td>\n",
       "      <td>0.00292</td>\n",
       "      <td>-29.2</td>\n",
       "      <td>M15</td>\n",
       "      <td>EUR_USD</td>\n",
       "      <td>-64.0</td>\n",
       "      <td>MA__20</td>\n",
       "      <td>MA__10</td>\n",
       "      <td>MA__10_MA__20</td>\n",
       "    </tr>\n",
       "    <tr>\n",
       "      <th>4</th>\n",
       "      <td>2023-10-09 18:15:00+00:00</td>\n",
       "      <td>674</td>\n",
       "      <td>1.05672</td>\n",
       "      <td>1.05674</td>\n",
       "      <td>1.05650</td>\n",
       "      <td>1.05664</td>\n",
       "      <td>1.05664</td>\n",
       "      <td>1.05666</td>\n",
       "      <td>1.05643</td>\n",
       "      <td>1.05657</td>\n",
       "      <td>1.05679</td>\n",
       "      <td>1.05682</td>\n",
       "      <td>1.05658</td>\n",
       "      <td>1.05672</td>\n",
       "      <td>1.054079</td>\n",
       "      <td>1.055030</td>\n",
       "      <td>1.054852</td>\n",
       "      <td>1.054699</td>\n",
       "      <td>1.053956</td>\n",
       "      <td>1.054788</td>\n",
       "      <td>1.055214</td>\n",
       "      <td>1.055303</td>\n",
       "      <td>1.054305</td>\n",
       "      <td>0.000064</td>\n",
       "      <td>-0.000103</td>\n",
       "      <td>1</td>\n",
       "      <td>0.00024</td>\n",
       "      <td>2.4</td>\n",
       "      <td>M15</td>\n",
       "      <td>EUR_USD</td>\n",
       "      <td>-61.6</td>\n",
       "      <td>MA__20</td>\n",
       "      <td>MA__10</td>\n",
       "      <td>MA__10_MA__20</td>\n",
       "    </tr>\n",
       "  </tbody>\n",
       "</table>\n",
       "</div>"
      ],
      "text/plain": [
       "                       time  volume    mid_o    mid_h    mid_l    mid_c  \\\n",
       "0 2023-10-09 11:00:00+00:00     960  1.05284  1.05347  1.05281  1.05340   \n",
       "1 2023-10-09 11:30:00+00:00     671  1.05358  1.05404  1.05314  1.05324   \n",
       "2 2023-10-09 13:30:00+00:00    2158  1.05465  1.05536  1.05440  1.05514   \n",
       "3 2023-10-09 17:00:00+00:00     732  1.05358  1.05388  1.05352  1.05372   \n",
       "4 2023-10-09 18:15:00+00:00     674  1.05672  1.05674  1.05650  1.05664   \n",
       "\n",
       "     bid_o    bid_h    bid_l    bid_c    ask_o    ask_h    ask_l    ask_c  \\\n",
       "0  1.05277  1.05340  1.05273  1.05332  1.05291  1.05354  1.05289  1.05348   \n",
       "1  1.05349  1.05397  1.05306  1.05317  1.05366  1.05412  1.05322  1.05332   \n",
       "2  1.05458  1.05529  1.05433  1.05506  1.05472  1.05543  1.05448  1.05521   \n",
       "3  1.05350  1.05380  1.05345  1.05365  1.05365  1.05396  1.05360  1.05380   \n",
       "4  1.05664  1.05666  1.05643  1.05657  1.05679  1.05682  1.05658  1.05672   \n",
       "\n",
       "     MA__40   MA__200    MA__10    MA__80    MA__50    MA__20   MA__150  \\\n",
       "0  1.054488  1.054700  1.053383  1.056074  1.054893  1.053323  1.055239   \n",
       "1  1.054347  1.054722  1.053210  1.055931  1.054786  1.053229  1.055219   \n",
       "2  1.053859  1.054801  1.053514  1.055439  1.054293  1.053448  1.055154   \n",
       "3  1.053676  1.054959  1.054133  1.054659  1.053889  1.054184  1.055157   \n",
       "4  1.054079  1.055030  1.054852  1.054699  1.053956  1.054788  1.055214   \n",
       "\n",
       "    MA__120    MA__30     DELTA  DELTA_PREV  TRADE     DIFF  GAIN granularity  \\\n",
       "0  1.055435  1.053973  0.000060   -0.000030      1 -0.00016  -1.6         M15   \n",
       "1  1.055428  1.053850 -0.000019    0.000044     -1  0.00190 -19.0         M15   \n",
       "2  1.055406  1.053387  0.000066   -0.000031      1 -0.00142 -14.2         M15   \n",
       "3  1.055299  1.053794 -0.000051    0.000082     -1  0.00292 -29.2         M15   \n",
       "4  1.055303  1.054305  0.000064   -0.000103      1  0.00024   2.4         M15   \n",
       "\n",
       "      pair  GAIN_C    ma_l    ma_s          cross  \n",
       "0  EUR_USD    -1.6  MA__20  MA__10  MA__10_MA__20  \n",
       "1  EUR_USD   -20.6  MA__20  MA__10  MA__10_MA__20  \n",
       "2  EUR_USD   -34.8  MA__20  MA__10  MA__10_MA__20  \n",
       "3  EUR_USD   -64.0  MA__20  MA__10  MA__10_MA__20  \n",
       "4  EUR_USD   -61.6  MA__20  MA__10  MA__10_MA__20  "
      ]
     },
     "execution_count": 271,
     "metadata": {},
     "output_type": "execute_result"
    }
   ],
   "source": [
    "df_ma_trades.head()"
   ]
  },
  {
   "cell_type": "code",
   "execution_count": 272,
   "metadata": {},
   "outputs": [
    {
     "data": {
      "text/plain": [
       "array(['M15', 'M30', 'H1', 'H4'], dtype=object)"
      ]
     },
     "execution_count": 272,
     "metadata": {},
     "output_type": "execute_result"
    }
   ],
   "source": [
    "df_ma_trades.granularity.unique()"
   ]
  },
  {
   "cell_type": "code",
   "execution_count": 273,
   "metadata": {},
   "outputs": [],
   "source": [
    "def filter_data_by_granularity(df_ma_res, df_ma_trades, granularity):\n",
    "    \"\"\"\n",
    "    Filter DataFrame based on granularity and create copies.\n",
    "\n",
    "    Parameters:\n",
    "    - df_ma_res (pd.DataFrame): DataFrame for macro results.\n",
    "    - df_ma_trades (pd.DataFrame): DataFrame for trade results.\n",
    "    - granularity (str): Granularity to filter on.\n",
    "\n",
    "    Returns:\n",
    "    pd.DataFrame, pd.DataFrame: Filtered DataFrames for macro results and trade results.\n",
    "\n",
    "    Description:\n",
    "    This function takes two DataFrames, df_ma_res and df_ma_trades, and filters them based on the provided granularity.\n",
    "    It creates copies of the filtered DataFrames and returns them as df_res_filtered and df_trades_filtered, respectively.\n",
    "    \"\"\"\n",
    "    df_res_filtered = df_ma_res[df_ma_res.granularity == granularity].copy()\n",
    "    df_trades_filtered = df_ma_trades[df_ma_trades.granularity == granularity].copy()\n",
    "    return df_res_filtered, df_trades_filtered\n",
    "\n",
    "df_ma_res_m15, df_ma_trades_m15 = filter_data_by_granularity(df_ma_res, df_ma_trades, 'M15')\n",
    "df_ma_res_m30, df_ma_trades_m30 = filter_data_by_granularity(df_ma_res, df_ma_trades, 'M30')\n",
    "df_ma_res_h1, df_ma_trades_h1 = filter_data_by_granularity(df_ma_res, df_ma_trades, 'H1')\n",
    "df_ma_res_h4, df_ma_trades_h4 = filter_data_by_granularity(df_ma_res, df_ma_trades, 'H4')\n"
   ]
  },
  {
   "cell_type": "code",
   "execution_count": 274,
   "metadata": {},
   "outputs": [
    {
     "data": {
      "text/plain": [
       "Index(['pair', 'num_trades', 'total_gain', 'mean_gain', 'min_gain', 'max_gain',\n",
       "       'ma_l', 'ma_s', 'cross', 'granularity'],\n",
       "      dtype='object')"
      ]
     },
     "execution_count": 274,
     "metadata": {},
     "output_type": "execute_result"
    }
   ],
   "source": [
    "df_ma_res_m15.columns\n",
    "df_ma_res_m30.columns\n",
    "df_ma_res_h1.columns\n",
    "df_ma_res_h4.columns"
   ]
  },
  {
   "cell_type": "code",
   "execution_count": 275,
   "metadata": {},
   "outputs": [],
   "source": [
    "def generate_cross_summary(df_ma_res, granularity):\n",
    "    \"\"\"\n",
    "    Generate cross summary DataFrame based on granularity.\n",
    "\n",
    "    Parameters:\n",
    "    - df_ma_res (pd.DataFrame): DataFrame for macro results.\n",
    "    - granularity (str): Granularity to filter on.\n",
    "\n",
    "    Returns:\n",
    "    pd.DataFrame: Cross summary DataFrame.\n",
    "\n",
    "    Description:\n",
    "    This function generates a cross summary DataFrame from the provided macro results DataFrame (df_ma_res)\n",
    "    by filtering it based on the specified granularity. It creates a copy of the filtered DataFrame and extracts\n",
    "    columns 'pair', 'number_of_trades', 'total_gain', and 'cross' to form the cross summary DataFrame.\n",
    "    \"\"\"\n",
    "    df_res_filtered = df_ma_res[df_ma_res.granularity == granularity].copy()\n",
    "    df_cross_summary = df_res_filtered[['pair', 'num_trades', 'total_gain', 'cross']].copy()\n",
    "    return df_cross_summary\n",
    "\n",
    "df_cross_summary_m15 = generate_cross_summary(df_ma_res, 'M15')\n",
    "df_cross_summary_m30 = generate_cross_summary(df_ma_res, 'M30')\n",
    "df_cross_summary_h1 = generate_cross_summary(df_ma_res, 'H1')\n",
    "df_cross_summary_h4 = generate_cross_summary(df_ma_res, 'H4')\n"
   ]
  },
  {
   "cell_type": "code",
   "execution_count": 276,
   "metadata": {},
   "outputs": [
    {
     "data": {
      "text/html": [
       "<div>\n",
       "<style scoped>\n",
       "    .dataframe tbody tr th:only-of-type {\n",
       "        vertical-align: middle;\n",
       "    }\n",
       "\n",
       "    .dataframe tbody tr th {\n",
       "        vertical-align: top;\n",
       "    }\n",
       "\n",
       "    .dataframe thead th {\n",
       "        text-align: right;\n",
       "    }\n",
       "</style>\n",
       "<table border=\"1\" class=\"dataframe\">\n",
       "  <thead>\n",
       "    <tr style=\"text-align: right;\">\n",
       "      <th></th>\n",
       "      <th>pair</th>\n",
       "      <th>num_trades</th>\n",
       "      <th>total_gain</th>\n",
       "      <th>cross</th>\n",
       "    </tr>\n",
       "  </thead>\n",
       "  <tbody>\n",
       "    <tr>\n",
       "      <th>432</th>\n",
       "      <td>EUR_USD</td>\n",
       "      <td>213</td>\n",
       "      <td>-1430</td>\n",
       "      <td>MA__10_MA__20</td>\n",
       "    </tr>\n",
       "    <tr>\n",
       "      <th>433</th>\n",
       "      <td>EUR_USD</td>\n",
       "      <td>121</td>\n",
       "      <td>-1582</td>\n",
       "      <td>MA__10_MA__40</td>\n",
       "    </tr>\n",
       "    <tr>\n",
       "      <th>434</th>\n",
       "      <td>EUR_USD</td>\n",
       "      <td>112</td>\n",
       "      <td>-616</td>\n",
       "      <td>MA__20_MA__40</td>\n",
       "    </tr>\n",
       "    <tr>\n",
       "      <th>435</th>\n",
       "      <td>EUR_USD</td>\n",
       "      <td>128</td>\n",
       "      <td>-1030</td>\n",
       "      <td>MA__30_MA__40</td>\n",
       "    </tr>\n",
       "    <tr>\n",
       "      <th>436</th>\n",
       "      <td>EUR_USD</td>\n",
       "      <td>76</td>\n",
       "      <td>190</td>\n",
       "      <td>MA__10_MA__80</td>\n",
       "    </tr>\n",
       "    <tr>\n",
       "      <th>...</th>\n",
       "      <td>...</td>\n",
       "      <td>...</td>\n",
       "      <td>...</td>\n",
       "      <td>...</td>\n",
       "    </tr>\n",
       "    <tr>\n",
       "      <th>571</th>\n",
       "      <td>GBP_JPY</td>\n",
       "      <td>51</td>\n",
       "      <td>-5071</td>\n",
       "      <td>MA__10_MA__200</td>\n",
       "    </tr>\n",
       "    <tr>\n",
       "      <th>572</th>\n",
       "      <td>GBP_JPY</td>\n",
       "      <td>45</td>\n",
       "      <td>-5647</td>\n",
       "      <td>MA__20_MA__200</td>\n",
       "    </tr>\n",
       "    <tr>\n",
       "      <th>573</th>\n",
       "      <td>GBP_JPY</td>\n",
       "      <td>41</td>\n",
       "      <td>-6392</td>\n",
       "      <td>MA__30_MA__200</td>\n",
       "    </tr>\n",
       "    <tr>\n",
       "      <th>574</th>\n",
       "      <td>GBP_JPY</td>\n",
       "      <td>33</td>\n",
       "      <td>-3451</td>\n",
       "      <td>MA__40_MA__200</td>\n",
       "    </tr>\n",
       "    <tr>\n",
       "      <th>575</th>\n",
       "      <td>GBP_JPY</td>\n",
       "      <td>31</td>\n",
       "      <td>-6562</td>\n",
       "      <td>MA__50_MA__200</td>\n",
       "    </tr>\n",
       "  </tbody>\n",
       "</table>\n",
       "<p>144 rows × 4 columns</p>\n",
       "</div>"
      ],
      "text/plain": [
       "        pair  num_trades  total_gain           cross\n",
       "432  EUR_USD         213       -1430   MA__10_MA__20\n",
       "433  EUR_USD         121       -1582   MA__10_MA__40\n",
       "434  EUR_USD         112        -616   MA__20_MA__40\n",
       "435  EUR_USD         128       -1030   MA__30_MA__40\n",
       "436  EUR_USD          76         190   MA__10_MA__80\n",
       "..       ...         ...         ...             ...\n",
       "571  GBP_JPY          51       -5071  MA__10_MA__200\n",
       "572  GBP_JPY          45       -5647  MA__20_MA__200\n",
       "573  GBP_JPY          41       -6392  MA__30_MA__200\n",
       "574  GBP_JPY          33       -3451  MA__40_MA__200\n",
       "575  GBP_JPY          31       -6562  MA__50_MA__200\n",
       "\n",
       "[144 rows x 4 columns]"
      ]
     },
     "execution_count": 276,
     "metadata": {},
     "output_type": "execute_result"
    }
   ],
   "source": [
    "df_cross_summary_h4"
   ]
  },
  {
   "cell_type": "code",
   "execution_count": 277,
   "metadata": {},
   "outputs": [],
   "source": [
    "def group_and_sort(df):\n",
    "    grouped_df = df.groupby(by=\"cross\").sum()\n",
    "    sorted_df = grouped_df.sort_values(by=\"cross\", inplace=False, ascending=False)\n",
    "    return sorted_df\n",
    "\n",
    "df_cross_gr_m15 = group_and_sort(df_cross_summary_m15)\n",
    "df_cross_gr_m30 = group_and_sort(df_cross_summary_m30)\n",
    "df_cross_gr_h1 = group_and_sort(df_cross_summary_h1)\n",
    "df_cross_gr_h4 = group_and_sort(df_cross_summary_h4)"
   ]
  },
  {
   "cell_type": "code",
   "execution_count": 278,
   "metadata": {},
   "outputs": [
    {
     "data": {
      "text/html": [
       "<div>\n",
       "<style scoped>\n",
       "    .dataframe tbody tr th:only-of-type {\n",
       "        vertical-align: middle;\n",
       "    }\n",
       "\n",
       "    .dataframe tbody tr th {\n",
       "        vertical-align: top;\n",
       "    }\n",
       "\n",
       "    .dataframe thead th {\n",
       "        text-align: right;\n",
       "    }\n",
       "</style>\n",
       "<table border=\"1\" class=\"dataframe\">\n",
       "  <thead>\n",
       "    <tr style=\"text-align: right;\">\n",
       "      <th></th>\n",
       "      <th>pair</th>\n",
       "      <th>num_trades</th>\n",
       "      <th>total_gain</th>\n",
       "      <th>cross</th>\n",
       "    </tr>\n",
       "  </thead>\n",
       "  <tbody>\n",
       "    <tr>\n",
       "      <th>432</th>\n",
       "      <td>EUR_USD</td>\n",
       "      <td>213</td>\n",
       "      <td>-1430</td>\n",
       "      <td>MA__10_MA__20</td>\n",
       "    </tr>\n",
       "    <tr>\n",
       "      <th>433</th>\n",
       "      <td>EUR_USD</td>\n",
       "      <td>121</td>\n",
       "      <td>-1582</td>\n",
       "      <td>MA__10_MA__40</td>\n",
       "    </tr>\n",
       "    <tr>\n",
       "      <th>434</th>\n",
       "      <td>EUR_USD</td>\n",
       "      <td>112</td>\n",
       "      <td>-616</td>\n",
       "      <td>MA__20_MA__40</td>\n",
       "    </tr>\n",
       "    <tr>\n",
       "      <th>435</th>\n",
       "      <td>EUR_USD</td>\n",
       "      <td>128</td>\n",
       "      <td>-1030</td>\n",
       "      <td>MA__30_MA__40</td>\n",
       "    </tr>\n",
       "    <tr>\n",
       "      <th>436</th>\n",
       "      <td>EUR_USD</td>\n",
       "      <td>76</td>\n",
       "      <td>190</td>\n",
       "      <td>MA__10_MA__80</td>\n",
       "    </tr>\n",
       "    <tr>\n",
       "      <th>...</th>\n",
       "      <td>...</td>\n",
       "      <td>...</td>\n",
       "      <td>...</td>\n",
       "      <td>...</td>\n",
       "    </tr>\n",
       "    <tr>\n",
       "      <th>571</th>\n",
       "      <td>GBP_JPY</td>\n",
       "      <td>51</td>\n",
       "      <td>-5071</td>\n",
       "      <td>MA__10_MA__200</td>\n",
       "    </tr>\n",
       "    <tr>\n",
       "      <th>572</th>\n",
       "      <td>GBP_JPY</td>\n",
       "      <td>45</td>\n",
       "      <td>-5647</td>\n",
       "      <td>MA__20_MA__200</td>\n",
       "    </tr>\n",
       "    <tr>\n",
       "      <th>573</th>\n",
       "      <td>GBP_JPY</td>\n",
       "      <td>41</td>\n",
       "      <td>-6392</td>\n",
       "      <td>MA__30_MA__200</td>\n",
       "    </tr>\n",
       "    <tr>\n",
       "      <th>574</th>\n",
       "      <td>GBP_JPY</td>\n",
       "      <td>33</td>\n",
       "      <td>-3451</td>\n",
       "      <td>MA__40_MA__200</td>\n",
       "    </tr>\n",
       "    <tr>\n",
       "      <th>575</th>\n",
       "      <td>GBP_JPY</td>\n",
       "      <td>31</td>\n",
       "      <td>-6562</td>\n",
       "      <td>MA__50_MA__200</td>\n",
       "    </tr>\n",
       "  </tbody>\n",
       "</table>\n",
       "<p>144 rows × 4 columns</p>\n",
       "</div>"
      ],
      "text/plain": [
       "        pair  num_trades  total_gain           cross\n",
       "432  EUR_USD         213       -1430   MA__10_MA__20\n",
       "433  EUR_USD         121       -1582   MA__10_MA__40\n",
       "434  EUR_USD         112        -616   MA__20_MA__40\n",
       "435  EUR_USD         128       -1030   MA__30_MA__40\n",
       "436  EUR_USD          76         190   MA__10_MA__80\n",
       "..       ...         ...         ...             ...\n",
       "571  GBP_JPY          51       -5071  MA__10_MA__200\n",
       "572  GBP_JPY          45       -5647  MA__20_MA__200\n",
       "573  GBP_JPY          41       -6392  MA__30_MA__200\n",
       "574  GBP_JPY          33       -3451  MA__40_MA__200\n",
       "575  GBP_JPY          31       -6562  MA__50_MA__200\n",
       "\n",
       "[144 rows x 4 columns]"
      ]
     },
     "execution_count": 278,
     "metadata": {},
     "output_type": "execute_result"
    }
   ],
   "source": [
    "df_cross_summary_h4"
   ]
  },
  {
   "cell_type": "code",
   "execution_count": 279,
   "metadata": {},
   "outputs": [],
   "source": [
    "def filter_ma_cross(df, cross_value):\n",
    "    return df[df['cross'] == cross_value]\n",
    "\n",
    "cross_value = \"MA__40_MA__200\"\n",
    "temp = filter_ma_cross(df_ma_res_h4, cross_value)\n"
   ]
  },
  {
   "cell_type": "code",
   "execution_count": 280,
   "metadata": {},
   "outputs": [
    {
     "data": {
      "text/html": [
       "<div>\n",
       "<style scoped>\n",
       "    .dataframe tbody tr th:only-of-type {\n",
       "        vertical-align: middle;\n",
       "    }\n",
       "\n",
       "    .dataframe tbody tr th {\n",
       "        vertical-align: top;\n",
       "    }\n",
       "\n",
       "    .dataframe thead th {\n",
       "        text-align: right;\n",
       "    }\n",
       "</style>\n",
       "<table border=\"1\" class=\"dataframe\">\n",
       "  <thead>\n",
       "    <tr style=\"text-align: right;\">\n",
       "      <th></th>\n",
       "      <th>pair</th>\n",
       "      <th>num_trades</th>\n",
       "      <th>total_gain</th>\n",
       "      <th>mean_gain</th>\n",
       "      <th>min_gain</th>\n",
       "      <th>max_gain</th>\n",
       "      <th>ma_l</th>\n",
       "      <th>ma_s</th>\n",
       "      <th>cross</th>\n",
       "      <th>granularity</th>\n",
       "    </tr>\n",
       "  </thead>\n",
       "  <tbody>\n",
       "    <tr>\n",
       "      <th>454</th>\n",
       "      <td>EUR_USD</td>\n",
       "      <td>23</td>\n",
       "      <td>614</td>\n",
       "      <td>26</td>\n",
       "      <td>-303</td>\n",
       "      <td>628</td>\n",
       "      <td>MA__200</td>\n",
       "      <td>MA__40</td>\n",
       "      <td>MA__40_MA__200</td>\n",
       "      <td>H4</td>\n",
       "    </tr>\n",
       "    <tr>\n",
       "      <th>526</th>\n",
       "      <td>USD_JPY</td>\n",
       "      <td>21</td>\n",
       "      <td>2053</td>\n",
       "      <td>97</td>\n",
       "      <td>-497</td>\n",
       "      <td>1210</td>\n",
       "      <td>MA__200</td>\n",
       "      <td>MA__40</td>\n",
       "      <td>MA__40_MA__200</td>\n",
       "      <td>H4</td>\n",
       "    </tr>\n",
       "    <tr>\n",
       "      <th>550</th>\n",
       "      <td>GBP_USD</td>\n",
       "      <td>27</td>\n",
       "      <td>4</td>\n",
       "      <td>0</td>\n",
       "      <td>-446</td>\n",
       "      <td>772</td>\n",
       "      <td>MA__200</td>\n",
       "      <td>MA__40</td>\n",
       "      <td>MA__40_MA__200</td>\n",
       "      <td>H4</td>\n",
       "    </tr>\n",
       "  </tbody>\n",
       "</table>\n",
       "</div>"
      ],
      "text/plain": [
       "        pair  num_trades  total_gain  mean_gain  min_gain  max_gain     ma_l  \\\n",
       "454  EUR_USD          23         614         26      -303       628  MA__200   \n",
       "526  USD_JPY          21        2053         97      -497      1210  MA__200   \n",
       "550  GBP_USD          27           4          0      -446       772  MA__200   \n",
       "\n",
       "       ma_s           cross granularity  \n",
       "454  MA__40  MA__40_MA__200          H4  \n",
       "526  MA__40  MA__40_MA__200          H4  \n",
       "550  MA__40  MA__40_MA__200          H4  "
      ]
     },
     "execution_count": 280,
     "metadata": {},
     "output_type": "execute_result"
    }
   ],
   "source": [
    "temp[temp.total_gain > 0]"
   ]
  },
  {
   "cell_type": "code",
   "execution_count": 281,
   "metadata": {},
   "outputs": [
    {
     "data": {
      "text/html": [
       "<div>\n",
       "<style scoped>\n",
       "    .dataframe tbody tr th:only-of-type {\n",
       "        vertical-align: middle;\n",
       "    }\n",
       "\n",
       "    .dataframe tbody tr th {\n",
       "        vertical-align: top;\n",
       "    }\n",
       "\n",
       "    .dataframe thead th {\n",
       "        text-align: right;\n",
       "    }\n",
       "</style>\n",
       "<table border=\"1\" class=\"dataframe\">\n",
       "  <thead>\n",
       "    <tr style=\"text-align: right;\">\n",
       "      <th></th>\n",
       "      <th>pair</th>\n",
       "      <th>num_trades</th>\n",
       "      <th>total_gain</th>\n",
       "      <th>mean_gain</th>\n",
       "      <th>min_gain</th>\n",
       "      <th>max_gain</th>\n",
       "      <th>ma_l</th>\n",
       "      <th>ma_s</th>\n",
       "      <th>cross</th>\n",
       "      <th>granularity</th>\n",
       "    </tr>\n",
       "  </thead>\n",
       "  <tbody>\n",
       "    <tr>\n",
       "      <th>454</th>\n",
       "      <td>EUR_USD</td>\n",
       "      <td>23</td>\n",
       "      <td>614</td>\n",
       "      <td>26</td>\n",
       "      <td>-303</td>\n",
       "      <td>628</td>\n",
       "      <td>MA__200</td>\n",
       "      <td>MA__40</td>\n",
       "      <td>MA__40_MA__200</td>\n",
       "      <td>H4</td>\n",
       "    </tr>\n",
       "    <tr>\n",
       "      <th>478</th>\n",
       "      <td>EUR_GBP</td>\n",
       "      <td>36</td>\n",
       "      <td>-2033</td>\n",
       "      <td>-56</td>\n",
       "      <td>-152</td>\n",
       "      <td>171</td>\n",
       "      <td>MA__200</td>\n",
       "      <td>MA__40</td>\n",
       "      <td>MA__40_MA__200</td>\n",
       "      <td>H4</td>\n",
       "    </tr>\n",
       "    <tr>\n",
       "      <th>502</th>\n",
       "      <td>EUR_JPY</td>\n",
       "      <td>27</td>\n",
       "      <td>-1937</td>\n",
       "      <td>-71</td>\n",
       "      <td>-488</td>\n",
       "      <td>1133</td>\n",
       "      <td>MA__200</td>\n",
       "      <td>MA__40</td>\n",
       "      <td>MA__40_MA__200</td>\n",
       "      <td>H4</td>\n",
       "    </tr>\n",
       "    <tr>\n",
       "      <th>526</th>\n",
       "      <td>USD_JPY</td>\n",
       "      <td>21</td>\n",
       "      <td>2053</td>\n",
       "      <td>97</td>\n",
       "      <td>-497</td>\n",
       "      <td>1210</td>\n",
       "      <td>MA__200</td>\n",
       "      <td>MA__40</td>\n",
       "      <td>MA__40_MA__200</td>\n",
       "      <td>H4</td>\n",
       "    </tr>\n",
       "    <tr>\n",
       "      <th>550</th>\n",
       "      <td>GBP_USD</td>\n",
       "      <td>27</td>\n",
       "      <td>4</td>\n",
       "      <td>0</td>\n",
       "      <td>-446</td>\n",
       "      <td>772</td>\n",
       "      <td>MA__200</td>\n",
       "      <td>MA__40</td>\n",
       "      <td>MA__40_MA__200</td>\n",
       "      <td>H4</td>\n",
       "    </tr>\n",
       "    <tr>\n",
       "      <th>574</th>\n",
       "      <td>GBP_JPY</td>\n",
       "      <td>33</td>\n",
       "      <td>-3451</td>\n",
       "      <td>-104</td>\n",
       "      <td>-985</td>\n",
       "      <td>1675</td>\n",
       "      <td>MA__200</td>\n",
       "      <td>MA__40</td>\n",
       "      <td>MA__40_MA__200</td>\n",
       "      <td>H4</td>\n",
       "    </tr>\n",
       "  </tbody>\n",
       "</table>\n",
       "</div>"
      ],
      "text/plain": [
       "        pair  num_trades  total_gain  mean_gain  min_gain  max_gain     ma_l  \\\n",
       "454  EUR_USD          23         614         26      -303       628  MA__200   \n",
       "478  EUR_GBP          36       -2033        -56      -152       171  MA__200   \n",
       "502  EUR_JPY          27       -1937        -71      -488      1133  MA__200   \n",
       "526  USD_JPY          21        2053         97      -497      1210  MA__200   \n",
       "550  GBP_USD          27           4          0      -446       772  MA__200   \n",
       "574  GBP_JPY          33       -3451       -104      -985      1675  MA__200   \n",
       "\n",
       "       ma_s           cross granularity  \n",
       "454  MA__40  MA__40_MA__200          H4  \n",
       "478  MA__40  MA__40_MA__200          H4  \n",
       "502  MA__40  MA__40_MA__200          H4  \n",
       "526  MA__40  MA__40_MA__200          H4  \n",
       "550  MA__40  MA__40_MA__200          H4  \n",
       "574  MA__40  MA__40_MA__200          H4  "
      ]
     },
     "execution_count": 281,
     "metadata": {},
     "output_type": "execute_result"
    }
   ],
   "source": [
    "temp"
   ]
  },
  {
   "cell_type": "code",
   "execution_count": 282,
   "metadata": {},
   "outputs": [
    {
     "name": "stdout",
     "output_type": "stream",
     "text": [
      "MA__10_MA__20 pg: 3 percent gain: 2.08%\n",
      "MA__10_MA__40 pg: 2 percent gain: 1.39%\n",
      "MA__20_MA__40 pg: 1 percent gain: 0.69%\n",
      "MA__30_MA__40 pg: 2 percent gain: 1.39%\n",
      "MA__10_MA__80 pg: 4 percent gain: 2.78%\n",
      "MA__20_MA__80 pg: 3 percent gain: 2.08%\n",
      "MA__30_MA__80 pg: 3 percent gain: 2.08%\n",
      "MA__40_MA__80 pg: 4 percent gain: 2.78%\n",
      "MA__50_MA__80 pg: 4 percent gain: 2.78%\n",
      "MA__10_MA__120 pg: 3 percent gain: 2.08%\n",
      "MA__20_MA__120 pg: 3 percent gain: 2.08%\n",
      "MA__30_MA__120 pg: 3 percent gain: 2.08%\n",
      "MA__40_MA__120 pg: 3 percent gain: 2.08%\n",
      "MA__50_MA__120 pg: 3 percent gain: 2.08%\n",
      "MA__10_MA__150 pg: 2 percent gain: 1.39%\n",
      "MA__20_MA__150 pg: 3 percent gain: 2.08%\n",
      "MA__30_MA__150 pg: 3 percent gain: 2.08%\n",
      "MA__40_MA__150 pg: 3 percent gain: 2.08%\n",
      "MA__50_MA__150 pg: 3 percent gain: 2.08%\n",
      "MA__10_MA__200 pg: 3 percent gain: 2.08%\n",
      "MA__20_MA__200 pg: 3 percent gain: 2.08%\n",
      "MA__30_MA__200 pg: 3 percent gain: 2.08%\n",
      "MA__40_MA__200 pg: 3 percent gain: 2.08%\n",
      "MA__50_MA__200 pg: 2 percent gain: 1.39%\n"
     ]
    }
   ],
   "source": [
    "total_pairs = len(df_cross_summary_h4)\n",
    "\n",
    "for c in df_cross_summary_h4['cross'].unique():\n",
    "    temp = df_cross_summary_h4[df_cross_summary_h4['cross'] == c]\n",
    "    pg = temp[temp['total_gain'] > 0].shape[0]\n",
    "    print(f\"{c} pg: {pg} percent gain: {(pg / total_pairs) * 100:.2f}%\")\n"
   ]
  },
  {
   "cell_type": "code",
   "execution_count": 283,
   "metadata": {},
   "outputs": [],
   "source": [
    "cross = \"MA__40_MA__200\"\n",
    "\n",
    "\n",
    "df_MA_40_MA_200 = df_ma_res_h4[df_ma_res_h4.cross == cross].copy()\n",
    "\n",
    "df_MA_40_MA_200.sort_values(by=['total_gain'], ascending=False, inplace=True)\n"
   ]
  },
  {
   "cell_type": "code",
   "execution_count": 284,
   "metadata": {},
   "outputs": [
    {
     "data": {
      "text/html": [
       "<div>\n",
       "<style scoped>\n",
       "    .dataframe tbody tr th:only-of-type {\n",
       "        vertical-align: middle;\n",
       "    }\n",
       "\n",
       "    .dataframe tbody tr th {\n",
       "        vertical-align: top;\n",
       "    }\n",
       "\n",
       "    .dataframe thead th {\n",
       "        text-align: right;\n",
       "    }\n",
       "</style>\n",
       "<table border=\"1\" class=\"dataframe\">\n",
       "  <thead>\n",
       "    <tr style=\"text-align: right;\">\n",
       "      <th></th>\n",
       "      <th>pair</th>\n",
       "      <th>num_trades</th>\n",
       "      <th>total_gain</th>\n",
       "      <th>mean_gain</th>\n",
       "      <th>min_gain</th>\n",
       "      <th>max_gain</th>\n",
       "      <th>ma_l</th>\n",
       "      <th>ma_s</th>\n",
       "      <th>cross</th>\n",
       "      <th>granularity</th>\n",
       "    </tr>\n",
       "  </thead>\n",
       "  <tbody>\n",
       "    <tr>\n",
       "      <th>526</th>\n",
       "      <td>USD_JPY</td>\n",
       "      <td>21</td>\n",
       "      <td>2053</td>\n",
       "      <td>97</td>\n",
       "      <td>-497</td>\n",
       "      <td>1210</td>\n",
       "      <td>MA__200</td>\n",
       "      <td>MA__40</td>\n",
       "      <td>MA__40_MA__200</td>\n",
       "      <td>H4</td>\n",
       "    </tr>\n",
       "    <tr>\n",
       "      <th>454</th>\n",
       "      <td>EUR_USD</td>\n",
       "      <td>23</td>\n",
       "      <td>614</td>\n",
       "      <td>26</td>\n",
       "      <td>-303</td>\n",
       "      <td>628</td>\n",
       "      <td>MA__200</td>\n",
       "      <td>MA__40</td>\n",
       "      <td>MA__40_MA__200</td>\n",
       "      <td>H4</td>\n",
       "    </tr>\n",
       "    <tr>\n",
       "      <th>550</th>\n",
       "      <td>GBP_USD</td>\n",
       "      <td>27</td>\n",
       "      <td>4</td>\n",
       "      <td>0</td>\n",
       "      <td>-446</td>\n",
       "      <td>772</td>\n",
       "      <td>MA__200</td>\n",
       "      <td>MA__40</td>\n",
       "      <td>MA__40_MA__200</td>\n",
       "      <td>H4</td>\n",
       "    </tr>\n",
       "    <tr>\n",
       "      <th>502</th>\n",
       "      <td>EUR_JPY</td>\n",
       "      <td>27</td>\n",
       "      <td>-1937</td>\n",
       "      <td>-71</td>\n",
       "      <td>-488</td>\n",
       "      <td>1133</td>\n",
       "      <td>MA__200</td>\n",
       "      <td>MA__40</td>\n",
       "      <td>MA__40_MA__200</td>\n",
       "      <td>H4</td>\n",
       "    </tr>\n",
       "    <tr>\n",
       "      <th>478</th>\n",
       "      <td>EUR_GBP</td>\n",
       "      <td>36</td>\n",
       "      <td>-2033</td>\n",
       "      <td>-56</td>\n",
       "      <td>-152</td>\n",
       "      <td>171</td>\n",
       "      <td>MA__200</td>\n",
       "      <td>MA__40</td>\n",
       "      <td>MA__40_MA__200</td>\n",
       "      <td>H4</td>\n",
       "    </tr>\n",
       "    <tr>\n",
       "      <th>574</th>\n",
       "      <td>GBP_JPY</td>\n",
       "      <td>33</td>\n",
       "      <td>-3451</td>\n",
       "      <td>-104</td>\n",
       "      <td>-985</td>\n",
       "      <td>1675</td>\n",
       "      <td>MA__200</td>\n",
       "      <td>MA__40</td>\n",
       "      <td>MA__40_MA__200</td>\n",
       "      <td>H4</td>\n",
       "    </tr>\n",
       "  </tbody>\n",
       "</table>\n",
       "</div>"
      ],
      "text/plain": [
       "        pair  num_trades  total_gain  mean_gain  min_gain  max_gain     ma_l  \\\n",
       "526  USD_JPY          21        2053         97      -497      1210  MA__200   \n",
       "454  EUR_USD          23         614         26      -303       628  MA__200   \n",
       "550  GBP_USD          27           4          0      -446       772  MA__200   \n",
       "502  EUR_JPY          27       -1937        -71      -488      1133  MA__200   \n",
       "478  EUR_GBP          36       -2033        -56      -152       171  MA__200   \n",
       "574  GBP_JPY          33       -3451       -104      -985      1675  MA__200   \n",
       "\n",
       "       ma_s           cross granularity  \n",
       "526  MA__40  MA__40_MA__200          H4  \n",
       "454  MA__40  MA__40_MA__200          H4  \n",
       "550  MA__40  MA__40_MA__200          H4  \n",
       "502  MA__40  MA__40_MA__200          H4  \n",
       "478  MA__40  MA__40_MA__200          H4  \n",
       "574  MA__40  MA__40_MA__200          H4  "
      ]
     },
     "execution_count": 284,
     "metadata": {},
     "output_type": "execute_result"
    }
   ],
   "source": [
    "df_MA_40_MA_200"
   ]
  },
  {
   "cell_type": "code",
   "execution_count": 285,
   "metadata": {},
   "outputs": [],
   "source": [
    "df_gains = df_ma_trades_h4[(df_ma_trades_h4.cross == cross) & (df_ma_trades_h4.pair == \"USD_JPY\")].copy()\n"
   ]
  },
  {
   "cell_type": "code",
   "execution_count": 286,
   "metadata": {},
   "outputs": [
    {
     "data": {
      "text/html": [
       "<div>\n",
       "<style scoped>\n",
       "    .dataframe tbody tr th:only-of-type {\n",
       "        vertical-align: middle;\n",
       "    }\n",
       "\n",
       "    .dataframe tbody tr th {\n",
       "        vertical-align: top;\n",
       "    }\n",
       "\n",
       "    .dataframe thead th {\n",
       "        text-align: right;\n",
       "    }\n",
       "</style>\n",
       "<table border=\"1\" class=\"dataframe\">\n",
       "  <thead>\n",
       "    <tr style=\"text-align: right;\">\n",
       "      <th></th>\n",
       "      <th>time</th>\n",
       "      <th>volume</th>\n",
       "      <th>mid_o</th>\n",
       "      <th>mid_h</th>\n",
       "      <th>mid_l</th>\n",
       "      <th>mid_c</th>\n",
       "      <th>bid_o</th>\n",
       "      <th>bid_h</th>\n",
       "      <th>bid_l</th>\n",
       "      <th>bid_c</th>\n",
       "      <th>ask_o</th>\n",
       "      <th>ask_h</th>\n",
       "      <th>ask_l</th>\n",
       "      <th>ask_c</th>\n",
       "      <th>MA__40</th>\n",
       "      <th>MA__200</th>\n",
       "      <th>MA__10</th>\n",
       "      <th>MA__80</th>\n",
       "      <th>MA__50</th>\n",
       "      <th>MA__20</th>\n",
       "      <th>MA__150</th>\n",
       "      <th>MA__120</th>\n",
       "      <th>MA__30</th>\n",
       "      <th>DELTA</th>\n",
       "      <th>DELTA_PREV</th>\n",
       "      <th>TRADE</th>\n",
       "      <th>DIFF</th>\n",
       "      <th>GAIN</th>\n",
       "      <th>granularity</th>\n",
       "      <th>pair</th>\n",
       "      <th>GAIN_C</th>\n",
       "      <th>ma_l</th>\n",
       "      <th>ma_s</th>\n",
       "      <th>cross</th>\n",
       "    </tr>\n",
       "  </thead>\n",
       "  <tbody>\n",
       "    <tr>\n",
       "      <th>29834</th>\n",
       "      <td>2021-07-15 09:00:00+00:00</td>\n",
       "      <td>14509</td>\n",
       "      <td>109.749</td>\n",
       "      <td>110.090</td>\n",
       "      <td>109.730</td>\n",
       "      <td>110.067</td>\n",
       "      <td>109.742</td>\n",
       "      <td>110.084</td>\n",
       "      <td>109.723</td>\n",
       "      <td>110.060</td>\n",
       "      <td>109.756</td>\n",
       "      <td>110.097</td>\n",
       "      <td>109.736</td>\n",
       "      <td>110.074</td>\n",
       "      <td>110.236775</td>\n",
       "      <td>110.245160</td>\n",
       "      <td>110.1372</td>\n",
       "      <td>110.585375</td>\n",
       "      <td>110.35306</td>\n",
       "      <td>110.25760</td>\n",
       "      <td>110.454040</td>\n",
       "      <td>110.576525</td>\n",
       "      <td>110.176767</td>\n",
       "      <td>-0.008385</td>\n",
       "      <td>0.00746</td>\n",
       "      <td>-1</td>\n",
       "      <td>0.343</td>\n",
       "      <td>-34.3</td>\n",
       "      <td>H4</td>\n",
       "      <td>USD_JPY</td>\n",
       "      <td>-34.3</td>\n",
       "      <td>MA__200</td>\n",
       "      <td>MA__40</td>\n",
       "      <td>MA__40_MA__200</td>\n",
       "    </tr>\n",
       "    <tr>\n",
       "      <th>29835</th>\n",
       "      <td>2021-08-13 01:00:00+00:00</td>\n",
       "      <td>3634</td>\n",
       "      <td>110.420</td>\n",
       "      <td>110.427</td>\n",
       "      <td>110.371</td>\n",
       "      <td>110.410</td>\n",
       "      <td>110.414</td>\n",
       "      <td>110.420</td>\n",
       "      <td>110.364</td>\n",
       "      <td>110.404</td>\n",
       "      <td>110.427</td>\n",
       "      <td>110.434</td>\n",
       "      <td>110.377</td>\n",
       "      <td>110.417</td>\n",
       "      <td>110.203625</td>\n",
       "      <td>110.189915</td>\n",
       "      <td>110.4122</td>\n",
       "      <td>109.894962</td>\n",
       "      <td>109.97954</td>\n",
       "      <td>110.47765</td>\n",
       "      <td>109.998473</td>\n",
       "      <td>109.950983</td>\n",
       "      <td>110.379433</td>\n",
       "      <td>0.013710</td>\n",
       "      <td>-0.02839</td>\n",
       "      <td>1</td>\n",
       "      <td>-0.878</td>\n",
       "      <td>-87.8</td>\n",
       "      <td>H4</td>\n",
       "      <td>USD_JPY</td>\n",
       "      <td>-122.1</td>\n",
       "      <td>MA__200</td>\n",
       "      <td>MA__40</td>\n",
       "      <td>MA__40_MA__200</td>\n",
       "    </tr>\n",
       "    <tr>\n",
       "      <th>29836</th>\n",
       "      <td>2021-08-17 09:00:00+00:00</td>\n",
       "      <td>17464</td>\n",
       "      <td>109.306</td>\n",
       "      <td>109.558</td>\n",
       "      <td>109.174</td>\n",
       "      <td>109.532</td>\n",
       "      <td>109.300</td>\n",
       "      <td>109.551</td>\n",
       "      <td>109.164</td>\n",
       "      <td>109.525</td>\n",
       "      <td>109.313</td>\n",
       "      <td>109.565</td>\n",
       "      <td>109.184</td>\n",
       "      <td>109.539</td>\n",
       "      <td>110.105675</td>\n",
       "      <td>110.106015</td>\n",
       "      <td>109.3497</td>\n",
       "      <td>109.822050</td>\n",
       "      <td>110.06066</td>\n",
       "      <td>109.78740</td>\n",
       "      <td>109.930580</td>\n",
       "      <td>109.923617</td>\n",
       "      <td>110.038967</td>\n",
       "      <td>-0.000340</td>\n",
       "      <td>0.00966</td>\n",
       "      <td>-1</td>\n",
       "      <td>0.376</td>\n",
       "      <td>-37.6</td>\n",
       "      <td>H4</td>\n",
       "      <td>USD_JPY</td>\n",
       "      <td>-159.7</td>\n",
       "      <td>MA__200</td>\n",
       "      <td>MA__40</td>\n",
       "      <td>MA__40_MA__200</td>\n",
       "    </tr>\n",
       "  </tbody>\n",
       "</table>\n",
       "</div>"
      ],
      "text/plain": [
       "                           time  volume    mid_o    mid_h    mid_l    mid_c  \\\n",
       "29834 2021-07-15 09:00:00+00:00   14509  109.749  110.090  109.730  110.067   \n",
       "29835 2021-08-13 01:00:00+00:00    3634  110.420  110.427  110.371  110.410   \n",
       "29836 2021-08-17 09:00:00+00:00   17464  109.306  109.558  109.174  109.532   \n",
       "\n",
       "         bid_o    bid_h    bid_l    bid_c    ask_o    ask_h    ask_l    ask_c  \\\n",
       "29834  109.742  110.084  109.723  110.060  109.756  110.097  109.736  110.074   \n",
       "29835  110.414  110.420  110.364  110.404  110.427  110.434  110.377  110.417   \n",
       "29836  109.300  109.551  109.164  109.525  109.313  109.565  109.184  109.539   \n",
       "\n",
       "           MA__40     MA__200    MA__10      MA__80     MA__50     MA__20  \\\n",
       "29834  110.236775  110.245160  110.1372  110.585375  110.35306  110.25760   \n",
       "29835  110.203625  110.189915  110.4122  109.894962  109.97954  110.47765   \n",
       "29836  110.105675  110.106015  109.3497  109.822050  110.06066  109.78740   \n",
       "\n",
       "          MA__150     MA__120      MA__30     DELTA  DELTA_PREV  TRADE   DIFF  \\\n",
       "29834  110.454040  110.576525  110.176767 -0.008385     0.00746     -1  0.343   \n",
       "29835  109.998473  109.950983  110.379433  0.013710    -0.02839      1 -0.878   \n",
       "29836  109.930580  109.923617  110.038967 -0.000340     0.00966     -1  0.376   \n",
       "\n",
       "       GAIN granularity     pair  GAIN_C     ma_l    ma_s           cross  \n",
       "29834 -34.3          H4  USD_JPY   -34.3  MA__200  MA__40  MA__40_MA__200  \n",
       "29835 -87.8          H4  USD_JPY  -122.1  MA__200  MA__40  MA__40_MA__200  \n",
       "29836 -37.6          H4  USD_JPY  -159.7  MA__200  MA__40  MA__40_MA__200  "
      ]
     },
     "execution_count": 286,
     "metadata": {},
     "output_type": "execute_result"
    }
   ],
   "source": [
    "df_gains.head(3)"
   ]
  },
  {
   "cell_type": "code",
   "execution_count": 287,
   "metadata": {},
   "outputs": [
    {
     "data": {
      "application/vnd.plotly.v1+json": {
       "config": {
        "plotlyServerURL": "https://plot.ly"
       },
       "data": [
        {
         "line": {
          "shape": "spline",
          "width": 2
         },
         "name": "GAIN_C",
         "type": "scatter",
         "x": [
          "s2021-07-15 09:00",
          "s2021-08-13 01:00",
          "s2021-08-17 09:00",
          "s2021-08-31 01:00",
          "s2021-09-16 05:00",
          "s2021-09-27 05:00",
          "s2021-12-02 10:00",
          "s2021-12-23 06:00",
          "s2022-01-20 10:00",
          "s2022-02-02 02:00",
          "s2022-05-24 17:00",
          "s2022-06-06 09:00",
          "s2022-07-29 17:00",
          "s2022-08-23 21:00",
          "s2022-11-10 14:00",
          "s2023-02-10 06:00",
          "s2023-03-20 05:00",
          "s2023-04-18 05:00",
          "s2023-07-13 21:00",
          "s2023-08-04 05:00",
          "s2023-11-22 02:00"
         ],
         "y": [
          -34.30000000000035,
          -122.10000000000036,
          -159.70000000000084,
          -212.10000000000093,
          -365.00000000000057,
          -171.69999999999987,
          -317.9000000000002,
          -343.2000000000002,
          -413.29999999999956,
          796.9000000000008,
          403.40000000000055,
          647.2999999999998,
          280.3000000000011,
          801.3000000000019,
          1918.7000000000025,
          1914.200000000004,
          1588.5000000000034,
          1942.0000000000032,
          1444.1000000000047,
          2053.2000000000053,
          2053.2000000000053
         ]
        }
       ],
       "layout": {
        "font": {
         "color": "white",
         "size": 12
        },
        "height": 800,
        "margin": {
         "b": 10,
         "l": 10,
         "r": 10,
         "t": 10
        },
        "paper_bgcolor": "black",
        "plot_bgcolor": "black",
        "template": {
         "data": {
          "bar": [
           {
            "error_x": {
             "color": "#2a3f5f"
            },
            "error_y": {
             "color": "#2a3f5f"
            },
            "marker": {
             "line": {
              "color": "#E5ECF6",
              "width": 0.5
             },
             "pattern": {
              "fillmode": "overlay",
              "size": 10,
              "solidity": 0.2
             }
            },
            "type": "bar"
           }
          ],
          "barpolar": [
           {
            "marker": {
             "line": {
              "color": "#E5ECF6",
              "width": 0.5
             },
             "pattern": {
              "fillmode": "overlay",
              "size": 10,
              "solidity": 0.2
             }
            },
            "type": "barpolar"
           }
          ],
          "carpet": [
           {
            "aaxis": {
             "endlinecolor": "#2a3f5f",
             "gridcolor": "white",
             "linecolor": "white",
             "minorgridcolor": "white",
             "startlinecolor": "#2a3f5f"
            },
            "baxis": {
             "endlinecolor": "#2a3f5f",
             "gridcolor": "white",
             "linecolor": "white",
             "minorgridcolor": "white",
             "startlinecolor": "#2a3f5f"
            },
            "type": "carpet"
           }
          ],
          "choropleth": [
           {
            "colorbar": {
             "outlinewidth": 0,
             "ticks": ""
            },
            "type": "choropleth"
           }
          ],
          "contour": [
           {
            "colorbar": {
             "outlinewidth": 0,
             "ticks": ""
            },
            "colorscale": [
             [
              0,
              "#0d0887"
             ],
             [
              0.1111111111111111,
              "#46039f"
             ],
             [
              0.2222222222222222,
              "#7201a8"
             ],
             [
              0.3333333333333333,
              "#9c179e"
             ],
             [
              0.4444444444444444,
              "#bd3786"
             ],
             [
              0.5555555555555556,
              "#d8576b"
             ],
             [
              0.6666666666666666,
              "#ed7953"
             ],
             [
              0.7777777777777778,
              "#fb9f3a"
             ],
             [
              0.8888888888888888,
              "#fdca26"
             ],
             [
              1,
              "#f0f921"
             ]
            ],
            "type": "contour"
           }
          ],
          "contourcarpet": [
           {
            "colorbar": {
             "outlinewidth": 0,
             "ticks": ""
            },
            "type": "contourcarpet"
           }
          ],
          "heatmap": [
           {
            "colorbar": {
             "outlinewidth": 0,
             "ticks": ""
            },
            "colorscale": [
             [
              0,
              "#0d0887"
             ],
             [
              0.1111111111111111,
              "#46039f"
             ],
             [
              0.2222222222222222,
              "#7201a8"
             ],
             [
              0.3333333333333333,
              "#9c179e"
             ],
             [
              0.4444444444444444,
              "#bd3786"
             ],
             [
              0.5555555555555556,
              "#d8576b"
             ],
             [
              0.6666666666666666,
              "#ed7953"
             ],
             [
              0.7777777777777778,
              "#fb9f3a"
             ],
             [
              0.8888888888888888,
              "#fdca26"
             ],
             [
              1,
              "#f0f921"
             ]
            ],
            "type": "heatmap"
           }
          ],
          "heatmapgl": [
           {
            "colorbar": {
             "outlinewidth": 0,
             "ticks": ""
            },
            "colorscale": [
             [
              0,
              "#0d0887"
             ],
             [
              0.1111111111111111,
              "#46039f"
             ],
             [
              0.2222222222222222,
              "#7201a8"
             ],
             [
              0.3333333333333333,
              "#9c179e"
             ],
             [
              0.4444444444444444,
              "#bd3786"
             ],
             [
              0.5555555555555556,
              "#d8576b"
             ],
             [
              0.6666666666666666,
              "#ed7953"
             ],
             [
              0.7777777777777778,
              "#fb9f3a"
             ],
             [
              0.8888888888888888,
              "#fdca26"
             ],
             [
              1,
              "#f0f921"
             ]
            ],
            "type": "heatmapgl"
           }
          ],
          "histogram": [
           {
            "marker": {
             "pattern": {
              "fillmode": "overlay",
              "size": 10,
              "solidity": 0.2
             }
            },
            "type": "histogram"
           }
          ],
          "histogram2d": [
           {
            "colorbar": {
             "outlinewidth": 0,
             "ticks": ""
            },
            "colorscale": [
             [
              0,
              "#0d0887"
             ],
             [
              0.1111111111111111,
              "#46039f"
             ],
             [
              0.2222222222222222,
              "#7201a8"
             ],
             [
              0.3333333333333333,
              "#9c179e"
             ],
             [
              0.4444444444444444,
              "#bd3786"
             ],
             [
              0.5555555555555556,
              "#d8576b"
             ],
             [
              0.6666666666666666,
              "#ed7953"
             ],
             [
              0.7777777777777778,
              "#fb9f3a"
             ],
             [
              0.8888888888888888,
              "#fdca26"
             ],
             [
              1,
              "#f0f921"
             ]
            ],
            "type": "histogram2d"
           }
          ],
          "histogram2dcontour": [
           {
            "colorbar": {
             "outlinewidth": 0,
             "ticks": ""
            },
            "colorscale": [
             [
              0,
              "#0d0887"
             ],
             [
              0.1111111111111111,
              "#46039f"
             ],
             [
              0.2222222222222222,
              "#7201a8"
             ],
             [
              0.3333333333333333,
              "#9c179e"
             ],
             [
              0.4444444444444444,
              "#bd3786"
             ],
             [
              0.5555555555555556,
              "#d8576b"
             ],
             [
              0.6666666666666666,
              "#ed7953"
             ],
             [
              0.7777777777777778,
              "#fb9f3a"
             ],
             [
              0.8888888888888888,
              "#fdca26"
             ],
             [
              1,
              "#f0f921"
             ]
            ],
            "type": "histogram2dcontour"
           }
          ],
          "mesh3d": [
           {
            "colorbar": {
             "outlinewidth": 0,
             "ticks": ""
            },
            "type": "mesh3d"
           }
          ],
          "parcoords": [
           {
            "line": {
             "colorbar": {
              "outlinewidth": 0,
              "ticks": ""
             }
            },
            "type": "parcoords"
           }
          ],
          "pie": [
           {
            "automargin": true,
            "type": "pie"
           }
          ],
          "scatter": [
           {
            "fillpattern": {
             "fillmode": "overlay",
             "size": 10,
             "solidity": 0.2
            },
            "type": "scatter"
           }
          ],
          "scatter3d": [
           {
            "line": {
             "colorbar": {
              "outlinewidth": 0,
              "ticks": ""
             }
            },
            "marker": {
             "colorbar": {
              "outlinewidth": 0,
              "ticks": ""
             }
            },
            "type": "scatter3d"
           }
          ],
          "scattercarpet": [
           {
            "marker": {
             "colorbar": {
              "outlinewidth": 0,
              "ticks": ""
             }
            },
            "type": "scattercarpet"
           }
          ],
          "scattergeo": [
           {
            "marker": {
             "colorbar": {
              "outlinewidth": 0,
              "ticks": ""
             }
            },
            "type": "scattergeo"
           }
          ],
          "scattergl": [
           {
            "marker": {
             "colorbar": {
              "outlinewidth": 0,
              "ticks": ""
             }
            },
            "type": "scattergl"
           }
          ],
          "scattermapbox": [
           {
            "marker": {
             "colorbar": {
              "outlinewidth": 0,
              "ticks": ""
             }
            },
            "type": "scattermapbox"
           }
          ],
          "scatterpolar": [
           {
            "marker": {
             "colorbar": {
              "outlinewidth": 0,
              "ticks": ""
             }
            },
            "type": "scatterpolar"
           }
          ],
          "scatterpolargl": [
           {
            "marker": {
             "colorbar": {
              "outlinewidth": 0,
              "ticks": ""
             }
            },
            "type": "scatterpolargl"
           }
          ],
          "scatterternary": [
           {
            "marker": {
             "colorbar": {
              "outlinewidth": 0,
              "ticks": ""
             }
            },
            "type": "scatterternary"
           }
          ],
          "surface": [
           {
            "colorbar": {
             "outlinewidth": 0,
             "ticks": ""
            },
            "colorscale": [
             [
              0,
              "#0d0887"
             ],
             [
              0.1111111111111111,
              "#46039f"
             ],
             [
              0.2222222222222222,
              "#7201a8"
             ],
             [
              0.3333333333333333,
              "#9c179e"
             ],
             [
              0.4444444444444444,
              "#bd3786"
             ],
             [
              0.5555555555555556,
              "#d8576b"
             ],
             [
              0.6666666666666666,
              "#ed7953"
             ],
             [
              0.7777777777777778,
              "#fb9f3a"
             ],
             [
              0.8888888888888888,
              "#fdca26"
             ],
             [
              1,
              "#f0f921"
             ]
            ],
            "type": "surface"
           }
          ],
          "table": [
           {
            "cells": {
             "fill": {
              "color": "#EBF0F8"
             },
             "line": {
              "color": "white"
             }
            },
            "header": {
             "fill": {
              "color": "#C8D4E3"
             },
             "line": {
              "color": "white"
             }
            },
            "type": "table"
           }
          ]
         },
         "layout": {
          "annotationdefaults": {
           "arrowcolor": "#2a3f5f",
           "arrowhead": 0,
           "arrowwidth": 1
          },
          "autotypenumbers": "strict",
          "coloraxis": {
           "colorbar": {
            "outlinewidth": 0,
            "ticks": ""
           }
          },
          "colorscale": {
           "diverging": [
            [
             0,
             "#8e0152"
            ],
            [
             0.1,
             "#c51b7d"
            ],
            [
             0.2,
             "#de77ae"
            ],
            [
             0.3,
             "#f1b6da"
            ],
            [
             0.4,
             "#fde0ef"
            ],
            [
             0.5,
             "#f7f7f7"
            ],
            [
             0.6,
             "#e6f5d0"
            ],
            [
             0.7,
             "#b8e186"
            ],
            [
             0.8,
             "#7fbc41"
            ],
            [
             0.9,
             "#4d9221"
            ],
            [
             1,
             "#276419"
            ]
           ],
           "sequential": [
            [
             0,
             "#0d0887"
            ],
            [
             0.1111111111111111,
             "#46039f"
            ],
            [
             0.2222222222222222,
             "#7201a8"
            ],
            [
             0.3333333333333333,
             "#9c179e"
            ],
            [
             0.4444444444444444,
             "#bd3786"
            ],
            [
             0.5555555555555556,
             "#d8576b"
            ],
            [
             0.6666666666666666,
             "#ed7953"
            ],
            [
             0.7777777777777778,
             "#fb9f3a"
            ],
            [
             0.8888888888888888,
             "#fdca26"
            ],
            [
             1,
             "#f0f921"
            ]
           ],
           "sequentialminus": [
            [
             0,
             "#0d0887"
            ],
            [
             0.1111111111111111,
             "#46039f"
            ],
            [
             0.2222222222222222,
             "#7201a8"
            ],
            [
             0.3333333333333333,
             "#9c179e"
            ],
            [
             0.4444444444444444,
             "#bd3786"
            ],
            [
             0.5555555555555556,
             "#d8576b"
            ],
            [
             0.6666666666666666,
             "#ed7953"
            ],
            [
             0.7777777777777778,
             "#fb9f3a"
            ],
            [
             0.8888888888888888,
             "#fdca26"
            ],
            [
             1,
             "#f0f921"
            ]
           ]
          },
          "colorway": [
           "#636efa",
           "#EF553B",
           "#00cc96",
           "#ab63fa",
           "#FFA15A",
           "#19d3f3",
           "#FF6692",
           "#B6E880",
           "#FF97FF",
           "#FECB52"
          ],
          "font": {
           "color": "#2a3f5f"
          },
          "geo": {
           "bgcolor": "white",
           "lakecolor": "white",
           "landcolor": "#E5ECF6",
           "showlakes": true,
           "showland": true,
           "subunitcolor": "white"
          },
          "hoverlabel": {
           "align": "left"
          },
          "hovermode": "closest",
          "mapbox": {
           "style": "light"
          },
          "paper_bgcolor": "white",
          "plot_bgcolor": "#E5ECF6",
          "polar": {
           "angularaxis": {
            "gridcolor": "white",
            "linecolor": "white",
            "ticks": ""
           },
           "bgcolor": "#E5ECF6",
           "radialaxis": {
            "gridcolor": "white",
            "linecolor": "white",
            "ticks": ""
           }
          },
          "scene": {
           "xaxis": {
            "backgroundcolor": "#E5ECF6",
            "gridcolor": "white",
            "gridwidth": 2,
            "linecolor": "white",
            "showbackground": true,
            "ticks": "",
            "zerolinecolor": "white"
           },
           "yaxis": {
            "backgroundcolor": "#E5ECF6",
            "gridcolor": "white",
            "gridwidth": 2,
            "linecolor": "white",
            "showbackground": true,
            "ticks": "",
            "zerolinecolor": "white"
           },
           "zaxis": {
            "backgroundcolor": "#E5ECF6",
            "gridcolor": "white",
            "gridwidth": 2,
            "linecolor": "white",
            "showbackground": true,
            "ticks": "",
            "zerolinecolor": "white"
           }
          },
          "shapedefaults": {
           "line": {
            "color": "#2a3f5f"
           }
          },
          "ternary": {
           "aaxis": {
            "gridcolor": "white",
            "linecolor": "white",
            "ticks": ""
           },
           "baxis": {
            "gridcolor": "white",
            "linecolor": "white",
            "ticks": ""
           },
           "bgcolor": "#E5ECF6",
           "caxis": {
            "gridcolor": "white",
            "linecolor": "white",
            "ticks": ""
           }
          },
          "title": {
           "x": 0.05
          },
          "xaxis": {
           "automargin": true,
           "gridcolor": "white",
           "linecolor": "white",
           "ticks": "",
           "title": {
            "standoff": 15
           },
           "zerolinecolor": "white",
           "zerolinewidth": 2
          },
          "yaxis": {
           "automargin": true,
           "gridcolor": "white",
           "linecolor": "white",
           "ticks": "",
           "title": {
            "standoff": 15
           },
           "zerolinecolor": "white",
           "zerolinewidth": 2
          }
         }
        },
        "title": {
         "text": "Bjørn Chart"
        },
        "width": 1500,
        "xaxis": {
         "gridcolor": "gray",
         "nticks": 5,
         "rangeslider": {
          "visible": false
         },
         "title": {
          "text": "Time"
         }
        },
        "yaxis": {
         "gridcolor": "gray",
         "title": {
          "text": "Mid Prices"
         }
        }
       }
      }
     },
     "metadata": {},
     "output_type": "display_data"
    }
   ],
   "source": [
    "cp = CandlePlot(df_gains, candles=False)\n",
    "cp.show_plot(line_traces=['GAIN_C'])"
   ]
  },
  {
   "cell_type": "code",
   "execution_count": null,
   "metadata": {},
   "outputs": [],
   "source": []
  }
 ],
 "metadata": {
  "kernelspec": {
   "display_name": ".venv",
   "language": "python",
   "name": "python3"
  },
  "language_info": {
   "codemirror_mode": {
    "name": "ipython",
    "version": 3
   },
   "file_extension": ".py",
   "mimetype": "text/x-python",
   "name": "python",
   "nbconvert_exporter": "python",
   "pygments_lexer": "ipython3",
   "version": "3.12.0"
  }
 },
 "nbformat": 4,
 "nbformat_minor": 2
}
