{
 "cells": [
  {
   "cell_type": "code",
   "execution_count": 1,
   "metadata": {},
   "outputs": [],
   "source": [
    "import pandas as pd\n",
    "from plotting import CandlePlot\n",
    "pd.set_option('display.max_columns', None)"
   ]
  },
  {
   "cell_type": "code",
   "execution_count": 2,
   "metadata": {},
   "outputs": [],
   "source": [
    "df_ma_res = pd.read_csv(\"../data/ma_res_2023-12-04.csv\")\n",
    "df_ma_trades = pd.read_csv(\"../data/ma_trades_2023-12-04.csv\")"
   ]
  },
  {
   "cell_type": "code",
   "execution_count": 3,
   "metadata": {},
   "outputs": [
    {
     "data": {
      "text/html": [
       "<div>\n",
       "<style scoped>\n",
       "    .dataframe tbody tr th:only-of-type {\n",
       "        vertical-align: middle;\n",
       "    }\n",
       "\n",
       "    .dataframe tbody tr th {\n",
       "        vertical-align: top;\n",
       "    }\n",
       "\n",
       "    .dataframe thead th {\n",
       "        text-align: right;\n",
       "    }\n",
       "</style>\n",
       "<table border=\"1\" class=\"dataframe\">\n",
       "  <thead>\n",
       "    <tr style=\"text-align: right;\">\n",
       "      <th></th>\n",
       "      <th>Unnamed: 0</th>\n",
       "      <th>time</th>\n",
       "      <th>volume</th>\n",
       "      <th>mid_o</th>\n",
       "      <th>mid_h</th>\n",
       "      <th>mid_l</th>\n",
       "      <th>mid_c</th>\n",
       "      <th>bid_o</th>\n",
       "      <th>bid_h</th>\n",
       "      <th>bid_l</th>\n",
       "      <th>bid_c</th>\n",
       "      <th>ask_o</th>\n",
       "      <th>ask_h</th>\n",
       "      <th>ask_l</th>\n",
       "      <th>ask_c</th>\n",
       "      <th>MA_40</th>\n",
       "      <th>MA_200</th>\n",
       "      <th>MA_10</th>\n",
       "      <th>MA_80</th>\n",
       "      <th>MA_50</th>\n",
       "      <th>MA_20</th>\n",
       "      <th>MA_150</th>\n",
       "      <th>MA_120</th>\n",
       "      <th>MA_30</th>\n",
       "      <th>DELTA</th>\n",
       "      <th>DELTA_PREV</th>\n",
       "      <th>TRADE</th>\n",
       "      <th>DIFF</th>\n",
       "      <th>GAIN</th>\n",
       "      <th>granularity</th>\n",
       "      <th>pair</th>\n",
       "      <th>GAIN_C</th>\n",
       "      <th>ma_l</th>\n",
       "      <th>ma_s</th>\n",
       "      <th>cross</th>\n",
       "    </tr>\n",
       "  </thead>\n",
       "  <tbody>\n",
       "    <tr>\n",
       "      <th>0</th>\n",
       "      <td>221</td>\n",
       "      <td>2023-10-10 08:15:00+00:00</td>\n",
       "      <td>2117</td>\n",
       "      <td>1.05822</td>\n",
       "      <td>1.05888</td>\n",
       "      <td>1.05755</td>\n",
       "      <td>1.05886</td>\n",
       "      <td>1.05814</td>\n",
       "      <td>1.05880</td>\n",
       "      <td>1.05747</td>\n",
       "      <td>1.05878</td>\n",
       "      <td>1.05829</td>\n",
       "      <td>1.05895</td>\n",
       "      <td>1.05763</td>\n",
       "      <td>1.05894</td>\n",
       "      <td>1.056945</td>\n",
       "      <td>1.055727</td>\n",
       "      <td>1.056685</td>\n",
       "      <td>1.056204</td>\n",
       "      <td>1.056908</td>\n",
       "      <td>1.056553</td>\n",
       "      <td>1.055764</td>\n",
       "      <td>1.055497</td>\n",
       "      <td>1.056795</td>\n",
       "      <td>0.000131</td>\n",
       "      <td>-0.000047</td>\n",
       "      <td>1</td>\n",
       "      <td>-0.00095</td>\n",
       "      <td>-9.5</td>\n",
       "      <td>M15</td>\n",
       "      <td>EUR_USD</td>\n",
       "      <td>-9.5</td>\n",
       "      <td>MA_20</td>\n",
       "      <td>MA_10</td>\n",
       "      <td>MA_10_MA_20</td>\n",
       "    </tr>\n",
       "    <tr>\n",
       "      <th>1</th>\n",
       "      <td>237</td>\n",
       "      <td>2023-10-10 12:15:00+00:00</td>\n",
       "      <td>1814</td>\n",
       "      <td>1.05830</td>\n",
       "      <td>1.05837</td>\n",
       "      <td>1.05743</td>\n",
       "      <td>1.05791</td>\n",
       "      <td>1.05822</td>\n",
       "      <td>1.05830</td>\n",
       "      <td>1.05735</td>\n",
       "      <td>1.05784</td>\n",
       "      <td>1.05838</td>\n",
       "      <td>1.05844</td>\n",
       "      <td>1.05751</td>\n",
       "      <td>1.05798</td>\n",
       "      <td>1.057696</td>\n",
       "      <td>1.056086</td>\n",
       "      <td>1.058675</td>\n",
       "      <td>1.057192</td>\n",
       "      <td>1.057645</td>\n",
       "      <td>1.058982</td>\n",
       "      <td>1.055995</td>\n",
       "      <td>1.056020</td>\n",
       "      <td>1.058016</td>\n",
       "      <td>-0.000307</td>\n",
       "      <td>0.000020</td>\n",
       "      <td>-1</td>\n",
       "      <td>0.00241</td>\n",
       "      <td>-24.1</td>\n",
       "      <td>M15</td>\n",
       "      <td>EUR_USD</td>\n",
       "      <td>-33.6</td>\n",
       "      <td>MA_20</td>\n",
       "      <td>MA_10</td>\n",
       "      <td>MA_10_MA_20</td>\n",
       "    </tr>\n",
       "    <tr>\n",
       "      <th>2</th>\n",
       "      <td>245</td>\n",
       "      <td>2023-10-10 14:15:00+00:00</td>\n",
       "      <td>1883</td>\n",
       "      <td>1.06044</td>\n",
       "      <td>1.06068</td>\n",
       "      <td>1.05968</td>\n",
       "      <td>1.06032</td>\n",
       "      <td>1.06037</td>\n",
       "      <td>1.06060</td>\n",
       "      <td>1.05960</td>\n",
       "      <td>1.06024</td>\n",
       "      <td>1.06052</td>\n",
       "      <td>1.06075</td>\n",
       "      <td>1.05975</td>\n",
       "      <td>1.06040</td>\n",
       "      <td>1.058218</td>\n",
       "      <td>1.056234</td>\n",
       "      <td>1.059205</td>\n",
       "      <td>1.057631</td>\n",
       "      <td>1.057971</td>\n",
       "      <td>1.059157</td>\n",
       "      <td>1.056146</td>\n",
       "      <td>1.056447</td>\n",
       "      <td>1.058920</td>\n",
       "      <td>0.000047</td>\n",
       "      <td>-0.000265</td>\n",
       "      <td>1</td>\n",
       "      <td>-0.00045</td>\n",
       "      <td>-4.5</td>\n",
       "      <td>M15</td>\n",
       "      <td>EUR_USD</td>\n",
       "      <td>-38.1</td>\n",
       "      <td>MA_20</td>\n",
       "      <td>MA_10</td>\n",
       "      <td>MA_10_MA_20</td>\n",
       "    </tr>\n",
       "    <tr>\n",
       "      <th>3</th>\n",
       "      <td>262</td>\n",
       "      <td>2023-10-10 18:30:00+00:00</td>\n",
       "      <td>945</td>\n",
       "      <td>1.05967</td>\n",
       "      <td>1.05989</td>\n",
       "      <td>1.05938</td>\n",
       "      <td>1.05987</td>\n",
       "      <td>1.05959</td>\n",
       "      <td>1.05982</td>\n",
       "      <td>1.05930</td>\n",
       "      <td>1.05980</td>\n",
       "      <td>1.05975</td>\n",
       "      <td>1.05996</td>\n",
       "      <td>1.05946</td>\n",
       "      <td>1.05994</td>\n",
       "      <td>1.059793</td>\n",
       "      <td>1.056734</td>\n",
       "      <td>1.060333</td>\n",
       "      <td>1.058404</td>\n",
       "      <td>1.059249</td>\n",
       "      <td>1.060361</td>\n",
       "      <td>1.056676</td>\n",
       "      <td>1.057462</td>\n",
       "      <td>1.059746</td>\n",
       "      <td>-0.000028</td>\n",
       "      <td>0.000197</td>\n",
       "      <td>-1</td>\n",
       "      <td>0.00077</td>\n",
       "      <td>-7.7</td>\n",
       "      <td>M15</td>\n",
       "      <td>EUR_USD</td>\n",
       "      <td>-45.8</td>\n",
       "      <td>MA_20</td>\n",
       "      <td>MA_10</td>\n",
       "      <td>MA_10_MA_20</td>\n",
       "    </tr>\n",
       "    <tr>\n",
       "      <th>4</th>\n",
       "      <td>273</td>\n",
       "      <td>2023-10-10 21:15:00+00:00</td>\n",
       "      <td>43</td>\n",
       "      <td>1.06059</td>\n",
       "      <td>1.06072</td>\n",
       "      <td>1.06058</td>\n",
       "      <td>1.06064</td>\n",
       "      <td>1.06044</td>\n",
       "      <td>1.06062</td>\n",
       "      <td>1.06042</td>\n",
       "      <td>1.06055</td>\n",
       "      <td>1.06074</td>\n",
       "      <td>1.06084</td>\n",
       "      <td>1.06073</td>\n",
       "      <td>1.06074</td>\n",
       "      <td>1.059951</td>\n",
       "      <td>1.056806</td>\n",
       "      <td>1.060372</td>\n",
       "      <td>1.058798</td>\n",
       "      <td>1.059898</td>\n",
       "      <td>1.060277</td>\n",
       "      <td>1.057130</td>\n",
       "      <td>1.057984</td>\n",
       "      <td>1.060380</td>\n",
       "      <td>0.000095</td>\n",
       "      <td>-0.000018</td>\n",
       "      <td>1</td>\n",
       "      <td>0.00005</td>\n",
       "      <td>0.5</td>\n",
       "      <td>M15</td>\n",
       "      <td>EUR_USD</td>\n",
       "      <td>-45.3</td>\n",
       "      <td>MA_20</td>\n",
       "      <td>MA_10</td>\n",
       "      <td>MA_10_MA_20</td>\n",
       "    </tr>\n",
       "  </tbody>\n",
       "</table>\n",
       "</div>"
      ],
      "text/plain": [
       "   Unnamed: 0                       time  volume    mid_o    mid_h    mid_l  \\\n",
       "0         221  2023-10-10 08:15:00+00:00    2117  1.05822  1.05888  1.05755   \n",
       "1         237  2023-10-10 12:15:00+00:00    1814  1.05830  1.05837  1.05743   \n",
       "2         245  2023-10-10 14:15:00+00:00    1883  1.06044  1.06068  1.05968   \n",
       "3         262  2023-10-10 18:30:00+00:00     945  1.05967  1.05989  1.05938   \n",
       "4         273  2023-10-10 21:15:00+00:00      43  1.06059  1.06072  1.06058   \n",
       "\n",
       "     mid_c    bid_o    bid_h    bid_l    bid_c    ask_o    ask_h    ask_l  \\\n",
       "0  1.05886  1.05814  1.05880  1.05747  1.05878  1.05829  1.05895  1.05763   \n",
       "1  1.05791  1.05822  1.05830  1.05735  1.05784  1.05838  1.05844  1.05751   \n",
       "2  1.06032  1.06037  1.06060  1.05960  1.06024  1.06052  1.06075  1.05975   \n",
       "3  1.05987  1.05959  1.05982  1.05930  1.05980  1.05975  1.05996  1.05946   \n",
       "4  1.06064  1.06044  1.06062  1.06042  1.06055  1.06074  1.06084  1.06073   \n",
       "\n",
       "     ask_c     MA_40    MA_200     MA_10     MA_80     MA_50     MA_20  \\\n",
       "0  1.05894  1.056945  1.055727  1.056685  1.056204  1.056908  1.056553   \n",
       "1  1.05798  1.057696  1.056086  1.058675  1.057192  1.057645  1.058982   \n",
       "2  1.06040  1.058218  1.056234  1.059205  1.057631  1.057971  1.059157   \n",
       "3  1.05994  1.059793  1.056734  1.060333  1.058404  1.059249  1.060361   \n",
       "4  1.06074  1.059951  1.056806  1.060372  1.058798  1.059898  1.060277   \n",
       "\n",
       "     MA_150    MA_120     MA_30     DELTA  DELTA_PREV  TRADE     DIFF  GAIN  \\\n",
       "0  1.055764  1.055497  1.056795  0.000131   -0.000047      1 -0.00095  -9.5   \n",
       "1  1.055995  1.056020  1.058016 -0.000307    0.000020     -1  0.00241 -24.1   \n",
       "2  1.056146  1.056447  1.058920  0.000047   -0.000265      1 -0.00045  -4.5   \n",
       "3  1.056676  1.057462  1.059746 -0.000028    0.000197     -1  0.00077  -7.7   \n",
       "4  1.057130  1.057984  1.060380  0.000095   -0.000018      1  0.00005   0.5   \n",
       "\n",
       "  granularity     pair  GAIN_C   ma_l   ma_s        cross  \n",
       "0         M15  EUR_USD    -9.5  MA_20  MA_10  MA_10_MA_20  \n",
       "1         M15  EUR_USD   -33.6  MA_20  MA_10  MA_10_MA_20  \n",
       "2         M15  EUR_USD   -38.1  MA_20  MA_10  MA_10_MA_20  \n",
       "3         M15  EUR_USD   -45.8  MA_20  MA_10  MA_10_MA_20  \n",
       "4         M15  EUR_USD   -45.3  MA_20  MA_10  MA_10_MA_20  "
      ]
     },
     "execution_count": 3,
     "metadata": {},
     "output_type": "execute_result"
    }
   ],
   "source": [
    "df_ma_trades.head()"
   ]
  },
  {
   "cell_type": "code",
   "execution_count": 4,
   "metadata": {},
   "outputs": [
    {
     "data": {
      "text/plain": [
       "array(['M15', 'M30', 'H1', 'H4'], dtype=object)"
      ]
     },
     "execution_count": 4,
     "metadata": {},
     "output_type": "execute_result"
    }
   ],
   "source": [
    "df_ma_trades.granularity.unique()"
   ]
  },
  {
   "cell_type": "code",
   "execution_count": 5,
   "metadata": {},
   "outputs": [],
   "source": [
    "def filter_data_by_granularity(df_ma_res, df_ma_trades, granularity):\n",
    "    \"\"\"\n",
    "    Filter DataFrame based on granularity and create copies.\n",
    "\n",
    "    Parameters:\n",
    "    - df_ma_res (pd.DataFrame): DataFrame for macro results.\n",
    "    - df_ma_trades (pd.DataFrame): DataFrame for trade results.\n",
    "    - granularity (str): Granularity to filter on.\n",
    "\n",
    "    Returns:\n",
    "    pd.DataFrame, pd.DataFrame: Filtered DataFrames for macro results and trade results.\n",
    "\n",
    "    Description:\n",
    "    This function takes two DataFrames, df_ma_res and df_ma_trades, and filters them based on the provided granularity.\n",
    "    It creates copies of the filtered DataFrames and returns them as df_res_filtered and df_trades_filtered, respectively.\n",
    "    \"\"\"\n",
    "    df_res_filtered = df_ma_res[df_ma_res.granularity == granularity].copy()\n",
    "    df_trades_filtered = df_ma_trades[df_ma_trades.granularity == granularity].copy()\n",
    "    return df_res_filtered, df_trades_filtered\n",
    "\n",
    "df_ma_res_m15, df_ma_trades_m15 = filter_data_by_granularity(df_ma_res, df_ma_trades, 'M15')\n",
    "df_ma_res_m30, df_ma_trades_m30 = filter_data_by_granularity(df_ma_res, df_ma_trades, 'M30')\n",
    "df_ma_res_h1, df_ma_trades_h1 = filter_data_by_granularity(df_ma_res, df_ma_trades, 'H1')\n",
    "df_ma_res_h4, df_ma_trades_h4 = filter_data_by_granularity(df_ma_res, df_ma_trades, 'H4')\n"
   ]
  },
  {
   "cell_type": "code",
   "execution_count": 6,
   "metadata": {},
   "outputs": [
    {
     "data": {
      "text/plain": [
       "Index(['pair', 'num_trades', 'total_gain', 'mean_gain', 'min_gain', 'max_gain',\n",
       "       'ma_l', 'ma_s', 'cross', 'granularity'],\n",
       "      dtype='object')"
      ]
     },
     "execution_count": 6,
     "metadata": {},
     "output_type": "execute_result"
    }
   ],
   "source": [
    "df_ma_res_m15.columns\n",
    "df_ma_res_m30.columns\n",
    "df_ma_res_h1.columns\n",
    "df_ma_res_h4.columns"
   ]
  },
  {
   "cell_type": "code",
   "execution_count": 7,
   "metadata": {},
   "outputs": [],
   "source": [
    "def generate_cross_summary(df_ma_res, granularity):\n",
    "    \"\"\"\n",
    "    Generate cross summary DataFrame based on granularity.\n",
    "\n",
    "    Parameters:\n",
    "    - df_ma_res (pd.DataFrame): DataFrame for macro results.\n",
    "    - granularity (str): Granularity to filter on.\n",
    "\n",
    "    Returns:\n",
    "    pd.DataFrame: Cross summary DataFrame.\n",
    "\n",
    "    Description:\n",
    "    This function generates a cross summary DataFrame from the provided macro results DataFrame (df_ma_res)\n",
    "    by filtering it based on the specified granularity. It creates a copy of the filtered DataFrame and extracts\n",
    "    columns 'pair', 'number_of_trades', 'total_gain', and 'cross' to form the cross summary DataFrame.\n",
    "    \"\"\"\n",
    "    df_res_filtered = df_ma_res[df_ma_res.granularity == granularity].copy()\n",
    "    df_cross_summary = df_res_filtered[['pair', 'num_trades', 'total_gain', 'cross']].copy()\n",
    "    return df_cross_summary\n",
    "\n",
    "df_cross_summary_m15 = generate_cross_summary(df_ma_res, 'M15')\n",
    "df_cross_summary_m30 = generate_cross_summary(df_ma_res, 'M30')\n",
    "df_cross_summary_h1 = generate_cross_summary(df_ma_res, 'H1')\n",
    "df_cross_summary_h4 = generate_cross_summary(df_ma_res, 'H4')\n"
   ]
  },
  {
   "cell_type": "code",
   "execution_count": 8,
   "metadata": {},
   "outputs": [
    {
     "data": {
      "text/html": [
       "<div>\n",
       "<style scoped>\n",
       "    .dataframe tbody tr th:only-of-type {\n",
       "        vertical-align: middle;\n",
       "    }\n",
       "\n",
       "    .dataframe tbody tr th {\n",
       "        vertical-align: top;\n",
       "    }\n",
       "\n",
       "    .dataframe thead th {\n",
       "        text-align: right;\n",
       "    }\n",
       "</style>\n",
       "<table border=\"1\" class=\"dataframe\">\n",
       "  <thead>\n",
       "    <tr style=\"text-align: right;\">\n",
       "      <th></th>\n",
       "      <th>pair</th>\n",
       "      <th>num_trades</th>\n",
       "      <th>total_gain</th>\n",
       "      <th>cross</th>\n",
       "    </tr>\n",
       "  </thead>\n",
       "  <tbody>\n",
       "    <tr>\n",
       "      <th>432</th>\n",
       "      <td>EUR_USD</td>\n",
       "      <td>212</td>\n",
       "      <td>-1465</td>\n",
       "      <td>MA_10_MA_20</td>\n",
       "    </tr>\n",
       "    <tr>\n",
       "      <th>433</th>\n",
       "      <td>EUR_USD</td>\n",
       "      <td>121</td>\n",
       "      <td>-1582</td>\n",
       "      <td>MA_10_MA_40</td>\n",
       "    </tr>\n",
       "    <tr>\n",
       "      <th>434</th>\n",
       "      <td>EUR_USD</td>\n",
       "      <td>113</td>\n",
       "      <td>-622</td>\n",
       "      <td>MA_20_MA_40</td>\n",
       "    </tr>\n",
       "    <tr>\n",
       "      <th>435</th>\n",
       "      <td>EUR_USD</td>\n",
       "      <td>129</td>\n",
       "      <td>-1206</td>\n",
       "      <td>MA_30_MA_40</td>\n",
       "    </tr>\n",
       "    <tr>\n",
       "      <th>436</th>\n",
       "      <td>EUR_USD</td>\n",
       "      <td>76</td>\n",
       "      <td>190</td>\n",
       "      <td>MA_10_MA_80</td>\n",
       "    </tr>\n",
       "    <tr>\n",
       "      <th>...</th>\n",
       "      <td>...</td>\n",
       "      <td>...</td>\n",
       "      <td>...</td>\n",
       "      <td>...</td>\n",
       "    </tr>\n",
       "    <tr>\n",
       "      <th>571</th>\n",
       "      <td>GBP_JPY</td>\n",
       "      <td>51</td>\n",
       "      <td>-5071</td>\n",
       "      <td>MA_10_MA_200</td>\n",
       "    </tr>\n",
       "    <tr>\n",
       "      <th>572</th>\n",
       "      <td>GBP_JPY</td>\n",
       "      <td>45</td>\n",
       "      <td>-5647</td>\n",
       "      <td>MA_20_MA_200</td>\n",
       "    </tr>\n",
       "    <tr>\n",
       "      <th>573</th>\n",
       "      <td>GBP_JPY</td>\n",
       "      <td>41</td>\n",
       "      <td>-6392</td>\n",
       "      <td>MA_30_MA_200</td>\n",
       "    </tr>\n",
       "    <tr>\n",
       "      <th>574</th>\n",
       "      <td>GBP_JPY</td>\n",
       "      <td>33</td>\n",
       "      <td>-3451</td>\n",
       "      <td>MA_40_MA_200</td>\n",
       "    </tr>\n",
       "    <tr>\n",
       "      <th>575</th>\n",
       "      <td>GBP_JPY</td>\n",
       "      <td>31</td>\n",
       "      <td>-6562</td>\n",
       "      <td>MA_50_MA_200</td>\n",
       "    </tr>\n",
       "  </tbody>\n",
       "</table>\n",
       "<p>144 rows × 4 columns</p>\n",
       "</div>"
      ],
      "text/plain": [
       "        pair  num_trades  total_gain         cross\n",
       "432  EUR_USD         212       -1465   MA_10_MA_20\n",
       "433  EUR_USD         121       -1582   MA_10_MA_40\n",
       "434  EUR_USD         113        -622   MA_20_MA_40\n",
       "435  EUR_USD         129       -1206   MA_30_MA_40\n",
       "436  EUR_USD          76         190   MA_10_MA_80\n",
       "..       ...         ...         ...           ...\n",
       "571  GBP_JPY          51       -5071  MA_10_MA_200\n",
       "572  GBP_JPY          45       -5647  MA_20_MA_200\n",
       "573  GBP_JPY          41       -6392  MA_30_MA_200\n",
       "574  GBP_JPY          33       -3451  MA_40_MA_200\n",
       "575  GBP_JPY          31       -6562  MA_50_MA_200\n",
       "\n",
       "[144 rows x 4 columns]"
      ]
     },
     "execution_count": 8,
     "metadata": {},
     "output_type": "execute_result"
    }
   ],
   "source": [
    "df_cross_summary_h4"
   ]
  },
  {
   "cell_type": "code",
   "execution_count": 9,
   "metadata": {},
   "outputs": [],
   "source": [
    "def group_and_sort(df):\n",
    "    grouped_df = df.groupby(by=\"cross\").sum()\n",
    "    sorted_df = grouped_df.sort_values(by=\"cross\", inplace=False, ascending=False)\n",
    "    return sorted_df\n",
    "\n",
    "df_cross_gr_m15 = group_and_sort(df_cross_summary_m15)\n",
    "df_cross_gr_m30 = group_and_sort(df_cross_summary_m30)\n",
    "df_cross_gr_h1 = group_and_sort(df_cross_summary_h1)\n",
    "df_cross_gr_h4 = group_and_sort(df_cross_summary_h4)"
   ]
  },
  {
   "cell_type": "code",
   "execution_count": 10,
   "metadata": {},
   "outputs": [
    {
     "data": {
      "text/html": [
       "<div>\n",
       "<style scoped>\n",
       "    .dataframe tbody tr th:only-of-type {\n",
       "        vertical-align: middle;\n",
       "    }\n",
       "\n",
       "    .dataframe tbody tr th {\n",
       "        vertical-align: top;\n",
       "    }\n",
       "\n",
       "    .dataframe thead th {\n",
       "        text-align: right;\n",
       "    }\n",
       "</style>\n",
       "<table border=\"1\" class=\"dataframe\">\n",
       "  <thead>\n",
       "    <tr style=\"text-align: right;\">\n",
       "      <th></th>\n",
       "      <th>pair</th>\n",
       "      <th>num_trades</th>\n",
       "      <th>total_gain</th>\n",
       "      <th>cross</th>\n",
       "    </tr>\n",
       "  </thead>\n",
       "  <tbody>\n",
       "    <tr>\n",
       "      <th>432</th>\n",
       "      <td>EUR_USD</td>\n",
       "      <td>212</td>\n",
       "      <td>-1465</td>\n",
       "      <td>MA_10_MA_20</td>\n",
       "    </tr>\n",
       "    <tr>\n",
       "      <th>433</th>\n",
       "      <td>EUR_USD</td>\n",
       "      <td>121</td>\n",
       "      <td>-1582</td>\n",
       "      <td>MA_10_MA_40</td>\n",
       "    </tr>\n",
       "    <tr>\n",
       "      <th>434</th>\n",
       "      <td>EUR_USD</td>\n",
       "      <td>113</td>\n",
       "      <td>-622</td>\n",
       "      <td>MA_20_MA_40</td>\n",
       "    </tr>\n",
       "    <tr>\n",
       "      <th>435</th>\n",
       "      <td>EUR_USD</td>\n",
       "      <td>129</td>\n",
       "      <td>-1206</td>\n",
       "      <td>MA_30_MA_40</td>\n",
       "    </tr>\n",
       "    <tr>\n",
       "      <th>436</th>\n",
       "      <td>EUR_USD</td>\n",
       "      <td>76</td>\n",
       "      <td>190</td>\n",
       "      <td>MA_10_MA_80</td>\n",
       "    </tr>\n",
       "    <tr>\n",
       "      <th>...</th>\n",
       "      <td>...</td>\n",
       "      <td>...</td>\n",
       "      <td>...</td>\n",
       "      <td>...</td>\n",
       "    </tr>\n",
       "    <tr>\n",
       "      <th>571</th>\n",
       "      <td>GBP_JPY</td>\n",
       "      <td>51</td>\n",
       "      <td>-5071</td>\n",
       "      <td>MA_10_MA_200</td>\n",
       "    </tr>\n",
       "    <tr>\n",
       "      <th>572</th>\n",
       "      <td>GBP_JPY</td>\n",
       "      <td>45</td>\n",
       "      <td>-5647</td>\n",
       "      <td>MA_20_MA_200</td>\n",
       "    </tr>\n",
       "    <tr>\n",
       "      <th>573</th>\n",
       "      <td>GBP_JPY</td>\n",
       "      <td>41</td>\n",
       "      <td>-6392</td>\n",
       "      <td>MA_30_MA_200</td>\n",
       "    </tr>\n",
       "    <tr>\n",
       "      <th>574</th>\n",
       "      <td>GBP_JPY</td>\n",
       "      <td>33</td>\n",
       "      <td>-3451</td>\n",
       "      <td>MA_40_MA_200</td>\n",
       "    </tr>\n",
       "    <tr>\n",
       "      <th>575</th>\n",
       "      <td>GBP_JPY</td>\n",
       "      <td>31</td>\n",
       "      <td>-6562</td>\n",
       "      <td>MA_50_MA_200</td>\n",
       "    </tr>\n",
       "  </tbody>\n",
       "</table>\n",
       "<p>144 rows × 4 columns</p>\n",
       "</div>"
      ],
      "text/plain": [
       "        pair  num_trades  total_gain         cross\n",
       "432  EUR_USD         212       -1465   MA_10_MA_20\n",
       "433  EUR_USD         121       -1582   MA_10_MA_40\n",
       "434  EUR_USD         113        -622   MA_20_MA_40\n",
       "435  EUR_USD         129       -1206   MA_30_MA_40\n",
       "436  EUR_USD          76         190   MA_10_MA_80\n",
       "..       ...         ...         ...           ...\n",
       "571  GBP_JPY          51       -5071  MA_10_MA_200\n",
       "572  GBP_JPY          45       -5647  MA_20_MA_200\n",
       "573  GBP_JPY          41       -6392  MA_30_MA_200\n",
       "574  GBP_JPY          33       -3451  MA_40_MA_200\n",
       "575  GBP_JPY          31       -6562  MA_50_MA_200\n",
       "\n",
       "[144 rows x 4 columns]"
      ]
     },
     "execution_count": 10,
     "metadata": {},
     "output_type": "execute_result"
    }
   ],
   "source": [
    "df_cross_summary_h4"
   ]
  },
  {
   "cell_type": "code",
   "execution_count": 11,
   "metadata": {},
   "outputs": [],
   "source": [
    "def filter_ma_cross(df, cross_value):\n",
    "    return df[df['cross'] == cross_value]\n",
    "\n",
    "cross_value = \"MA_40_MA_200\"\n",
    "temp = filter_ma_cross(df_ma_res_h4, cross_value)\n"
   ]
  },
  {
   "cell_type": "code",
   "execution_count": 12,
   "metadata": {},
   "outputs": [
    {
     "data": {
      "text/html": [
       "<div>\n",
       "<style scoped>\n",
       "    .dataframe tbody tr th:only-of-type {\n",
       "        vertical-align: middle;\n",
       "    }\n",
       "\n",
       "    .dataframe tbody tr th {\n",
       "        vertical-align: top;\n",
       "    }\n",
       "\n",
       "    .dataframe thead th {\n",
       "        text-align: right;\n",
       "    }\n",
       "</style>\n",
       "<table border=\"1\" class=\"dataframe\">\n",
       "  <thead>\n",
       "    <tr style=\"text-align: right;\">\n",
       "      <th></th>\n",
       "      <th>pair</th>\n",
       "      <th>num_trades</th>\n",
       "      <th>total_gain</th>\n",
       "      <th>mean_gain</th>\n",
       "      <th>min_gain</th>\n",
       "      <th>max_gain</th>\n",
       "      <th>ma_l</th>\n",
       "      <th>ma_s</th>\n",
       "      <th>cross</th>\n",
       "      <th>granularity</th>\n",
       "    </tr>\n",
       "  </thead>\n",
       "  <tbody>\n",
       "    <tr>\n",
       "      <th>454</th>\n",
       "      <td>EUR_USD</td>\n",
       "      <td>23</td>\n",
       "      <td>614</td>\n",
       "      <td>26</td>\n",
       "      <td>-303</td>\n",
       "      <td>628</td>\n",
       "      <td>MA_200</td>\n",
       "      <td>MA_40</td>\n",
       "      <td>MA_40_MA_200</td>\n",
       "      <td>H4</td>\n",
       "    </tr>\n",
       "    <tr>\n",
       "      <th>526</th>\n",
       "      <td>USD_JPY</td>\n",
       "      <td>21</td>\n",
       "      <td>2053</td>\n",
       "      <td>97</td>\n",
       "      <td>-497</td>\n",
       "      <td>1210</td>\n",
       "      <td>MA_200</td>\n",
       "      <td>MA_40</td>\n",
       "      <td>MA_40_MA_200</td>\n",
       "      <td>H4</td>\n",
       "    </tr>\n",
       "    <tr>\n",
       "      <th>550</th>\n",
       "      <td>GBP_USD</td>\n",
       "      <td>27</td>\n",
       "      <td>4</td>\n",
       "      <td>0</td>\n",
       "      <td>-446</td>\n",
       "      <td>772</td>\n",
       "      <td>MA_200</td>\n",
       "      <td>MA_40</td>\n",
       "      <td>MA_40_MA_200</td>\n",
       "      <td>H4</td>\n",
       "    </tr>\n",
       "  </tbody>\n",
       "</table>\n",
       "</div>"
      ],
      "text/plain": [
       "        pair  num_trades  total_gain  mean_gain  min_gain  max_gain    ma_l  \\\n",
       "454  EUR_USD          23         614         26      -303       628  MA_200   \n",
       "526  USD_JPY          21        2053         97      -497      1210  MA_200   \n",
       "550  GBP_USD          27           4          0      -446       772  MA_200   \n",
       "\n",
       "      ma_s         cross granularity  \n",
       "454  MA_40  MA_40_MA_200          H4  \n",
       "526  MA_40  MA_40_MA_200          H4  \n",
       "550  MA_40  MA_40_MA_200          H4  "
      ]
     },
     "execution_count": 12,
     "metadata": {},
     "output_type": "execute_result"
    }
   ],
   "source": [
    "temp[temp.total_gain > 0]"
   ]
  },
  {
   "cell_type": "code",
   "execution_count": 13,
   "metadata": {},
   "outputs": [
    {
     "data": {
      "text/html": [
       "<div>\n",
       "<style scoped>\n",
       "    .dataframe tbody tr th:only-of-type {\n",
       "        vertical-align: middle;\n",
       "    }\n",
       "\n",
       "    .dataframe tbody tr th {\n",
       "        vertical-align: top;\n",
       "    }\n",
       "\n",
       "    .dataframe thead th {\n",
       "        text-align: right;\n",
       "    }\n",
       "</style>\n",
       "<table border=\"1\" class=\"dataframe\">\n",
       "  <thead>\n",
       "    <tr style=\"text-align: right;\">\n",
       "      <th></th>\n",
       "      <th>pair</th>\n",
       "      <th>num_trades</th>\n",
       "      <th>total_gain</th>\n",
       "      <th>mean_gain</th>\n",
       "      <th>min_gain</th>\n",
       "      <th>max_gain</th>\n",
       "      <th>ma_l</th>\n",
       "      <th>ma_s</th>\n",
       "      <th>cross</th>\n",
       "      <th>granularity</th>\n",
       "    </tr>\n",
       "  </thead>\n",
       "  <tbody>\n",
       "    <tr>\n",
       "      <th>454</th>\n",
       "      <td>EUR_USD</td>\n",
       "      <td>23</td>\n",
       "      <td>614</td>\n",
       "      <td>26</td>\n",
       "      <td>-303</td>\n",
       "      <td>628</td>\n",
       "      <td>MA_200</td>\n",
       "      <td>MA_40</td>\n",
       "      <td>MA_40_MA_200</td>\n",
       "      <td>H4</td>\n",
       "    </tr>\n",
       "    <tr>\n",
       "      <th>478</th>\n",
       "      <td>EUR_GBP</td>\n",
       "      <td>36</td>\n",
       "      <td>-2033</td>\n",
       "      <td>-56</td>\n",
       "      <td>-152</td>\n",
       "      <td>171</td>\n",
       "      <td>MA_200</td>\n",
       "      <td>MA_40</td>\n",
       "      <td>MA_40_MA_200</td>\n",
       "      <td>H4</td>\n",
       "    </tr>\n",
       "    <tr>\n",
       "      <th>502</th>\n",
       "      <td>EUR_JPY</td>\n",
       "      <td>27</td>\n",
       "      <td>-1937</td>\n",
       "      <td>-71</td>\n",
       "      <td>-488</td>\n",
       "      <td>1133</td>\n",
       "      <td>MA_200</td>\n",
       "      <td>MA_40</td>\n",
       "      <td>MA_40_MA_200</td>\n",
       "      <td>H4</td>\n",
       "    </tr>\n",
       "    <tr>\n",
       "      <th>526</th>\n",
       "      <td>USD_JPY</td>\n",
       "      <td>21</td>\n",
       "      <td>2053</td>\n",
       "      <td>97</td>\n",
       "      <td>-497</td>\n",
       "      <td>1210</td>\n",
       "      <td>MA_200</td>\n",
       "      <td>MA_40</td>\n",
       "      <td>MA_40_MA_200</td>\n",
       "      <td>H4</td>\n",
       "    </tr>\n",
       "    <tr>\n",
       "      <th>550</th>\n",
       "      <td>GBP_USD</td>\n",
       "      <td>27</td>\n",
       "      <td>4</td>\n",
       "      <td>0</td>\n",
       "      <td>-446</td>\n",
       "      <td>772</td>\n",
       "      <td>MA_200</td>\n",
       "      <td>MA_40</td>\n",
       "      <td>MA_40_MA_200</td>\n",
       "      <td>H4</td>\n",
       "    </tr>\n",
       "    <tr>\n",
       "      <th>574</th>\n",
       "      <td>GBP_JPY</td>\n",
       "      <td>33</td>\n",
       "      <td>-3451</td>\n",
       "      <td>-104</td>\n",
       "      <td>-985</td>\n",
       "      <td>1675</td>\n",
       "      <td>MA_200</td>\n",
       "      <td>MA_40</td>\n",
       "      <td>MA_40_MA_200</td>\n",
       "      <td>H4</td>\n",
       "    </tr>\n",
       "  </tbody>\n",
       "</table>\n",
       "</div>"
      ],
      "text/plain": [
       "        pair  num_trades  total_gain  mean_gain  min_gain  max_gain    ma_l  \\\n",
       "454  EUR_USD          23         614         26      -303       628  MA_200   \n",
       "478  EUR_GBP          36       -2033        -56      -152       171  MA_200   \n",
       "502  EUR_JPY          27       -1937        -71      -488      1133  MA_200   \n",
       "526  USD_JPY          21        2053         97      -497      1210  MA_200   \n",
       "550  GBP_USD          27           4          0      -446       772  MA_200   \n",
       "574  GBP_JPY          33       -3451       -104      -985      1675  MA_200   \n",
       "\n",
       "      ma_s         cross granularity  \n",
       "454  MA_40  MA_40_MA_200          H4  \n",
       "478  MA_40  MA_40_MA_200          H4  \n",
       "502  MA_40  MA_40_MA_200          H4  \n",
       "526  MA_40  MA_40_MA_200          H4  \n",
       "550  MA_40  MA_40_MA_200          H4  \n",
       "574  MA_40  MA_40_MA_200          H4  "
      ]
     },
     "execution_count": 13,
     "metadata": {},
     "output_type": "execute_result"
    }
   ],
   "source": [
    "temp"
   ]
  },
  {
   "cell_type": "code",
   "execution_count": 14,
   "metadata": {},
   "outputs": [
    {
     "name": "stdout",
     "output_type": "stream",
     "text": [
      "MA_10_MA_20 pg: 3 percent gain: 2.08%\n",
      "MA_10_MA_40 pg: 2 percent gain: 1.39%\n",
      "MA_20_MA_40 pg: 1 percent gain: 0.69%\n",
      "MA_30_MA_40 pg: 2 percent gain: 1.39%\n",
      "MA_10_MA_80 pg: 4 percent gain: 2.78%\n",
      "MA_20_MA_80 pg: 3 percent gain: 2.08%\n",
      "MA_30_MA_80 pg: 3 percent gain: 2.08%\n",
      "MA_40_MA_80 pg: 4 percent gain: 2.78%\n",
      "MA_50_MA_80 pg: 4 percent gain: 2.78%\n",
      "MA_10_MA_120 pg: 3 percent gain: 2.08%\n",
      "MA_20_MA_120 pg: 3 percent gain: 2.08%\n",
      "MA_30_MA_120 pg: 3 percent gain: 2.08%\n",
      "MA_40_MA_120 pg: 3 percent gain: 2.08%\n",
      "MA_50_MA_120 pg: 3 percent gain: 2.08%\n",
      "MA_10_MA_150 pg: 2 percent gain: 1.39%\n",
      "MA_20_MA_150 pg: 3 percent gain: 2.08%\n",
      "MA_30_MA_150 pg: 3 percent gain: 2.08%\n",
      "MA_40_MA_150 pg: 3 percent gain: 2.08%\n",
      "MA_50_MA_150 pg: 3 percent gain: 2.08%\n",
      "MA_10_MA_200 pg: 3 percent gain: 2.08%\n",
      "MA_20_MA_200 pg: 3 percent gain: 2.08%\n",
      "MA_30_MA_200 pg: 3 percent gain: 2.08%\n",
      "MA_40_MA_200 pg: 3 percent gain: 2.08%\n",
      "MA_50_MA_200 pg: 2 percent gain: 1.39%\n"
     ]
    }
   ],
   "source": [
    "total_pairs = len(df_cross_summary_h4)\n",
    "\n",
    "for c in df_cross_summary_h4['cross'].unique():\n",
    "    temp = df_cross_summary_h4[df_cross_summary_h4['cross'] == c]\n",
    "    pg = temp[temp['total_gain'] > 0].shape[0]\n",
    "    print(f\"{c} pg: {pg} percent gain: {(pg / total_pairs) * 100:.2f}%\")\n"
   ]
  },
  {
   "cell_type": "code",
   "execution_count": 15,
   "metadata": {},
   "outputs": [],
   "source": [
    "cross = \"MA_40_MA_200\"\n",
    "\n",
    "\n",
    "df_MA_40_MA_200 = df_ma_res_h4[df_ma_res_h4.cross == cross].copy()\n",
    "\n",
    "df_MA_40_MA_200.sort_values(by=['total_gain'], ascending=False, inplace=True)\n"
   ]
  },
  {
   "cell_type": "code",
   "execution_count": 16,
   "metadata": {},
   "outputs": [
    {
     "data": {
      "text/html": [
       "<div>\n",
       "<style scoped>\n",
       "    .dataframe tbody tr th:only-of-type {\n",
       "        vertical-align: middle;\n",
       "    }\n",
       "\n",
       "    .dataframe tbody tr th {\n",
       "        vertical-align: top;\n",
       "    }\n",
       "\n",
       "    .dataframe thead th {\n",
       "        text-align: right;\n",
       "    }\n",
       "</style>\n",
       "<table border=\"1\" class=\"dataframe\">\n",
       "  <thead>\n",
       "    <tr style=\"text-align: right;\">\n",
       "      <th></th>\n",
       "      <th>pair</th>\n",
       "      <th>num_trades</th>\n",
       "      <th>total_gain</th>\n",
       "      <th>mean_gain</th>\n",
       "      <th>min_gain</th>\n",
       "      <th>max_gain</th>\n",
       "      <th>ma_l</th>\n",
       "      <th>ma_s</th>\n",
       "      <th>cross</th>\n",
       "      <th>granularity</th>\n",
       "    </tr>\n",
       "  </thead>\n",
       "  <tbody>\n",
       "    <tr>\n",
       "      <th>526</th>\n",
       "      <td>USD_JPY</td>\n",
       "      <td>21</td>\n",
       "      <td>2053</td>\n",
       "      <td>97</td>\n",
       "      <td>-497</td>\n",
       "      <td>1210</td>\n",
       "      <td>MA_200</td>\n",
       "      <td>MA_40</td>\n",
       "      <td>MA_40_MA_200</td>\n",
       "      <td>H4</td>\n",
       "    </tr>\n",
       "    <tr>\n",
       "      <th>454</th>\n",
       "      <td>EUR_USD</td>\n",
       "      <td>23</td>\n",
       "      <td>614</td>\n",
       "      <td>26</td>\n",
       "      <td>-303</td>\n",
       "      <td>628</td>\n",
       "      <td>MA_200</td>\n",
       "      <td>MA_40</td>\n",
       "      <td>MA_40_MA_200</td>\n",
       "      <td>H4</td>\n",
       "    </tr>\n",
       "    <tr>\n",
       "      <th>550</th>\n",
       "      <td>GBP_USD</td>\n",
       "      <td>27</td>\n",
       "      <td>4</td>\n",
       "      <td>0</td>\n",
       "      <td>-446</td>\n",
       "      <td>772</td>\n",
       "      <td>MA_200</td>\n",
       "      <td>MA_40</td>\n",
       "      <td>MA_40_MA_200</td>\n",
       "      <td>H4</td>\n",
       "    </tr>\n",
       "    <tr>\n",
       "      <th>502</th>\n",
       "      <td>EUR_JPY</td>\n",
       "      <td>27</td>\n",
       "      <td>-1937</td>\n",
       "      <td>-71</td>\n",
       "      <td>-488</td>\n",
       "      <td>1133</td>\n",
       "      <td>MA_200</td>\n",
       "      <td>MA_40</td>\n",
       "      <td>MA_40_MA_200</td>\n",
       "      <td>H4</td>\n",
       "    </tr>\n",
       "    <tr>\n",
       "      <th>478</th>\n",
       "      <td>EUR_GBP</td>\n",
       "      <td>36</td>\n",
       "      <td>-2033</td>\n",
       "      <td>-56</td>\n",
       "      <td>-152</td>\n",
       "      <td>171</td>\n",
       "      <td>MA_200</td>\n",
       "      <td>MA_40</td>\n",
       "      <td>MA_40_MA_200</td>\n",
       "      <td>H4</td>\n",
       "    </tr>\n",
       "    <tr>\n",
       "      <th>574</th>\n",
       "      <td>GBP_JPY</td>\n",
       "      <td>33</td>\n",
       "      <td>-3451</td>\n",
       "      <td>-104</td>\n",
       "      <td>-985</td>\n",
       "      <td>1675</td>\n",
       "      <td>MA_200</td>\n",
       "      <td>MA_40</td>\n",
       "      <td>MA_40_MA_200</td>\n",
       "      <td>H4</td>\n",
       "    </tr>\n",
       "  </tbody>\n",
       "</table>\n",
       "</div>"
      ],
      "text/plain": [
       "        pair  num_trades  total_gain  mean_gain  min_gain  max_gain    ma_l  \\\n",
       "526  USD_JPY          21        2053         97      -497      1210  MA_200   \n",
       "454  EUR_USD          23         614         26      -303       628  MA_200   \n",
       "550  GBP_USD          27           4          0      -446       772  MA_200   \n",
       "502  EUR_JPY          27       -1937        -71      -488      1133  MA_200   \n",
       "478  EUR_GBP          36       -2033        -56      -152       171  MA_200   \n",
       "574  GBP_JPY          33       -3451       -104      -985      1675  MA_200   \n",
       "\n",
       "      ma_s         cross granularity  \n",
       "526  MA_40  MA_40_MA_200          H4  \n",
       "454  MA_40  MA_40_MA_200          H4  \n",
       "550  MA_40  MA_40_MA_200          H4  \n",
       "502  MA_40  MA_40_MA_200          H4  \n",
       "478  MA_40  MA_40_MA_200          H4  \n",
       "574  MA_40  MA_40_MA_200          H4  "
      ]
     },
     "execution_count": 16,
     "metadata": {},
     "output_type": "execute_result"
    }
   ],
   "source": [
    "df_MA_40_MA_200"
   ]
  },
  {
   "cell_type": "code",
   "execution_count": 17,
   "metadata": {},
   "outputs": [],
   "source": [
    "df_gains = df_ma_trades_h4[(df_ma_trades_h4.cross == cross) & (df_ma_trades_h4.pair == \"USD_JPY\")].copy()\n"
   ]
  },
  {
   "cell_type": "code",
   "execution_count": 18,
   "metadata": {},
   "outputs": [
    {
     "data": {
      "text/html": [
       "<div>\n",
       "<style scoped>\n",
       "    .dataframe tbody tr th:only-of-type {\n",
       "        vertical-align: middle;\n",
       "    }\n",
       "\n",
       "    .dataframe tbody tr th {\n",
       "        vertical-align: top;\n",
       "    }\n",
       "\n",
       "    .dataframe thead th {\n",
       "        text-align: right;\n",
       "    }\n",
       "</style>\n",
       "<table border=\"1\" class=\"dataframe\">\n",
       "  <thead>\n",
       "    <tr style=\"text-align: right;\">\n",
       "      <th></th>\n",
       "      <th>Unnamed: 0</th>\n",
       "      <th>time</th>\n",
       "      <th>volume</th>\n",
       "      <th>mid_o</th>\n",
       "      <th>mid_h</th>\n",
       "      <th>mid_l</th>\n",
       "      <th>mid_c</th>\n",
       "      <th>bid_o</th>\n",
       "      <th>bid_h</th>\n",
       "      <th>bid_l</th>\n",
       "      <th>bid_c</th>\n",
       "      <th>ask_o</th>\n",
       "      <th>ask_h</th>\n",
       "      <th>ask_l</th>\n",
       "      <th>ask_c</th>\n",
       "      <th>MA_40</th>\n",
       "      <th>MA_200</th>\n",
       "      <th>MA_10</th>\n",
       "      <th>MA_80</th>\n",
       "      <th>MA_50</th>\n",
       "      <th>MA_20</th>\n",
       "      <th>MA_150</th>\n",
       "      <th>MA_120</th>\n",
       "      <th>MA_30</th>\n",
       "      <th>DELTA</th>\n",
       "      <th>DELTA_PREV</th>\n",
       "      <th>TRADE</th>\n",
       "      <th>DIFF</th>\n",
       "      <th>GAIN</th>\n",
       "      <th>granularity</th>\n",
       "      <th>pair</th>\n",
       "      <th>GAIN_C</th>\n",
       "      <th>ma_l</th>\n",
       "      <th>ma_s</th>\n",
       "      <th>cross</th>\n",
       "    </tr>\n",
       "  </thead>\n",
       "  <tbody>\n",
       "    <tr>\n",
       "      <th>29665</th>\n",
       "      <td>272</td>\n",
       "      <td>2021-07-15 09:00:00+00:00</td>\n",
       "      <td>14509</td>\n",
       "      <td>109.749</td>\n",
       "      <td>110.090</td>\n",
       "      <td>109.730</td>\n",
       "      <td>110.067</td>\n",
       "      <td>109.742</td>\n",
       "      <td>110.084</td>\n",
       "      <td>109.723</td>\n",
       "      <td>110.060</td>\n",
       "      <td>109.756</td>\n",
       "      <td>110.097</td>\n",
       "      <td>109.736</td>\n",
       "      <td>110.074</td>\n",
       "      <td>110.236775</td>\n",
       "      <td>110.245160</td>\n",
       "      <td>110.1372</td>\n",
       "      <td>110.585375</td>\n",
       "      <td>110.35306</td>\n",
       "      <td>110.25760</td>\n",
       "      <td>110.454040</td>\n",
       "      <td>110.576525</td>\n",
       "      <td>110.176767</td>\n",
       "      <td>-0.008385</td>\n",
       "      <td>0.00746</td>\n",
       "      <td>-1</td>\n",
       "      <td>0.343</td>\n",
       "      <td>-34.3</td>\n",
       "      <td>H4</td>\n",
       "      <td>USD_JPY</td>\n",
       "      <td>-34.3</td>\n",
       "      <td>MA_200</td>\n",
       "      <td>MA_40</td>\n",
       "      <td>MA_40_MA_200</td>\n",
       "    </tr>\n",
       "    <tr>\n",
       "      <th>29666</th>\n",
       "      <td>396</td>\n",
       "      <td>2021-08-13 01:00:00+00:00</td>\n",
       "      <td>3634</td>\n",
       "      <td>110.420</td>\n",
       "      <td>110.427</td>\n",
       "      <td>110.371</td>\n",
       "      <td>110.410</td>\n",
       "      <td>110.414</td>\n",
       "      <td>110.420</td>\n",
       "      <td>110.364</td>\n",
       "      <td>110.404</td>\n",
       "      <td>110.427</td>\n",
       "      <td>110.434</td>\n",
       "      <td>110.377</td>\n",
       "      <td>110.417</td>\n",
       "      <td>110.203625</td>\n",
       "      <td>110.189915</td>\n",
       "      <td>110.4122</td>\n",
       "      <td>109.894963</td>\n",
       "      <td>109.97954</td>\n",
       "      <td>110.47765</td>\n",
       "      <td>109.998473</td>\n",
       "      <td>109.950983</td>\n",
       "      <td>110.379433</td>\n",
       "      <td>0.013710</td>\n",
       "      <td>-0.02839</td>\n",
       "      <td>1</td>\n",
       "      <td>-0.878</td>\n",
       "      <td>-87.8</td>\n",
       "      <td>H4</td>\n",
       "      <td>USD_JPY</td>\n",
       "      <td>-122.1</td>\n",
       "      <td>MA_200</td>\n",
       "      <td>MA_40</td>\n",
       "      <td>MA_40_MA_200</td>\n",
       "    </tr>\n",
       "    <tr>\n",
       "      <th>29667</th>\n",
       "      <td>410</td>\n",
       "      <td>2021-08-17 09:00:00+00:00</td>\n",
       "      <td>17464</td>\n",
       "      <td>109.306</td>\n",
       "      <td>109.558</td>\n",
       "      <td>109.174</td>\n",
       "      <td>109.532</td>\n",
       "      <td>109.300</td>\n",
       "      <td>109.551</td>\n",
       "      <td>109.164</td>\n",
       "      <td>109.525</td>\n",
       "      <td>109.313</td>\n",
       "      <td>109.565</td>\n",
       "      <td>109.184</td>\n",
       "      <td>109.539</td>\n",
       "      <td>110.105675</td>\n",
       "      <td>110.106015</td>\n",
       "      <td>109.3497</td>\n",
       "      <td>109.822050</td>\n",
       "      <td>110.06066</td>\n",
       "      <td>109.78740</td>\n",
       "      <td>109.930580</td>\n",
       "      <td>109.923617</td>\n",
       "      <td>110.038967</td>\n",
       "      <td>-0.000340</td>\n",
       "      <td>0.00966</td>\n",
       "      <td>-1</td>\n",
       "      <td>0.376</td>\n",
       "      <td>-37.6</td>\n",
       "      <td>H4</td>\n",
       "      <td>USD_JPY</td>\n",
       "      <td>-159.7</td>\n",
       "      <td>MA_200</td>\n",
       "      <td>MA_40</td>\n",
       "      <td>MA_40_MA_200</td>\n",
       "    </tr>\n",
       "  </tbody>\n",
       "</table>\n",
       "</div>"
      ],
      "text/plain": [
       "       Unnamed: 0                       time  volume    mid_o    mid_h  \\\n",
       "29665         272  2021-07-15 09:00:00+00:00   14509  109.749  110.090   \n",
       "29666         396  2021-08-13 01:00:00+00:00    3634  110.420  110.427   \n",
       "29667         410  2021-08-17 09:00:00+00:00   17464  109.306  109.558   \n",
       "\n",
       "         mid_l    mid_c    bid_o    bid_h    bid_l    bid_c    ask_o    ask_h  \\\n",
       "29665  109.730  110.067  109.742  110.084  109.723  110.060  109.756  110.097   \n",
       "29666  110.371  110.410  110.414  110.420  110.364  110.404  110.427  110.434   \n",
       "29667  109.174  109.532  109.300  109.551  109.164  109.525  109.313  109.565   \n",
       "\n",
       "         ask_l    ask_c       MA_40      MA_200     MA_10       MA_80  \\\n",
       "29665  109.736  110.074  110.236775  110.245160  110.1372  110.585375   \n",
       "29666  110.377  110.417  110.203625  110.189915  110.4122  109.894963   \n",
       "29667  109.184  109.539  110.105675  110.106015  109.3497  109.822050   \n",
       "\n",
       "           MA_50      MA_20      MA_150      MA_120       MA_30     DELTA  \\\n",
       "29665  110.35306  110.25760  110.454040  110.576525  110.176767 -0.008385   \n",
       "29666  109.97954  110.47765  109.998473  109.950983  110.379433  0.013710   \n",
       "29667  110.06066  109.78740  109.930580  109.923617  110.038967 -0.000340   \n",
       "\n",
       "       DELTA_PREV  TRADE   DIFF  GAIN granularity     pair  GAIN_C    ma_l  \\\n",
       "29665     0.00746     -1  0.343 -34.3          H4  USD_JPY   -34.3  MA_200   \n",
       "29666    -0.02839      1 -0.878 -87.8          H4  USD_JPY  -122.1  MA_200   \n",
       "29667     0.00966     -1  0.376 -37.6          H4  USD_JPY  -159.7  MA_200   \n",
       "\n",
       "        ma_s         cross  \n",
       "29665  MA_40  MA_40_MA_200  \n",
       "29666  MA_40  MA_40_MA_200  \n",
       "29667  MA_40  MA_40_MA_200  "
      ]
     },
     "execution_count": 18,
     "metadata": {},
     "output_type": "execute_result"
    }
   ],
   "source": [
    "df_gains.head(3)"
   ]
  },
  {
   "cell_type": "code",
   "execution_count": 19,
   "metadata": {},
   "outputs": [
    {
     "data": {
      "application/vnd.plotly.v1+json": {
       "config": {
        "plotlyServerURL": "https://plot.ly"
       },
       "data": [
        {
         "line": {
          "shape": "spline",
          "width": 2
         },
         "name": "GAIN_C",
         "type": "scatter",
         "x": [
          "s2021-07-15 09:00",
          "s2021-08-13 01:00",
          "s2021-08-17 09:00",
          "s2021-08-31 01:00",
          "s2021-09-16 05:00",
          "s2021-09-27 05:00",
          "s2021-12-02 10:00",
          "s2021-12-23 06:00",
          "s2022-01-20 10:00",
          "s2022-02-02 02:00",
          "s2022-05-24 17:00",
          "s2022-06-06 09:00",
          "s2022-07-29 17:00",
          "s2022-08-23 21:00",
          "s2022-11-10 14:00",
          "s2023-02-10 06:00",
          "s2023-03-20 05:00",
          "s2023-04-18 05:00",
          "s2023-07-13 21:00",
          "s2023-08-04 05:00",
          "s2023-11-22 02:00"
         ],
         "y": [
          -34.30000000000035,
          -122.10000000000036,
          -159.70000000000084,
          -212.10000000000093,
          -365.00000000000057,
          -171.69999999999987,
          -317.9000000000002,
          -343.2000000000002,
          -413.2999999999996,
          796.9000000000008,
          403.40000000000055,
          647.2999999999998,
          280.3000000000011,
          801.3000000000019,
          1918.7000000000023,
          1914.200000000004,
          1588.5000000000034,
          1942.0000000000032,
          1444.100000000005,
          2053.2000000000053,
          2053.2000000000053
         ]
        }
       ],
       "layout": {
        "font": {
         "color": "white",
         "size": 12
        },
        "height": 800,
        "margin": {
         "b": 10,
         "l": 10,
         "r": 10,
         "t": 10
        },
        "paper_bgcolor": "black",
        "plot_bgcolor": "black",
        "template": {
         "data": {
          "bar": [
           {
            "error_x": {
             "color": "#2a3f5f"
            },
            "error_y": {
             "color": "#2a3f5f"
            },
            "marker": {
             "line": {
              "color": "#E5ECF6",
              "width": 0.5
             },
             "pattern": {
              "fillmode": "overlay",
              "size": 10,
              "solidity": 0.2
             }
            },
            "type": "bar"
           }
          ],
          "barpolar": [
           {
            "marker": {
             "line": {
              "color": "#E5ECF6",
              "width": 0.5
             },
             "pattern": {
              "fillmode": "overlay",
              "size": 10,
              "solidity": 0.2
             }
            },
            "type": "barpolar"
           }
          ],
          "carpet": [
           {
            "aaxis": {
             "endlinecolor": "#2a3f5f",
             "gridcolor": "white",
             "linecolor": "white",
             "minorgridcolor": "white",
             "startlinecolor": "#2a3f5f"
            },
            "baxis": {
             "endlinecolor": "#2a3f5f",
             "gridcolor": "white",
             "linecolor": "white",
             "minorgridcolor": "white",
             "startlinecolor": "#2a3f5f"
            },
            "type": "carpet"
           }
          ],
          "choropleth": [
           {
            "colorbar": {
             "outlinewidth": 0,
             "ticks": ""
            },
            "type": "choropleth"
           }
          ],
          "contour": [
           {
            "colorbar": {
             "outlinewidth": 0,
             "ticks": ""
            },
            "colorscale": [
             [
              0,
              "#0d0887"
             ],
             [
              0.1111111111111111,
              "#46039f"
             ],
             [
              0.2222222222222222,
              "#7201a8"
             ],
             [
              0.3333333333333333,
              "#9c179e"
             ],
             [
              0.4444444444444444,
              "#bd3786"
             ],
             [
              0.5555555555555556,
              "#d8576b"
             ],
             [
              0.6666666666666666,
              "#ed7953"
             ],
             [
              0.7777777777777778,
              "#fb9f3a"
             ],
             [
              0.8888888888888888,
              "#fdca26"
             ],
             [
              1,
              "#f0f921"
             ]
            ],
            "type": "contour"
           }
          ],
          "contourcarpet": [
           {
            "colorbar": {
             "outlinewidth": 0,
             "ticks": ""
            },
            "type": "contourcarpet"
           }
          ],
          "heatmap": [
           {
            "colorbar": {
             "outlinewidth": 0,
             "ticks": ""
            },
            "colorscale": [
             [
              0,
              "#0d0887"
             ],
             [
              0.1111111111111111,
              "#46039f"
             ],
             [
              0.2222222222222222,
              "#7201a8"
             ],
             [
              0.3333333333333333,
              "#9c179e"
             ],
             [
              0.4444444444444444,
              "#bd3786"
             ],
             [
              0.5555555555555556,
              "#d8576b"
             ],
             [
              0.6666666666666666,
              "#ed7953"
             ],
             [
              0.7777777777777778,
              "#fb9f3a"
             ],
             [
              0.8888888888888888,
              "#fdca26"
             ],
             [
              1,
              "#f0f921"
             ]
            ],
            "type": "heatmap"
           }
          ],
          "heatmapgl": [
           {
            "colorbar": {
             "outlinewidth": 0,
             "ticks": ""
            },
            "colorscale": [
             [
              0,
              "#0d0887"
             ],
             [
              0.1111111111111111,
              "#46039f"
             ],
             [
              0.2222222222222222,
              "#7201a8"
             ],
             [
              0.3333333333333333,
              "#9c179e"
             ],
             [
              0.4444444444444444,
              "#bd3786"
             ],
             [
              0.5555555555555556,
              "#d8576b"
             ],
             [
              0.6666666666666666,
              "#ed7953"
             ],
             [
              0.7777777777777778,
              "#fb9f3a"
             ],
             [
              0.8888888888888888,
              "#fdca26"
             ],
             [
              1,
              "#f0f921"
             ]
            ],
            "type": "heatmapgl"
           }
          ],
          "histogram": [
           {
            "marker": {
             "pattern": {
              "fillmode": "overlay",
              "size": 10,
              "solidity": 0.2
             }
            },
            "type": "histogram"
           }
          ],
          "histogram2d": [
           {
            "colorbar": {
             "outlinewidth": 0,
             "ticks": ""
            },
            "colorscale": [
             [
              0,
              "#0d0887"
             ],
             [
              0.1111111111111111,
              "#46039f"
             ],
             [
              0.2222222222222222,
              "#7201a8"
             ],
             [
              0.3333333333333333,
              "#9c179e"
             ],
             [
              0.4444444444444444,
              "#bd3786"
             ],
             [
              0.5555555555555556,
              "#d8576b"
             ],
             [
              0.6666666666666666,
              "#ed7953"
             ],
             [
              0.7777777777777778,
              "#fb9f3a"
             ],
             [
              0.8888888888888888,
              "#fdca26"
             ],
             [
              1,
              "#f0f921"
             ]
            ],
            "type": "histogram2d"
           }
          ],
          "histogram2dcontour": [
           {
            "colorbar": {
             "outlinewidth": 0,
             "ticks": ""
            },
            "colorscale": [
             [
              0,
              "#0d0887"
             ],
             [
              0.1111111111111111,
              "#46039f"
             ],
             [
              0.2222222222222222,
              "#7201a8"
             ],
             [
              0.3333333333333333,
              "#9c179e"
             ],
             [
              0.4444444444444444,
              "#bd3786"
             ],
             [
              0.5555555555555556,
              "#d8576b"
             ],
             [
              0.6666666666666666,
              "#ed7953"
             ],
             [
              0.7777777777777778,
              "#fb9f3a"
             ],
             [
              0.8888888888888888,
              "#fdca26"
             ],
             [
              1,
              "#f0f921"
             ]
            ],
            "type": "histogram2dcontour"
           }
          ],
          "mesh3d": [
           {
            "colorbar": {
             "outlinewidth": 0,
             "ticks": ""
            },
            "type": "mesh3d"
           }
          ],
          "parcoords": [
           {
            "line": {
             "colorbar": {
              "outlinewidth": 0,
              "ticks": ""
             }
            },
            "type": "parcoords"
           }
          ],
          "pie": [
           {
            "automargin": true,
            "type": "pie"
           }
          ],
          "scatter": [
           {
            "fillpattern": {
             "fillmode": "overlay",
             "size": 10,
             "solidity": 0.2
            },
            "type": "scatter"
           }
          ],
          "scatter3d": [
           {
            "line": {
             "colorbar": {
              "outlinewidth": 0,
              "ticks": ""
             }
            },
            "marker": {
             "colorbar": {
              "outlinewidth": 0,
              "ticks": ""
             }
            },
            "type": "scatter3d"
           }
          ],
          "scattercarpet": [
           {
            "marker": {
             "colorbar": {
              "outlinewidth": 0,
              "ticks": ""
             }
            },
            "type": "scattercarpet"
           }
          ],
          "scattergeo": [
           {
            "marker": {
             "colorbar": {
              "outlinewidth": 0,
              "ticks": ""
             }
            },
            "type": "scattergeo"
           }
          ],
          "scattergl": [
           {
            "marker": {
             "colorbar": {
              "outlinewidth": 0,
              "ticks": ""
             }
            },
            "type": "scattergl"
           }
          ],
          "scattermapbox": [
           {
            "marker": {
             "colorbar": {
              "outlinewidth": 0,
              "ticks": ""
             }
            },
            "type": "scattermapbox"
           }
          ],
          "scatterpolar": [
           {
            "marker": {
             "colorbar": {
              "outlinewidth": 0,
              "ticks": ""
             }
            },
            "type": "scatterpolar"
           }
          ],
          "scatterpolargl": [
           {
            "marker": {
             "colorbar": {
              "outlinewidth": 0,
              "ticks": ""
             }
            },
            "type": "scatterpolargl"
           }
          ],
          "scatterternary": [
           {
            "marker": {
             "colorbar": {
              "outlinewidth": 0,
              "ticks": ""
             }
            },
            "type": "scatterternary"
           }
          ],
          "surface": [
           {
            "colorbar": {
             "outlinewidth": 0,
             "ticks": ""
            },
            "colorscale": [
             [
              0,
              "#0d0887"
             ],
             [
              0.1111111111111111,
              "#46039f"
             ],
             [
              0.2222222222222222,
              "#7201a8"
             ],
             [
              0.3333333333333333,
              "#9c179e"
             ],
             [
              0.4444444444444444,
              "#bd3786"
             ],
             [
              0.5555555555555556,
              "#d8576b"
             ],
             [
              0.6666666666666666,
              "#ed7953"
             ],
             [
              0.7777777777777778,
              "#fb9f3a"
             ],
             [
              0.8888888888888888,
              "#fdca26"
             ],
             [
              1,
              "#f0f921"
             ]
            ],
            "type": "surface"
           }
          ],
          "table": [
           {
            "cells": {
             "fill": {
              "color": "#EBF0F8"
             },
             "line": {
              "color": "white"
             }
            },
            "header": {
             "fill": {
              "color": "#C8D4E3"
             },
             "line": {
              "color": "white"
             }
            },
            "type": "table"
           }
          ]
         },
         "layout": {
          "annotationdefaults": {
           "arrowcolor": "#2a3f5f",
           "arrowhead": 0,
           "arrowwidth": 1
          },
          "autotypenumbers": "strict",
          "coloraxis": {
           "colorbar": {
            "outlinewidth": 0,
            "ticks": ""
           }
          },
          "colorscale": {
           "diverging": [
            [
             0,
             "#8e0152"
            ],
            [
             0.1,
             "#c51b7d"
            ],
            [
             0.2,
             "#de77ae"
            ],
            [
             0.3,
             "#f1b6da"
            ],
            [
             0.4,
             "#fde0ef"
            ],
            [
             0.5,
             "#f7f7f7"
            ],
            [
             0.6,
             "#e6f5d0"
            ],
            [
             0.7,
             "#b8e186"
            ],
            [
             0.8,
             "#7fbc41"
            ],
            [
             0.9,
             "#4d9221"
            ],
            [
             1,
             "#276419"
            ]
           ],
           "sequential": [
            [
             0,
             "#0d0887"
            ],
            [
             0.1111111111111111,
             "#46039f"
            ],
            [
             0.2222222222222222,
             "#7201a8"
            ],
            [
             0.3333333333333333,
             "#9c179e"
            ],
            [
             0.4444444444444444,
             "#bd3786"
            ],
            [
             0.5555555555555556,
             "#d8576b"
            ],
            [
             0.6666666666666666,
             "#ed7953"
            ],
            [
             0.7777777777777778,
             "#fb9f3a"
            ],
            [
             0.8888888888888888,
             "#fdca26"
            ],
            [
             1,
             "#f0f921"
            ]
           ],
           "sequentialminus": [
            [
             0,
             "#0d0887"
            ],
            [
             0.1111111111111111,
             "#46039f"
            ],
            [
             0.2222222222222222,
             "#7201a8"
            ],
            [
             0.3333333333333333,
             "#9c179e"
            ],
            [
             0.4444444444444444,
             "#bd3786"
            ],
            [
             0.5555555555555556,
             "#d8576b"
            ],
            [
             0.6666666666666666,
             "#ed7953"
            ],
            [
             0.7777777777777778,
             "#fb9f3a"
            ],
            [
             0.8888888888888888,
             "#fdca26"
            ],
            [
             1,
             "#f0f921"
            ]
           ]
          },
          "colorway": [
           "#636efa",
           "#EF553B",
           "#00cc96",
           "#ab63fa",
           "#FFA15A",
           "#19d3f3",
           "#FF6692",
           "#B6E880",
           "#FF97FF",
           "#FECB52"
          ],
          "font": {
           "color": "#2a3f5f"
          },
          "geo": {
           "bgcolor": "white",
           "lakecolor": "white",
           "landcolor": "#E5ECF6",
           "showlakes": true,
           "showland": true,
           "subunitcolor": "white"
          },
          "hoverlabel": {
           "align": "left"
          },
          "hovermode": "closest",
          "mapbox": {
           "style": "light"
          },
          "paper_bgcolor": "white",
          "plot_bgcolor": "#E5ECF6",
          "polar": {
           "angularaxis": {
            "gridcolor": "white",
            "linecolor": "white",
            "ticks": ""
           },
           "bgcolor": "#E5ECF6",
           "radialaxis": {
            "gridcolor": "white",
            "linecolor": "white",
            "ticks": ""
           }
          },
          "scene": {
           "xaxis": {
            "backgroundcolor": "#E5ECF6",
            "gridcolor": "white",
            "gridwidth": 2,
            "linecolor": "white",
            "showbackground": true,
            "ticks": "",
            "zerolinecolor": "white"
           },
           "yaxis": {
            "backgroundcolor": "#E5ECF6",
            "gridcolor": "white",
            "gridwidth": 2,
            "linecolor": "white",
            "showbackground": true,
            "ticks": "",
            "zerolinecolor": "white"
           },
           "zaxis": {
            "backgroundcolor": "#E5ECF6",
            "gridcolor": "white",
            "gridwidth": 2,
            "linecolor": "white",
            "showbackground": true,
            "ticks": "",
            "zerolinecolor": "white"
           }
          },
          "shapedefaults": {
           "line": {
            "color": "#2a3f5f"
           }
          },
          "ternary": {
           "aaxis": {
            "gridcolor": "white",
            "linecolor": "white",
            "ticks": ""
           },
           "baxis": {
            "gridcolor": "white",
            "linecolor": "white",
            "ticks": ""
           },
           "bgcolor": "#E5ECF6",
           "caxis": {
            "gridcolor": "white",
            "linecolor": "white",
            "ticks": ""
           }
          },
          "title": {
           "x": 0.05
          },
          "xaxis": {
           "automargin": true,
           "gridcolor": "white",
           "linecolor": "white",
           "ticks": "",
           "title": {
            "standoff": 15
           },
           "zerolinecolor": "white",
           "zerolinewidth": 2
          },
          "yaxis": {
           "automargin": true,
           "gridcolor": "white",
           "linecolor": "white",
           "ticks": "",
           "title": {
            "standoff": 15
           },
           "zerolinecolor": "white",
           "zerolinewidth": 2
          }
         }
        },
        "title": {
         "text": "Bjørn Chart"
        },
        "width": 1500,
        "xaxis": {
         "gridcolor": "gray",
         "nticks": 5,
         "rangeslider": {
          "visible": false
         },
         "title": {
          "text": "Time"
         }
        },
        "yaxis": {
         "gridcolor": "gray",
         "title": {
          "text": "Mid Prices"
         }
        }
       }
      }
     },
     "metadata": {},
     "output_type": "display_data"
    }
   ],
   "source": [
    "cp = CandlePlot(df_gains, candles=False)\n",
    "cp.show_plot(line_traces=['GAIN_C'])"
   ]
  },
  {
   "cell_type": "code",
   "execution_count": 20,
   "metadata": {},
   "outputs": [
    {
     "name": "stdout",
     "output_type": "stream",
     "text": [
      "USD_JPY 2053\n"
     ]
    },
    {
     "data": {
      "application/vnd.plotly.v1+json": {
       "config": {
        "plotlyServerURL": "https://plot.ly"
       },
       "data": [
        {
         "line": {
          "shape": "spline",
          "width": 2
         },
         "name": "GAIN_C",
         "type": "scatter",
         "x": [
          "s2021-07-15 09:00",
          "s2021-08-13 01:00",
          "s2021-08-17 09:00",
          "s2021-08-31 01:00",
          "s2021-09-16 05:00",
          "s2021-09-27 05:00",
          "s2021-12-02 10:00",
          "s2021-12-23 06:00",
          "s2022-01-20 10:00",
          "s2022-02-02 02:00",
          "s2022-05-24 17:00",
          "s2022-06-06 09:00",
          "s2022-07-29 17:00",
          "s2022-08-23 21:00",
          "s2022-11-10 14:00",
          "s2023-02-10 06:00",
          "s2023-03-20 05:00",
          "s2023-04-18 05:00",
          "s2023-07-13 21:00",
          "s2023-08-04 05:00",
          "s2023-11-22 02:00"
         ],
         "y": [
          -34.30000000000035,
          -122.10000000000036,
          -159.70000000000084,
          -212.10000000000093,
          -365.00000000000057,
          -171.69999999999987,
          -317.9000000000002,
          -343.2000000000002,
          -413.2999999999996,
          796.9000000000008,
          403.40000000000055,
          647.2999999999998,
          280.3000000000011,
          801.3000000000019,
          1918.7000000000023,
          1914.200000000004,
          1588.5000000000034,
          1942.0000000000032,
          1444.100000000005,
          2053.2000000000053,
          2053.2000000000053
         ]
        }
       ],
       "layout": {
        "font": {
         "color": "white",
         "size": 12
        },
        "height": 800,
        "margin": {
         "b": 10,
         "l": 10,
         "r": 10,
         "t": 10
        },
        "paper_bgcolor": "black",
        "plot_bgcolor": "black",
        "template": {
         "data": {
          "bar": [
           {
            "error_x": {
             "color": "#2a3f5f"
            },
            "error_y": {
             "color": "#2a3f5f"
            },
            "marker": {
             "line": {
              "color": "#E5ECF6",
              "width": 0.5
             },
             "pattern": {
              "fillmode": "overlay",
              "size": 10,
              "solidity": 0.2
             }
            },
            "type": "bar"
           }
          ],
          "barpolar": [
           {
            "marker": {
             "line": {
              "color": "#E5ECF6",
              "width": 0.5
             },
             "pattern": {
              "fillmode": "overlay",
              "size": 10,
              "solidity": 0.2
             }
            },
            "type": "barpolar"
           }
          ],
          "carpet": [
           {
            "aaxis": {
             "endlinecolor": "#2a3f5f",
             "gridcolor": "white",
             "linecolor": "white",
             "minorgridcolor": "white",
             "startlinecolor": "#2a3f5f"
            },
            "baxis": {
             "endlinecolor": "#2a3f5f",
             "gridcolor": "white",
             "linecolor": "white",
             "minorgridcolor": "white",
             "startlinecolor": "#2a3f5f"
            },
            "type": "carpet"
           }
          ],
          "choropleth": [
           {
            "colorbar": {
             "outlinewidth": 0,
             "ticks": ""
            },
            "type": "choropleth"
           }
          ],
          "contour": [
           {
            "colorbar": {
             "outlinewidth": 0,
             "ticks": ""
            },
            "colorscale": [
             [
              0,
              "#0d0887"
             ],
             [
              0.1111111111111111,
              "#46039f"
             ],
             [
              0.2222222222222222,
              "#7201a8"
             ],
             [
              0.3333333333333333,
              "#9c179e"
             ],
             [
              0.4444444444444444,
              "#bd3786"
             ],
             [
              0.5555555555555556,
              "#d8576b"
             ],
             [
              0.6666666666666666,
              "#ed7953"
             ],
             [
              0.7777777777777778,
              "#fb9f3a"
             ],
             [
              0.8888888888888888,
              "#fdca26"
             ],
             [
              1,
              "#f0f921"
             ]
            ],
            "type": "contour"
           }
          ],
          "contourcarpet": [
           {
            "colorbar": {
             "outlinewidth": 0,
             "ticks": ""
            },
            "type": "contourcarpet"
           }
          ],
          "heatmap": [
           {
            "colorbar": {
             "outlinewidth": 0,
             "ticks": ""
            },
            "colorscale": [
             [
              0,
              "#0d0887"
             ],
             [
              0.1111111111111111,
              "#46039f"
             ],
             [
              0.2222222222222222,
              "#7201a8"
             ],
             [
              0.3333333333333333,
              "#9c179e"
             ],
             [
              0.4444444444444444,
              "#bd3786"
             ],
             [
              0.5555555555555556,
              "#d8576b"
             ],
             [
              0.6666666666666666,
              "#ed7953"
             ],
             [
              0.7777777777777778,
              "#fb9f3a"
             ],
             [
              0.8888888888888888,
              "#fdca26"
             ],
             [
              1,
              "#f0f921"
             ]
            ],
            "type": "heatmap"
           }
          ],
          "heatmapgl": [
           {
            "colorbar": {
             "outlinewidth": 0,
             "ticks": ""
            },
            "colorscale": [
             [
              0,
              "#0d0887"
             ],
             [
              0.1111111111111111,
              "#46039f"
             ],
             [
              0.2222222222222222,
              "#7201a8"
             ],
             [
              0.3333333333333333,
              "#9c179e"
             ],
             [
              0.4444444444444444,
              "#bd3786"
             ],
             [
              0.5555555555555556,
              "#d8576b"
             ],
             [
              0.6666666666666666,
              "#ed7953"
             ],
             [
              0.7777777777777778,
              "#fb9f3a"
             ],
             [
              0.8888888888888888,
              "#fdca26"
             ],
             [
              1,
              "#f0f921"
             ]
            ],
            "type": "heatmapgl"
           }
          ],
          "histogram": [
           {
            "marker": {
             "pattern": {
              "fillmode": "overlay",
              "size": 10,
              "solidity": 0.2
             }
            },
            "type": "histogram"
           }
          ],
          "histogram2d": [
           {
            "colorbar": {
             "outlinewidth": 0,
             "ticks": ""
            },
            "colorscale": [
             [
              0,
              "#0d0887"
             ],
             [
              0.1111111111111111,
              "#46039f"
             ],
             [
              0.2222222222222222,
              "#7201a8"
             ],
             [
              0.3333333333333333,
              "#9c179e"
             ],
             [
              0.4444444444444444,
              "#bd3786"
             ],
             [
              0.5555555555555556,
              "#d8576b"
             ],
             [
              0.6666666666666666,
              "#ed7953"
             ],
             [
              0.7777777777777778,
              "#fb9f3a"
             ],
             [
              0.8888888888888888,
              "#fdca26"
             ],
             [
              1,
              "#f0f921"
             ]
            ],
            "type": "histogram2d"
           }
          ],
          "histogram2dcontour": [
           {
            "colorbar": {
             "outlinewidth": 0,
             "ticks": ""
            },
            "colorscale": [
             [
              0,
              "#0d0887"
             ],
             [
              0.1111111111111111,
              "#46039f"
             ],
             [
              0.2222222222222222,
              "#7201a8"
             ],
             [
              0.3333333333333333,
              "#9c179e"
             ],
             [
              0.4444444444444444,
              "#bd3786"
             ],
             [
              0.5555555555555556,
              "#d8576b"
             ],
             [
              0.6666666666666666,
              "#ed7953"
             ],
             [
              0.7777777777777778,
              "#fb9f3a"
             ],
             [
              0.8888888888888888,
              "#fdca26"
             ],
             [
              1,
              "#f0f921"
             ]
            ],
            "type": "histogram2dcontour"
           }
          ],
          "mesh3d": [
           {
            "colorbar": {
             "outlinewidth": 0,
             "ticks": ""
            },
            "type": "mesh3d"
           }
          ],
          "parcoords": [
           {
            "line": {
             "colorbar": {
              "outlinewidth": 0,
              "ticks": ""
             }
            },
            "type": "parcoords"
           }
          ],
          "pie": [
           {
            "automargin": true,
            "type": "pie"
           }
          ],
          "scatter": [
           {
            "fillpattern": {
             "fillmode": "overlay",
             "size": 10,
             "solidity": 0.2
            },
            "type": "scatter"
           }
          ],
          "scatter3d": [
           {
            "line": {
             "colorbar": {
              "outlinewidth": 0,
              "ticks": ""
             }
            },
            "marker": {
             "colorbar": {
              "outlinewidth": 0,
              "ticks": ""
             }
            },
            "type": "scatter3d"
           }
          ],
          "scattercarpet": [
           {
            "marker": {
             "colorbar": {
              "outlinewidth": 0,
              "ticks": ""
             }
            },
            "type": "scattercarpet"
           }
          ],
          "scattergeo": [
           {
            "marker": {
             "colorbar": {
              "outlinewidth": 0,
              "ticks": ""
             }
            },
            "type": "scattergeo"
           }
          ],
          "scattergl": [
           {
            "marker": {
             "colorbar": {
              "outlinewidth": 0,
              "ticks": ""
             }
            },
            "type": "scattergl"
           }
          ],
          "scattermapbox": [
           {
            "marker": {
             "colorbar": {
              "outlinewidth": 0,
              "ticks": ""
             }
            },
            "type": "scattermapbox"
           }
          ],
          "scatterpolar": [
           {
            "marker": {
             "colorbar": {
              "outlinewidth": 0,
              "ticks": ""
             }
            },
            "type": "scatterpolar"
           }
          ],
          "scatterpolargl": [
           {
            "marker": {
             "colorbar": {
              "outlinewidth": 0,
              "ticks": ""
             }
            },
            "type": "scatterpolargl"
           }
          ],
          "scatterternary": [
           {
            "marker": {
             "colorbar": {
              "outlinewidth": 0,
              "ticks": ""
             }
            },
            "type": "scatterternary"
           }
          ],
          "surface": [
           {
            "colorbar": {
             "outlinewidth": 0,
             "ticks": ""
            },
            "colorscale": [
             [
              0,
              "#0d0887"
             ],
             [
              0.1111111111111111,
              "#46039f"
             ],
             [
              0.2222222222222222,
              "#7201a8"
             ],
             [
              0.3333333333333333,
              "#9c179e"
             ],
             [
              0.4444444444444444,
              "#bd3786"
             ],
             [
              0.5555555555555556,
              "#d8576b"
             ],
             [
              0.6666666666666666,
              "#ed7953"
             ],
             [
              0.7777777777777778,
              "#fb9f3a"
             ],
             [
              0.8888888888888888,
              "#fdca26"
             ],
             [
              1,
              "#f0f921"
             ]
            ],
            "type": "surface"
           }
          ],
          "table": [
           {
            "cells": {
             "fill": {
              "color": "#EBF0F8"
             },
             "line": {
              "color": "white"
             }
            },
            "header": {
             "fill": {
              "color": "#C8D4E3"
             },
             "line": {
              "color": "white"
             }
            },
            "type": "table"
           }
          ]
         },
         "layout": {
          "annotationdefaults": {
           "arrowcolor": "#2a3f5f",
           "arrowhead": 0,
           "arrowwidth": 1
          },
          "autotypenumbers": "strict",
          "coloraxis": {
           "colorbar": {
            "outlinewidth": 0,
            "ticks": ""
           }
          },
          "colorscale": {
           "diverging": [
            [
             0,
             "#8e0152"
            ],
            [
             0.1,
             "#c51b7d"
            ],
            [
             0.2,
             "#de77ae"
            ],
            [
             0.3,
             "#f1b6da"
            ],
            [
             0.4,
             "#fde0ef"
            ],
            [
             0.5,
             "#f7f7f7"
            ],
            [
             0.6,
             "#e6f5d0"
            ],
            [
             0.7,
             "#b8e186"
            ],
            [
             0.8,
             "#7fbc41"
            ],
            [
             0.9,
             "#4d9221"
            ],
            [
             1,
             "#276419"
            ]
           ],
           "sequential": [
            [
             0,
             "#0d0887"
            ],
            [
             0.1111111111111111,
             "#46039f"
            ],
            [
             0.2222222222222222,
             "#7201a8"
            ],
            [
             0.3333333333333333,
             "#9c179e"
            ],
            [
             0.4444444444444444,
             "#bd3786"
            ],
            [
             0.5555555555555556,
             "#d8576b"
            ],
            [
             0.6666666666666666,
             "#ed7953"
            ],
            [
             0.7777777777777778,
             "#fb9f3a"
            ],
            [
             0.8888888888888888,
             "#fdca26"
            ],
            [
             1,
             "#f0f921"
            ]
           ],
           "sequentialminus": [
            [
             0,
             "#0d0887"
            ],
            [
             0.1111111111111111,
             "#46039f"
            ],
            [
             0.2222222222222222,
             "#7201a8"
            ],
            [
             0.3333333333333333,
             "#9c179e"
            ],
            [
             0.4444444444444444,
             "#bd3786"
            ],
            [
             0.5555555555555556,
             "#d8576b"
            ],
            [
             0.6666666666666666,
             "#ed7953"
            ],
            [
             0.7777777777777778,
             "#fb9f3a"
            ],
            [
             0.8888888888888888,
             "#fdca26"
            ],
            [
             1,
             "#f0f921"
            ]
           ]
          },
          "colorway": [
           "#636efa",
           "#EF553B",
           "#00cc96",
           "#ab63fa",
           "#FFA15A",
           "#19d3f3",
           "#FF6692",
           "#B6E880",
           "#FF97FF",
           "#FECB52"
          ],
          "font": {
           "color": "#2a3f5f"
          },
          "geo": {
           "bgcolor": "white",
           "lakecolor": "white",
           "landcolor": "#E5ECF6",
           "showlakes": true,
           "showland": true,
           "subunitcolor": "white"
          },
          "hoverlabel": {
           "align": "left"
          },
          "hovermode": "closest",
          "mapbox": {
           "style": "light"
          },
          "paper_bgcolor": "white",
          "plot_bgcolor": "#E5ECF6",
          "polar": {
           "angularaxis": {
            "gridcolor": "white",
            "linecolor": "white",
            "ticks": ""
           },
           "bgcolor": "#E5ECF6",
           "radialaxis": {
            "gridcolor": "white",
            "linecolor": "white",
            "ticks": ""
           }
          },
          "scene": {
           "xaxis": {
            "backgroundcolor": "#E5ECF6",
            "gridcolor": "white",
            "gridwidth": 2,
            "linecolor": "white",
            "showbackground": true,
            "ticks": "",
            "zerolinecolor": "white"
           },
           "yaxis": {
            "backgroundcolor": "#E5ECF6",
            "gridcolor": "white",
            "gridwidth": 2,
            "linecolor": "white",
            "showbackground": true,
            "ticks": "",
            "zerolinecolor": "white"
           },
           "zaxis": {
            "backgroundcolor": "#E5ECF6",
            "gridcolor": "white",
            "gridwidth": 2,
            "linecolor": "white",
            "showbackground": true,
            "ticks": "",
            "zerolinecolor": "white"
           }
          },
          "shapedefaults": {
           "line": {
            "color": "#2a3f5f"
           }
          },
          "ternary": {
           "aaxis": {
            "gridcolor": "white",
            "linecolor": "white",
            "ticks": ""
           },
           "baxis": {
            "gridcolor": "white",
            "linecolor": "white",
            "ticks": ""
           },
           "bgcolor": "#E5ECF6",
           "caxis": {
            "gridcolor": "white",
            "linecolor": "white",
            "ticks": ""
           }
          },
          "title": {
           "x": 0.05
          },
          "xaxis": {
           "automargin": true,
           "gridcolor": "white",
           "linecolor": "white",
           "ticks": "",
           "title": {
            "standoff": 15
           },
           "zerolinecolor": "white",
           "zerolinewidth": 2
          },
          "yaxis": {
           "automargin": true,
           "gridcolor": "white",
           "linecolor": "white",
           "ticks": "",
           "title": {
            "standoff": 15
           },
           "zerolinecolor": "white",
           "zerolinewidth": 2
          }
         }
        },
        "title": {
         "text": "Bjørn Chart"
        },
        "width": 1500,
        "xaxis": {
         "gridcolor": "gray",
         "nticks": 5,
         "rangeslider": {
          "visible": false
         },
         "title": {
          "text": "Time"
         }
        },
        "yaxis": {
         "gridcolor": "gray",
         "title": {
          "text": "Mid Prices"
         }
        }
       }
      }
     },
     "metadata": {},
     "output_type": "display_data"
    },
    {
     "name": "stdout",
     "output_type": "stream",
     "text": [
      "EUR_USD 614\n"
     ]
    },
    {
     "data": {
      "application/vnd.plotly.v1+json": {
       "config": {
        "plotlyServerURL": "https://plot.ly"
       },
       "data": [
        {
         "line": {
          "shape": "spline",
          "width": 2
         },
         "name": "GAIN_C",
         "type": "scatter",
         "x": [
          "s2021-08-04 01:00",
          "s2021-08-09 13:00",
          "s2021-09-01 21:00",
          "s2021-09-21 01:00",
          "s2021-12-28 14:00",
          "s2022-01-26 14:00",
          "s2022-02-08 06:00",
          "s2022-02-22 18:00",
          "s2022-02-23 02:00",
          "s2022-02-24 02:00",
          "s2022-05-27 05:00",
          "s2022-06-15 01:00",
          "s2022-08-11 21:00",
          "s2022-08-22 01:00",
          "s2022-10-26 05:00",
          "s2023-02-12 22:00",
          "s2023-03-21 05:00",
          "s2023-05-15 13:00",
          "s2023-06-19 05:00",
          "s2023-08-03 05:00",
          "s2023-10-30 17:00",
          "s2023-11-01 13:00",
          "s2023-11-02 21:00"
         ],
         "y": [
          -129.29999999999885,
          -232.0999999999995,
          -345.30000000000166,
          75.89999999999765,
          53.29999999999836,
          -64.70000000000196,
          -144.30000000000163,
          -143.50000000000082,
          -231.10000000000184,
          276.3999999999966,
          -27.300000000003426,
          86.49999999999604,
          -188.5000000000048,
          -188.9000000000052,
          439.6999999999939,
          376.89999999999327,
          526.0999999999938,
          475.49999999999534,
          470.699999999995,
          780.3999999999944,
          699.0999999999947,
          614.8999999999937,
          614.8999999999937
         ]
        }
       ],
       "layout": {
        "font": {
         "color": "white",
         "size": 12
        },
        "height": 800,
        "margin": {
         "b": 10,
         "l": 10,
         "r": 10,
         "t": 10
        },
        "paper_bgcolor": "black",
        "plot_bgcolor": "black",
        "template": {
         "data": {
          "bar": [
           {
            "error_x": {
             "color": "#2a3f5f"
            },
            "error_y": {
             "color": "#2a3f5f"
            },
            "marker": {
             "line": {
              "color": "#E5ECF6",
              "width": 0.5
             },
             "pattern": {
              "fillmode": "overlay",
              "size": 10,
              "solidity": 0.2
             }
            },
            "type": "bar"
           }
          ],
          "barpolar": [
           {
            "marker": {
             "line": {
              "color": "#E5ECF6",
              "width": 0.5
             },
             "pattern": {
              "fillmode": "overlay",
              "size": 10,
              "solidity": 0.2
             }
            },
            "type": "barpolar"
           }
          ],
          "carpet": [
           {
            "aaxis": {
             "endlinecolor": "#2a3f5f",
             "gridcolor": "white",
             "linecolor": "white",
             "minorgridcolor": "white",
             "startlinecolor": "#2a3f5f"
            },
            "baxis": {
             "endlinecolor": "#2a3f5f",
             "gridcolor": "white",
             "linecolor": "white",
             "minorgridcolor": "white",
             "startlinecolor": "#2a3f5f"
            },
            "type": "carpet"
           }
          ],
          "choropleth": [
           {
            "colorbar": {
             "outlinewidth": 0,
             "ticks": ""
            },
            "type": "choropleth"
           }
          ],
          "contour": [
           {
            "colorbar": {
             "outlinewidth": 0,
             "ticks": ""
            },
            "colorscale": [
             [
              0,
              "#0d0887"
             ],
             [
              0.1111111111111111,
              "#46039f"
             ],
             [
              0.2222222222222222,
              "#7201a8"
             ],
             [
              0.3333333333333333,
              "#9c179e"
             ],
             [
              0.4444444444444444,
              "#bd3786"
             ],
             [
              0.5555555555555556,
              "#d8576b"
             ],
             [
              0.6666666666666666,
              "#ed7953"
             ],
             [
              0.7777777777777778,
              "#fb9f3a"
             ],
             [
              0.8888888888888888,
              "#fdca26"
             ],
             [
              1,
              "#f0f921"
             ]
            ],
            "type": "contour"
           }
          ],
          "contourcarpet": [
           {
            "colorbar": {
             "outlinewidth": 0,
             "ticks": ""
            },
            "type": "contourcarpet"
           }
          ],
          "heatmap": [
           {
            "colorbar": {
             "outlinewidth": 0,
             "ticks": ""
            },
            "colorscale": [
             [
              0,
              "#0d0887"
             ],
             [
              0.1111111111111111,
              "#46039f"
             ],
             [
              0.2222222222222222,
              "#7201a8"
             ],
             [
              0.3333333333333333,
              "#9c179e"
             ],
             [
              0.4444444444444444,
              "#bd3786"
             ],
             [
              0.5555555555555556,
              "#d8576b"
             ],
             [
              0.6666666666666666,
              "#ed7953"
             ],
             [
              0.7777777777777778,
              "#fb9f3a"
             ],
             [
              0.8888888888888888,
              "#fdca26"
             ],
             [
              1,
              "#f0f921"
             ]
            ],
            "type": "heatmap"
           }
          ],
          "heatmapgl": [
           {
            "colorbar": {
             "outlinewidth": 0,
             "ticks": ""
            },
            "colorscale": [
             [
              0,
              "#0d0887"
             ],
             [
              0.1111111111111111,
              "#46039f"
             ],
             [
              0.2222222222222222,
              "#7201a8"
             ],
             [
              0.3333333333333333,
              "#9c179e"
             ],
             [
              0.4444444444444444,
              "#bd3786"
             ],
             [
              0.5555555555555556,
              "#d8576b"
             ],
             [
              0.6666666666666666,
              "#ed7953"
             ],
             [
              0.7777777777777778,
              "#fb9f3a"
             ],
             [
              0.8888888888888888,
              "#fdca26"
             ],
             [
              1,
              "#f0f921"
             ]
            ],
            "type": "heatmapgl"
           }
          ],
          "histogram": [
           {
            "marker": {
             "pattern": {
              "fillmode": "overlay",
              "size": 10,
              "solidity": 0.2
             }
            },
            "type": "histogram"
           }
          ],
          "histogram2d": [
           {
            "colorbar": {
             "outlinewidth": 0,
             "ticks": ""
            },
            "colorscale": [
             [
              0,
              "#0d0887"
             ],
             [
              0.1111111111111111,
              "#46039f"
             ],
             [
              0.2222222222222222,
              "#7201a8"
             ],
             [
              0.3333333333333333,
              "#9c179e"
             ],
             [
              0.4444444444444444,
              "#bd3786"
             ],
             [
              0.5555555555555556,
              "#d8576b"
             ],
             [
              0.6666666666666666,
              "#ed7953"
             ],
             [
              0.7777777777777778,
              "#fb9f3a"
             ],
             [
              0.8888888888888888,
              "#fdca26"
             ],
             [
              1,
              "#f0f921"
             ]
            ],
            "type": "histogram2d"
           }
          ],
          "histogram2dcontour": [
           {
            "colorbar": {
             "outlinewidth": 0,
             "ticks": ""
            },
            "colorscale": [
             [
              0,
              "#0d0887"
             ],
             [
              0.1111111111111111,
              "#46039f"
             ],
             [
              0.2222222222222222,
              "#7201a8"
             ],
             [
              0.3333333333333333,
              "#9c179e"
             ],
             [
              0.4444444444444444,
              "#bd3786"
             ],
             [
              0.5555555555555556,
              "#d8576b"
             ],
             [
              0.6666666666666666,
              "#ed7953"
             ],
             [
              0.7777777777777778,
              "#fb9f3a"
             ],
             [
              0.8888888888888888,
              "#fdca26"
             ],
             [
              1,
              "#f0f921"
             ]
            ],
            "type": "histogram2dcontour"
           }
          ],
          "mesh3d": [
           {
            "colorbar": {
             "outlinewidth": 0,
             "ticks": ""
            },
            "type": "mesh3d"
           }
          ],
          "parcoords": [
           {
            "line": {
             "colorbar": {
              "outlinewidth": 0,
              "ticks": ""
             }
            },
            "type": "parcoords"
           }
          ],
          "pie": [
           {
            "automargin": true,
            "type": "pie"
           }
          ],
          "scatter": [
           {
            "fillpattern": {
             "fillmode": "overlay",
             "size": 10,
             "solidity": 0.2
            },
            "type": "scatter"
           }
          ],
          "scatter3d": [
           {
            "line": {
             "colorbar": {
              "outlinewidth": 0,
              "ticks": ""
             }
            },
            "marker": {
             "colorbar": {
              "outlinewidth": 0,
              "ticks": ""
             }
            },
            "type": "scatter3d"
           }
          ],
          "scattercarpet": [
           {
            "marker": {
             "colorbar": {
              "outlinewidth": 0,
              "ticks": ""
             }
            },
            "type": "scattercarpet"
           }
          ],
          "scattergeo": [
           {
            "marker": {
             "colorbar": {
              "outlinewidth": 0,
              "ticks": ""
             }
            },
            "type": "scattergeo"
           }
          ],
          "scattergl": [
           {
            "marker": {
             "colorbar": {
              "outlinewidth": 0,
              "ticks": ""
             }
            },
            "type": "scattergl"
           }
          ],
          "scattermapbox": [
           {
            "marker": {
             "colorbar": {
              "outlinewidth": 0,
              "ticks": ""
             }
            },
            "type": "scattermapbox"
           }
          ],
          "scatterpolar": [
           {
            "marker": {
             "colorbar": {
              "outlinewidth": 0,
              "ticks": ""
             }
            },
            "type": "scatterpolar"
           }
          ],
          "scatterpolargl": [
           {
            "marker": {
             "colorbar": {
              "outlinewidth": 0,
              "ticks": ""
             }
            },
            "type": "scatterpolargl"
           }
          ],
          "scatterternary": [
           {
            "marker": {
             "colorbar": {
              "outlinewidth": 0,
              "ticks": ""
             }
            },
            "type": "scatterternary"
           }
          ],
          "surface": [
           {
            "colorbar": {
             "outlinewidth": 0,
             "ticks": ""
            },
            "colorscale": [
             [
              0,
              "#0d0887"
             ],
             [
              0.1111111111111111,
              "#46039f"
             ],
             [
              0.2222222222222222,
              "#7201a8"
             ],
             [
              0.3333333333333333,
              "#9c179e"
             ],
             [
              0.4444444444444444,
              "#bd3786"
             ],
             [
              0.5555555555555556,
              "#d8576b"
             ],
             [
              0.6666666666666666,
              "#ed7953"
             ],
             [
              0.7777777777777778,
              "#fb9f3a"
             ],
             [
              0.8888888888888888,
              "#fdca26"
             ],
             [
              1,
              "#f0f921"
             ]
            ],
            "type": "surface"
           }
          ],
          "table": [
           {
            "cells": {
             "fill": {
              "color": "#EBF0F8"
             },
             "line": {
              "color": "white"
             }
            },
            "header": {
             "fill": {
              "color": "#C8D4E3"
             },
             "line": {
              "color": "white"
             }
            },
            "type": "table"
           }
          ]
         },
         "layout": {
          "annotationdefaults": {
           "arrowcolor": "#2a3f5f",
           "arrowhead": 0,
           "arrowwidth": 1
          },
          "autotypenumbers": "strict",
          "coloraxis": {
           "colorbar": {
            "outlinewidth": 0,
            "ticks": ""
           }
          },
          "colorscale": {
           "diverging": [
            [
             0,
             "#8e0152"
            ],
            [
             0.1,
             "#c51b7d"
            ],
            [
             0.2,
             "#de77ae"
            ],
            [
             0.3,
             "#f1b6da"
            ],
            [
             0.4,
             "#fde0ef"
            ],
            [
             0.5,
             "#f7f7f7"
            ],
            [
             0.6,
             "#e6f5d0"
            ],
            [
             0.7,
             "#b8e186"
            ],
            [
             0.8,
             "#7fbc41"
            ],
            [
             0.9,
             "#4d9221"
            ],
            [
             1,
             "#276419"
            ]
           ],
           "sequential": [
            [
             0,
             "#0d0887"
            ],
            [
             0.1111111111111111,
             "#46039f"
            ],
            [
             0.2222222222222222,
             "#7201a8"
            ],
            [
             0.3333333333333333,
             "#9c179e"
            ],
            [
             0.4444444444444444,
             "#bd3786"
            ],
            [
             0.5555555555555556,
             "#d8576b"
            ],
            [
             0.6666666666666666,
             "#ed7953"
            ],
            [
             0.7777777777777778,
             "#fb9f3a"
            ],
            [
             0.8888888888888888,
             "#fdca26"
            ],
            [
             1,
             "#f0f921"
            ]
           ],
           "sequentialminus": [
            [
             0,
             "#0d0887"
            ],
            [
             0.1111111111111111,
             "#46039f"
            ],
            [
             0.2222222222222222,
             "#7201a8"
            ],
            [
             0.3333333333333333,
             "#9c179e"
            ],
            [
             0.4444444444444444,
             "#bd3786"
            ],
            [
             0.5555555555555556,
             "#d8576b"
            ],
            [
             0.6666666666666666,
             "#ed7953"
            ],
            [
             0.7777777777777778,
             "#fb9f3a"
            ],
            [
             0.8888888888888888,
             "#fdca26"
            ],
            [
             1,
             "#f0f921"
            ]
           ]
          },
          "colorway": [
           "#636efa",
           "#EF553B",
           "#00cc96",
           "#ab63fa",
           "#FFA15A",
           "#19d3f3",
           "#FF6692",
           "#B6E880",
           "#FF97FF",
           "#FECB52"
          ],
          "font": {
           "color": "#2a3f5f"
          },
          "geo": {
           "bgcolor": "white",
           "lakecolor": "white",
           "landcolor": "#E5ECF6",
           "showlakes": true,
           "showland": true,
           "subunitcolor": "white"
          },
          "hoverlabel": {
           "align": "left"
          },
          "hovermode": "closest",
          "mapbox": {
           "style": "light"
          },
          "paper_bgcolor": "white",
          "plot_bgcolor": "#E5ECF6",
          "polar": {
           "angularaxis": {
            "gridcolor": "white",
            "linecolor": "white",
            "ticks": ""
           },
           "bgcolor": "#E5ECF6",
           "radialaxis": {
            "gridcolor": "white",
            "linecolor": "white",
            "ticks": ""
           }
          },
          "scene": {
           "xaxis": {
            "backgroundcolor": "#E5ECF6",
            "gridcolor": "white",
            "gridwidth": 2,
            "linecolor": "white",
            "showbackground": true,
            "ticks": "",
            "zerolinecolor": "white"
           },
           "yaxis": {
            "backgroundcolor": "#E5ECF6",
            "gridcolor": "white",
            "gridwidth": 2,
            "linecolor": "white",
            "showbackground": true,
            "ticks": "",
            "zerolinecolor": "white"
           },
           "zaxis": {
            "backgroundcolor": "#E5ECF6",
            "gridcolor": "white",
            "gridwidth": 2,
            "linecolor": "white",
            "showbackground": true,
            "ticks": "",
            "zerolinecolor": "white"
           }
          },
          "shapedefaults": {
           "line": {
            "color": "#2a3f5f"
           }
          },
          "ternary": {
           "aaxis": {
            "gridcolor": "white",
            "linecolor": "white",
            "ticks": ""
           },
           "baxis": {
            "gridcolor": "white",
            "linecolor": "white",
            "ticks": ""
           },
           "bgcolor": "#E5ECF6",
           "caxis": {
            "gridcolor": "white",
            "linecolor": "white",
            "ticks": ""
           }
          },
          "title": {
           "x": 0.05
          },
          "xaxis": {
           "automargin": true,
           "gridcolor": "white",
           "linecolor": "white",
           "ticks": "",
           "title": {
            "standoff": 15
           },
           "zerolinecolor": "white",
           "zerolinewidth": 2
          },
          "yaxis": {
           "automargin": true,
           "gridcolor": "white",
           "linecolor": "white",
           "ticks": "",
           "title": {
            "standoff": 15
           },
           "zerolinecolor": "white",
           "zerolinewidth": 2
          }
         }
        },
        "title": {
         "text": "Bjørn Chart"
        },
        "width": 1500,
        "xaxis": {
         "gridcolor": "gray",
         "nticks": 5,
         "rangeslider": {
          "visible": false
         },
         "title": {
          "text": "Time"
         }
        },
        "yaxis": {
         "gridcolor": "gray",
         "title": {
          "text": "Mid Prices"
         }
        }
       }
      }
     },
     "metadata": {},
     "output_type": "display_data"
    },
    {
     "name": "stdout",
     "output_type": "stream",
     "text": [
      "GBP_USD 4\n"
     ]
    },
    {
     "data": {
      "application/vnd.plotly.v1+json": {
       "config": {
        "plotlyServerURL": "https://plot.ly"
       },
       "data": [
        {
         "line": {
          "shape": "spline",
          "width": 2
         },
         "name": "GAIN_C",
         "type": "scatter",
         "x": [
          "s2021-07-30 17:00",
          "s2021-08-18 05:00",
          "s2021-09-10 01:00",
          "s2021-09-21 05:00",
          "s2021-10-20 05:00",
          "s2021-11-05 05:00",
          "s2021-12-28 02:00",
          "s2022-01-31 02:00",
          "s2022-02-09 06:00",
          "s2022-02-14 10:00",
          "s2022-02-17 06:00",
          "s2022-02-25 06:00",
          "s2022-05-31 17:00",
          "s2022-06-13 21:00",
          "s2022-08-01 05:00",
          "s2022-08-22 05:00",
          "s2022-10-21 17:00",
          "s2022-12-29 10:00",
          "s2023-01-16 10:00",
          "s2023-02-08 14:00",
          "s2023-03-17 13:00",
          "s2023-05-19 13:00",
          "s2023-06-12 01:00",
          "s2023-06-12 17:00",
          "s2023-06-13 05:00",
          "s2023-08-03 13:00",
          "s2023-11-06 14:00"
         ],
         "y": [
          -146.19999999999854,
          -237.79999999999688,
          -402.0999999999963,
          -495.89999999999577,
          -823.4999999999948,
          -809.8999999999945,
          -829.7999999999939,
          -981.0999999999926,
          -1021.999999999992,
          -1098.8999999999917,
          -1329.1999999999905,
          -556.4999999999889,
          -1002.7999999999884,
          -1077.6999999999882,
          -1495.599999999988,
          -980.1999999999888,
          -227.69999999998856,
          -370.99999999998806,
          -480.1999999999885,
          -573.0999999999887,
          -283.2999999999886,
          -386.9999999999885,
          -444.4999999999877,
          -497.39999999998565,
          -343.6999999999846,
          4.600000000014575,
          4.600000000014575
         ]
        }
       ],
       "layout": {
        "font": {
         "color": "white",
         "size": 12
        },
        "height": 800,
        "margin": {
         "b": 10,
         "l": 10,
         "r": 10,
         "t": 10
        },
        "paper_bgcolor": "black",
        "plot_bgcolor": "black",
        "template": {
         "data": {
          "bar": [
           {
            "error_x": {
             "color": "#2a3f5f"
            },
            "error_y": {
             "color": "#2a3f5f"
            },
            "marker": {
             "line": {
              "color": "#E5ECF6",
              "width": 0.5
             },
             "pattern": {
              "fillmode": "overlay",
              "size": 10,
              "solidity": 0.2
             }
            },
            "type": "bar"
           }
          ],
          "barpolar": [
           {
            "marker": {
             "line": {
              "color": "#E5ECF6",
              "width": 0.5
             },
             "pattern": {
              "fillmode": "overlay",
              "size": 10,
              "solidity": 0.2
             }
            },
            "type": "barpolar"
           }
          ],
          "carpet": [
           {
            "aaxis": {
             "endlinecolor": "#2a3f5f",
             "gridcolor": "white",
             "linecolor": "white",
             "minorgridcolor": "white",
             "startlinecolor": "#2a3f5f"
            },
            "baxis": {
             "endlinecolor": "#2a3f5f",
             "gridcolor": "white",
             "linecolor": "white",
             "minorgridcolor": "white",
             "startlinecolor": "#2a3f5f"
            },
            "type": "carpet"
           }
          ],
          "choropleth": [
           {
            "colorbar": {
             "outlinewidth": 0,
             "ticks": ""
            },
            "type": "choropleth"
           }
          ],
          "contour": [
           {
            "colorbar": {
             "outlinewidth": 0,
             "ticks": ""
            },
            "colorscale": [
             [
              0,
              "#0d0887"
             ],
             [
              0.1111111111111111,
              "#46039f"
             ],
             [
              0.2222222222222222,
              "#7201a8"
             ],
             [
              0.3333333333333333,
              "#9c179e"
             ],
             [
              0.4444444444444444,
              "#bd3786"
             ],
             [
              0.5555555555555556,
              "#d8576b"
             ],
             [
              0.6666666666666666,
              "#ed7953"
             ],
             [
              0.7777777777777778,
              "#fb9f3a"
             ],
             [
              0.8888888888888888,
              "#fdca26"
             ],
             [
              1,
              "#f0f921"
             ]
            ],
            "type": "contour"
           }
          ],
          "contourcarpet": [
           {
            "colorbar": {
             "outlinewidth": 0,
             "ticks": ""
            },
            "type": "contourcarpet"
           }
          ],
          "heatmap": [
           {
            "colorbar": {
             "outlinewidth": 0,
             "ticks": ""
            },
            "colorscale": [
             [
              0,
              "#0d0887"
             ],
             [
              0.1111111111111111,
              "#46039f"
             ],
             [
              0.2222222222222222,
              "#7201a8"
             ],
             [
              0.3333333333333333,
              "#9c179e"
             ],
             [
              0.4444444444444444,
              "#bd3786"
             ],
             [
              0.5555555555555556,
              "#d8576b"
             ],
             [
              0.6666666666666666,
              "#ed7953"
             ],
             [
              0.7777777777777778,
              "#fb9f3a"
             ],
             [
              0.8888888888888888,
              "#fdca26"
             ],
             [
              1,
              "#f0f921"
             ]
            ],
            "type": "heatmap"
           }
          ],
          "heatmapgl": [
           {
            "colorbar": {
             "outlinewidth": 0,
             "ticks": ""
            },
            "colorscale": [
             [
              0,
              "#0d0887"
             ],
             [
              0.1111111111111111,
              "#46039f"
             ],
             [
              0.2222222222222222,
              "#7201a8"
             ],
             [
              0.3333333333333333,
              "#9c179e"
             ],
             [
              0.4444444444444444,
              "#bd3786"
             ],
             [
              0.5555555555555556,
              "#d8576b"
             ],
             [
              0.6666666666666666,
              "#ed7953"
             ],
             [
              0.7777777777777778,
              "#fb9f3a"
             ],
             [
              0.8888888888888888,
              "#fdca26"
             ],
             [
              1,
              "#f0f921"
             ]
            ],
            "type": "heatmapgl"
           }
          ],
          "histogram": [
           {
            "marker": {
             "pattern": {
              "fillmode": "overlay",
              "size": 10,
              "solidity": 0.2
             }
            },
            "type": "histogram"
           }
          ],
          "histogram2d": [
           {
            "colorbar": {
             "outlinewidth": 0,
             "ticks": ""
            },
            "colorscale": [
             [
              0,
              "#0d0887"
             ],
             [
              0.1111111111111111,
              "#46039f"
             ],
             [
              0.2222222222222222,
              "#7201a8"
             ],
             [
              0.3333333333333333,
              "#9c179e"
             ],
             [
              0.4444444444444444,
              "#bd3786"
             ],
             [
              0.5555555555555556,
              "#d8576b"
             ],
             [
              0.6666666666666666,
              "#ed7953"
             ],
             [
              0.7777777777777778,
              "#fb9f3a"
             ],
             [
              0.8888888888888888,
              "#fdca26"
             ],
             [
              1,
              "#f0f921"
             ]
            ],
            "type": "histogram2d"
           }
          ],
          "histogram2dcontour": [
           {
            "colorbar": {
             "outlinewidth": 0,
             "ticks": ""
            },
            "colorscale": [
             [
              0,
              "#0d0887"
             ],
             [
              0.1111111111111111,
              "#46039f"
             ],
             [
              0.2222222222222222,
              "#7201a8"
             ],
             [
              0.3333333333333333,
              "#9c179e"
             ],
             [
              0.4444444444444444,
              "#bd3786"
             ],
             [
              0.5555555555555556,
              "#d8576b"
             ],
             [
              0.6666666666666666,
              "#ed7953"
             ],
             [
              0.7777777777777778,
              "#fb9f3a"
             ],
             [
              0.8888888888888888,
              "#fdca26"
             ],
             [
              1,
              "#f0f921"
             ]
            ],
            "type": "histogram2dcontour"
           }
          ],
          "mesh3d": [
           {
            "colorbar": {
             "outlinewidth": 0,
             "ticks": ""
            },
            "type": "mesh3d"
           }
          ],
          "parcoords": [
           {
            "line": {
             "colorbar": {
              "outlinewidth": 0,
              "ticks": ""
             }
            },
            "type": "parcoords"
           }
          ],
          "pie": [
           {
            "automargin": true,
            "type": "pie"
           }
          ],
          "scatter": [
           {
            "fillpattern": {
             "fillmode": "overlay",
             "size": 10,
             "solidity": 0.2
            },
            "type": "scatter"
           }
          ],
          "scatter3d": [
           {
            "line": {
             "colorbar": {
              "outlinewidth": 0,
              "ticks": ""
             }
            },
            "marker": {
             "colorbar": {
              "outlinewidth": 0,
              "ticks": ""
             }
            },
            "type": "scatter3d"
           }
          ],
          "scattercarpet": [
           {
            "marker": {
             "colorbar": {
              "outlinewidth": 0,
              "ticks": ""
             }
            },
            "type": "scattercarpet"
           }
          ],
          "scattergeo": [
           {
            "marker": {
             "colorbar": {
              "outlinewidth": 0,
              "ticks": ""
             }
            },
            "type": "scattergeo"
           }
          ],
          "scattergl": [
           {
            "marker": {
             "colorbar": {
              "outlinewidth": 0,
              "ticks": ""
             }
            },
            "type": "scattergl"
           }
          ],
          "scattermapbox": [
           {
            "marker": {
             "colorbar": {
              "outlinewidth": 0,
              "ticks": ""
             }
            },
            "type": "scattermapbox"
           }
          ],
          "scatterpolar": [
           {
            "marker": {
             "colorbar": {
              "outlinewidth": 0,
              "ticks": ""
             }
            },
            "type": "scatterpolar"
           }
          ],
          "scatterpolargl": [
           {
            "marker": {
             "colorbar": {
              "outlinewidth": 0,
              "ticks": ""
             }
            },
            "type": "scatterpolargl"
           }
          ],
          "scatterternary": [
           {
            "marker": {
             "colorbar": {
              "outlinewidth": 0,
              "ticks": ""
             }
            },
            "type": "scatterternary"
           }
          ],
          "surface": [
           {
            "colorbar": {
             "outlinewidth": 0,
             "ticks": ""
            },
            "colorscale": [
             [
              0,
              "#0d0887"
             ],
             [
              0.1111111111111111,
              "#46039f"
             ],
             [
              0.2222222222222222,
              "#7201a8"
             ],
             [
              0.3333333333333333,
              "#9c179e"
             ],
             [
              0.4444444444444444,
              "#bd3786"
             ],
             [
              0.5555555555555556,
              "#d8576b"
             ],
             [
              0.6666666666666666,
              "#ed7953"
             ],
             [
              0.7777777777777778,
              "#fb9f3a"
             ],
             [
              0.8888888888888888,
              "#fdca26"
             ],
             [
              1,
              "#f0f921"
             ]
            ],
            "type": "surface"
           }
          ],
          "table": [
           {
            "cells": {
             "fill": {
              "color": "#EBF0F8"
             },
             "line": {
              "color": "white"
             }
            },
            "header": {
             "fill": {
              "color": "#C8D4E3"
             },
             "line": {
              "color": "white"
             }
            },
            "type": "table"
           }
          ]
         },
         "layout": {
          "annotationdefaults": {
           "arrowcolor": "#2a3f5f",
           "arrowhead": 0,
           "arrowwidth": 1
          },
          "autotypenumbers": "strict",
          "coloraxis": {
           "colorbar": {
            "outlinewidth": 0,
            "ticks": ""
           }
          },
          "colorscale": {
           "diverging": [
            [
             0,
             "#8e0152"
            ],
            [
             0.1,
             "#c51b7d"
            ],
            [
             0.2,
             "#de77ae"
            ],
            [
             0.3,
             "#f1b6da"
            ],
            [
             0.4,
             "#fde0ef"
            ],
            [
             0.5,
             "#f7f7f7"
            ],
            [
             0.6,
             "#e6f5d0"
            ],
            [
             0.7,
             "#b8e186"
            ],
            [
             0.8,
             "#7fbc41"
            ],
            [
             0.9,
             "#4d9221"
            ],
            [
             1,
             "#276419"
            ]
           ],
           "sequential": [
            [
             0,
             "#0d0887"
            ],
            [
             0.1111111111111111,
             "#46039f"
            ],
            [
             0.2222222222222222,
             "#7201a8"
            ],
            [
             0.3333333333333333,
             "#9c179e"
            ],
            [
             0.4444444444444444,
             "#bd3786"
            ],
            [
             0.5555555555555556,
             "#d8576b"
            ],
            [
             0.6666666666666666,
             "#ed7953"
            ],
            [
             0.7777777777777778,
             "#fb9f3a"
            ],
            [
             0.8888888888888888,
             "#fdca26"
            ],
            [
             1,
             "#f0f921"
            ]
           ],
           "sequentialminus": [
            [
             0,
             "#0d0887"
            ],
            [
             0.1111111111111111,
             "#46039f"
            ],
            [
             0.2222222222222222,
             "#7201a8"
            ],
            [
             0.3333333333333333,
             "#9c179e"
            ],
            [
             0.4444444444444444,
             "#bd3786"
            ],
            [
             0.5555555555555556,
             "#d8576b"
            ],
            [
             0.6666666666666666,
             "#ed7953"
            ],
            [
             0.7777777777777778,
             "#fb9f3a"
            ],
            [
             0.8888888888888888,
             "#fdca26"
            ],
            [
             1,
             "#f0f921"
            ]
           ]
          },
          "colorway": [
           "#636efa",
           "#EF553B",
           "#00cc96",
           "#ab63fa",
           "#FFA15A",
           "#19d3f3",
           "#FF6692",
           "#B6E880",
           "#FF97FF",
           "#FECB52"
          ],
          "font": {
           "color": "#2a3f5f"
          },
          "geo": {
           "bgcolor": "white",
           "lakecolor": "white",
           "landcolor": "#E5ECF6",
           "showlakes": true,
           "showland": true,
           "subunitcolor": "white"
          },
          "hoverlabel": {
           "align": "left"
          },
          "hovermode": "closest",
          "mapbox": {
           "style": "light"
          },
          "paper_bgcolor": "white",
          "plot_bgcolor": "#E5ECF6",
          "polar": {
           "angularaxis": {
            "gridcolor": "white",
            "linecolor": "white",
            "ticks": ""
           },
           "bgcolor": "#E5ECF6",
           "radialaxis": {
            "gridcolor": "white",
            "linecolor": "white",
            "ticks": ""
           }
          },
          "scene": {
           "xaxis": {
            "backgroundcolor": "#E5ECF6",
            "gridcolor": "white",
            "gridwidth": 2,
            "linecolor": "white",
            "showbackground": true,
            "ticks": "",
            "zerolinecolor": "white"
           },
           "yaxis": {
            "backgroundcolor": "#E5ECF6",
            "gridcolor": "white",
            "gridwidth": 2,
            "linecolor": "white",
            "showbackground": true,
            "ticks": "",
            "zerolinecolor": "white"
           },
           "zaxis": {
            "backgroundcolor": "#E5ECF6",
            "gridcolor": "white",
            "gridwidth": 2,
            "linecolor": "white",
            "showbackground": true,
            "ticks": "",
            "zerolinecolor": "white"
           }
          },
          "shapedefaults": {
           "line": {
            "color": "#2a3f5f"
           }
          },
          "ternary": {
           "aaxis": {
            "gridcolor": "white",
            "linecolor": "white",
            "ticks": ""
           },
           "baxis": {
            "gridcolor": "white",
            "linecolor": "white",
            "ticks": ""
           },
           "bgcolor": "#E5ECF6",
           "caxis": {
            "gridcolor": "white",
            "linecolor": "white",
            "ticks": ""
           }
          },
          "title": {
           "x": 0.05
          },
          "xaxis": {
           "automargin": true,
           "gridcolor": "white",
           "linecolor": "white",
           "ticks": "",
           "title": {
            "standoff": 15
           },
           "zerolinecolor": "white",
           "zerolinewidth": 2
          },
          "yaxis": {
           "automargin": true,
           "gridcolor": "white",
           "linecolor": "white",
           "ticks": "",
           "title": {
            "standoff": 15
           },
           "zerolinecolor": "white",
           "zerolinewidth": 2
          }
         }
        },
        "title": {
         "text": "Bjørn Chart"
        },
        "width": 1500,
        "xaxis": {
         "gridcolor": "gray",
         "nticks": 5,
         "rangeslider": {
          "visible": false
         },
         "title": {
          "text": "Time"
         }
        },
        "yaxis": {
         "gridcolor": "gray",
         "title": {
          "text": "Mid Prices"
         }
        }
       }
      }
     },
     "metadata": {},
     "output_type": "display_data"
    }
   ],
   "source": [
    "for curr in df_MA_40_MA_200[df_MA_40_MA_200.total_gain > 0].pair.unique():\n",
    "    temp_gain = df_ma_trades_h4[(df_ma_trades_h4.cross == cross) & (df_ma_trades_h4.pair == curr)].copy()\n",
    "    print(curr, int(temp_gain.GAIN.sum()))\n",
    "    cp = CandlePlot(temp_gain, candles=False)\n",
    "    cp.show_plot(line_traces=['GAIN_C'])"
   ]
  },
  {
   "cell_type": "code",
   "execution_count": null,
   "metadata": {},
   "outputs": [],
   "source": []
  },
  {
   "cell_type": "code",
   "execution_count": null,
   "metadata": {},
   "outputs": [],
   "source": []
  },
  {
   "cell_type": "code",
   "execution_count": null,
   "metadata": {},
   "outputs": [],
   "source": []
  },
  {
   "cell_type": "code",
   "execution_count": null,
   "metadata": {},
   "outputs": [],
   "source": []
  },
  {
   "cell_type": "code",
   "execution_count": null,
   "metadata": {},
   "outputs": [],
   "source": []
  },
  {
   "cell_type": "code",
   "execution_count": null,
   "metadata": {},
   "outputs": [],
   "source": []
  },
  {
   "cell_type": "code",
   "execution_count": null,
   "metadata": {},
   "outputs": [],
   "source": []
  },
  {
   "cell_type": "code",
   "execution_count": null,
   "metadata": {},
   "outputs": [],
   "source": []
  }
 ],
 "metadata": {
  "kernelspec": {
   "display_name": ".venv",
   "language": "python",
   "name": "python3"
  },
  "language_info": {
   "codemirror_mode": {
    "name": "ipython",
    "version": 3
   },
   "file_extension": ".py",
   "mimetype": "text/x-python",
   "name": "python",
   "nbconvert_exporter": "python",
   "pygments_lexer": "ipython3",
   "version": "3.12.0"
  }
 },
 "nbformat": 4,
 "nbformat_minor": 2
}
