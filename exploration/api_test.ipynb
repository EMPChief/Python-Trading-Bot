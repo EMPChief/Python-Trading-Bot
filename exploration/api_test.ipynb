{
 "cells": [
  {
   "cell_type": "code",
   "execution_count": 550,
   "metadata": {},
   "outputs": [],
   "source": [
    "import requests\n",
    "import pandas as pd\n",
    "import json\n",
    "from dateutil import parser\n"
   ]
  },
  {
   "cell_type": "code",
   "execution_count": 551,
   "metadata": {},
   "outputs": [],
   "source": [
    "API_KEY = \"a2faf0838c2aacce44be67cea8b40c06-48d69bac26199a4d5850294881134c34\"\n",
    "ACCOUNT_ID = \"101-004-21509763-001\"\n",
    "OANDA_URL = \"https://api-fxpractice.oanda.com/v3\""
   ]
  },
  {
   "cell_type": "code",
   "execution_count": 552,
   "metadata": {},
   "outputs": [],
   "source": [
    "session = requests.Session()"
   ]
  },
  {
   "cell_type": "code",
   "execution_count": 553,
   "metadata": {},
   "outputs": [],
   "source": [
    "session.headers.update({\n",
    "    'Content-Type': 'application/json',\n",
    "    'Authorization': f'Bearer {API_KEY}'\n",
    "})"
   ]
  },
  {
   "cell_type": "code",
   "execution_count": 554,
   "metadata": {},
   "outputs": [],
   "source": [
    "params = dict(\n",
    "    count = 10,\n",
    "    granularity = \"H1\"\n",
    ")"
   ]
  },
  {
   "cell_type": "code",
   "execution_count": 555,
   "metadata": {},
   "outputs": [],
   "source": [
    "url = f\"{OANDA_URL}/accounts/{ACCOUNT_ID}/instruments\""
   ]
  },
  {
   "cell_type": "code",
   "execution_count": 556,
   "metadata": {},
   "outputs": [],
   "source": [
    "response = session.get(url, params=None, data=None, headers=None)"
   ]
  },
  {
   "cell_type": "code",
   "execution_count": 557,
   "metadata": {},
   "outputs": [
    {
     "data": {
      "text/plain": [
       "200"
      ]
     },
     "execution_count": 557,
     "metadata": {},
     "output_type": "execute_result"
    }
   ],
   "source": [
    "response.status_code"
   ]
  },
  {
   "cell_type": "code",
   "execution_count": 558,
   "metadata": {},
   "outputs": [],
   "source": [
    "data = response.json()"
   ]
  },
  {
   "cell_type": "code",
   "execution_count": 559,
   "metadata": {},
   "outputs": [
    {
     "data": {
      "text/plain": [
       "dict_keys(['instruments', 'lastTransactionID'])"
      ]
     },
     "execution_count": 559,
     "metadata": {},
     "output_type": "execute_result"
    }
   ],
   "source": [
    "data.keys()"
   ]
  },
  {
   "cell_type": "code",
   "execution_count": 560,
   "metadata": {},
   "outputs": [],
   "source": [
    "instruments_list = data[\"instruments\"]"
   ]
  },
  {
   "cell_type": "code",
   "execution_count": 561,
   "metadata": {},
   "outputs": [
    {
     "data": {
      "text/plain": [
       "123"
      ]
     },
     "execution_count": 561,
     "metadata": {},
     "output_type": "execute_result"
    }
   ],
   "source": [
    "len(instruments_list)"
   ]
  },
  {
   "cell_type": "code",
   "execution_count": 562,
   "metadata": {},
   "outputs": [
    {
     "data": {
      "text/plain": [
       "dict_keys(['name', 'type', 'displayName', 'pipLocation', 'displayPrecision', 'tradeUnitsPrecision', 'minimumTradeSize', 'maximumTrailingStopDistance', 'minimumTrailingStopDistance', 'maximumPositionSize', 'maximumOrderUnits', 'marginRate', 'guaranteedStopLossOrderMode', 'tags', 'financing'])"
      ]
     },
     "execution_count": 562,
     "metadata": {},
     "output_type": "execute_result"
    }
   ],
   "source": [
    "instruments_list[1].keys()"
   ]
  },
  {
   "cell_type": "code",
   "execution_count": 563,
   "metadata": {},
   "outputs": [],
   "source": [
    "key_i = ['name', 'type', 'displayName', 'pipLocation', 'displayPrecision', 'tradeUnitsPrecision', 'marginRate']"
   ]
  },
  {
   "cell_type": "code",
   "execution_count": 564,
   "metadata": {},
   "outputs": [],
   "source": [
    "instruments_dict = {}\n",
    "for i in instruments_list:\n",
    "    key = i['name']\n",
    "    instruments_dict[key] = {k: i[k] for k in key_i }"
   ]
  },
  {
   "cell_type": "code",
   "execution_count": 565,
   "metadata": {},
   "outputs": [
    {
     "data": {
      "text/plain": [
       "{'name': 'AU200_AUD',\n",
       " 'type': 'CFD',\n",
       " 'displayName': 'Australia 200',\n",
       " 'pipLocation': 0,\n",
       " 'displayPrecision': 1,\n",
       " 'tradeUnitsPrecision': 1,\n",
       " 'marginRate': '0.05'}"
      ]
     },
     "execution_count": 565,
     "metadata": {},
     "output_type": "execute_result"
    }
   ],
   "source": [
    "instruments_dict['AU200_AUD']"
   ]
  },
  {
   "cell_type": "code",
   "execution_count": 566,
   "metadata": {},
   "outputs": [],
   "source": [
    "with open(\"../data/instruments.json\", \"w\") as f:\n",
    "    f.write(json.dumps(instruments_dict, indent=2))"
   ]
  },
  {
   "cell_type": "code",
   "execution_count": 567,
   "metadata": {},
   "outputs": [],
   "source": [
    "def fetch_candles(pair_name, count=10, granularity=\"H1\"):\n",
    "    url = f\"{OANDA_URL}/instruments/{pair_name}/candles\"\n",
    "    params = dict(\n",
    "        count = count,\n",
    "        granularity = granularity,\n",
    "        price = \"MBA\"\n",
    "    )\n",
    "    response = session.get(url, params=params, data=None, headers=None)\n",
    "    data = response.json()\n",
    "    if response.status_code == 200:\n",
    "        if 'candles' not in data:\n",
    "            data = []\n",
    "        else:\n",
    "            data = data['candles']\n",
    "    return response.status_code, data\n",
    "    "
   ]
  },
  {
   "cell_type": "code",
   "execution_count": 568,
   "metadata": {},
   "outputs": [],
   "source": [
    "\n",
    "def get_candles_df(data):\n",
    "    if len(data) == 0:\n",
    "        return pd.DataFrame()\n",
    "    final_data = []\n",
    "    for candle in data:\n",
    "        if candle['complete'] == False:\n",
    "            continue\n",
    "        new_dict = {}\n",
    "        new_dict['time'] = parser.parse(candle['time'])\n",
    "        new_dict['volume'] = candle['volume']\n",
    "        prices = ['mid', 'bid', 'ask']\n",
    "        ohlc = ['o', 'h', 'l', 'c']\n",
    "        for p in prices:\n",
    "            for o in ohlc:\n",
    "                new_dict[f\"{p}_{o}\"] = float(candle[p][o])\n",
    "            \n",
    "        final_data.append(new_dict)\n",
    "    df = pd.DataFrame(final_data)\n",
    "    return df\n"
   ]
  },
  {
   "cell_type": "code",
   "execution_count": 569,
   "metadata": {},
   "outputs": [],
   "source": [
    "code, data = fetch_candles('EUR_USD', count=20, granularity=\"H4\")"
   ]
  },
  {
   "cell_type": "code",
   "execution_count": 570,
   "metadata": {},
   "outputs": [
    {
     "data": {
      "text/plain": [
       "200"
      ]
     },
     "execution_count": 570,
     "metadata": {},
     "output_type": "execute_result"
    }
   ],
   "source": [
    "code"
   ]
  },
  {
   "cell_type": "code",
   "execution_count": 571,
   "metadata": {},
   "outputs": [
    {
     "data": {
      "text/plain": [
       "{'complete': True,\n",
       " 'volume': 30806,\n",
       " 'time': '2023-10-31T13:00:00.000000000Z',\n",
       " 'bid': {'o': '1.06233', 'h': '1.06251', 'l': '1.05567', 'c': '1.05668'},\n",
       " 'mid': {'o': '1.06240', 'h': '1.06258', 'l': '1.05574', 'c': '1.05676'},\n",
       " 'ask': {'o': '1.06248', 'h': '1.06265', 'l': '1.05582', 'c': '1.05684'}}"
      ]
     },
     "execution_count": 571,
     "metadata": {},
     "output_type": "execute_result"
    }
   ],
   "source": [
    "data[0]"
   ]
  },
  {
   "cell_type": "code",
   "execution_count": 572,
   "metadata": {},
   "outputs": [
    {
     "name": "stdout",
     "output_type": "stream",
     "text": [
      "mid_o\n",
      "mid_h\n",
      "mid_l\n",
      "mid_c\n",
      "bid_o\n",
      "bid_h\n",
      "bid_l\n",
      "bid_c\n",
      "ask_o\n",
      "ask_h\n",
      "ask_l\n",
      "ask_c\n"
     ]
    }
   ],
   "source": [
    "prices = ['mid', 'bid', 'ask']\n",
    "ohlc = ['o', 'h', 'l', 'c']\n",
    "for p in prices:\n",
    "    for o in ohlc:\n",
    "        print(f\"{p}_{o}\")"
   ]
  },
  {
   "cell_type": "code",
   "execution_count": null,
   "metadata": {},
   "outputs": [],
   "source": []
  },
  {
   "cell_type": "code",
   "execution_count": 573,
   "metadata": {},
   "outputs": [
    {
     "data": {
      "text/html": [
       "<div>\n",
       "<style scoped>\n",
       "    .dataframe tbody tr th:only-of-type {\n",
       "        vertical-align: middle;\n",
       "    }\n",
       "\n",
       "    .dataframe tbody tr th {\n",
       "        vertical-align: top;\n",
       "    }\n",
       "\n",
       "    .dataframe thead th {\n",
       "        text-align: right;\n",
       "    }\n",
       "</style>\n",
       "<table border=\"1\" class=\"dataframe\">\n",
       "  <thead>\n",
       "    <tr style=\"text-align: right;\">\n",
       "      <th></th>\n",
       "      <th>time</th>\n",
       "      <th>volume</th>\n",
       "      <th>mid_o</th>\n",
       "      <th>mid_h</th>\n",
       "      <th>mid_l</th>\n",
       "      <th>mid_c</th>\n",
       "      <th>bid_o</th>\n",
       "      <th>bid_h</th>\n",
       "      <th>bid_l</th>\n",
       "      <th>bid_c</th>\n",
       "      <th>ask_o</th>\n",
       "      <th>ask_h</th>\n",
       "      <th>ask_l</th>\n",
       "      <th>ask_c</th>\n",
       "    </tr>\n",
       "  </thead>\n",
       "  <tbody>\n",
       "    <tr>\n",
       "      <th>0</th>\n",
       "      <td>2023-10-31 13:00:00+00:00</td>\n",
       "      <td>30806</td>\n",
       "      <td>1.06240</td>\n",
       "      <td>1.06258</td>\n",
       "      <td>1.05574</td>\n",
       "      <td>1.05676</td>\n",
       "      <td>1.06233</td>\n",
       "      <td>1.06251</td>\n",
       "      <td>1.05567</td>\n",
       "      <td>1.05668</td>\n",
       "      <td>1.06248</td>\n",
       "      <td>1.06265</td>\n",
       "      <td>1.05582</td>\n",
       "      <td>1.05684</td>\n",
       "    </tr>\n",
       "    <tr>\n",
       "      <th>1</th>\n",
       "      <td>2023-10-31 17:00:00+00:00</td>\n",
       "      <td>11925</td>\n",
       "      <td>1.05675</td>\n",
       "      <td>1.05858</td>\n",
       "      <td>1.05660</td>\n",
       "      <td>1.05744</td>\n",
       "      <td>1.05668</td>\n",
       "      <td>1.05851</td>\n",
       "      <td>1.05652</td>\n",
       "      <td>1.05735</td>\n",
       "      <td>1.05682</td>\n",
       "      <td>1.05867</td>\n",
       "      <td>1.05668</td>\n",
       "      <td>1.05754</td>\n",
       "    </tr>\n",
       "    <tr>\n",
       "      <th>2</th>\n",
       "      <td>2023-10-31 21:00:00+00:00</td>\n",
       "      <td>4868</td>\n",
       "      <td>1.05743</td>\n",
       "      <td>1.05806</td>\n",
       "      <td>1.05687</td>\n",
       "      <td>1.05735</td>\n",
       "      <td>1.05709</td>\n",
       "      <td>1.05799</td>\n",
       "      <td>1.05680</td>\n",
       "      <td>1.05727</td>\n",
       "      <td>1.05777</td>\n",
       "      <td>1.05814</td>\n",
       "      <td>1.05694</td>\n",
       "      <td>1.05743</td>\n",
       "    </tr>\n",
       "    <tr>\n",
       "      <th>3</th>\n",
       "      <td>2023-11-01 01:00:00+00:00</td>\n",
       "      <td>8027</td>\n",
       "      <td>1.05732</td>\n",
       "      <td>1.05766</td>\n",
       "      <td>1.05660</td>\n",
       "      <td>1.05672</td>\n",
       "      <td>1.05725</td>\n",
       "      <td>1.05758</td>\n",
       "      <td>1.05652</td>\n",
       "      <td>1.05665</td>\n",
       "      <td>1.05740</td>\n",
       "      <td>1.05774</td>\n",
       "      <td>1.05668</td>\n",
       "      <td>1.05680</td>\n",
       "    </tr>\n",
       "    <tr>\n",
       "      <th>4</th>\n",
       "      <td>2023-11-01 05:00:00+00:00</td>\n",
       "      <td>11230</td>\n",
       "      <td>1.05672</td>\n",
       "      <td>1.05776</td>\n",
       "      <td>1.05571</td>\n",
       "      <td>1.05583</td>\n",
       "      <td>1.05665</td>\n",
       "      <td>1.05768</td>\n",
       "      <td>1.05564</td>\n",
       "      <td>1.05575</td>\n",
       "      <td>1.05679</td>\n",
       "      <td>1.05785</td>\n",
       "      <td>1.05578</td>\n",
       "      <td>1.05591</td>\n",
       "    </tr>\n",
       "    <tr>\n",
       "      <th>5</th>\n",
       "      <td>2023-11-01 09:00:00+00:00</td>\n",
       "      <td>17876</td>\n",
       "      <td>1.05583</td>\n",
       "      <td>1.05628</td>\n",
       "      <td>1.05369</td>\n",
       "      <td>1.05386</td>\n",
       "      <td>1.05576</td>\n",
       "      <td>1.05621</td>\n",
       "      <td>1.05361</td>\n",
       "      <td>1.05379</td>\n",
       "      <td>1.05590</td>\n",
       "      <td>1.05636</td>\n",
       "      <td>1.05377</td>\n",
       "      <td>1.05394</td>\n",
       "    </tr>\n",
       "    <tr>\n",
       "      <th>6</th>\n",
       "      <td>2023-11-01 13:00:00+00:00</td>\n",
       "      <td>28535</td>\n",
       "      <td>1.05385</td>\n",
       "      <td>1.05710</td>\n",
       "      <td>1.05214</td>\n",
       "      <td>1.05338</td>\n",
       "      <td>1.05377</td>\n",
       "      <td>1.05702</td>\n",
       "      <td>1.05206</td>\n",
       "      <td>1.05331</td>\n",
       "      <td>1.05393</td>\n",
       "      <td>1.05717</td>\n",
       "      <td>1.05222</td>\n",
       "      <td>1.05346</td>\n",
       "    </tr>\n",
       "    <tr>\n",
       "      <th>7</th>\n",
       "      <td>2023-11-01 17:00:00+00:00</td>\n",
       "      <td>34099</td>\n",
       "      <td>1.05339</td>\n",
       "      <td>1.05759</td>\n",
       "      <td>1.05166</td>\n",
       "      <td>1.05690</td>\n",
       "      <td>1.05332</td>\n",
       "      <td>1.05752</td>\n",
       "      <td>1.05158</td>\n",
       "      <td>1.05682</td>\n",
       "      <td>1.05346</td>\n",
       "      <td>1.05766</td>\n",
       "      <td>1.05174</td>\n",
       "      <td>1.05699</td>\n",
       "    </tr>\n",
       "    <tr>\n",
       "      <th>8</th>\n",
       "      <td>2023-11-01 21:00:00+00:00</td>\n",
       "      <td>6414</td>\n",
       "      <td>1.05704</td>\n",
       "      <td>1.06021</td>\n",
       "      <td>1.05670</td>\n",
       "      <td>1.06020</td>\n",
       "      <td>1.05654</td>\n",
       "      <td>1.06014</td>\n",
       "      <td>1.05636</td>\n",
       "      <td>1.06013</td>\n",
       "      <td>1.05754</td>\n",
       "      <td>1.06028</td>\n",
       "      <td>1.05696</td>\n",
       "      <td>1.06027</td>\n",
       "    </tr>\n",
       "    <tr>\n",
       "      <th>9</th>\n",
       "      <td>2023-11-02 01:00:00+00:00</td>\n",
       "      <td>7694</td>\n",
       "      <td>1.06019</td>\n",
       "      <td>1.06023</td>\n",
       "      <td>1.05933</td>\n",
       "      <td>1.05962</td>\n",
       "      <td>1.06011</td>\n",
       "      <td>1.06016</td>\n",
       "      <td>1.05926</td>\n",
       "      <td>1.05954</td>\n",
       "      <td>1.06027</td>\n",
       "      <td>1.06030</td>\n",
       "      <td>1.05940</td>\n",
       "      <td>1.05969</td>\n",
       "    </tr>\n",
       "    <tr>\n",
       "      <th>10</th>\n",
       "      <td>2023-11-02 05:00:00+00:00</td>\n",
       "      <td>13942</td>\n",
       "      <td>1.05960</td>\n",
       "      <td>1.06102</td>\n",
       "      <td>1.05912</td>\n",
       "      <td>1.06004</td>\n",
       "      <td>1.05953</td>\n",
       "      <td>1.06095</td>\n",
       "      <td>1.05904</td>\n",
       "      <td>1.05997</td>\n",
       "      <td>1.05967</td>\n",
       "      <td>1.06109</td>\n",
       "      <td>1.05919</td>\n",
       "      <td>1.06012</td>\n",
       "    </tr>\n",
       "    <tr>\n",
       "      <th>11</th>\n",
       "      <td>2023-11-02 09:00:00+00:00</td>\n",
       "      <td>21859</td>\n",
       "      <td>1.06008</td>\n",
       "      <td>1.06678</td>\n",
       "      <td>1.05990</td>\n",
       "      <td>1.06644</td>\n",
       "      <td>1.06000</td>\n",
       "      <td>1.06670</td>\n",
       "      <td>1.05982</td>\n",
       "      <td>1.06636</td>\n",
       "      <td>1.06015</td>\n",
       "      <td>1.06686</td>\n",
       "      <td>1.05997</td>\n",
       "      <td>1.06651</td>\n",
       "    </tr>\n",
       "    <tr>\n",
       "      <th>12</th>\n",
       "      <td>2023-11-02 13:00:00+00:00</td>\n",
       "      <td>27002</td>\n",
       "      <td>1.06640</td>\n",
       "      <td>1.06670</td>\n",
       "      <td>1.06106</td>\n",
       "      <td>1.06155</td>\n",
       "      <td>1.06633</td>\n",
       "      <td>1.06663</td>\n",
       "      <td>1.06098</td>\n",
       "      <td>1.06147</td>\n",
       "      <td>1.06648</td>\n",
       "      <td>1.06677</td>\n",
       "      <td>1.06113</td>\n",
       "      <td>1.06163</td>\n",
       "    </tr>\n",
       "    <tr>\n",
       "      <th>13</th>\n",
       "      <td>2023-11-02 17:00:00+00:00</td>\n",
       "      <td>10667</td>\n",
       "      <td>1.06156</td>\n",
       "      <td>1.06326</td>\n",
       "      <td>1.06140</td>\n",
       "      <td>1.06224</td>\n",
       "      <td>1.06148</td>\n",
       "      <td>1.06319</td>\n",
       "      <td>1.06131</td>\n",
       "      <td>1.06216</td>\n",
       "      <td>1.06163</td>\n",
       "      <td>1.06334</td>\n",
       "      <td>1.06147</td>\n",
       "      <td>1.06233</td>\n",
       "    </tr>\n",
       "    <tr>\n",
       "      <th>14</th>\n",
       "      <td>2023-11-02 21:00:00+00:00</td>\n",
       "      <td>5049</td>\n",
       "      <td>1.06197</td>\n",
       "      <td>1.06254</td>\n",
       "      <td>1.06149</td>\n",
       "      <td>1.06180</td>\n",
       "      <td>1.06165</td>\n",
       "      <td>1.06241</td>\n",
       "      <td>1.06141</td>\n",
       "      <td>1.06173</td>\n",
       "      <td>1.06229</td>\n",
       "      <td>1.06267</td>\n",
       "      <td>1.06157</td>\n",
       "      <td>1.06188</td>\n",
       "    </tr>\n",
       "    <tr>\n",
       "      <th>15</th>\n",
       "      <td>2023-11-03 01:00:00+00:00</td>\n",
       "      <td>6153</td>\n",
       "      <td>1.06181</td>\n",
       "      <td>1.06290</td>\n",
       "      <td>1.06149</td>\n",
       "      <td>1.06264</td>\n",
       "      <td>1.06173</td>\n",
       "      <td>1.06282</td>\n",
       "      <td>1.06141</td>\n",
       "      <td>1.06257</td>\n",
       "      <td>1.06189</td>\n",
       "      <td>1.06298</td>\n",
       "      <td>1.06156</td>\n",
       "      <td>1.06272</td>\n",
       "    </tr>\n",
       "    <tr>\n",
       "      <th>16</th>\n",
       "      <td>2023-11-03 05:00:00+00:00</td>\n",
       "      <td>9995</td>\n",
       "      <td>1.06264</td>\n",
       "      <td>1.06340</td>\n",
       "      <td>1.06197</td>\n",
       "      <td>1.06272</td>\n",
       "      <td>1.06256</td>\n",
       "      <td>1.06333</td>\n",
       "      <td>1.06190</td>\n",
       "      <td>1.06265</td>\n",
       "      <td>1.06272</td>\n",
       "      <td>1.06348</td>\n",
       "      <td>1.06204</td>\n",
       "      <td>1.06280</td>\n",
       "    </tr>\n",
       "    <tr>\n",
       "      <th>17</th>\n",
       "      <td>2023-11-03 09:00:00+00:00</td>\n",
       "      <td>21512</td>\n",
       "      <td>1.06271</td>\n",
       "      <td>1.07194</td>\n",
       "      <td>1.06243</td>\n",
       "      <td>1.07094</td>\n",
       "      <td>1.06263</td>\n",
       "      <td>1.07187</td>\n",
       "      <td>1.06235</td>\n",
       "      <td>1.07087</td>\n",
       "      <td>1.06279</td>\n",
       "      <td>1.07202</td>\n",
       "      <td>1.06251</td>\n",
       "      <td>1.07102</td>\n",
       "    </tr>\n",
       "    <tr>\n",
       "      <th>18</th>\n",
       "      <td>2023-11-03 13:00:00+00:00</td>\n",
       "      <td>38457</td>\n",
       "      <td>1.07095</td>\n",
       "      <td>1.07394</td>\n",
       "      <td>1.06936</td>\n",
       "      <td>1.07394</td>\n",
       "      <td>1.07088</td>\n",
       "      <td>1.07387</td>\n",
       "      <td>1.06928</td>\n",
       "      <td>1.07386</td>\n",
       "      <td>1.07102</td>\n",
       "      <td>1.07402</td>\n",
       "      <td>1.06943</td>\n",
       "      <td>1.07402</td>\n",
       "    </tr>\n",
       "    <tr>\n",
       "      <th>19</th>\n",
       "      <td>2023-11-03 17:00:00+00:00</td>\n",
       "      <td>11059</td>\n",
       "      <td>1.07394</td>\n",
       "      <td>1.07469</td>\n",
       "      <td>1.07224</td>\n",
       "      <td>1.07286</td>\n",
       "      <td>1.07386</td>\n",
       "      <td>1.07461</td>\n",
       "      <td>1.07206</td>\n",
       "      <td>1.07269</td>\n",
       "      <td>1.07401</td>\n",
       "      <td>1.07477</td>\n",
       "      <td>1.07232</td>\n",
       "      <td>1.07303</td>\n",
       "    </tr>\n",
       "  </tbody>\n",
       "</table>\n",
       "</div>"
      ],
      "text/plain": [
       "                        time  volume    mid_o    mid_h    mid_l    mid_c  \\\n",
       "0  2023-10-31 13:00:00+00:00   30806  1.06240  1.06258  1.05574  1.05676   \n",
       "1  2023-10-31 17:00:00+00:00   11925  1.05675  1.05858  1.05660  1.05744   \n",
       "2  2023-10-31 21:00:00+00:00    4868  1.05743  1.05806  1.05687  1.05735   \n",
       "3  2023-11-01 01:00:00+00:00    8027  1.05732  1.05766  1.05660  1.05672   \n",
       "4  2023-11-01 05:00:00+00:00   11230  1.05672  1.05776  1.05571  1.05583   \n",
       "5  2023-11-01 09:00:00+00:00   17876  1.05583  1.05628  1.05369  1.05386   \n",
       "6  2023-11-01 13:00:00+00:00   28535  1.05385  1.05710  1.05214  1.05338   \n",
       "7  2023-11-01 17:00:00+00:00   34099  1.05339  1.05759  1.05166  1.05690   \n",
       "8  2023-11-01 21:00:00+00:00    6414  1.05704  1.06021  1.05670  1.06020   \n",
       "9  2023-11-02 01:00:00+00:00    7694  1.06019  1.06023  1.05933  1.05962   \n",
       "10 2023-11-02 05:00:00+00:00   13942  1.05960  1.06102  1.05912  1.06004   \n",
       "11 2023-11-02 09:00:00+00:00   21859  1.06008  1.06678  1.05990  1.06644   \n",
       "12 2023-11-02 13:00:00+00:00   27002  1.06640  1.06670  1.06106  1.06155   \n",
       "13 2023-11-02 17:00:00+00:00   10667  1.06156  1.06326  1.06140  1.06224   \n",
       "14 2023-11-02 21:00:00+00:00    5049  1.06197  1.06254  1.06149  1.06180   \n",
       "15 2023-11-03 01:00:00+00:00    6153  1.06181  1.06290  1.06149  1.06264   \n",
       "16 2023-11-03 05:00:00+00:00    9995  1.06264  1.06340  1.06197  1.06272   \n",
       "17 2023-11-03 09:00:00+00:00   21512  1.06271  1.07194  1.06243  1.07094   \n",
       "18 2023-11-03 13:00:00+00:00   38457  1.07095  1.07394  1.06936  1.07394   \n",
       "19 2023-11-03 17:00:00+00:00   11059  1.07394  1.07469  1.07224  1.07286   \n",
       "\n",
       "      bid_o    bid_h    bid_l    bid_c    ask_o    ask_h    ask_l    ask_c  \n",
       "0   1.06233  1.06251  1.05567  1.05668  1.06248  1.06265  1.05582  1.05684  \n",
       "1   1.05668  1.05851  1.05652  1.05735  1.05682  1.05867  1.05668  1.05754  \n",
       "2   1.05709  1.05799  1.05680  1.05727  1.05777  1.05814  1.05694  1.05743  \n",
       "3   1.05725  1.05758  1.05652  1.05665  1.05740  1.05774  1.05668  1.05680  \n",
       "4   1.05665  1.05768  1.05564  1.05575  1.05679  1.05785  1.05578  1.05591  \n",
       "5   1.05576  1.05621  1.05361  1.05379  1.05590  1.05636  1.05377  1.05394  \n",
       "6   1.05377  1.05702  1.05206  1.05331  1.05393  1.05717  1.05222  1.05346  \n",
       "7   1.05332  1.05752  1.05158  1.05682  1.05346  1.05766  1.05174  1.05699  \n",
       "8   1.05654  1.06014  1.05636  1.06013  1.05754  1.06028  1.05696  1.06027  \n",
       "9   1.06011  1.06016  1.05926  1.05954  1.06027  1.06030  1.05940  1.05969  \n",
       "10  1.05953  1.06095  1.05904  1.05997  1.05967  1.06109  1.05919  1.06012  \n",
       "11  1.06000  1.06670  1.05982  1.06636  1.06015  1.06686  1.05997  1.06651  \n",
       "12  1.06633  1.06663  1.06098  1.06147  1.06648  1.06677  1.06113  1.06163  \n",
       "13  1.06148  1.06319  1.06131  1.06216  1.06163  1.06334  1.06147  1.06233  \n",
       "14  1.06165  1.06241  1.06141  1.06173  1.06229  1.06267  1.06157  1.06188  \n",
       "15  1.06173  1.06282  1.06141  1.06257  1.06189  1.06298  1.06156  1.06272  \n",
       "16  1.06256  1.06333  1.06190  1.06265  1.06272  1.06348  1.06204  1.06280  \n",
       "17  1.06263  1.07187  1.06235  1.07087  1.06279  1.07202  1.06251  1.07102  \n",
       "18  1.07088  1.07387  1.06928  1.07386  1.07102  1.07402  1.06943  1.07402  \n",
       "19  1.07386  1.07461  1.07206  1.07269  1.07401  1.07477  1.07232  1.07303  "
      ]
     },
     "execution_count": 573,
     "metadata": {},
     "output_type": "execute_result"
    }
   ],
   "source": [
    "get_candles_df(data)"
   ]
  },
  {
   "cell_type": "code",
   "execution_count": null,
   "metadata": {},
   "outputs": [],
   "source": []
  },
  {
   "cell_type": "code",
   "execution_count": null,
   "metadata": {},
   "outputs": [],
   "source": []
  },
  {
   "cell_type": "code",
   "execution_count": null,
   "metadata": {},
   "outputs": [],
   "source": []
  },
  {
   "cell_type": "code",
   "execution_count": null,
   "metadata": {},
   "outputs": [],
   "source": []
  },
  {
   "cell_type": "code",
   "execution_count": null,
   "metadata": {},
   "outputs": [],
   "source": []
  },
  {
   "cell_type": "code",
   "execution_count": null,
   "metadata": {},
   "outputs": [],
   "source": []
  },
  {
   "cell_type": "code",
   "execution_count": null,
   "metadata": {},
   "outputs": [],
   "source": []
  }
 ],
 "metadata": {
  "kernelspec": {
   "display_name": "Python 3",
   "language": "python",
   "name": "python3"
  },
  "language_info": {
   "codemirror_mode": {
    "name": "ipython",
    "version": 3
   },
   "file_extension": ".py",
   "mimetype": "text/x-python",
   "name": "python",
   "nbconvert_exporter": "python",
   "pygments_lexer": "ipython3",
   "version": "3.12.0"
  }
 },
 "nbformat": 4,
 "nbformat_minor": 2
}
