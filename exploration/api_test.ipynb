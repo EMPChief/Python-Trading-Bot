{
 "cells": [
  {
   "cell_type": "code",
   "execution_count": 36,
   "metadata": {},
   "outputs": [],
   "source": [
    "import requests\n",
    "import pandas as pd\n",
    "import json\n"
   ]
  },
  {
   "cell_type": "code",
   "execution_count": 37,
   "metadata": {},
   "outputs": [],
   "source": [
    "API_KEY = \"a2faf0838c2aacce44be67cea8b40c06-48d69bac26199a4d5850294881134c34\"\n",
    "ACCOUNT_ID = \"101-004-21509763-001\"\n",
    "OANDA_URL = \"https://api-fxpractice.oanda.com/v3\""
   ]
  },
  {
   "cell_type": "code",
   "execution_count": 38,
   "metadata": {},
   "outputs": [],
   "source": [
    "session = requests.Session()"
   ]
  },
  {
   "cell_type": "code",
   "execution_count": 39,
   "metadata": {},
   "outputs": [],
   "source": [
    "session.headers.update({\n",
    "    'Content-Type': 'application/json',\n",
    "    'Authorization': f'Bearer {API_KEY}'\n",
    "})"
   ]
  },
  {
   "cell_type": "code",
   "execution_count": 40,
   "metadata": {},
   "outputs": [],
   "source": [
    "params = dict(\n",
    "    count = 10,\n",
    "    granularity = \"H1\"\n",
    ")"
   ]
  },
  {
   "cell_type": "code",
   "execution_count": 41,
   "metadata": {},
   "outputs": [],
   "source": [
    "url = f\"{OANDA_URL}/instruments/EUR_USD/candles\""
   ]
  },
  {
   "cell_type": "code",
   "execution_count": 42,
   "metadata": {},
   "outputs": [],
   "source": [
    "response = session.get(url, params=params, data=None, headers=None)"
   ]
  },
  {
   "cell_type": "code",
   "execution_count": 43,
   "metadata": {},
   "outputs": [
    {
     "data": {
      "text/plain": [
       "200"
      ]
     },
     "execution_count": 43,
     "metadata": {},
     "output_type": "execute_result"
    }
   ],
   "source": [
    "response.status_code"
   ]
  },
  {
   "cell_type": "code",
   "execution_count": 44,
   "metadata": {},
   "outputs": [
    {
     "data": {
      "text/plain": [
       "{'instrument': 'EUR_USD',\n",
       " 'granularity': 'H1',\n",
       " 'candles': [{'complete': True,\n",
       "   'volume': 3016,\n",
       "   'time': '2023-11-03T11:00:00.000000000Z',\n",
       "   'mid': {'o': '1.06430', 'h': '1.06528', 'l': '1.06409', 'c': '1.06467'}},\n",
       "  {'complete': True,\n",
       "   'volume': 12095,\n",
       "   'time': '2023-11-03T12:00:00.000000000Z',\n",
       "   'mid': {'o': '1.06468', 'h': '1.07194', 'l': '1.06455', 'c': '1.07094'}},\n",
       "  {'complete': True,\n",
       "   'volume': 12529,\n",
       "   'time': '2023-11-03T13:00:00.000000000Z',\n",
       "   'mid': {'o': '1.07095', 'h': '1.07248', 'l': '1.06961', 'c': '1.07172'}},\n",
       "  {'complete': True,\n",
       "   'volume': 12965,\n",
       "   'time': '2023-11-03T14:00:00.000000000Z',\n",
       "   'mid': {'o': '1.07223', 'h': '1.07359', 'l': '1.06936', 'c': '1.07199'}},\n",
       "  {'complete': True,\n",
       "   'volume': 7011,\n",
       "   'time': '2023-11-03T15:00:00.000000000Z',\n",
       "   'mid': {'o': '1.07200', 'h': '1.07355', 'l': '1.07154', 'c': '1.07324'}},\n",
       "  {'complete': True,\n",
       "   'volume': 5952,\n",
       "   'time': '2023-11-03T16:00:00.000000000Z',\n",
       "   'mid': {'o': '1.07322', 'h': '1.07394', 'l': '1.07254', 'c': '1.07394'}},\n",
       "  {'complete': True,\n",
       "   'volume': 4548,\n",
       "   'time': '2023-11-03T17:00:00.000000000Z',\n",
       "   'mid': {'o': '1.07394', 'h': '1.07469', 'l': '1.07306', 'c': '1.07366'}},\n",
       "  {'complete': True,\n",
       "   'volume': 2894,\n",
       "   'time': '2023-11-03T18:00:00.000000000Z',\n",
       "   'mid': {'o': '1.07372', 'h': '1.07400', 'l': '1.07326', 'c': '1.07359'}},\n",
       "  {'complete': True,\n",
       "   'volume': 2393,\n",
       "   'time': '2023-11-03T19:00:00.000000000Z',\n",
       "   'mid': {'o': '1.07354', 'h': '1.07376', 'l': '1.07224', 'c': '1.07248'}},\n",
       "  {'complete': True,\n",
       "   'volume': 1224,\n",
       "   'time': '2023-11-03T20:00:00.000000000Z',\n",
       "   'mid': {'o': '1.07250', 'h': '1.07328', 'l': '1.07250', 'c': '1.07286'}}]}"
      ]
     },
     "execution_count": 44,
     "metadata": {},
     "output_type": "execute_result"
    }
   ],
   "source": [
    "response.json()"
   ]
  },
  {
   "cell_type": "code",
   "execution_count": null,
   "metadata": {},
   "outputs": [],
   "source": []
  }
 ],
 "metadata": {
  "kernelspec": {
   "display_name": "Python 3",
   "language": "python",
   "name": "python3"
  },
  "language_info": {
   "codemirror_mode": {
    "name": "ipython",
    "version": 3
   },
   "file_extension": ".py",
   "mimetype": "text/x-python",
   "name": "python",
   "nbconvert_exporter": "python",
   "pygments_lexer": "ipython3",
   "version": "3.12.0"
  }
 },
 "nbformat": 4,
 "nbformat_minor": 2
}
