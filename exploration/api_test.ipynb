{
 "cells": [
  {
   "cell_type": "code",
   "execution_count": 25,
   "metadata": {},
   "outputs": [],
   "source": [
    "import requests\n",
    "import pandas as pd\n",
    "import json\n",
    "from dateutil import parser"
   ]
  },
  {
   "cell_type": "code",
   "execution_count": 26,
   "metadata": {},
   "outputs": [],
   "source": [
    "API_KEY = \"a2faf0838c2aacce44be67cea8b40c06-48d69bac26199a4d5850294881134c34\"\n",
    "ACCOUNT_ID = \"101-004-21509763-001\"\n",
    "OANDA_URL = \"https://api-fxpractice.oanda.com/v3\""
   ]
  },
  {
   "cell_type": "code",
   "execution_count": 27,
   "metadata": {},
   "outputs": [],
   "source": [
    "session = requests.Session()"
   ]
  },
  {
   "cell_type": "code",
   "execution_count": 28,
   "metadata": {},
   "outputs": [],
   "source": [
    "session.headers.update({\n",
    "    'Content-Type': 'application/json',\n",
    "    'Authorization': f'Bearer {API_KEY}'\n",
    "})"
   ]
  },
  {
   "cell_type": "code",
   "execution_count": 29,
   "metadata": {},
   "outputs": [],
   "source": [
    "params = dict(\n",
    "    count=10,\n",
    "    granularity=\"H1\"\n",
    ")"
   ]
  },
  {
   "cell_type": "code",
   "execution_count": 30,
   "metadata": {},
   "outputs": [],
   "source": [
    "url = f\"{OANDA_URL}/accounts/{ACCOUNT_ID}/instruments\""
   ]
  },
  {
   "cell_type": "code",
   "execution_count": 31,
   "metadata": {},
   "outputs": [],
   "source": [
    "response = session.get(url, params=None, data=None, headers=None)"
   ]
  },
  {
   "cell_type": "code",
   "execution_count": 32,
   "metadata": {},
   "outputs": [
    {
     "data": {
      "text/plain": [
       "200"
      ]
     },
     "execution_count": 32,
     "metadata": {},
     "output_type": "execute_result"
    }
   ],
   "source": [
    "response.status_code"
   ]
  },
  {
   "cell_type": "code",
   "execution_count": 33,
   "metadata": {},
   "outputs": [],
   "source": [
    "data = response.json()"
   ]
  },
  {
   "cell_type": "code",
   "execution_count": 34,
   "metadata": {},
   "outputs": [
    {
     "data": {
      "text/plain": [
       "dict_keys(['instruments', 'lastTransactionID'])"
      ]
     },
     "execution_count": 34,
     "metadata": {},
     "output_type": "execute_result"
    }
   ],
   "source": [
    "data.keys()"
   ]
  },
  {
   "cell_type": "code",
   "execution_count": 35,
   "metadata": {},
   "outputs": [],
   "source": [
    "instruments_list = data[\"instruments\"]"
   ]
  },
  {
   "cell_type": "code",
   "execution_count": 36,
   "metadata": {},
   "outputs": [
    {
     "data": {
      "text/plain": [
       "123"
      ]
     },
     "execution_count": 36,
     "metadata": {},
     "output_type": "execute_result"
    }
   ],
   "source": [
    "len(instruments_list)"
   ]
  },
  {
   "cell_type": "code",
   "execution_count": 37,
   "metadata": {},
   "outputs": [
    {
     "data": {
      "text/plain": [
       "dict_keys(['name', 'type', 'displayName', 'pipLocation', 'displayPrecision', 'tradeUnitsPrecision', 'minimumTradeSize', 'maximumTrailingStopDistance', 'minimumTrailingStopDistance', 'maximumPositionSize', 'maximumOrderUnits', 'marginRate', 'guaranteedStopLossOrderMode', 'tags', 'financing'])"
      ]
     },
     "execution_count": 37,
     "metadata": {},
     "output_type": "execute_result"
    }
   ],
   "source": [
    "instruments_list[1].keys()"
   ]
  },
  {
   "cell_type": "code",
   "execution_count": 38,
   "metadata": {},
   "outputs": [],
   "source": [
    "key_i = ['name', 'type', 'displayName', 'pipLocation',\n",
    "         'displayPrecision', 'tradeUnitsPrecision', 'marginRate']"
   ]
  },
  {
   "cell_type": "code",
   "execution_count": 39,
   "metadata": {},
   "outputs": [],
   "source": [
    "instruments_dict = {}\n",
    "for i in instruments_list:\n",
    "    key = i['name']\n",
    "    instruments_dict[key] = {k: i[k] for k in key_i}"
   ]
  },
  {
   "cell_type": "code",
   "execution_count": 40,
   "metadata": {},
   "outputs": [
    {
     "data": {
      "text/plain": [
       "{'name': 'AU200_AUD',\n",
       " 'type': 'CFD',\n",
       " 'displayName': 'Australia 200',\n",
       " 'pipLocation': 0,\n",
       " 'displayPrecision': 1,\n",
       " 'tradeUnitsPrecision': 1,\n",
       " 'marginRate': '0.05'}"
      ]
     },
     "execution_count": 40,
     "metadata": {},
     "output_type": "execute_result"
    }
   ],
   "source": [
    "instruments_dict['AU200_AUD']"
   ]
  },
  {
   "cell_type": "code",
   "execution_count": 41,
   "metadata": {},
   "outputs": [],
   "source": [
    "with open(\"../data/instruments.json\", \"w\") as f:\n",
    "    f.write(json.dumps(instruments_dict, indent=2))"
   ]
  },
  {
   "cell_type": "code",
   "execution_count": 42,
   "metadata": {},
   "outputs": [],
   "source": [
    "def fetch_candles(pair_name, count=10, granularity=\"H1\"):\n",
    "    url = f\"{OANDA_URL}/instruments/{pair_name}/candles\"\n",
    "    params = dict(\n",
    "        count=count,\n",
    "        granularity=granularity,\n",
    "        price=\"MBA\"\n",
    "    )\n",
    "    response = session.get(url, params=params, data=None, headers=None)\n",
    "    data = response.json()\n",
    "    if response.status_code == 200:\n",
    "        if 'candles' not in data:\n",
    "            data = []\n",
    "        else:\n",
    "            data = data['candles']\n",
    "    return response.status_code, data"
   ]
  },
  {
   "cell_type": "code",
   "execution_count": 43,
   "metadata": {},
   "outputs": [],
   "source": [
    "\n",
    "def get_candles_df(data):\n",
    "    if len(data) == 0:\n",
    "        return pd.DataFrame()\n",
    "    final_data = []\n",
    "    for candle in data:\n",
    "        if candle['complete'] == False:\n",
    "            continue\n",
    "        new_dict = {}\n",
    "        new_dict['time'] = parser.parse(candle['time'])\n",
    "        new_dict['volume'] = candle['volume']\n",
    "        prices = ['mid', 'bid', 'ask']\n",
    "        ohlc = ['o', 'h', 'l', 'c']\n",
    "        for p in prices:\n",
    "            for o in ohlc:\n",
    "                new_dict[f\"{p}_{o}\"] = float(candle[p][o])\n",
    "\n",
    "        final_data.append(new_dict)\n",
    "    df = pd.DataFrame(final_data)\n",
    "    return df"
   ]
  },
  {
   "cell_type": "code",
   "execution_count": 44,
   "metadata": {},
   "outputs": [],
   "source": [
    "def create_data_file(pair_name, count=10, granularity=\"H1\"):\n",
    "    code, data = fetch_candles(pair_name, count, granularity)\n",
    "    if code != 200:\n",
    "        print(\"Failed\", pair_name)\n",
    "    if len(data) == 0:\n",
    "        print(\"No candles there\", pair_name)\n",
    "    candles_df = get_candles_df(data)\n",
    "    candles_df.to_csv(f\"./data/candles/{pair_name}_{granularity}.csv\")\n",
    "    print(\n",
    "        f\"Pair name:{pair_name}, Granularity: {granularity}, Candle shape: {candles_df.shape[0]}, time: {candles_df.time.min()}\")"
   ]
  },
  {
   "cell_type": "code",
   "execution_count": 45,
   "metadata": {},
   "outputs": [],
   "source": [
    "code, data = fetch_candles(\"EUR_SEK\", count=10, granularity=\"H1\")\n",
    "candles_df = get_candles_df(data)"
   ]
  },
  {
   "cell_type": "code",
   "execution_count": 46,
   "metadata": {},
   "outputs": [
    {
     "name": "stdout",
     "output_type": "stream",
     "text": [
      "Pair name:EUR_SEK, Granularity: H4, Candle shape: 99, time: 2023-11-13 18:00:00+00:00\n"
     ]
    }
   ],
   "source": [
    "create_data_file(\"EUR_SEK\", count=100, granularity=\"H4\")"
   ]
  },
  {
   "cell_type": "code",
   "execution_count": 47,
   "metadata": {},
   "outputs": [],
   "source": [
    "our_curr = ['EUR', 'USD', 'GBP', 'JPY',\n",
    "            'CHF', 'AUD', 'CAD', 'NZD', 'HKD', 'SEK']"
   ]
  },
  {
   "cell_type": "code",
   "execution_count": 48,
   "metadata": {},
   "outputs": [
    {
     "name": "stdout",
     "output_type": "stream",
     "text": [
      "Pair name:EUR_USD, Granularity: M15, Candle shape: 4000, time: 2023-10-09 15:30:00+00:00\n",
      "Pair name:EUR_USD, Granularity: M30, Candle shape: 4000, time: 2023-08-10 23:30:00+00:00\n",
      "Pair name:EUR_USD, Granularity: H1, Candle shape: 4000, time: 2023-04-17 15:00:00+00:00\n",
      "Pair name:EUR_USD, Granularity: H2, Candle shape: 4000, time: 2022-08-24 21:00:00+00:00\n",
      "Pair name:EUR_USD, Granularity: H3, Candle shape: 4000, time: 2022-01-04 07:00:00+00:00\n",
      "Pair name:EUR_USD, Granularity: H4, Candle shape: 4000, time: 2021-05-14 13:00:00+00:00\n",
      "Pair name:EUR_GBP, Granularity: M15, Candle shape: 4000, time: 2023-10-09 15:30:00+00:00\n",
      "Pair name:EUR_GBP, Granularity: M30, Candle shape: 4000, time: 2023-08-10 23:30:00+00:00\n",
      "Pair name:EUR_GBP, Granularity: H1, Candle shape: 4000, time: 2023-04-17 15:00:00+00:00\n",
      "Pair name:EUR_GBP, Granularity: H2, Candle shape: 4000, time: 2022-08-24 21:00:00+00:00\n",
      "Pair name:EUR_GBP, Granularity: H3, Candle shape: 4000, time: 2022-01-04 07:00:00+00:00\n",
      "Pair name:EUR_GBP, Granularity: H4, Candle shape: 4000, time: 2021-05-14 13:00:00+00:00\n",
      "Pair name:EUR_JPY, Granularity: M15, Candle shape: 4000, time: 2023-10-09 15:30:00+00:00\n",
      "Pair name:EUR_JPY, Granularity: M30, Candle shape: 4000, time: 2023-08-10 23:30:00+00:00\n",
      "Pair name:EUR_JPY, Granularity: H1, Candle shape: 4000, time: 2023-04-17 15:00:00+00:00\n",
      "Pair name:EUR_JPY, Granularity: H2, Candle shape: 4000, time: 2022-08-24 21:00:00+00:00\n",
      "Pair name:EUR_JPY, Granularity: H3, Candle shape: 4000, time: 2022-01-03 22:00:00+00:00\n",
      "Pair name:EUR_JPY, Granularity: H4, Candle shape: 4000, time: 2021-05-14 05:00:00+00:00\n",
      "Pair name:EUR_CHF, Granularity: M15, Candle shape: 4000, time: 2023-10-09 15:15:00+00:00\n",
      "Pair name:EUR_CHF, Granularity: M30, Candle shape: 4000, time: 2023-08-10 23:30:00+00:00\n",
      "Pair name:EUR_CHF, Granularity: H1, Candle shape: 4000, time: 2023-04-17 15:00:00+00:00\n",
      "Pair name:EUR_CHF, Granularity: H2, Candle shape: 4000, time: 2022-08-24 21:00:00+00:00\n",
      "Pair name:EUR_CHF, Granularity: H3, Candle shape: 4000, time: 2022-01-04 07:00:00+00:00\n",
      "Pair name:EUR_CHF, Granularity: H4, Candle shape: 4000, time: 2021-05-14 13:00:00+00:00\n",
      "Pair name:EUR_AUD, Granularity: M15, Candle shape: 4000, time: 2023-10-09 15:30:00+00:00\n",
      "Pair name:EUR_AUD, Granularity: M30, Candle shape: 4000, time: 2023-08-10 23:30:00+00:00\n",
      "Pair name:EUR_AUD, Granularity: H1, Candle shape: 4000, time: 2023-04-17 15:00:00+00:00\n",
      "Pair name:EUR_AUD, Granularity: H2, Candle shape: 4000, time: 2022-08-24 21:00:00+00:00\n",
      "Pair name:EUR_AUD, Granularity: H3, Candle shape: 4000, time: 2022-01-04 07:00:00+00:00\n",
      "Pair name:EUR_AUD, Granularity: H4, Candle shape: 4000, time: 2021-05-14 13:00:00+00:00\n",
      "Pair name:EUR_CAD, Granularity: M15, Candle shape: 4000, time: 2023-10-09 15:30:00+00:00\n",
      "Pair name:EUR_CAD, Granularity: M30, Candle shape: 4000, time: 2023-08-10 23:30:00+00:00\n",
      "Pair name:EUR_CAD, Granularity: H1, Candle shape: 4000, time: 2023-04-17 15:00:00+00:00\n",
      "Pair name:EUR_CAD, Granularity: H2, Candle shape: 4000, time: 2022-08-24 21:00:00+00:00\n",
      "Pair name:EUR_CAD, Granularity: H3, Candle shape: 4000, time: 2022-01-04 07:00:00+00:00\n",
      "Pair name:EUR_CAD, Granularity: H4, Candle shape: 4000, time: 2021-05-14 13:00:00+00:00\n",
      "Pair name:EUR_NZD, Granularity: M15, Candle shape: 4000, time: 2023-10-09 15:15:00+00:00\n",
      "Pair name:EUR_NZD, Granularity: M30, Candle shape: 4000, time: 2023-08-10 23:00:00+00:00\n",
      "Pair name:EUR_NZD, Granularity: H1, Candle shape: 4000, time: 2023-04-17 14:00:00+00:00\n",
      "Pair name:EUR_NZD, Granularity: H2, Candle shape: 4000, time: 2022-08-24 21:00:00+00:00\n",
      "Pair name:EUR_NZD, Granularity: H3, Candle shape: 4000, time: 2022-01-04 07:00:00+00:00\n",
      "Pair name:EUR_NZD, Granularity: H4, Candle shape: 4000, time: 2021-05-14 13:00:00+00:00\n",
      "Pair name:EUR_HKD, Granularity: M15, Candle shape: 4000, time: 2023-10-09 15:30:00+00:00\n",
      "Pair name:EUR_HKD, Granularity: M30, Candle shape: 4000, time: 2023-08-10 23:30:00+00:00\n",
      "Pair name:EUR_HKD, Granularity: H1, Candle shape: 4000, time: 2023-04-17 15:00:00+00:00\n",
      "Pair name:EUR_HKD, Granularity: H2, Candle shape: 4000, time: 2022-08-24 21:00:00+00:00\n",
      "Pair name:EUR_HKD, Granularity: H3, Candle shape: 4000, time: 2022-01-04 07:00:00+00:00\n",
      "Pair name:EUR_HKD, Granularity: H4, Candle shape: 4000, time: 2021-05-14 13:00:00+00:00\n",
      "Pair name:EUR_SEK, Granularity: M15, Candle shape: 4000, time: 2023-10-09 05:30:00+00:00\n",
      "Pair name:EUR_SEK, Granularity: M30, Candle shape: 4000, time: 2023-08-10 14:00:00+00:00\n",
      "Pair name:EUR_SEK, Granularity: H1, Candle shape: 4000, time: 2023-04-17 12:00:00+00:00\n",
      "Pair name:EUR_SEK, Granularity: H2, Candle shape: 4000, time: 2022-08-24 21:00:00+00:00\n",
      "Pair name:EUR_SEK, Granularity: H3, Candle shape: 4000, time: 2022-01-04 07:00:00+00:00\n",
      "Pair name:EUR_SEK, Granularity: H4, Candle shape: 4000, time: 2021-05-14 13:00:00+00:00\n",
      "Pair name:USD_JPY, Granularity: M15, Candle shape: 4000, time: 2023-10-09 15:30:00+00:00\n",
      "Pair name:USD_JPY, Granularity: M30, Candle shape: 4000, time: 2023-08-10 23:30:00+00:00\n",
      "Pair name:USD_JPY, Granularity: H1, Candle shape: 4000, time: 2023-04-17 15:00:00+00:00\n",
      "Pair name:USD_JPY, Granularity: H2, Candle shape: 4000, time: 2022-08-24 21:00:00+00:00\n",
      "Pair name:USD_JPY, Granularity: H3, Candle shape: 4000, time: 2022-01-04 07:00:00+00:00\n",
      "Pair name:USD_JPY, Granularity: H4, Candle shape: 4000, time: 2021-05-14 13:00:00+00:00\n",
      "Pair name:USD_CHF, Granularity: M15, Candle shape: 4000, time: 2023-10-09 15:30:00+00:00\n",
      "Pair name:USD_CHF, Granularity: M30, Candle shape: 4000, time: 2023-08-10 23:30:00+00:00\n",
      "Pair name:USD_CHF, Granularity: H1, Candle shape: 4000, time: 2023-04-17 15:00:00+00:00\n",
      "Pair name:USD_CHF, Granularity: H2, Candle shape: 4000, time: 2022-08-24 21:00:00+00:00\n",
      "Pair name:USD_CHF, Granularity: H3, Candle shape: 4000, time: 2022-01-04 04:00:00+00:00\n",
      "Pair name:USD_CHF, Granularity: H4, Candle shape: 4000, time: 2021-05-14 13:00:00+00:00\n",
      "Pair name:USD_CAD, Granularity: M15, Candle shape: 4000, time: 2023-10-09 15:30:00+00:00\n",
      "Pair name:USD_CAD, Granularity: M30, Candle shape: 4000, time: 2023-08-10 23:30:00+00:00\n",
      "Pair name:USD_CAD, Granularity: H1, Candle shape: 4000, time: 2023-04-17 15:00:00+00:00\n",
      "Pair name:USD_CAD, Granularity: H2, Candle shape: 4000, time: 2022-08-24 21:00:00+00:00\n",
      "Pair name:USD_CAD, Granularity: H3, Candle shape: 4000, time: 2022-01-04 07:00:00+00:00\n",
      "Pair name:USD_CAD, Granularity: H4, Candle shape: 4000, time: 2021-05-14 13:00:00+00:00\n",
      "Pair name:USD_HKD, Granularity: M15, Candle shape: 4000, time: 2023-10-09 15:15:00+00:00\n",
      "Pair name:USD_HKD, Granularity: M30, Candle shape: 4000, time: 2023-08-10 23:30:00+00:00\n",
      "Pair name:USD_HKD, Granularity: H1, Candle shape: 4000, time: 2023-04-17 15:00:00+00:00\n",
      "Pair name:USD_HKD, Granularity: H2, Candle shape: 4000, time: 2022-08-24 21:00:00+00:00\n",
      "Pair name:USD_HKD, Granularity: H3, Candle shape: 4000, time: 2022-01-04 07:00:00+00:00\n",
      "Pair name:USD_HKD, Granularity: H4, Candle shape: 4000, time: 2021-05-14 13:00:00+00:00\n",
      "Pair name:USD_SEK, Granularity: M15, Candle shape: 4000, time: 2023-10-09 07:30:00+00:00\n",
      "Pair name:USD_SEK, Granularity: M30, Candle shape: 4000, time: 2023-08-10 16:00:00+00:00\n",
      "Pair name:USD_SEK, Granularity: H1, Candle shape: 4000, time: 2023-04-17 14:00:00+00:00\n",
      "Pair name:USD_SEK, Granularity: H2, Candle shape: 4000, time: 2022-08-24 21:00:00+00:00\n",
      "Pair name:USD_SEK, Granularity: H3, Candle shape: 4000, time: 2022-01-04 04:00:00+00:00\n",
      "Pair name:USD_SEK, Granularity: H4, Candle shape: 4000, time: 2021-05-14 13:00:00+00:00\n",
      "Pair name:GBP_USD, Granularity: M15, Candle shape: 4000, time: 2023-10-09 15:30:00+00:00\n",
      "Pair name:GBP_USD, Granularity: M30, Candle shape: 4000, time: 2023-08-10 23:30:00+00:00\n",
      "Pair name:GBP_USD, Granularity: H1, Candle shape: 4000, time: 2023-04-17 15:00:00+00:00\n",
      "Pair name:GBP_USD, Granularity: H2, Candle shape: 4000, time: 2022-08-24 21:00:00+00:00\n",
      "Pair name:GBP_USD, Granularity: H3, Candle shape: 4000, time: 2022-01-04 07:00:00+00:00\n",
      "Pair name:GBP_USD, Granularity: H4, Candle shape: 4000, time: 2021-05-14 13:00:00+00:00\n",
      "Pair name:GBP_JPY, Granularity: M15, Candle shape: 4000, time: 2023-10-09 15:30:00+00:00\n",
      "Pair name:GBP_JPY, Granularity: M30, Candle shape: 4000, time: 2023-08-10 23:30:00+00:00\n",
      "Pair name:GBP_JPY, Granularity: H1, Candle shape: 4000, time: 2023-04-17 15:00:00+00:00\n",
      "Pair name:GBP_JPY, Granularity: H2, Candle shape: 4000, time: 2022-08-24 21:00:00+00:00\n",
      "Pair name:GBP_JPY, Granularity: H3, Candle shape: 4000, time: 2022-01-04 07:00:00+00:00\n",
      "Pair name:GBP_JPY, Granularity: H4, Candle shape: 4000, time: 2021-05-14 13:00:00+00:00\n",
      "Pair name:GBP_CHF, Granularity: M15, Candle shape: 4000, time: 2023-10-09 14:45:00+00:00\n",
      "Pair name:GBP_CHF, Granularity: M30, Candle shape: 4000, time: 2023-08-10 23:30:00+00:00\n",
      "Pair name:GBP_CHF, Granularity: H1, Candle shape: 4000, time: 2023-04-17 15:00:00+00:00\n",
      "Pair name:GBP_CHF, Granularity: H2, Candle shape: 4000, time: 2022-08-24 21:00:00+00:00\n",
      "Pair name:GBP_CHF, Granularity: H3, Candle shape: 4000, time: 2022-01-04 07:00:00+00:00\n",
      "Pair name:GBP_CHF, Granularity: H4, Candle shape: 4000, time: 2021-05-14 13:00:00+00:00\n",
      "Pair name:GBP_AUD, Granularity: M15, Candle shape: 4000, time: 2023-10-09 15:15:00+00:00\n",
      "Pair name:GBP_AUD, Granularity: M30, Candle shape: 4000, time: 2023-08-10 22:00:00+00:00\n",
      "Pair name:GBP_AUD, Granularity: H1, Candle shape: 4000, time: 2023-04-17 12:00:00+00:00\n",
      "Pair name:GBP_AUD, Granularity: H2, Candle shape: 4000, time: 2022-08-24 21:00:00+00:00\n",
      "Pair name:GBP_AUD, Granularity: H3, Candle shape: 4000, time: 2022-01-04 07:00:00+00:00\n",
      "Pair name:GBP_AUD, Granularity: H4, Candle shape: 4000, time: 2021-05-14 13:00:00+00:00\n",
      "Pair name:GBP_CAD, Granularity: M15, Candle shape: 4000, time: 2023-10-09 15:15:00+00:00\n",
      "Pair name:GBP_CAD, Granularity: M30, Candle shape: 4000, time: 2023-08-10 23:30:00+00:00\n",
      "Pair name:GBP_CAD, Granularity: H1, Candle shape: 4000, time: 2023-04-17 15:00:00+00:00\n",
      "Pair name:GBP_CAD, Granularity: H2, Candle shape: 4000, time: 2022-08-24 21:00:00+00:00\n",
      "Pair name:GBP_CAD, Granularity: H3, Candle shape: 4000, time: 2022-01-04 07:00:00+00:00\n",
      "Pair name:GBP_CAD, Granularity: H4, Candle shape: 4000, time: 2021-05-14 13:00:00+00:00\n",
      "Pair name:GBP_NZD, Granularity: M15, Candle shape: 4000, time: 2023-10-09 14:45:00+00:00\n",
      "Pair name:GBP_NZD, Granularity: M30, Candle shape: 4000, time: 2023-08-10 22:00:00+00:00\n",
      "Pair name:GBP_NZD, Granularity: H1, Candle shape: 4000, time: 2023-04-17 14:00:00+00:00\n",
      "Pair name:GBP_NZD, Granularity: H2, Candle shape: 4000, time: 2022-08-24 21:00:00+00:00\n",
      "Pair name:GBP_NZD, Granularity: H3, Candle shape: 4000, time: 2022-01-04 07:00:00+00:00\n",
      "Pair name:GBP_NZD, Granularity: H4, Candle shape: 4000, time: 2021-05-14 13:00:00+00:00\n",
      "Pair name:GBP_HKD, Granularity: M15, Candle shape: 4000, time: 2023-10-09 15:30:00+00:00\n",
      "Pair name:GBP_HKD, Granularity: M30, Candle shape: 4000, time: 2023-08-10 23:30:00+00:00\n",
      "Pair name:GBP_HKD, Granularity: H1, Candle shape: 4000, time: 2023-04-17 15:00:00+00:00\n",
      "Pair name:GBP_HKD, Granularity: H2, Candle shape: 4000, time: 2022-08-24 21:00:00+00:00\n",
      "Pair name:GBP_HKD, Granularity: H3, Candle shape: 4000, time: 2022-01-04 07:00:00+00:00\n",
      "Pair name:GBP_HKD, Granularity: H4, Candle shape: 4000, time: 2021-05-14 13:00:00+00:00\n",
      "Pair name:CHF_JPY, Granularity: M15, Candle shape: 4000, time: 2023-10-09 11:45:00+00:00\n",
      "Pair name:CHF_JPY, Granularity: M30, Candle shape: 4000, time: 2023-08-10 22:30:00+00:00\n",
      "Pair name:CHF_JPY, Granularity: H1, Candle shape: 4000, time: 2023-04-17 15:00:00+00:00\n",
      "Pair name:CHF_JPY, Granularity: H2, Candle shape: 4000, time: 2022-08-24 21:00:00+00:00\n",
      "Pair name:CHF_JPY, Granularity: H3, Candle shape: 4000, time: 2022-01-04 07:00:00+00:00\n",
      "Pair name:CHF_JPY, Granularity: H4, Candle shape: 4000, time: 2021-05-14 13:00:00+00:00\n",
      "Pair name:CHF_HKD, Granularity: M15, Candle shape: 4000, time: 2023-10-09 08:00:00+00:00\n",
      "Pair name:CHF_HKD, Granularity: M30, Candle shape: 4000, time: 2023-08-10 17:30:00+00:00\n",
      "Pair name:CHF_HKD, Granularity: H1, Candle shape: 4000, time: 2023-04-17 09:00:00+00:00\n",
      "Pair name:CHF_HKD, Granularity: H2, Candle shape: 4000, time: 2022-08-24 21:00:00+00:00\n",
      "Pair name:CHF_HKD, Granularity: H3, Candle shape: 4000, time: 2022-01-04 07:00:00+00:00\n",
      "Pair name:CHF_HKD, Granularity: H4, Candle shape: 4000, time: 2021-05-14 13:00:00+00:00\n",
      "Pair name:AUD_USD, Granularity: M15, Candle shape: 4000, time: 2023-10-09 15:30:00+00:00\n",
      "Pair name:AUD_USD, Granularity: M30, Candle shape: 4000, time: 2023-08-10 23:30:00+00:00\n",
      "Pair name:AUD_USD, Granularity: H1, Candle shape: 4000, time: 2023-04-17 15:00:00+00:00\n",
      "Pair name:AUD_USD, Granularity: H2, Candle shape: 4000, time: 2022-08-24 21:00:00+00:00\n",
      "Pair name:AUD_USD, Granularity: H3, Candle shape: 4000, time: 2022-01-04 04:00:00+00:00\n",
      "Pair name:AUD_USD, Granularity: H4, Candle shape: 4000, time: 2021-05-14 13:00:00+00:00\n",
      "Pair name:AUD_JPY, Granularity: M15, Candle shape: 4000, time: 2023-10-09 15:30:00+00:00\n",
      "Pair name:AUD_JPY, Granularity: M30, Candle shape: 4000, time: 2023-08-10 23:30:00+00:00\n",
      "Pair name:AUD_JPY, Granularity: H1, Candle shape: 4000, time: 2023-04-17 15:00:00+00:00\n",
      "Pair name:AUD_JPY, Granularity: H2, Candle shape: 4000, time: 2022-08-24 21:00:00+00:00\n",
      "Pair name:AUD_JPY, Granularity: H3, Candle shape: 4000, time: 2022-01-05 01:00:00+00:00\n",
      "Pair name:AUD_JPY, Granularity: H4, Candle shape: 4000, time: 2021-05-17 13:00:00+00:00\n",
      "Pair name:AUD_CHF, Granularity: M15, Candle shape: 4000, time: 2023-10-09 13:45:00+00:00\n",
      "Pair name:AUD_CHF, Granularity: M30, Candle shape: 4000, time: 2023-08-10 20:30:00+00:00\n",
      "Pair name:AUD_CHF, Granularity: H1, Candle shape: 4000, time: 2023-04-17 14:00:00+00:00\n",
      "Pair name:AUD_CHF, Granularity: H2, Candle shape: 4000, time: 2022-08-24 21:00:00+00:00\n",
      "Pair name:AUD_CHF, Granularity: H3, Candle shape: 4000, time: 2022-01-04 01:00:00+00:00\n",
      "Pair name:AUD_CHF, Granularity: H4, Candle shape: 4000, time: 2021-05-14 09:00:00+00:00\n",
      "Pair name:AUD_CAD, Granularity: M15, Candle shape: 4000, time: 2023-10-09 15:15:00+00:00\n",
      "Pair name:AUD_CAD, Granularity: M30, Candle shape: 4000, time: 2023-08-10 23:30:00+00:00\n",
      "Pair name:AUD_CAD, Granularity: H1, Candle shape: 4000, time: 2023-04-17 15:00:00+00:00\n",
      "Pair name:AUD_CAD, Granularity: H2, Candle shape: 4000, time: 2022-08-24 21:00:00+00:00\n",
      "Pair name:AUD_CAD, Granularity: H3, Candle shape: 4000, time: 2022-01-04 07:00:00+00:00\n",
      "Pair name:AUD_CAD, Granularity: H4, Candle shape: 4000, time: 2021-05-14 13:00:00+00:00\n",
      "Pair name:AUD_NZD, Granularity: M15, Candle shape: 4000, time: 2023-10-09 15:30:00+00:00\n",
      "Pair name:AUD_NZD, Granularity: M30, Candle shape: 4000, time: 2023-08-10 23:30:00+00:00\n",
      "Pair name:AUD_NZD, Granularity: H1, Candle shape: 4000, time: 2023-04-17 15:00:00+00:00\n",
      "Pair name:AUD_NZD, Granularity: H2, Candle shape: 4000, time: 2022-08-24 21:00:00+00:00\n",
      "Pair name:AUD_NZD, Granularity: H3, Candle shape: 4000, time: 2022-01-04 01:00:00+00:00\n",
      "Pair name:AUD_NZD, Granularity: H4, Candle shape: 4000, time: 2021-05-14 09:00:00+00:00\n",
      "Pair name:AUD_HKD, Granularity: M15, Candle shape: 4000, time: 2023-10-09 15:30:00+00:00\n",
      "Pair name:AUD_HKD, Granularity: M30, Candle shape: 4000, time: 2023-08-10 23:30:00+00:00\n",
      "Pair name:AUD_HKD, Granularity: H1, Candle shape: 4000, time: 2023-04-17 15:00:00+00:00\n",
      "Pair name:AUD_HKD, Granularity: H2, Candle shape: 4000, time: 2022-08-24 21:00:00+00:00\n",
      "Pair name:AUD_HKD, Granularity: H3, Candle shape: 4000, time: 2022-01-04 07:00:00+00:00\n",
      "Pair name:AUD_HKD, Granularity: H4, Candle shape: 4000, time: 2021-05-14 13:00:00+00:00\n",
      "Pair name:CAD_JPY, Granularity: M15, Candle shape: 4000, time: 2023-10-09 15:15:00+00:00\n",
      "Pair name:CAD_JPY, Granularity: M30, Candle shape: 4000, time: 2023-08-10 23:30:00+00:00\n",
      "Pair name:CAD_JPY, Granularity: H1, Candle shape: 4000, time: 2023-04-17 15:00:00+00:00\n",
      "Pair name:CAD_JPY, Granularity: H2, Candle shape: 4000, time: 2022-08-24 21:00:00+00:00\n",
      "Pair name:CAD_JPY, Granularity: H3, Candle shape: 4000, time: 2022-01-04 07:00:00+00:00\n",
      "Pair name:CAD_JPY, Granularity: H4, Candle shape: 4000, time: 2021-05-14 13:00:00+00:00\n",
      "Pair name:CAD_CHF, Granularity: M15, Candle shape: 4000, time: 2023-10-09 10:00:00+00:00\n",
      "Pair name:CAD_CHF, Granularity: M30, Candle shape: 4000, time: 2023-08-10 20:00:00+00:00\n",
      "Pair name:CAD_CHF, Granularity: H1, Candle shape: 4000, time: 2023-04-17 13:00:00+00:00\n",
      "Pair name:CAD_CHF, Granularity: H2, Candle shape: 4000, time: 2022-08-24 21:00:00+00:00\n",
      "Pair name:CAD_CHF, Granularity: H3, Candle shape: 4000, time: 2022-01-04 07:00:00+00:00\n",
      "Pair name:CAD_CHF, Granularity: H4, Candle shape: 4000, time: 2021-05-14 13:00:00+00:00\n",
      "Pair name:CAD_HKD, Granularity: M15, Candle shape: 4000, time: 2023-10-09 14:00:00+00:00\n",
      "Pair name:CAD_HKD, Granularity: M30, Candle shape: 4000, time: 2023-08-10 22:30:00+00:00\n",
      "Pair name:CAD_HKD, Granularity: H1, Candle shape: 4000, time: 2023-04-17 13:00:00+00:00\n",
      "Pair name:CAD_HKD, Granularity: H2, Candle shape: 4000, time: 2022-08-24 21:00:00+00:00\n",
      "Pair name:CAD_HKD, Granularity: H3, Candle shape: 4000, time: 2022-01-04 07:00:00+00:00\n",
      "Pair name:CAD_HKD, Granularity: H4, Candle shape: 4000, time: 2021-05-14 13:00:00+00:00\n",
      "Pair name:NZD_USD, Granularity: M15, Candle shape: 4000, time: 2023-10-09 15:30:00+00:00\n",
      "Pair name:NZD_USD, Granularity: M30, Candle shape: 4000, time: 2023-08-10 23:30:00+00:00\n",
      "Pair name:NZD_USD, Granularity: H1, Candle shape: 4000, time: 2023-04-17 15:00:00+00:00\n",
      "Pair name:NZD_USD, Granularity: H2, Candle shape: 4000, time: 2022-08-25 01:00:00+00:00\n",
      "Pair name:NZD_USD, Granularity: H3, Candle shape: 4000, time: 2022-01-04 10:00:00+00:00\n",
      "Pair name:NZD_USD, Granularity: H4, Candle shape: 4000, time: 2021-05-16 21:00:00+00:00\n",
      "Pair name:NZD_JPY, Granularity: M15, Candle shape: 4000, time: 2023-10-09 15:00:00+00:00\n",
      "Pair name:NZD_JPY, Granularity: M30, Candle shape: 4000, time: 2023-08-10 23:00:00+00:00\n",
      "Pair name:NZD_JPY, Granularity: H1, Candle shape: 4000, time: 2023-04-17 15:00:00+00:00\n",
      "Pair name:NZD_JPY, Granularity: H2, Candle shape: 4000, time: 2022-08-24 21:00:00+00:00\n",
      "Pair name:NZD_JPY, Granularity: H3, Candle shape: 4000, time: 2022-01-04 07:00:00+00:00\n",
      "Pair name:NZD_JPY, Granularity: H4, Candle shape: 4000, time: 2021-05-14 13:00:00+00:00\n",
      "Pair name:NZD_CHF, Granularity: M15, Candle shape: 4000, time: 2023-10-09 00:45:00+00:00\n",
      "Pair name:NZD_CHF, Granularity: M30, Candle shape: 4000, time: 2023-08-10 16:00:00+00:00\n",
      "Pair name:NZD_CHF, Granularity: H1, Candle shape: 4000, time: 2023-04-17 08:00:00+00:00\n",
      "Pair name:NZD_CHF, Granularity: H2, Candle shape: 4000, time: 2022-08-24 21:00:00+00:00\n",
      "Pair name:NZD_CHF, Granularity: H3, Candle shape: 4000, time: 2022-01-04 01:00:00+00:00\n",
      "Pair name:NZD_CHF, Granularity: H4, Candle shape: 4000, time: 2021-05-14 09:00:00+00:00\n",
      "Pair name:NZD_CAD, Granularity: M15, Candle shape: 4000, time: 2023-10-09 14:30:00+00:00\n",
      "Pair name:NZD_CAD, Granularity: M30, Candle shape: 4000, time: 2023-08-10 22:00:00+00:00\n",
      "Pair name:NZD_CAD, Granularity: H1, Candle shape: 4000, time: 2023-04-17 14:00:00+00:00\n",
      "Pair name:NZD_CAD, Granularity: H2, Candle shape: 4000, time: 2022-08-24 21:00:00+00:00\n",
      "Pair name:NZD_CAD, Granularity: H3, Candle shape: 4000, time: 2022-01-04 07:00:00+00:00\n",
      "Pair name:NZD_CAD, Granularity: H4, Candle shape: 4000, time: 2021-05-14 13:00:00+00:00\n",
      "Pair name:NZD_HKD, Granularity: M15, Candle shape: 4000, time: 2023-10-09 14:00:00+00:00\n",
      "Pair name:NZD_HKD, Granularity: M30, Candle shape: 4000, time: 2023-08-10 22:00:00+00:00\n",
      "Pair name:NZD_HKD, Granularity: H1, Candle shape: 4000, time: 2023-04-17 03:00:00+00:00\n",
      "Pair name:NZD_HKD, Granularity: H2, Candle shape: 4000, time: 2022-08-24 11:00:00+00:00\n",
      "Pair name:NZD_HKD, Granularity: H3, Candle shape: 4000, time: 2022-01-04 07:00:00+00:00\n",
      "Pair name:NZD_HKD, Granularity: H4, Candle shape: 4000, time: 2021-05-14 13:00:00+00:00\n",
      "Pair name:HKD_JPY, Granularity: M15, Candle shape: 4000, time: 2023-10-09 15:30:00+00:00\n",
      "Pair name:HKD_JPY, Granularity: M30, Candle shape: 4000, time: 2023-08-10 23:30:00+00:00\n",
      "Pair name:HKD_JPY, Granularity: H1, Candle shape: 4000, time: 2023-04-17 15:00:00+00:00\n",
      "Pair name:HKD_JPY, Granularity: H2, Candle shape: 4000, time: 2022-08-24 21:00:00+00:00\n",
      "Pair name:HKD_JPY, Granularity: H3, Candle shape: 4000, time: 2022-01-04 07:00:00+00:00\n",
      "Pair name:HKD_JPY, Granularity: H4, Candle shape: 4000, time: 2021-05-14 13:00:00+00:00\n"
     ]
    }
   ],
   "source": [
    "for p1 in our_curr:\n",
    "    for p2 in our_curr:\n",
    "        pr = f\"{p1}_{p2}\"\n",
    "        if pr in instruments_dict:\n",
    "            for g in [\"M15\", \"M30\", \"H1\", \"H2\", \"H3\", \"H4\"]:\n",
    "                create_data_file(pair_name=pr, count=4001, granularity=g)"
   ]
  },
  {
   "cell_type": "code",
   "execution_count": null,
   "metadata": {},
   "outputs": [],
   "source": []
  },
  {
   "cell_type": "code",
   "execution_count": null,
   "metadata": {},
   "outputs": [],
   "source": []
  }
 ],
 "metadata": {
  "kernelspec": {
   "display_name": "Python 3",
   "language": "python",
   "name": "python3"
  },
  "language_info": {
   "codemirror_mode": {
    "name": "ipython",
    "version": 3
   },
   "file_extension": ".py",
   "mimetype": "text/x-python",
   "name": "python",
   "nbconvert_exporter": "python",
   "pygments_lexer": "ipython3",
   "version": "3.12.0"
  }
 },
 "nbformat": 4,
 "nbformat_minor": 2
}
