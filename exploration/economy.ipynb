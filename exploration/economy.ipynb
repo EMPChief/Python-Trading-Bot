{
 "cells": [
  {
   "cell_type": "markdown",
   "metadata": {},
   "source": [
    "## Loading library and making instance off class\n"
   ]
  },
  {
   "cell_type": "code",
   "execution_count": 1,
   "metadata": {},
   "outputs": [],
   "source": [
    "import datetime as dt\n",
    "from dateutil import parser\n",
    "import plotly.graph_objects as go\n",
    "import pandas as pd\n",
    "import sys\n",
    "sys.path.append(\"../\")"
   ]
  },
  {
   "cell_type": "code",
   "execution_count": 2,
   "metadata": {},
   "outputs": [],
   "source": [
    "from api.oanda_api import OandaApi\n",
    "from infrastructure.instrument_collection import InstrumentCollection as ic\n",
    "from db.db import DataBaseMongo\n",
    "pd.set_option('display.max_rows', None)"
   ]
  },
  {
   "cell_type": "code",
   "execution_count": 3,
   "metadata": {},
   "outputs": [],
   "source": [
    "database = DataBaseMongo()\n",
    "icol = ic()\n",
    "api = OandaApi()"
   ]
  },
  {
   "cell_type": "code",
   "execution_count": 4,
   "metadata": {},
   "outputs": [],
   "source": [
    "load_icol = icol.DB_LoadInstruments()"
   ]
  },
  {
   "cell_type": "markdown",
   "metadata": {},
   "source": [
    "## Preparing the pairs\n"
   ]
  },
  {
   "cell_type": "code",
   "execution_count": 5,
   "metadata": {},
   "outputs": [],
   "source": [
    "pairs = []\n",
    "for pair, val in icol.instruments_dict.items():\n",
    "    if val.ins_type == \"CURRENCY\" and \"GBP\" in pair:\n",
    "        pairs.append(pair)"
   ]
  },
  {
   "cell_type": "code",
   "execution_count": 6,
   "metadata": {},
   "outputs": [
    {
     "data": {
      "text/plain": [
       "['EUR_GBP', 'GBP_NZD', 'GBP_PLN', 'GBP_CHF', 'GBP_CAD']"
      ]
     },
     "execution_count": 6,
     "metadata": {},
     "output_type": "execute_result"
    }
   ],
   "source": [
    "pairs[0:5]"
   ]
  },
  {
   "cell_type": "markdown",
   "metadata": {},
   "source": []
  },
  {
   "cell_type": "code",
   "execution_count": 7,
   "metadata": {},
   "outputs": [
    {
     "name": "stdout",
     "output_type": "stream",
     "text": [
      "EUR_GBP\n",
      "GBP_NZD\n",
      "GBP_PLN\n",
      "GBP_CHF\n",
      "GBP_CAD\n",
      "GBP_HKD\n",
      "GBP_ZAR\n",
      "GBP_JPY\n",
      "GBP_AUD\n",
      "GBP_SGD\n",
      "GBP_USD\n"
     ]
    }
   ],
   "source": [
    "candle_data = []\n",
    "for pair in pairs:\n",
    "    print(pair)\n",
    "    candle_temp = api.get_candles_df(\n",
    "        pair_name=pair, granularity='D', count=3000)\n",
    "    candle_temp['gain'] = (\n",
    "        (candle_temp.mid_c - candle_temp.mid_o) / candle_temp.mid_o) * 100\n",
    "    candle_temp['pair'] = pair\n",
    "    if '_GBP' in pair:\n",
    "        candle_temp['gain'] = candle_temp['gain'] * -1\n",
    "    candle_data.append(candle_temp)\n",
    "candles_df = pd.concat(candle_data)\n",
    "candles_df.reset_index(drop=True, inplace=True)\n",
    "candles_df.time = candles_df.time.dt.date"
   ]
  },
  {
   "cell_type": "markdown",
   "metadata": {},
   "source": [
    "## Querying for data from database\n"
   ]
  },
  {
   "cell_type": "code",
   "execution_count": 8,
   "metadata": {},
   "outputs": [],
   "source": [
    "forex_calendar_data = database.query_all(DataBaseMongo.FOREX_CALENDAR)\n",
    "forex_calendar_df = pd.DataFrame.from_dict(forex_calendar_data)\n",
    "forex_calendar_df['date'] = pd.to_datetime(\n",
    "    forex_calendar_df['date']).dt.date\n",
    "forex_calendar_df_uk = forex_calendar_df[forex_calendar_df.country == 'united kingdom'].copy(\n",
    ")"
   ]
  },
  {
   "cell_type": "markdown",
   "metadata": {},
   "source": [
    "## Doing some quick cleaning off data\n"
   ]
  },
  {
   "cell_type": "code",
   "execution_count": 9,
   "metadata": {},
   "outputs": [],
   "source": [
    "for column in ['actual', 'previous', 'forecast']:\n",
    "    for symbol in ['$', 'B', 'K', '£', '¥', '€', '₩', '%']:\n",
    "        forex_calendar_df_uk[column] = forex_calendar_df_uk[column].str.replace(\n",
    "            symbol, '')\n",
    "    forex_calendar_df_uk[column] = forex_calendar_df_uk[column].replace(\n",
    "        '', '0')\n",
    "    forex_calendar_df_uk[column] = forex_calendar_df_uk[column].astype(float)"
   ]
  },
  {
   "cell_type": "markdown",
   "metadata": {},
   "source": [
    "## Matching date and preparing for merge\n"
   ]
  },
  {
   "cell_type": "code",
   "execution_count": 10,
   "metadata": {},
   "outputs": [],
   "source": [
    "date_match = {}\n",
    "for original_date in forex_calendar_df_uk.date.unique():\n",
    "    matched_date = original_date\n",
    "    tries = 0\n",
    "    while matched_date not in candles_df.time.values:\n",
    "        matched_date = matched_date + dt.timedelta(days=1)\n",
    "        tries += 1\n",
    "        if tries > 5:\n",
    "            print(\"Failed to find a matching date.\")\n",
    "            break\n",
    "    date_match[original_date] = matched_date"
   ]
  },
  {
   "cell_type": "code",
   "execution_count": 11,
   "metadata": {},
   "outputs": [],
   "source": [
    "forex_calendar_df_uk['original_date'] = forex_calendar_df_uk['date']\n",
    "forex_calendar_df_uk['date'] = [date_match[original_date]\n",
    "                                for original_date in forex_calendar_df_uk['date']]\n",
    "forex_calendar_df_uk['delta_previous'] = forex_calendar_df_uk['actual'] - \\\n",
    "    forex_calendar_df_uk['previous']\n",
    "forex_calendar_df_uk['delta_forecast'] = forex_calendar_df_uk['actual'] - \\\n",
    "    forex_calendar_df_uk['forecast']"
   ]
  },
  {
   "cell_type": "markdown",
   "metadata": {},
   "source": [
    "## Merging the data\n"
   ]
  },
  {
   "cell_type": "code",
   "execution_count": 12,
   "metadata": {},
   "outputs": [],
   "source": [
    "candles_analyze = candles_df[['time', 'pair', 'gain']].copy()"
   ]
  },
  {
   "cell_type": "code",
   "execution_count": 13,
   "metadata": {},
   "outputs": [],
   "source": [
    "merged_dataframe = pd.merge(\n",
    "\n",
    "    left=candles_analyze, right=forex_calendar_df_uk, left_on='time', right_on='date')"
   ]
  },
  {
   "cell_type": "code",
   "execution_count": 17,
   "metadata": {},
   "outputs": [
    {
     "data": {
      "text/plain": [
       "array(['balance of trade', 'inflation rate', 'claimant count change',\n",
       "       'consumer confidence', 'calendar', 'interest rate',\n",
       "       'retail sales mom', 'composite pmi', 'monthly gdp mom',\n",
       "       'monthly gdp yoy', 'manufacturing pmi', 'services pmi',\n",
       "       'unemployment rate', 'gdp growth rate', 'gdp annual growth rate'],\n",
       "      dtype=object)"
      ]
     },
     "execution_count": 17,
     "metadata": {},
     "output_type": "execute_result"
    }
   ],
   "source": [
    "merged_dataframe.category.unique()"
   ]
  },
  {
   "cell_type": "code",
   "execution_count": 34,
   "metadata": {},
   "outputs": [],
   "source": [
    "category_select1 = 'manufacturing pmi'\n",
    "category_select2 = 'interest rate'\n",
    "category_select3 = 'claimant count change'\n",
    "category_select4 = 'consumer confidence'\n",
    "category_select5 = 'calendar'\n",
    "category_select6 = 'balance of trade'\n",
    "category_select7 = 'retail sales mom'\n",
    "category_select8 = 'composite pmi'\n",
    "category_select9 = 'monthly gdp mom'\n",
    "category_select10 = 'monthly gdp yoy'\n",
    "category_select11 = 'services pmi'\n",
    "category_select12 = 'unemployment rate'\n",
    "category_select13 = 'gdp growth rate'\n",
    "category_select14 = 'inflation rate'\n",
    "category_select15 = 'gdp annual growth rate'\n",
    "\n",
    "merged_catagory_dataframe = merged_dataframe[merged_dataframe.category ==\n",
    "                                             category_select2]"
   ]
  },
  {
   "cell_type": "code",
   "execution_count": 35,
   "metadata": {},
   "outputs": [
    {
     "data": {
      "text/html": [
       "<div>\n",
       "<style scoped>\n",
       "    .dataframe tbody tr th:only-of-type {\n",
       "        vertical-align: middle;\n",
       "    }\n",
       "\n",
       "    .dataframe tbody tr th {\n",
       "        vertical-align: top;\n",
       "    }\n",
       "\n",
       "    .dataframe thead th {\n",
       "        text-align: right;\n",
       "    }\n",
       "</style>\n",
       "<table border=\"1\" class=\"dataframe\">\n",
       "  <thead>\n",
       "    <tr style=\"text-align: right;\">\n",
       "      <th></th>\n",
       "      <th>time</th>\n",
       "      <th>pair</th>\n",
       "      <th>gain</th>\n",
       "      <th>date</th>\n",
       "      <th>country</th>\n",
       "      <th>category</th>\n",
       "      <th>event</th>\n",
       "      <th>symbol</th>\n",
       "      <th>actual</th>\n",
       "      <th>previous</th>\n",
       "      <th>forecast</th>\n",
       "      <th>original_date</th>\n",
       "      <th>delta_previous</th>\n",
       "      <th>delta_forecast</th>\n",
       "    </tr>\n",
       "  </thead>\n",
       "  <tbody>\n",
       "    <tr>\n",
       "      <th>9</th>\n",
       "      <td>2020-03-11</td>\n",
       "      <td>EUR_GBP</td>\n",
       "      <td>-1.231830</td>\n",
       "      <td>2020-03-11</td>\n",
       "      <td>united kingdom</td>\n",
       "      <td>interest rate</td>\n",
       "      <td>boe press conference</td>\n",
       "      <td></td>\n",
       "      <td>0.0</td>\n",
       "      <td>0.0</td>\n",
       "      <td>0.0</td>\n",
       "      <td>2020-03-11</td>\n",
       "      <td>0.0</td>\n",
       "      <td>0.0</td>\n",
       "    </tr>\n",
       "    <tr>\n",
       "      <th>110</th>\n",
       "      <td>2021-12-16</td>\n",
       "      <td>EUR_GBP</td>\n",
       "      <td>0.198704</td>\n",
       "      <td>2021-12-16</td>\n",
       "      <td>united kingdom</td>\n",
       "      <td>interest rate</td>\n",
       "      <td>boe quantitative easing</td>\n",
       "      <td></td>\n",
       "      <td>875.0</td>\n",
       "      <td>875.0</td>\n",
       "      <td>875.0</td>\n",
       "      <td>2021-12-16</td>\n",
       "      <td>0.0</td>\n",
       "      <td>0.0</td>\n",
       "    </tr>\n",
       "    <tr>\n",
       "      <th>156</th>\n",
       "      <td>2022-06-29</td>\n",
       "      <td>EUR_GBP</td>\n",
       "      <td>0.070813</td>\n",
       "      <td>2022-06-29</td>\n",
       "      <td>united kingdom</td>\n",
       "      <td>interest rate</td>\n",
       "      <td>boe gov bailey speech</td>\n",
       "      <td></td>\n",
       "      <td>0.0</td>\n",
       "      <td>0.0</td>\n",
       "      <td>0.0</td>\n",
       "      <td>2022-06-29</td>\n",
       "      <td>0.0</td>\n",
       "      <td>0.0</td>\n",
       "    </tr>\n",
       "    <tr>\n",
       "      <th>177</th>\n",
       "      <td>2022-09-27</td>\n",
       "      <td>EUR_GBP</td>\n",
       "      <td>-0.069385</td>\n",
       "      <td>2022-09-27</td>\n",
       "      <td>united kingdom</td>\n",
       "      <td>interest rate</td>\n",
       "      <td>boe pill speech</td>\n",
       "      <td></td>\n",
       "      <td>0.0</td>\n",
       "      <td>0.0</td>\n",
       "      <td>0.0</td>\n",
       "      <td>2022-09-27</td>\n",
       "      <td>0.0</td>\n",
       "      <td>0.0</td>\n",
       "    </tr>\n",
       "    <tr>\n",
       "      <th>194</th>\n",
       "      <td>2022-12-15</td>\n",
       "      <td>EUR_GBP</td>\n",
       "      <td>0.042400</td>\n",
       "      <td>2022-12-15</td>\n",
       "      <td>united kingdom</td>\n",
       "      <td>interest rate</td>\n",
       "      <td>boe interest rate decision</td>\n",
       "      <td>UKBRBASE</td>\n",
       "      <td>3.5</td>\n",
       "      <td>3.0</td>\n",
       "      <td>3.5</td>\n",
       "      <td>2022-12-15</td>\n",
       "      <td>0.5</td>\n",
       "      <td>0.0</td>\n",
       "    </tr>\n",
       "  </tbody>\n",
       "</table>\n",
       "</div>"
      ],
      "text/plain": [
       "           time     pair      gain        date         country       category  \\\n",
       "9    2020-03-11  EUR_GBP -1.231830  2020-03-11  united kingdom  interest rate   \n",
       "110  2021-12-16  EUR_GBP  0.198704  2021-12-16  united kingdom  interest rate   \n",
       "156  2022-06-29  EUR_GBP  0.070813  2022-06-29  united kingdom  interest rate   \n",
       "177  2022-09-27  EUR_GBP -0.069385  2022-09-27  united kingdom  interest rate   \n",
       "194  2022-12-15  EUR_GBP  0.042400  2022-12-15  united kingdom  interest rate   \n",
       "\n",
       "                          event    symbol  actual  previous  forecast  \\\n",
       "9          boe press conference               0.0       0.0       0.0   \n",
       "110     boe quantitative easing             875.0     875.0     875.0   \n",
       "156       boe gov bailey speech               0.0       0.0       0.0   \n",
       "177             boe pill speech               0.0       0.0       0.0   \n",
       "194  boe interest rate decision  UKBRBASE     3.5       3.0       3.5   \n",
       "\n",
       "    original_date  delta_previous  delta_forecast  \n",
       "9      2020-03-11             0.0             0.0  \n",
       "110    2021-12-16             0.0             0.0  \n",
       "156    2022-06-29             0.0             0.0  \n",
       "177    2022-09-27             0.0             0.0  \n",
       "194    2022-12-15             0.5             0.0  "
      ]
     },
     "execution_count": 35,
     "metadata": {},
     "output_type": "execute_result"
    }
   ],
   "source": [
    "merged_catagory_dataframe[0:5]"
   ]
  },
  {
   "cell_type": "markdown",
   "metadata": {},
   "source": [
    "## Analyzing the data\n"
   ]
  },
  {
   "cell_type": "code",
   "execution_count": 47,
   "metadata": {},
   "outputs": [
    {
     "name": "stdout",
     "output_type": "stream",
     "text": [
      "Checking balance of trade...\n",
      "Total gain when delta_previous < 0: -4.460628258466712\n",
      "Total gain when delta_previous <= 0: -4.460628258466712\n",
      "Total gain when delta_previous >= 0: 4.60997356574532\n",
      "Total gain when delta_previous > 0: 4.60997356574532\n",
      "Total gain when delta_forecast < 0: -4.637054437407745\n",
      "Total gain when delta_forecast <= 0: -4.637054437407745\n",
      "Total gain when delta_forecast >= 0: 4.786399744686352\n",
      "Total gain when delta_forecast > 0: 4.786399744686352\n"
     ]
    }
   ],
   "source": [
    "CATEGORY_CHECKER = category_select6\n",
    "dataframe_analyzing = merged_dataframe[merged_dataframe.category ==\n",
    "                                       CATEGORY_CHECKER]\n",
    "\n",
    "print(f\"Checking {CATEGORY_CHECKER}...\")\n",
    "print(f\"Total gain when delta_previous < 0: {\n",
    "      dataframe_analyzing[dataframe_analyzing.delta_previous < 0].gain.sum()}\")\n",
    "print(f\"Total gain when delta_previous <= 0: {\n",
    "      dataframe_analyzing[dataframe_analyzing.delta_previous <= 0].gain.sum()}\")\n",
    "print(f\"Total gain when delta_previous >= 0: {\n",
    "      dataframe_analyzing[dataframe_analyzing.delta_previous >= 0].gain.sum()}\")\n",
    "print(f\"Total gain when delta_previous > 0: {\n",
    "      dataframe_analyzing[dataframe_analyzing.delta_previous > 0].gain.sum()}\")\n",
    "print(f\"Total gain when delta_forecast < 0: {\n",
    "      dataframe_analyzing[dataframe_analyzing.delta_forecast < 0].gain.sum()}\")\n",
    "print(f\"Total gain when delta_forecast <= 0: {\n",
    "      dataframe_analyzing[dataframe_analyzing.delta_forecast <= 0].gain.sum()}\")\n",
    "print(f\"Total gain when delta_forecast >= 0: {\n",
    "      dataframe_analyzing[dataframe_analyzing.delta_forecast >= 0].gain.sum()}\")\n",
    "print(f\"Total gain when delta_forecast > 0: {\n",
    "      dataframe_analyzing[dataframe_analyzing.delta_forecast > 0].gain.sum()}\")"
   ]
  },
  {
   "cell_type": "code",
   "execution_count": null,
   "metadata": {},
   "outputs": [],
   "source": []
  },
  {
   "cell_type": "code",
   "execution_count": 28,
   "metadata": {},
   "outputs": [
    {
     "data": {
      "text/plain": [
       "-4.47878095610241"
      ]
     },
     "execution_count": 28,
     "metadata": {},
     "output_type": "execute_result"
    }
   ],
   "source": []
  },
  {
   "cell_type": "code",
   "execution_count": null,
   "metadata": {},
   "outputs": [],
   "source": []
  },
  {
   "cell_type": "code",
   "execution_count": null,
   "metadata": {},
   "outputs": [],
   "source": []
  },
  {
   "cell_type": "code",
   "execution_count": null,
   "metadata": {},
   "outputs": [],
   "source": []
  },
  {
   "cell_type": "code",
   "execution_count": null,
   "metadata": {},
   "outputs": [],
   "source": []
  },
  {
   "cell_type": "code",
   "execution_count": null,
   "metadata": {},
   "outputs": [],
   "source": []
  },
  {
   "cell_type": "code",
   "execution_count": null,
   "metadata": {},
   "outputs": [],
   "source": []
  },
  {
   "cell_type": "code",
   "execution_count": null,
   "metadata": {},
   "outputs": [],
   "source": []
  }
 ],
 "metadata": {
  "kernelspec": {
   "display_name": "venv",
   "language": "python",
   "name": "python3"
  },
  "language_info": {
   "codemirror_mode": {
    "name": "ipython",
    "version": 3
   },
   "file_extension": ".py",
   "mimetype": "text/x-python",
   "name": "python",
   "nbconvert_exporter": "python",
   "pygments_lexer": "ipython3",
   "version": "3.12.1"
  }
 },
 "nbformat": 4,
 "nbformat_minor": 2
}
