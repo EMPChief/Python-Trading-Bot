{
 "cells": [
  {
   "cell_type": "markdown",
   "metadata": {},
   "source": [
    "## Loading library and making instance off class\n"
   ]
  },
  {
   "cell_type": "code",
   "execution_count": 1,
   "metadata": {},
   "outputs": [],
   "source": [
    "import datetime as dt\n",
    "from dateutil import parser\n",
    "import plotly.graph_objects as go\n",
    "import pandas as pd\n",
    "import sys\n",
    "sys.path.append(\"../\")"
   ]
  },
  {
   "cell_type": "code",
   "execution_count": 2,
   "metadata": {},
   "outputs": [],
   "source": [
    "from api.oanda_api import OandaApi\n",
    "from infrastructure.instrument_collection import InstrumentCollection as ic\n",
    "from db.db import DataBaseMongo\n",
    "pd.set_option('display.max_rows', None)"
   ]
  },
  {
   "cell_type": "code",
   "execution_count": 3,
   "metadata": {},
   "outputs": [],
   "source": [
    "database = DataBaseMongo()\n",
    "icol = ic()\n",
    "api = OandaApi()"
   ]
  },
  {
   "cell_type": "code",
   "execution_count": 4,
   "metadata": {},
   "outputs": [],
   "source": [
    "load_icol = icol.DB_LoadInstruments()"
   ]
  },
  {
   "cell_type": "markdown",
   "metadata": {},
   "source": [
    "## Preparing the pairs\n"
   ]
  },
  {
   "cell_type": "code",
   "execution_count": 5,
   "metadata": {},
   "outputs": [],
   "source": [
    "pairs = []\n",
    "for pair, val in icol.instruments_dict.items():\n",
    "    if val.ins_type == \"CURRENCY\" and \"GBP\" in pair:\n",
    "        pairs.append(pair)"
   ]
  },
  {
   "cell_type": "code",
   "execution_count": 6,
   "metadata": {},
   "outputs": [
    {
     "data": {
      "text/plain": [
       "['EUR_GBP', 'GBP_NZD', 'GBP_PLN', 'GBP_CHF', 'GBP_CAD']"
      ]
     },
     "execution_count": 6,
     "metadata": {},
     "output_type": "execute_result"
    }
   ],
   "source": [
    "pairs[0:5]"
   ]
  },
  {
   "cell_type": "markdown",
   "metadata": {},
   "source": []
  },
  {
   "cell_type": "code",
   "execution_count": 7,
   "metadata": {},
   "outputs": [
    {
     "name": "stdout",
     "output_type": "stream",
     "text": [
      "EUR_GBP\n",
      "GBP_NZD\n",
      "GBP_PLN\n",
      "GBP_CHF\n",
      "GBP_CAD\n",
      "GBP_HKD\n",
      "GBP_ZAR\n",
      "GBP_JPY\n",
      "GBP_AUD\n",
      "GBP_SGD\n",
      "GBP_USD\n"
     ]
    }
   ],
   "source": [
    "candle_data = []\n",
    "for pair in pairs:\n",
    "    print(pair)\n",
    "    candle_temp = api.get_candles_df(\n",
    "        pair_name=pair, granularity='D', count=3000)\n",
    "    candle_temp['gain'] = (\n",
    "        (candle_temp.mid_c - candle_temp.mid_o) / candle_temp.mid_o) * 100\n",
    "    candle_temp['pair'] = pair\n",
    "    if '_GBP' in pair:\n",
    "        candle_temp['gain'] = candle_temp['gain'] * -1\n",
    "    candle_data.append(candle_temp)\n",
    "candles_df = pd.concat(candle_data)\n",
    "candles_df.reset_index(drop=True, inplace=True)\n",
    "candles_df.time = candles_df.time.dt.date"
   ]
  },
  {
   "cell_type": "markdown",
   "metadata": {},
   "source": [
    "## Querying for data from database\n"
   ]
  },
  {
   "cell_type": "code",
   "execution_count": 8,
   "metadata": {},
   "outputs": [],
   "source": [
    "forex_calendar_data = database.query_all(DataBaseMongo.FOREX_CALENDAR)\n",
    "forex_calendar_df = pd.DataFrame.from_dict(forex_calendar_data)\n",
    "forex_calendar_df['date'] = pd.to_datetime(\n",
    "    forex_calendar_df['date']).dt.date\n",
    "forex_calendar_df_uk = forex_calendar_df[forex_calendar_df.country == 'united kingdom'].copy(\n",
    ")"
   ]
  },
  {
   "cell_type": "markdown",
   "metadata": {},
   "source": [
    "## Doing some quick cleaning off data\n"
   ]
  },
  {
   "cell_type": "code",
   "execution_count": 9,
   "metadata": {},
   "outputs": [],
   "source": [
    "for column in ['actual', 'previous', 'forecast']:\n",
    "    for symbol in ['$', 'B', 'K', '£', '¥', '€', '₩', '%']:\n",
    "        forex_calendar_df_uk[column] = forex_calendar_df_uk[column].str.replace(\n",
    "            symbol, '')\n",
    "    forex_calendar_df_uk[column] = forex_calendar_df_uk[column].replace(\n",
    "        '', '0')\n",
    "    forex_calendar_df_uk[column] = forex_calendar_df_uk[column].astype(float)"
   ]
  },
  {
   "cell_type": "markdown",
   "metadata": {},
   "source": [
    "## Matching date and preparing for merge\n"
   ]
  },
  {
   "cell_type": "code",
   "execution_count": 10,
   "metadata": {},
   "outputs": [],
   "source": [
    "date_match = {}\n",
    "for original_date in forex_calendar_df_uk.date.unique():\n",
    "    matched_date = original_date\n",
    "    tries = 0\n",
    "    while matched_date not in candles_df.time.values:\n",
    "        matched_date = matched_date + dt.timedelta(days=1)\n",
    "        tries += 1\n",
    "        if tries > 5:\n",
    "            print(\"Failed to find a matching date.\")\n",
    "            break\n",
    "    date_match[original_date] = matched_date"
   ]
  },
  {
   "cell_type": "code",
   "execution_count": 11,
   "metadata": {},
   "outputs": [],
   "source": [
    "forex_calendar_df_uk['original_date'] = forex_calendar_df_uk['date']\n",
    "forex_calendar_df_uk['date'] = [date_match[original_date]\n",
    "                                for original_date in forex_calendar_df_uk['date']]\n",
    "forex_calendar_df_uk['delta_previous'] = forex_calendar_df_uk['actual'] - \\\n",
    "    forex_calendar_df_uk['previous']\n",
    "forex_calendar_df_uk['delta_forecast'] = forex_calendar_df_uk['actual'] - \\\n",
    "    forex_calendar_df_uk['forecast']"
   ]
  },
  {
   "cell_type": "markdown",
   "metadata": {},
   "source": [
    "## Merging the data\n"
   ]
  },
  {
   "cell_type": "code",
   "execution_count": 12,
   "metadata": {},
   "outputs": [],
   "source": [
    "candles_analyze = candles_df[['time', 'pair', 'gain']].copy()"
   ]
  },
  {
   "cell_type": "code",
   "execution_count": 13,
   "metadata": {},
   "outputs": [],
   "source": [
    "merged_dataframe = pd.merge(\n",
    "\n",
    "    left=candles_analyze, right=forex_calendar_df_uk, left_on='time', right_on='date')"
   ]
  },
  {
   "cell_type": "code",
   "execution_count": 17,
   "metadata": {},
   "outputs": [
    {
     "data": {
      "text/plain": [
       "array(['balance of trade', 'inflation rate', 'claimant count change',\n",
       "       'consumer confidence', 'calendar', 'interest rate',\n",
       "       'retail sales mom', 'composite pmi', 'monthly gdp mom',\n",
       "       'monthly gdp yoy', 'manufacturing pmi', 'services pmi',\n",
       "       'unemployment rate', 'gdp growth rate', 'gdp annual growth rate'],\n",
       "      dtype=object)"
      ]
     },
     "execution_count": 17,
     "metadata": {},
     "output_type": "execute_result"
    }
   ],
   "source": [
    "merged_dataframe.category.unique()"
   ]
  },
  {
   "cell_type": "code",
   "execution_count": null,
   "metadata": {},
   "outputs": [],
   "source": [
    "merged_catagory_dataframe = merged_dataframe[merged_dataframe.category ==\n",
    "                                             'manufacturing pmi']"
   ]
  },
  {
   "cell_type": "code",
   "execution_count": null,
   "metadata": {},
   "outputs": [
    {
     "data": {
      "text/html": [
       "<div>\n",
       "<style scoped>\n",
       "    .dataframe tbody tr th:only-of-type {\n",
       "        vertical-align: middle;\n",
       "    }\n",
       "\n",
       "    .dataframe tbody tr th {\n",
       "        vertical-align: top;\n",
       "    }\n",
       "\n",
       "    .dataframe thead th {\n",
       "        text-align: right;\n",
       "    }\n",
       "</style>\n",
       "<table border=\"1\" class=\"dataframe\">\n",
       "  <thead>\n",
       "    <tr style=\"text-align: right;\">\n",
       "      <th></th>\n",
       "      <th>time</th>\n",
       "      <th>pair</th>\n",
       "      <th>gain</th>\n",
       "      <th>date</th>\n",
       "      <th>country</th>\n",
       "      <th>category</th>\n",
       "      <th>event</th>\n",
       "      <th>symbol</th>\n",
       "      <th>actual</th>\n",
       "      <th>previous</th>\n",
       "      <th>forecast</th>\n",
       "      <th>original_date</th>\n",
       "      <th>delta_previous</th>\n",
       "      <th>delta_forecast</th>\n",
       "    </tr>\n",
       "  </thead>\n",
       "  <tbody>\n",
       "    <tr>\n",
       "      <th>1</th>\n",
       "      <td>2020-01-15</td>\n",
       "      <td>EUR_GBP</td>\n",
       "      <td>0.413987</td>\n",
       "      <td>2020-01-15</td>\n",
       "      <td>united kingdom</td>\n",
       "      <td>inflation rate</td>\n",
       "      <td>inflation rate yoy</td>\n",
       "      <td>UKRPCJYR</td>\n",
       "      <td>1.3</td>\n",
       "      <td>1.5</td>\n",
       "      <td>1.5</td>\n",
       "      <td>2020-01-15</td>\n",
       "      <td>-0.2</td>\n",
       "      <td>-0.2</td>\n",
       "    </tr>\n",
       "    <tr>\n",
       "      <th>7</th>\n",
       "      <td>2020-02-19</td>\n",
       "      <td>EUR_GBP</td>\n",
       "      <td>-0.080102</td>\n",
       "      <td>2020-02-19</td>\n",
       "      <td>united kingdom</td>\n",
       "      <td>inflation rate</td>\n",
       "      <td>inflation rate yoy</td>\n",
       "      <td>UKRPCJYR</td>\n",
       "      <td>1.8</td>\n",
       "      <td>1.3</td>\n",
       "      <td>1.4</td>\n",
       "      <td>2020-02-19</td>\n",
       "      <td>0.5</td>\n",
       "      <td>0.4</td>\n",
       "    </tr>\n",
       "    <tr>\n",
       "      <th>13</th>\n",
       "      <td>2020-03-25</td>\n",
       "      <td>EUR_GBP</td>\n",
       "      <td>1.254124</td>\n",
       "      <td>2020-03-25</td>\n",
       "      <td>united kingdom</td>\n",
       "      <td>inflation rate</td>\n",
       "      <td>inflation rate yoy</td>\n",
       "      <td>UKRPCJYR</td>\n",
       "      <td>1.7</td>\n",
       "      <td>1.8</td>\n",
       "      <td>1.5</td>\n",
       "      <td>2020-03-25</td>\n",
       "      <td>-0.1</td>\n",
       "      <td>0.2</td>\n",
       "    </tr>\n",
       "    <tr>\n",
       "      <th>18</th>\n",
       "      <td>2020-04-22</td>\n",
       "      <td>EUR_GBP</td>\n",
       "      <td>0.540048</td>\n",
       "      <td>2020-04-22</td>\n",
       "      <td>united kingdom</td>\n",
       "      <td>inflation rate</td>\n",
       "      <td>inflation rate yoy</td>\n",
       "      <td>UKRPCJYR</td>\n",
       "      <td>1.5</td>\n",
       "      <td>1.7</td>\n",
       "      <td>1.3</td>\n",
       "      <td>2020-04-22</td>\n",
       "      <td>-0.2</td>\n",
       "      <td>0.2</td>\n",
       "    </tr>\n",
       "    <tr>\n",
       "      <th>22</th>\n",
       "      <td>2020-05-20</td>\n",
       "      <td>EUR_GBP</td>\n",
       "      <td>0.089213</td>\n",
       "      <td>2020-05-20</td>\n",
       "      <td>united kingdom</td>\n",
       "      <td>inflation rate</td>\n",
       "      <td>inflation rate yoy</td>\n",
       "      <td>UKRPCJYR</td>\n",
       "      <td>0.8</td>\n",
       "      <td>1.5</td>\n",
       "      <td>0.8</td>\n",
       "      <td>2020-05-20</td>\n",
       "      <td>-0.7</td>\n",
       "      <td>0.0</td>\n",
       "    </tr>\n",
       "  </tbody>\n",
       "</table>\n",
       "</div>"
      ],
      "text/plain": [
       "          time     pair      gain        date         country        category  \\\n",
       "1   2020-01-15  EUR_GBP  0.413987  2020-01-15  united kingdom  inflation rate   \n",
       "7   2020-02-19  EUR_GBP -0.080102  2020-02-19  united kingdom  inflation rate   \n",
       "13  2020-03-25  EUR_GBP  1.254124  2020-03-25  united kingdom  inflation rate   \n",
       "18  2020-04-22  EUR_GBP  0.540048  2020-04-22  united kingdom  inflation rate   \n",
       "22  2020-05-20  EUR_GBP  0.089213  2020-05-20  united kingdom  inflation rate   \n",
       "\n",
       "                 event    symbol  actual  previous  forecast original_date  \\\n",
       "1   inflation rate yoy  UKRPCJYR     1.3       1.5       1.5    2020-01-15   \n",
       "7   inflation rate yoy  UKRPCJYR     1.8       1.3       1.4    2020-02-19   \n",
       "13  inflation rate yoy  UKRPCJYR     1.7       1.8       1.5    2020-03-25   \n",
       "18  inflation rate yoy  UKRPCJYR     1.5       1.7       1.3    2020-04-22   \n",
       "22  inflation rate yoy  UKRPCJYR     0.8       1.5       0.8    2020-05-20   \n",
       "\n",
       "    delta_previous  delta_forecast  \n",
       "1             -0.2            -0.2  \n",
       "7              0.5             0.4  \n",
       "13            -0.1             0.2  \n",
       "18            -0.2             0.2  \n",
       "22            -0.7             0.0  "
      ]
     },
     "execution_count": 19,
     "metadata": {},
     "output_type": "execute_result"
    }
   ],
   "source": [
    "merged_catagory_dataframe[0:5]"
   ]
  },
  {
   "cell_type": "markdown",
   "metadata": {},
   "source": [
    "## Analyzing the data\n"
   ]
  },
  {
   "cell_type": "code",
   "execution_count": null,
   "metadata": {},
   "outputs": [],
   "source": []
  },
  {
   "cell_type": "code",
   "execution_count": null,
   "metadata": {},
   "outputs": [],
   "source": []
  },
  {
   "cell_type": "code",
   "execution_count": null,
   "metadata": {},
   "outputs": [],
   "source": []
  },
  {
   "cell_type": "code",
   "execution_count": null,
   "metadata": {},
   "outputs": [],
   "source": []
  },
  {
   "cell_type": "code",
   "execution_count": null,
   "metadata": {},
   "outputs": [],
   "source": []
  },
  {
   "cell_type": "code",
   "execution_count": null,
   "metadata": {},
   "outputs": [],
   "source": []
  },
  {
   "cell_type": "code",
   "execution_count": null,
   "metadata": {},
   "outputs": [],
   "source": []
  },
  {
   "cell_type": "code",
   "execution_count": null,
   "metadata": {},
   "outputs": [],
   "source": []
  },
  {
   "cell_type": "code",
   "execution_count": null,
   "metadata": {},
   "outputs": [],
   "source": []
  },
  {
   "cell_type": "code",
   "execution_count": null,
   "metadata": {},
   "outputs": [],
   "source": []
  }
 ],
 "metadata": {
  "kernelspec": {
   "display_name": "venv",
   "language": "python",
   "name": "python3"
  },
  "language_info": {
   "codemirror_mode": {
    "name": "ipython",
    "version": 3
   },
   "file_extension": ".py",
   "mimetype": "text/x-python",
   "name": "python",
   "nbconvert_exporter": "python",
   "pygments_lexer": "ipython3",
   "version": "3.12.1"
  }
 },
 "nbformat": 4,
 "nbformat_minor": 2
}
