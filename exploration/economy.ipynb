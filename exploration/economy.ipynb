{
 "cells": [
  {
   "cell_type": "code",
   "execution_count": 1,
   "metadata": {},
   "outputs": [],
   "source": [
    "import datetime as dt\n",
    "from dateutil import parser\n",
    "import plotly.graph_objects as go\n",
    "import pandas as pd\n",
    "import sys\n",
    "sys.path.append(\"../\")"
   ]
  },
  {
   "cell_type": "code",
   "execution_count": 2,
   "metadata": {},
   "outputs": [],
   "source": [
    "from api.oanda_api import OandaApi\n",
    "from infrastructure.instrument_collection import InstrumentCollection as ic\n",
    "from db.db import DataBaseMongo"
   ]
  },
  {
   "cell_type": "code",
   "execution_count": 13,
   "metadata": {},
   "outputs": [],
   "source": [
    "database = DataBaseMongo()\n",
    "icol = ic()\n",
    "api = OandaApi()"
   ]
  },
  {
   "cell_type": "code",
   "execution_count": 6,
   "metadata": {},
   "outputs": [],
   "source": [
    "load_icol = icol.DB_LoadInstruments()"
   ]
  },
  {
   "cell_type": "code",
   "execution_count": 11,
   "metadata": {},
   "outputs": [],
   "source": [
    "pairs = []\n",
    "for pair, val in icol.instruments_dict.items():\n",
    "    if val.ins_type == \"CURRENCY\" and \"GBP\" in pair:\n",
    "        pairs.append(pair)"
   ]
  },
  {
   "cell_type": "code",
   "execution_count": 12,
   "metadata": {},
   "outputs": [
    {
     "data": {
      "text/plain": [
       "['EUR_GBP',\n",
       " 'GBP_NZD',\n",
       " 'GBP_PLN',\n",
       " 'GBP_CHF',\n",
       " 'GBP_CAD',\n",
       " 'GBP_HKD',\n",
       " 'GBP_ZAR',\n",
       " 'GBP_JPY',\n",
       " 'GBP_AUD',\n",
       " 'GBP_SGD',\n",
       " 'GBP_USD']"
      ]
     },
     "execution_count": 12,
     "metadata": {},
     "output_type": "execute_result"
    }
   ],
   "source": [
    "pairs"
   ]
  },
  {
   "cell_type": "code",
   "execution_count": 16,
   "metadata": {},
   "outputs": [
    {
     "name": "stdout",
     "output_type": "stream",
     "text": [
      "EUR_GBP\n",
      "GBP_NZD\n",
      "GBP_PLN\n",
      "GBP_CHF\n",
      "GBP_CAD\n",
      "GBP_HKD\n",
      "GBP_ZAR\n",
      "GBP_JPY\n",
      "GBP_AUD\n",
      "GBP_SGD\n",
      "GBP_USD\n"
     ]
    }
   ],
   "source": [
    "data = []\n",
    "for p in pairs:\n",
    "    print(p)\n",
    "    d_temp = api.get_candles_df(pair_name=p, granularity='D', count=700)\n",
    "    d_temp['gain'] = ((d_temp.mid_c - d_temp.mid_o) / d_temp.mid_o) * 100\n",
    "    d_temp['pair'] = p\n",
    "    if '_GBP' in p:\n",
    "        d_temp['gain'] = d_temp['gain'] * -1\n",
    "    data.append(d_temp)\n",
    "candles_df = pd.concat(data)\n",
    "candles_df.reset_index(drop=True, inplace=True)\n",
    "candles_df.time = candles_df.time.dt.date"
   ]
  },
  {
   "cell_type": "code",
   "execution_count": 18,
   "metadata": {},
   "outputs": [
    {
     "data": {
      "text/html": [
       "<div>\n",
       "<style scoped>\n",
       "    .dataframe tbody tr th:only-of-type {\n",
       "        vertical-align: middle;\n",
       "    }\n",
       "\n",
       "    .dataframe tbody tr th {\n",
       "        vertical-align: top;\n",
       "    }\n",
       "\n",
       "    .dataframe thead th {\n",
       "        text-align: right;\n",
       "    }\n",
       "</style>\n",
       "<table border=\"1\" class=\"dataframe\">\n",
       "  <thead>\n",
       "    <tr style=\"text-align: right;\">\n",
       "      <th></th>\n",
       "      <th>time</th>\n",
       "      <th>volume</th>\n",
       "      <th>mid_o</th>\n",
       "      <th>mid_h</th>\n",
       "      <th>mid_l</th>\n",
       "      <th>mid_c</th>\n",
       "      <th>bid_o</th>\n",
       "      <th>bid_h</th>\n",
       "      <th>bid_l</th>\n",
       "      <th>bid_c</th>\n",
       "      <th>ask_o</th>\n",
       "      <th>ask_h</th>\n",
       "      <th>ask_l</th>\n",
       "      <th>ask_c</th>\n",
       "      <th>gain</th>\n",
       "      <th>pair</th>\n",
       "    </tr>\n",
       "  </thead>\n",
       "  <tbody>\n",
       "    <tr>\n",
       "      <th>7684</th>\n",
       "      <td>2024-02-05 22:00:00+00:00</td>\n",
       "      <td>107641</td>\n",
       "      <td>1.25368</td>\n",
       "      <td>1.26034</td>\n",
       "      <td>1.25322</td>\n",
       "      <td>1.25978</td>\n",
       "      <td>1.25301</td>\n",
       "      <td>1.26026</td>\n",
       "      <td>1.25279</td>\n",
       "      <td>1.25968</td>\n",
       "      <td>1.25436</td>\n",
       "      <td>1.26041</td>\n",
       "      <td>1.25337</td>\n",
       "      <td>1.25989</td>\n",
       "      <td>0.486568</td>\n",
       "      <td>GBP_USD</td>\n",
       "    </tr>\n",
       "    <tr>\n",
       "      <th>7685</th>\n",
       "      <td>2024-02-06 22:00:00+00:00</td>\n",
       "      <td>103924</td>\n",
       "      <td>1.25980</td>\n",
       "      <td>1.26422</td>\n",
       "      <td>1.25945</td>\n",
       "      <td>1.26284</td>\n",
       "      <td>1.25926</td>\n",
       "      <td>1.26413</td>\n",
       "      <td>1.25873</td>\n",
       "      <td>1.26274</td>\n",
       "      <td>1.26033</td>\n",
       "      <td>1.26431</td>\n",
       "      <td>1.25975</td>\n",
       "      <td>1.26293</td>\n",
       "      <td>0.241308</td>\n",
       "      <td>GBP_USD</td>\n",
       "    </tr>\n",
       "    <tr>\n",
       "      <th>7686</th>\n",
       "      <td>2024-02-07 22:00:00+00:00</td>\n",
       "      <td>103776</td>\n",
       "      <td>1.26260</td>\n",
       "      <td>1.26390</td>\n",
       "      <td>1.25718</td>\n",
       "      <td>1.26184</td>\n",
       "      <td>1.26197</td>\n",
       "      <td>1.26382</td>\n",
       "      <td>1.25709</td>\n",
       "      <td>1.26173</td>\n",
       "      <td>1.26322</td>\n",
       "      <td>1.26398</td>\n",
       "      <td>1.25727</td>\n",
       "      <td>1.26196</td>\n",
       "      <td>-0.060193</td>\n",
       "      <td>GBP_USD</td>\n",
       "    </tr>\n",
       "    <tr>\n",
       "      <th>7687</th>\n",
       "      <td>2024-02-08 22:00:00+00:00</td>\n",
       "      <td>93910</td>\n",
       "      <td>1.26214</td>\n",
       "      <td>1.26432</td>\n",
       "      <td>1.25990</td>\n",
       "      <td>1.26302</td>\n",
       "      <td>1.26129</td>\n",
       "      <td>1.26424</td>\n",
       "      <td>1.25981</td>\n",
       "      <td>1.26294</td>\n",
       "      <td>1.26298</td>\n",
       "      <td>1.26439</td>\n",
       "      <td>1.25998</td>\n",
       "      <td>1.26311</td>\n",
       "      <td>0.069723</td>\n",
       "      <td>GBP_USD</td>\n",
       "    </tr>\n",
       "    <tr>\n",
       "      <th>7688</th>\n",
       "      <td>2024-02-11 22:00:00+00:00</td>\n",
       "      <td>79553</td>\n",
       "      <td>1.26269</td>\n",
       "      <td>1.26548</td>\n",
       "      <td>1.26062</td>\n",
       "      <td>1.26282</td>\n",
       "      <td>1.26209</td>\n",
       "      <td>1.26538</td>\n",
       "      <td>1.26053</td>\n",
       "      <td>1.26271</td>\n",
       "      <td>1.26329</td>\n",
       "      <td>1.26558</td>\n",
       "      <td>1.26070</td>\n",
       "      <td>1.26294</td>\n",
       "      <td>0.010295</td>\n",
       "      <td>GBP_USD</td>\n",
       "    </tr>\n",
       "  </tbody>\n",
       "</table>\n",
       "</div>"
      ],
      "text/plain": [
       "                          time  volume    mid_o    mid_h    mid_l    mid_c  \\\n",
       "7684 2024-02-05 22:00:00+00:00  107641  1.25368  1.26034  1.25322  1.25978   \n",
       "7685 2024-02-06 22:00:00+00:00  103924  1.25980  1.26422  1.25945  1.26284   \n",
       "7686 2024-02-07 22:00:00+00:00  103776  1.26260  1.26390  1.25718  1.26184   \n",
       "7687 2024-02-08 22:00:00+00:00   93910  1.26214  1.26432  1.25990  1.26302   \n",
       "7688 2024-02-11 22:00:00+00:00   79553  1.26269  1.26548  1.26062  1.26282   \n",
       "\n",
       "        bid_o    bid_h    bid_l    bid_c    ask_o    ask_h    ask_l    ask_c  \\\n",
       "7684  1.25301  1.26026  1.25279  1.25968  1.25436  1.26041  1.25337  1.25989   \n",
       "7685  1.25926  1.26413  1.25873  1.26274  1.26033  1.26431  1.25975  1.26293   \n",
       "7686  1.26197  1.26382  1.25709  1.26173  1.26322  1.26398  1.25727  1.26196   \n",
       "7687  1.26129  1.26424  1.25981  1.26294  1.26298  1.26439  1.25998  1.26311   \n",
       "7688  1.26209  1.26538  1.26053  1.26271  1.26329  1.26558  1.26070  1.26294   \n",
       "\n",
       "          gain     pair  \n",
       "7684  0.486568  GBP_USD  \n",
       "7685  0.241308  GBP_USD  \n",
       "7686 -0.060193  GBP_USD  \n",
       "7687  0.069723  GBP_USD  \n",
       "7688  0.010295  GBP_USD  "
      ]
     },
     "execution_count": 18,
     "metadata": {},
     "output_type": "execute_result"
    }
   ],
   "source": [
    "candles_df.tail()"
   ]
  },
  {
   "cell_type": "code",
   "execution_count": null,
   "metadata": {},
   "outputs": [],
   "source": []
  },
  {
   "cell_type": "code",
   "execution_count": null,
   "metadata": {},
   "outputs": [],
   "source": []
  },
  {
   "cell_type": "code",
   "execution_count": null,
   "metadata": {},
   "outputs": [],
   "source": []
  },
  {
   "cell_type": "code",
   "execution_count": null,
   "metadata": {},
   "outputs": [],
   "source": []
  },
  {
   "cell_type": "code",
   "execution_count": null,
   "metadata": {},
   "outputs": [],
   "source": []
  },
  {
   "cell_type": "code",
   "execution_count": null,
   "metadata": {},
   "outputs": [],
   "source": []
  }
 ],
 "metadata": {
  "kernelspec": {
   "display_name": "venv",
   "language": "python",
   "name": "python3"
  },
  "language_info": {
   "codemirror_mode": {
    "name": "ipython",
    "version": 3
   },
   "file_extension": ".py",
   "mimetype": "text/x-python",
   "name": "python",
   "nbconvert_exporter": "python",
   "pygments_lexer": "ipython3",
   "version": "3.12.1"
  }
 },
 "nbformat": 4,
 "nbformat_minor": 2
}
